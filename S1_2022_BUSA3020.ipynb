{
 "cells": [
  {
   "cell_type": "markdown",
   "id": "a6a106c2-f185-492f-87bb-79286c2eacc4",
   "metadata": {},
   "source": [
    "### __BUSA3020 Group Assignment - Predicting Airbnb Listing Prices in Sydney__"
   ]
  },
  {
   "cell_type": "markdown",
   "id": "4c316658-edf7-4797-b078-202987b4922b",
   "metadata": {},
   "source": [
    "--- \n",
    "\n",
    "**Due Date:** Friday, 3 June 2022 @ 11.59pm (Week 13)\n",
    "\n",
    "**Overview:**   \n",
    "\n",
    "- In the group assignment you will form a team of up to 3 students (minimum 2) and participate in a forecasting competition on Kaggle\n",
    "- The goal is to predict listed property prices of Airbnb stays based on various Airbnb characteristics and regression models\n",
    "\n",
    "- You will:  \n",
    "    - Write a problem statement and perform Exploratory Data Analysis  \n",
    "    - Clean up data, deal with categorical features and missing observations, and create new variables (feature engineering)  \n",
    "    - Construct and tune forecasting models, produce forecasts and submit your predictions to Kaggle  \n",
    "    - Each member of the team will record a video presentation of their work  \n",
    "    - Marks will be awarded producing a prediction in the top 3 positions of their unit as well as for reaching the highest ranking on Kaggle amongst all teams."
   ]
  },
  {
   "cell_type": "markdown",
   "id": "f2270744-5e12-447b-a861-9719409e287c",
   "metadata": {},
   "source": [
    "**Instructions:** \n",
    "\n",
    "- Form a team of 3 students (minimum 2 students)  \n",
    "- Each team member needs to join [https://www.kaggle.com](https://www.kaggle.com/)  \n",
    "- Choose a team leader and form a team in the competition [https://www.kaggle.com/t/caad5fd1f5134d86a15ab13d37d98d19](https://www.kaggle.com/t/caad5fd1f5134d86a15ab13d37d98d19)\n",
    "    - Team leader to click on `team` and join and invite other team members to join\n",
    "    - There are two MQBS BUSA units competing in this competition\n",
    "    - Your **team's name must start** with your unit code, for instance you could have a team called BUSA3020_PR3D1CT0RS\n",
    "- All team members should work on all the tasks listed below however   \n",
    "    - **Choose a team member who will be responsible for one of each of the 3 tasks listed below**    "
   ]
  },
  {
   "cell_type": "markdown",
   "id": "242ee56b-c5b9-4078-8754-e04f90797514",
   "metadata": {},
   "source": [
    "**Marks**: \n",
    "\n",
    "- Total Marks: 40\n",
    "- Your mark will consist of:  \n",
    "    - 50% x overall assignment mark + 45% x mark for the task that you are responsible for + 5% x mark received from your teammates for your effort in group work \n",
    "- 7 marks will be deducted from each Task for which there is no video presentation "
   ]
  },
  {
   "cell_type": "markdown",
   "id": "91f70e4c-b794-4555-b170-d80b628b2904",
   "metadata": {},
   "source": [
    "**Competition Marks:**\n",
    "- 5 marks: Ranking in the top 3 places of your unit on Kaggle (make sure you name your team as instructed above)\n",
    "- 2 marks: Reaching the first place in your unit  (make sure you name your team as instructed above)"
   ]
  },
  {
   "cell_type": "markdown",
   "id": "cc3180e9-c3cc-494c-ae64-d3b9701e10e8",
   "metadata": {},
   "source": [
    "\n",
    "**Submissions:**  \n",
    "\n",
    "1. On Kaggle: submit your team's forecast in order to be ranked by Kaggle\n",
    "    - Can do this as many times as necessary while building their model  \n",
    "2. On iLearn **only team leader to submit** this Jupyter notebook re-named `Group_Assignment_MQ_ID.ipynb` where MQ_ID is team leader's MQ ID number \n",
    "    - The Jupyter notebook must contain team members names/ID numbers, and team name in the competition\n",
    "    - Provide answers to the 3 Tasks below in the allocated cells including all codes/outputs/writeups \n",
    "    - One 15 minute video recording of your work \n",
    "        - Each team member to provide a 5 minute presentation of the Task that they led (it is best to jointly record your video using Zoom)\n",
    "        - When recording your video make sure your face is visible, that you share your Jupyter Notebook and explain everything you've done in the submitted Jupyter notebook on screen\n",
    "        - 7 marks will be deducted from each Task for which there is no video presentation or if you don't follow the above instructions\n",
    "        \n",
    "3. On iLearn each student needs to submit a file with their teammates' names, SID and a mark for their group effort (out of 100%)\n",
    "\n"
   ]
  },
  {
   "cell_type": "markdown",
   "id": "e5dbce8a-bf4f-4155-9336-6367fd239f6a",
   "metadata": {},
   "source": [
    "---"
   ]
  },
  {
   "cell_type": "markdown",
   "id": "cfe68a60-5e8b-4c4e-b562-3a82fa426395",
   "metadata": {},
   "source": [
    "**Fill out the following information**\n",
    "\n",
    "For each team member provide name, Student ID number and which task is performed below"
   ]
  },
  {
   "cell_type": "markdown",
   "id": "bac487d3-755a-4a69-a22f-d599dbdd7979",
   "metadata": {},
   "source": [
    "- Team Name on Kaggle: `BUSA3020_RealAirbnb`\n",
    "- Team Leader and Team Member 1: `Hai Hoang Nguyen`\n",
    "- Team Member 2: `Dang Thanh Hung Nguyen`\n",
    "- Team Member 3: `Lan Anh Duong`"
   ]
  },
  {
   "cell_type": "markdown",
   "id": "b24de689-928d-4991-b337-760c12780e5d",
   "metadata": {},
   "source": [
    "---\n",
    "\n",
    "## Task 1: Problem Description and Initial Data Analysis\n",
    "\n",
    "1. Read the Competition Overview on Kaggle [https://www.kaggle.com/t/caad5fd1f5134d86a15ab13d37d98d19](https://www.kaggle.com/t/caad5fd1f5134d86a15ab13d37d98d19)\n",
    "2. Referring to Competition Overview and the data provided on Kaggle write about a 500 words **Problem Description** focusing on key points that will need to be addressed as first steps in Tasks 2 and 3 below, using the following headings:\n",
    "    - Forecasting Problem\n",
    "    - Evaluation Criteria\n",
    "    - Types of Variables/Features\n",
    "    - Data summary and main data characteristics\n",
    "    - Missing Values (only explain what you found at this stage)\n",
    "    \n",
    "Total Marks: 11\n"
   ]
  },
  {
   "cell_type": "code",
   "execution_count": 1,
   "id": "5dcfd49e-fcbb-4eaa-936b-144b574495d4",
   "metadata": {},
   "outputs": [],
   "source": [
    "#import libraries\n",
    "import pandas as pd \n",
    "import numpy as np\n",
    "import seaborn as sns\n",
    "import matplotlib.pyplot as plt\n",
    "\n",
    "from sklearn.preprocessing import LabelEncoder, LabelBinarizer\n",
    "from IPython import display\n",
    "from IPython.core.interactiveshell import InteractiveShell\n",
    "InteractiveShell.ast_node_interactivity = \"all\"\n",
    "\n",
    "from tqdm import tqdm\n",
    "import warnings\n",
    "warnings.filterwarnings(\"ignore\")\n",
    "\n",
    "pd.set_option('display.max_columns', None)\n",
    "pd.set_option('display.max_rows', None)\n",
    "\n",
    "df_train = pd.read_csv(\n",
    "    \"data/train.csv\",\n",
    "    index_col=\"ID\",\n",
    "    parse_dates=[\"host_since\", \"first_review\", \"last_review\"],)\n",
    "df_test = pd.read_csv(\n",
    "    \"data/test.csv\",\n",
    "    index_col=\"ID\",\n",
    "    parse_dates=[\"host_since\", \"first_review\", \"last_review\"],)"
   ]
  },
  {
   "cell_type": "code",
   "execution_count": 2,
   "id": "3a77f28e-d760-440e-b8da-eb1e4a44ad5d",
   "metadata": {},
   "outputs": [],
   "source": [
    "#combine 2 dataframes\n",
    "df = pd.concat([df_train, df_test], keys=['train', 'test'])"
   ]
  },
  {
   "cell_type": "code",
   "execution_count": 3,
   "id": "44a2c53a-4e15-4ade-9866-3f89356600b0",
   "metadata": {},
   "outputs": [
    {
     "data": {
      "text/html": [
       "<div>\n",
       "<style scoped>\n",
       "    .dataframe tbody tr th:only-of-type {\n",
       "        vertical-align: middle;\n",
       "    }\n",
       "\n",
       "    .dataframe tbody tr th {\n",
       "        vertical-align: top;\n",
       "    }\n",
       "\n",
       "    .dataframe thead th {\n",
       "        text-align: right;\n",
       "    }\n",
       "</style>\n",
       "<table border=\"1\" class=\"dataframe\">\n",
       "  <thead>\n",
       "    <tr style=\"text-align: right;\">\n",
       "      <th></th>\n",
       "      <th></th>\n",
       "      <th>name</th>\n",
       "      <th>description</th>\n",
       "      <th>neighborhood_overview</th>\n",
       "      <th>host_name</th>\n",
       "      <th>host_since</th>\n",
       "      <th>host_location</th>\n",
       "      <th>host_about</th>\n",
       "      <th>host_response_time</th>\n",
       "      <th>host_response_rate</th>\n",
       "      <th>host_acceptance_rate</th>\n",
       "      <th>host_is_superhost</th>\n",
       "      <th>host_neighbourhood</th>\n",
       "      <th>host_listings_count</th>\n",
       "      <th>host_verifications</th>\n",
       "      <th>host_has_profile_pic</th>\n",
       "      <th>host_identity_verified</th>\n",
       "      <th>neighbourhood</th>\n",
       "      <th>neighbourhood_cleansed</th>\n",
       "      <th>latitude</th>\n",
       "      <th>longitude</th>\n",
       "      <th>property_type</th>\n",
       "      <th>room_type</th>\n",
       "      <th>accommodates</th>\n",
       "      <th>bathrooms</th>\n",
       "      <th>bedrooms</th>\n",
       "      <th>beds</th>\n",
       "      <th>amenities</th>\n",
       "      <th>minimum_nights</th>\n",
       "      <th>maximum_nights</th>\n",
       "      <th>minimum_minimum_nights</th>\n",
       "      <th>maximum_minimum_nights</th>\n",
       "      <th>minimum_maximum_nights</th>\n",
       "      <th>maximum_maximum_nights</th>\n",
       "      <th>minimum_nights_avg_ntm</th>\n",
       "      <th>maximum_nights_avg_ntm</th>\n",
       "      <th>has_availability</th>\n",
       "      <th>availability_30</th>\n",
       "      <th>availability_60</th>\n",
       "      <th>availability_90</th>\n",
       "      <th>availability_365</th>\n",
       "      <th>number_of_reviews</th>\n",
       "      <th>number_of_reviews_ltm</th>\n",
       "      <th>number_of_reviews_l30d</th>\n",
       "      <th>first_review</th>\n",
       "      <th>last_review</th>\n",
       "      <th>review_scores_rating</th>\n",
       "      <th>review_scores_accuracy</th>\n",
       "      <th>review_scores_cleanliness</th>\n",
       "      <th>review_scores_checkin</th>\n",
       "      <th>review_scores_communication</th>\n",
       "      <th>review_scores_location</th>\n",
       "      <th>review_scores_value</th>\n",
       "      <th>license</th>\n",
       "      <th>instant_bookable</th>\n",
       "      <th>calculated_host_listings_count</th>\n",
       "      <th>calculated_host_listings_count_entire_homes</th>\n",
       "      <th>calculated_host_listings_count_private_rooms</th>\n",
       "      <th>calculated_host_listings_count_shared_rooms</th>\n",
       "      <th>reviews_per_month</th>\n",
       "      <th>price</th>\n",
       "    </tr>\n",
       "    <tr>\n",
       "      <th></th>\n",
       "      <th>ID</th>\n",
       "      <th></th>\n",
       "      <th></th>\n",
       "      <th></th>\n",
       "      <th></th>\n",
       "      <th></th>\n",
       "      <th></th>\n",
       "      <th></th>\n",
       "      <th></th>\n",
       "      <th></th>\n",
       "      <th></th>\n",
       "      <th></th>\n",
       "      <th></th>\n",
       "      <th></th>\n",
       "      <th></th>\n",
       "      <th></th>\n",
       "      <th></th>\n",
       "      <th></th>\n",
       "      <th></th>\n",
       "      <th></th>\n",
       "      <th></th>\n",
       "      <th></th>\n",
       "      <th></th>\n",
       "      <th></th>\n",
       "      <th></th>\n",
       "      <th></th>\n",
       "      <th></th>\n",
       "      <th></th>\n",
       "      <th></th>\n",
       "      <th></th>\n",
       "      <th></th>\n",
       "      <th></th>\n",
       "      <th></th>\n",
       "      <th></th>\n",
       "      <th></th>\n",
       "      <th></th>\n",
       "      <th></th>\n",
       "      <th></th>\n",
       "      <th></th>\n",
       "      <th></th>\n",
       "      <th></th>\n",
       "      <th></th>\n",
       "      <th></th>\n",
       "      <th></th>\n",
       "      <th></th>\n",
       "      <th></th>\n",
       "      <th></th>\n",
       "      <th></th>\n",
       "      <th></th>\n",
       "      <th></th>\n",
       "      <th></th>\n",
       "      <th></th>\n",
       "      <th></th>\n",
       "      <th></th>\n",
       "      <th></th>\n",
       "      <th></th>\n",
       "      <th></th>\n",
       "      <th></th>\n",
       "      <th></th>\n",
       "      <th></th>\n",
       "      <th></th>\n",
       "    </tr>\n",
       "  </thead>\n",
       "  <tbody>\n",
       "    <tr>\n",
       "      <th rowspan=\"2\" valign=\"top\">train</th>\n",
       "      <th>0</th>\n",
       "      <td>Manly Harbour House</td>\n",
       "      <td>Beautifully renovated, spacious and quiet, our...</td>\n",
       "      <td>Balgowlah Heights is one of the most prestigio...</td>\n",
       "      <td>Heidi</td>\n",
       "      <td>2009-11-20</td>\n",
       "      <td>Sydney, New South Wales, Australia</td>\n",
       "      <td>I am a Canadian who has made Australia her hom...</td>\n",
       "      <td>within a few hours</td>\n",
       "      <td>100%</td>\n",
       "      <td>69%</td>\n",
       "      <td>t</td>\n",
       "      <td>Balgowlah</td>\n",
       "      <td>2.0</td>\n",
       "      <td>['email', 'phone', 'reviews', 'jumio', 'offlin...</td>\n",
       "      <td>t</td>\n",
       "      <td>t</td>\n",
       "      <td>Balgowlah, New South Wales, Australia</td>\n",
       "      <td>Manly</td>\n",
       "      <td>-33.80084</td>\n",
       "      <td>151.26378</td>\n",
       "      <td>Entire residential home</td>\n",
       "      <td>Entire home/apt</td>\n",
       "      <td>6</td>\n",
       "      <td>3 baths</td>\n",
       "      <td>3.0</td>\n",
       "      <td>3.0</td>\n",
       "      <td>[\"Hot water\", \"Coffee maker\", \"Heating\", \"Hair...</td>\n",
       "      <td>2</td>\n",
       "      <td>22</td>\n",
       "      <td>2.0</td>\n",
       "      <td>2.0</td>\n",
       "      <td>22.0</td>\n",
       "      <td>22.0</td>\n",
       "      <td>2.0</td>\n",
       "      <td>22.0</td>\n",
       "      <td>t</td>\n",
       "      <td>0</td>\n",
       "      <td>14</td>\n",
       "      <td>14</td>\n",
       "      <td>174.0</td>\n",
       "      <td>3</td>\n",
       "      <td>1</td>\n",
       "      <td>0</td>\n",
       "      <td>2016-01-02</td>\n",
       "      <td>2021-06-01</td>\n",
       "      <td>4.67</td>\n",
       "      <td>4.33</td>\n",
       "      <td>4.33</td>\n",
       "      <td>4.67</td>\n",
       "      <td>4.33</td>\n",
       "      <td>4.67</td>\n",
       "      <td>4.33</td>\n",
       "      <td>Exempt</td>\n",
       "      <td>f</td>\n",
       "      <td>2</td>\n",
       "      <td>2</td>\n",
       "      <td>0</td>\n",
       "      <td>0</td>\n",
       "      <td>0.04</td>\n",
       "      <td>$470.00</td>\n",
       "    </tr>\n",
       "    <tr>\n",
       "      <th>1</th>\n",
       "      <td>Unique Designer Rooftop Apartment in City Loca...</td>\n",
       "      <td>Penthouse living at it best ... You will be st...</td>\n",
       "      <td>The location is really central and there is nu...</td>\n",
       "      <td>Morag</td>\n",
       "      <td>2009-12-03</td>\n",
       "      <td>Sydney, New South Wales, Australia</td>\n",
       "      <td>I am originally Scottish but I have made Sydne...</td>\n",
       "      <td>within an hour</td>\n",
       "      <td>100%</td>\n",
       "      <td>100%</td>\n",
       "      <td>f</td>\n",
       "      <td>Darlinghurst</td>\n",
       "      <td>3.0</td>\n",
       "      <td>['email', 'phone', 'facebook', 'reviews', 'jum...</td>\n",
       "      <td>t</td>\n",
       "      <td>t</td>\n",
       "      <td>Darlinghurst, New South Wales, Australia</td>\n",
       "      <td>Sydney</td>\n",
       "      <td>-33.87964</td>\n",
       "      <td>151.21680</td>\n",
       "      <td>Private room in rental unit</td>\n",
       "      <td>Private room</td>\n",
       "      <td>2</td>\n",
       "      <td>1 private bath</td>\n",
       "      <td>1.0</td>\n",
       "      <td>1.0</td>\n",
       "      <td>[\"Hot water\", \"Coffee maker\", \"Long term stays...</td>\n",
       "      <td>2</td>\n",
       "      <td>90</td>\n",
       "      <td>2.0</td>\n",
       "      <td>2.0</td>\n",
       "      <td>90.0</td>\n",
       "      <td>90.0</td>\n",
       "      <td>2.0</td>\n",
       "      <td>90.0</td>\n",
       "      <td>t</td>\n",
       "      <td>5</td>\n",
       "      <td>31</td>\n",
       "      <td>61</td>\n",
       "      <td>336.0</td>\n",
       "      <td>383</td>\n",
       "      <td>18</td>\n",
       "      <td>6</td>\n",
       "      <td>2012-02-23</td>\n",
       "      <td>2021-12-03</td>\n",
       "      <td>4.42</td>\n",
       "      <td>4.58</td>\n",
       "      <td>4.40</td>\n",
       "      <td>4.77</td>\n",
       "      <td>4.67</td>\n",
       "      <td>4.70</td>\n",
       "      <td>4.47</td>\n",
       "      <td>PID-STRA-24061-7</td>\n",
       "      <td>t</td>\n",
       "      <td>1</td>\n",
       "      <td>0</td>\n",
       "      <td>1</td>\n",
       "      <td>0</td>\n",
       "      <td>3.21</td>\n",
       "      <td>$82.00</td>\n",
       "    </tr>\n",
       "  </tbody>\n",
       "</table>\n",
       "</div>"
      ],
      "text/plain": [
       "                                                       name  \\\n",
       "      ID                                                      \n",
       "train 0                                 Manly Harbour House   \n",
       "      1   Unique Designer Rooftop Apartment in City Loca...   \n",
       "\n",
       "                                                description  \\\n",
       "      ID                                                      \n",
       "train 0   Beautifully renovated, spacious and quiet, our...   \n",
       "      1   Penthouse living at it best ... You will be st...   \n",
       "\n",
       "                                      neighborhood_overview host_name  \\\n",
       "      ID                                                                \n",
       "train 0   Balgowlah Heights is one of the most prestigio...     Heidi   \n",
       "      1   The location is really central and there is nu...     Morag   \n",
       "\n",
       "         host_since                       host_location  \\\n",
       "      ID                                                  \n",
       "train 0  2009-11-20  Sydney, New South Wales, Australia   \n",
       "      1  2009-12-03  Sydney, New South Wales, Australia   \n",
       "\n",
       "                                                 host_about  \\\n",
       "      ID                                                      \n",
       "train 0   I am a Canadian who has made Australia her hom...   \n",
       "      1   I am originally Scottish but I have made Sydne...   \n",
       "\n",
       "          host_response_time host_response_rate host_acceptance_rate  \\\n",
       "      ID                                                               \n",
       "train 0   within a few hours               100%                  69%   \n",
       "      1       within an hour               100%                 100%   \n",
       "\n",
       "         host_is_superhost host_neighbourhood  host_listings_count  \\\n",
       "      ID                                                             \n",
       "train 0                  t          Balgowlah                  2.0   \n",
       "      1                  f       Darlinghurst                  3.0   \n",
       "\n",
       "                                         host_verifications  \\\n",
       "      ID                                                      \n",
       "train 0   ['email', 'phone', 'reviews', 'jumio', 'offlin...   \n",
       "      1   ['email', 'phone', 'facebook', 'reviews', 'jum...   \n",
       "\n",
       "         host_has_profile_pic host_identity_verified  \\\n",
       "      ID                                               \n",
       "train 0                     t                      t   \n",
       "      1                     t                      t   \n",
       "\n",
       "                                     neighbourhood neighbourhood_cleansed  \\\n",
       "      ID                                                                    \n",
       "train 0      Balgowlah, New South Wales, Australia                  Manly   \n",
       "      1   Darlinghurst, New South Wales, Australia                 Sydney   \n",
       "\n",
       "          latitude  longitude                property_type        room_type  \\\n",
       "      ID                                                                      \n",
       "train 0  -33.80084  151.26378      Entire residential home  Entire home/apt   \n",
       "      1  -33.87964  151.21680  Private room in rental unit     Private room   \n",
       "\n",
       "          accommodates       bathrooms  bedrooms  beds  \\\n",
       "      ID                                                 \n",
       "train 0              6         3 baths       3.0   3.0   \n",
       "      1              2  1 private bath       1.0   1.0   \n",
       "\n",
       "                                                  amenities  minimum_nights  \\\n",
       "      ID                                                                      \n",
       "train 0   [\"Hot water\", \"Coffee maker\", \"Heating\", \"Hair...               2   \n",
       "      1   [\"Hot water\", \"Coffee maker\", \"Long term stays...               2   \n",
       "\n",
       "          maximum_nights  minimum_minimum_nights  maximum_minimum_nights  \\\n",
       "      ID                                                                   \n",
       "train 0               22                     2.0                     2.0   \n",
       "      1               90                     2.0                     2.0   \n",
       "\n",
       "          minimum_maximum_nights  maximum_maximum_nights  \\\n",
       "      ID                                                   \n",
       "train 0                     22.0                    22.0   \n",
       "      1                     90.0                    90.0   \n",
       "\n",
       "          minimum_nights_avg_ntm  maximum_nights_avg_ntm has_availability  \\\n",
       "      ID                                                                    \n",
       "train 0                      2.0                    22.0                t   \n",
       "      1                      2.0                    90.0                t   \n",
       "\n",
       "          availability_30  availability_60  availability_90  availability_365  \\\n",
       "      ID                                                                        \n",
       "train 0                 0               14               14             174.0   \n",
       "      1                 5               31               61             336.0   \n",
       "\n",
       "          number_of_reviews  number_of_reviews_ltm  number_of_reviews_l30d  \\\n",
       "      ID                                                                     \n",
       "train 0                   3                      1                       0   \n",
       "      1                 383                     18                       6   \n",
       "\n",
       "         first_review last_review  review_scores_rating  \\\n",
       "      ID                                                  \n",
       "train 0    2016-01-02  2021-06-01                  4.67   \n",
       "      1    2012-02-23  2021-12-03                  4.42   \n",
       "\n",
       "          review_scores_accuracy  review_scores_cleanliness  \\\n",
       "      ID                                                      \n",
       "train 0                     4.33                       4.33   \n",
       "      1                     4.58                       4.40   \n",
       "\n",
       "          review_scores_checkin  review_scores_communication  \\\n",
       "      ID                                                       \n",
       "train 0                    4.67                         4.33   \n",
       "      1                    4.77                         4.67   \n",
       "\n",
       "          review_scores_location  review_scores_value           license  \\\n",
       "      ID                                                                  \n",
       "train 0                     4.67                 4.33            Exempt   \n",
       "      1                     4.70                 4.47  PID-STRA-24061-7   \n",
       "\n",
       "         instant_bookable  calculated_host_listings_count  \\\n",
       "      ID                                                    \n",
       "train 0                 f                               2   \n",
       "      1                 t                               1   \n",
       "\n",
       "          calculated_host_listings_count_entire_homes  \\\n",
       "      ID                                                \n",
       "train 0                                             2   \n",
       "      1                                             0   \n",
       "\n",
       "          calculated_host_listings_count_private_rooms  \\\n",
       "      ID                                                 \n",
       "train 0                                              0   \n",
       "      1                                              1   \n",
       "\n",
       "          calculated_host_listings_count_shared_rooms  reviews_per_month  \\\n",
       "      ID                                                                   \n",
       "train 0                                             0               0.04   \n",
       "      1                                             0               3.21   \n",
       "\n",
       "            price  \n",
       "      ID           \n",
       "train 0   $470.00  \n",
       "      1    $82.00  "
      ]
     },
     "execution_count": 3,
     "metadata": {},
     "output_type": "execute_result"
    }
   ],
   "source": [
    "df.head(2)"
   ]
  },
  {
   "cell_type": "code",
   "execution_count": 4,
   "id": "ecb06fea-a429-4351-a7d5-ba655d9ee62e",
   "metadata": {},
   "outputs": [
    {
     "name": "stdout",
     "output_type": "stream",
     "text": [
      "<class 'pandas.core.frame.DataFrame'>\n",
      "MultiIndex: 10000 entries, ('train', 0) to ('test', 9999)\n",
      "Data columns (total 60 columns):\n",
      " #   Column                                        Non-Null Count  Dtype         \n",
      "---  ------                                        --------------  -----         \n",
      " 0   name                                          9998 non-null   object        \n",
      " 1   description                                   9846 non-null   object        \n",
      " 2   neighborhood_overview                         6943 non-null   object        \n",
      " 3   host_name                                     10000 non-null  object        \n",
      " 4   host_since                                    10000 non-null  datetime64[ns]\n",
      " 5   host_location                                 9996 non-null   object        \n",
      " 6   host_about                                    6110 non-null   object        \n",
      " 7   host_response_time                            6821 non-null   object        \n",
      " 8   host_response_rate                            6821 non-null   object        \n",
      " 9   host_acceptance_rate                          6970 non-null   object        \n",
      " 10  host_is_superhost                             10000 non-null  object        \n",
      " 11  host_neighbourhood                            5825 non-null   object        \n",
      " 12  host_listings_count                           10000 non-null  float64       \n",
      " 13  host_verifications                            10000 non-null  object        \n",
      " 14  host_has_profile_pic                          10000 non-null  object        \n",
      " 15  host_identity_verified                        10000 non-null  object        \n",
      " 16  neighbourhood                                 6944 non-null   object        \n",
      " 17  neighbourhood_cleansed                        9850 non-null   object        \n",
      " 18  latitude                                      10000 non-null  float64       \n",
      " 19  longitude                                     10000 non-null  float64       \n",
      " 20  property_type                                 9877 non-null   object        \n",
      " 21  room_type                                     9825 non-null   object        \n",
      " 22  accommodates                                  10000 non-null  int64         \n",
      " 23  bathrooms                                     9990 non-null   object        \n",
      " 24  bedrooms                                      9162 non-null   float64       \n",
      " 25  beds                                          9631 non-null   float64       \n",
      " 26  amenities                                     10000 non-null  object        \n",
      " 27  minimum_nights                                10000 non-null  int64         \n",
      " 28  maximum_nights                                10000 non-null  int64         \n",
      " 29  minimum_minimum_nights                        9945 non-null   float64       \n",
      " 30  maximum_minimum_nights                        10000 non-null  float64       \n",
      " 31  minimum_maximum_nights                        10000 non-null  float64       \n",
      " 32  maximum_maximum_nights                        9945 non-null   float64       \n",
      " 33  minimum_nights_avg_ntm                        10000 non-null  float64       \n",
      " 34  maximum_nights_avg_ntm                        10000 non-null  float64       \n",
      " 35  has_availability                              10000 non-null  object        \n",
      " 36  availability_30                               10000 non-null  int64         \n",
      " 37  availability_60                               10000 non-null  int64         \n",
      " 38  availability_90                               10000 non-null  int64         \n",
      " 39  availability_365                              9933 non-null   float64       \n",
      " 40  number_of_reviews                             10000 non-null  int64         \n",
      " 41  number_of_reviews_ltm                         10000 non-null  int64         \n",
      " 42  number_of_reviews_l30d                        10000 non-null  int64         \n",
      " 43  first_review                                  9420 non-null   datetime64[ns]\n",
      " 44  last_review                                   9420 non-null   datetime64[ns]\n",
      " 45  review_scores_rating                          9420 non-null   float64       \n",
      " 46  review_scores_accuracy                        9149 non-null   float64       \n",
      " 47  review_scores_cleanliness                     9155 non-null   float64       \n",
      " 48  review_scores_checkin                         9148 non-null   float64       \n",
      " 49  review_scores_communication                   9156 non-null   float64       \n",
      " 50  review_scores_location                        9148 non-null   float64       \n",
      " 51  review_scores_value                           9146 non-null   float64       \n",
      " 52  license                                       5739 non-null   object        \n",
      " 53  instant_bookable                              10000 non-null  object        \n",
      " 54  calculated_host_listings_count                10000 non-null  int64         \n",
      " 55  calculated_host_listings_count_entire_homes   10000 non-null  int64         \n",
      " 56  calculated_host_listings_count_private_rooms  10000 non-null  int64         \n",
      " 57  calculated_host_listings_count_shared_rooms   10000 non-null  int64         \n",
      " 58  reviews_per_month                             9420 non-null   float64       \n",
      " 59  price                                         7000 non-null   object        \n",
      "dtypes: datetime64[ns](3), float64(20), int64(13), object(24)\n",
      "memory usage: 4.9+ MB\n"
     ]
    }
   ],
   "source": [
    "df.info()"
   ]
  },
  {
   "cell_type": "markdown",
   "id": "c6183529-76d4-4559-ac43-271928c35724",
   "metadata": {},
   "source": [
    "We have 7000 and 3000 records for the training and test datasets respestively which are allocated for 59 information fields and 1 target feature as ``price`. One thing to note is that there exists few features that string-based but should ideally be integer or floating point values."
   ]
  },
  {
   "cell_type": "markdown",
   "id": "c3e0b039-ad04-41f3-9aa2-1a19f67e2f03",
   "metadata": {},
   "source": [
    "**Forcasting Problem**"
   ]
  },
  {
   "cell_type": "markdown",
   "id": "99e0f6ab-fee0-4cc4-aae5-140aa98ee35f",
   "metadata": {},
   "source": [
    "When it comes to determining the rental price of each Airbnb, both the host and the customer bear significant and difficult responsibilities. For the host, it is possible for them to set a reasonable price without sacrificing the amount of profit they can earn. Besides, it is essential for the customers to understand the significant factors influencing the price, and look for places that provide comparable prices. The objective of this project is to forecast Airbnb listing prices in Sydney based on the listed properties characteristics. In order to predict rental price, several machine learning models including linear regression, random forest and other models will be adopted with the availability of Scikit-learn module library in Python."
   ]
  },
  {
   "cell_type": "markdown",
   "id": "a730c28b-d615-4407-b576-735d8b365050",
   "metadata": {},
   "source": [
    "**Evaluation Criteria**"
   ]
  },
  {
   "cell_type": "markdown",
   "id": "a77cdd36-712f-4408-88b0-33ebdfe95de3",
   "metadata": {},
   "source": [
    "In fact, this problem relates to the supervised regression problem, thus, in this case, mean squared error (MSE), R-squared (R^2) and cross-validation score are employed as the selection criteria in order to compare the performance of all the models. Specifically, the model with the smallest mean squared error will be applied on the test dataset to predict the corresponding prices."
   ]
  },
  {
   "cell_type": "markdown",
   "id": "78de992b-9187-48b9-8139-939a5f71a801",
   "metadata": {},
   "source": [
    "**Types of Variables/Features**"
   ]
  },
  {
   "cell_type": "markdown",
   "id": "7e288193-a2d3-427a-ba65-eed13b275cc0",
   "metadata": {},
   "source": [
    "The data set contains both numeric and object variables. The numeric variables (including both integer and floating point values) refer to the number of rooms, the price and other measurable features of the rental house. On the contrary, object features are typically represented for the description, customer feedback and further information of both host and customers."
   ]
  },
  {
   "cell_type": "code",
   "execution_count": 5,
   "id": "41116704-3bbe-4e77-a36a-767aea38d30b",
   "metadata": {},
   "outputs": [],
   "source": [
    "# check types of variables/features\n",
    "col_dtype_dict = {\n",
    "    dtype: df.select_dtypes(dtype).columns\n",
    "    for dtype in [\"int\", \"float\", \"object\"]\n",
    "}"
   ]
  },
  {
   "cell_type": "code",
   "execution_count": 6,
   "id": "1dde8bb2-47b2-4b40-93c9-061e349a048b",
   "metadata": {},
   "outputs": [
    {
     "data": {
      "text/plain": [
       "{'int': Index(['accommodates', 'minimum_nights', 'maximum_nights', 'availability_30',\n",
       "        'availability_60', 'availability_90', 'number_of_reviews',\n",
       "        'number_of_reviews_ltm', 'number_of_reviews_l30d',\n",
       "        'calculated_host_listings_count',\n",
       "        'calculated_host_listings_count_entire_homes',\n",
       "        'calculated_host_listings_count_private_rooms',\n",
       "        'calculated_host_listings_count_shared_rooms'],\n",
       "       dtype='object'),\n",
       " 'float': Index(['host_listings_count', 'latitude', 'longitude', 'bedrooms', 'beds',\n",
       "        'minimum_minimum_nights', 'maximum_minimum_nights',\n",
       "        'minimum_maximum_nights', 'maximum_maximum_nights',\n",
       "        'minimum_nights_avg_ntm', 'maximum_nights_avg_ntm', 'availability_365',\n",
       "        'review_scores_rating', 'review_scores_accuracy',\n",
       "        'review_scores_cleanliness', 'review_scores_checkin',\n",
       "        'review_scores_communication', 'review_scores_location',\n",
       "        'review_scores_value', 'reviews_per_month'],\n",
       "       dtype='object'),\n",
       " 'object': Index(['name', 'description', 'neighborhood_overview', 'host_name',\n",
       "        'host_location', 'host_about', 'host_response_time',\n",
       "        'host_response_rate', 'host_acceptance_rate', 'host_is_superhost',\n",
       "        'host_neighbourhood', 'host_verifications', 'host_has_profile_pic',\n",
       "        'host_identity_verified', 'neighbourhood', 'neighbourhood_cleansed',\n",
       "        'property_type', 'room_type', 'bathrooms', 'amenities',\n",
       "        'has_availability', 'license', 'instant_bookable', 'price'],\n",
       "       dtype='object')}"
      ]
     },
     "execution_count": 6,
     "metadata": {},
     "output_type": "execute_result"
    }
   ],
   "source": [
    "col_dtype_dict"
   ]
  },
  {
   "cell_type": "markdown",
   "id": "b01722c6-cdf3-4306-bad6-0977b8eb4b5b",
   "metadata": {},
   "source": [
    "**Data summary and main characteristics**"
   ]
  },
  {
   "cell_type": "markdown",
   "id": "d4f928cc-d509-4ef8-b4ac-4ed228c8af9b",
   "metadata": {},
   "source": [
    "Apart from string-based features describing information about the Airbnb property, the host, and its amenities, the following output shows a brief statistical description of several numeric variables. There are current 33 numerical fields over a total of 60 features."
   ]
  },
  {
   "cell_type": "code",
   "execution_count": 7,
   "id": "b9aebdcd-41da-4845-a22f-de44e2a6ebcb",
   "metadata": {},
   "outputs": [
    {
     "data": {
      "text/html": [
       "<div>\n",
       "<style scoped>\n",
       "    .dataframe tbody tr th:only-of-type {\n",
       "        vertical-align: middle;\n",
       "    }\n",
       "\n",
       "    .dataframe tbody tr th {\n",
       "        vertical-align: top;\n",
       "    }\n",
       "\n",
       "    .dataframe thead th {\n",
       "        text-align: right;\n",
       "    }\n",
       "</style>\n",
       "<table border=\"1\" class=\"dataframe\">\n",
       "  <thead>\n",
       "    <tr style=\"text-align: right;\">\n",
       "      <th></th>\n",
       "      <th>host_listings_count</th>\n",
       "      <th>latitude</th>\n",
       "      <th>longitude</th>\n",
       "      <th>accommodates</th>\n",
       "      <th>bedrooms</th>\n",
       "      <th>beds</th>\n",
       "      <th>minimum_nights</th>\n",
       "      <th>maximum_nights</th>\n",
       "      <th>minimum_minimum_nights</th>\n",
       "      <th>maximum_minimum_nights</th>\n",
       "      <th>minimum_maximum_nights</th>\n",
       "      <th>maximum_maximum_nights</th>\n",
       "      <th>minimum_nights_avg_ntm</th>\n",
       "      <th>maximum_nights_avg_ntm</th>\n",
       "      <th>availability_30</th>\n",
       "      <th>availability_60</th>\n",
       "      <th>availability_90</th>\n",
       "      <th>availability_365</th>\n",
       "      <th>number_of_reviews</th>\n",
       "      <th>number_of_reviews_ltm</th>\n",
       "      <th>number_of_reviews_l30d</th>\n",
       "      <th>review_scores_rating</th>\n",
       "      <th>review_scores_accuracy</th>\n",
       "      <th>review_scores_cleanliness</th>\n",
       "      <th>review_scores_checkin</th>\n",
       "      <th>review_scores_communication</th>\n",
       "      <th>review_scores_location</th>\n",
       "      <th>review_scores_value</th>\n",
       "      <th>calculated_host_listings_count</th>\n",
       "      <th>calculated_host_listings_count_entire_homes</th>\n",
       "      <th>calculated_host_listings_count_private_rooms</th>\n",
       "      <th>calculated_host_listings_count_shared_rooms</th>\n",
       "      <th>reviews_per_month</th>\n",
       "    </tr>\n",
       "  </thead>\n",
       "  <tbody>\n",
       "    <tr>\n",
       "      <th>count</th>\n",
       "      <td>7000.000000</td>\n",
       "      <td>7000.000000</td>\n",
       "      <td>7000.000000</td>\n",
       "      <td>7000.000000</td>\n",
       "      <td>6340.000000</td>\n",
       "      <td>6760.000000</td>\n",
       "      <td>7000.000000</td>\n",
       "      <td>7000.000000</td>\n",
       "      <td>6955.000000</td>\n",
       "      <td>7000.000000</td>\n",
       "      <td>7000.000000</td>\n",
       "      <td>6.955000e+03</td>\n",
       "      <td>7000.000000</td>\n",
       "      <td>7.000000e+03</td>\n",
       "      <td>7000.000000</td>\n",
       "      <td>7000.000000</td>\n",
       "      <td>7000.000000</td>\n",
       "      <td>6953.000000</td>\n",
       "      <td>7000.000000</td>\n",
       "      <td>7000.000000</td>\n",
       "      <td>7000.000000</td>\n",
       "      <td>6886.000000</td>\n",
       "      <td>6790.000000</td>\n",
       "      <td>6792.000000</td>\n",
       "      <td>6791.000000</td>\n",
       "      <td>6792.000000</td>\n",
       "      <td>6790.000000</td>\n",
       "      <td>6789.000000</td>\n",
       "      <td>7000.000000</td>\n",
       "      <td>7000.000000</td>\n",
       "      <td>7000.000000</td>\n",
       "      <td>7000.000000</td>\n",
       "      <td>6886.000000</td>\n",
       "    </tr>\n",
       "    <tr>\n",
       "      <th>mean</th>\n",
       "      <td>13.315571</td>\n",
       "      <td>-33.848580</td>\n",
       "      <td>151.191887</td>\n",
       "      <td>3.757714</td>\n",
       "      <td>1.811830</td>\n",
       "      <td>2.243343</td>\n",
       "      <td>29.734571</td>\n",
       "      <td>773.551000</td>\n",
       "      <td>28.485981</td>\n",
       "      <td>30.343857</td>\n",
       "      <td>866.717143</td>\n",
       "      <td>3.088569e+06</td>\n",
       "      <td>29.434657</td>\n",
       "      <td>2.830644e+06</td>\n",
       "      <td>9.276286</td>\n",
       "      <td>24.313286</td>\n",
       "      <td>41.979429</td>\n",
       "      <td>167.068172</td>\n",
       "      <td>35.402429</td>\n",
       "      <td>6.957286</td>\n",
       "      <td>0.750714</td>\n",
       "      <td>4.631587</td>\n",
       "      <td>4.754588</td>\n",
       "      <td>4.658408</td>\n",
       "      <td>4.841571</td>\n",
       "      <td>4.841826</td>\n",
       "      <td>4.842272</td>\n",
       "      <td>4.643322</td>\n",
       "      <td>10.757143</td>\n",
       "      <td>8.696714</td>\n",
       "      <td>1.939714</td>\n",
       "      <td>0.044571</td>\n",
       "      <td>0.965577</td>\n",
       "    </tr>\n",
       "    <tr>\n",
       "      <th>std</th>\n",
       "      <td>32.683985</td>\n",
       "      <td>0.094001</td>\n",
       "      <td>0.106205</td>\n",
       "      <td>2.331416</td>\n",
       "      <td>1.073018</td>\n",
       "      <td>1.654179</td>\n",
       "      <td>42.407400</td>\n",
       "      <td>473.598247</td>\n",
       "      <td>41.940831</td>\n",
       "      <td>41.738467</td>\n",
       "      <td>434.408411</td>\n",
       "      <td>8.137667e+07</td>\n",
       "      <td>41.886924</td>\n",
       "      <td>7.498722e+07</td>\n",
       "      <td>10.233421</td>\n",
       "      <td>21.071782</td>\n",
       "      <td>31.883595</td>\n",
       "      <td>133.719203</td>\n",
       "      <td>58.590892</td>\n",
       "      <td>12.569829</td>\n",
       "      <td>1.578901</td>\n",
       "      <td>0.709730</td>\n",
       "      <td>0.447357</td>\n",
       "      <td>0.512783</td>\n",
       "      <td>0.380514</td>\n",
       "      <td>0.384644</td>\n",
       "      <td>0.317936</td>\n",
       "      <td>0.465086</td>\n",
       "      <td>24.279535</td>\n",
       "      <td>21.696069</td>\n",
       "      <td>11.120574</td>\n",
       "      <td>0.555544</td>\n",
       "      <td>1.240824</td>\n",
       "    </tr>\n",
       "    <tr>\n",
       "      <th>min</th>\n",
       "      <td>0.000000</td>\n",
       "      <td>-34.090180</td>\n",
       "      <td>150.630490</td>\n",
       "      <td>1.000000</td>\n",
       "      <td>1.000000</td>\n",
       "      <td>1.000000</td>\n",
       "      <td>1.000000</td>\n",
       "      <td>1.000000</td>\n",
       "      <td>1.000000</td>\n",
       "      <td>1.000000</td>\n",
       "      <td>1.000000</td>\n",
       "      <td>1.000000e+00</td>\n",
       "      <td>1.000000</td>\n",
       "      <td>1.000000e+00</td>\n",
       "      <td>0.000000</td>\n",
       "      <td>0.000000</td>\n",
       "      <td>0.000000</td>\n",
       "      <td>0.000000</td>\n",
       "      <td>0.000000</td>\n",
       "      <td>0.000000</td>\n",
       "      <td>0.000000</td>\n",
       "      <td>0.000000</td>\n",
       "      <td>0.000000</td>\n",
       "      <td>0.000000</td>\n",
       "      <td>0.000000</td>\n",
       "      <td>0.000000</td>\n",
       "      <td>0.000000</td>\n",
       "      <td>0.000000</td>\n",
       "      <td>1.000000</td>\n",
       "      <td>0.000000</td>\n",
       "      <td>0.000000</td>\n",
       "      <td>0.000000</td>\n",
       "      <td>0.010000</td>\n",
       "    </tr>\n",
       "    <tr>\n",
       "      <th>25%</th>\n",
       "      <td>1.000000</td>\n",
       "      <td>-33.894395</td>\n",
       "      <td>151.159120</td>\n",
       "      <td>2.000000</td>\n",
       "      <td>1.000000</td>\n",
       "      <td>1.000000</td>\n",
       "      <td>2.000000</td>\n",
       "      <td>200.000000</td>\n",
       "      <td>2.000000</td>\n",
       "      <td>2.000000</td>\n",
       "      <td>365.000000</td>\n",
       "      <td>9.990000e+02</td>\n",
       "      <td>2.000000</td>\n",
       "      <td>6.000000e+02</td>\n",
       "      <td>0.000000</td>\n",
       "      <td>2.000000</td>\n",
       "      <td>7.000000</td>\n",
       "      <td>40.000000</td>\n",
       "      <td>3.000000</td>\n",
       "      <td>0.000000</td>\n",
       "      <td>0.000000</td>\n",
       "      <td>4.590000</td>\n",
       "      <td>4.710000</td>\n",
       "      <td>4.560000</td>\n",
       "      <td>4.840000</td>\n",
       "      <td>4.840000</td>\n",
       "      <td>4.810000</td>\n",
       "      <td>4.540000</td>\n",
       "      <td>1.000000</td>\n",
       "      <td>1.000000</td>\n",
       "      <td>0.000000</td>\n",
       "      <td>0.000000</td>\n",
       "      <td>0.150000</td>\n",
       "    </tr>\n",
       "    <tr>\n",
       "      <th>50%</th>\n",
       "      <td>2.000000</td>\n",
       "      <td>-33.875625</td>\n",
       "      <td>151.212020</td>\n",
       "      <td>3.000000</td>\n",
       "      <td>1.000000</td>\n",
       "      <td>2.000000</td>\n",
       "      <td>3.000000</td>\n",
       "      <td>1125.000000</td>\n",
       "      <td>3.000000</td>\n",
       "      <td>5.000000</td>\n",
       "      <td>1125.000000</td>\n",
       "      <td>1.125000e+03</td>\n",
       "      <td>3.800000</td>\n",
       "      <td>1.125000e+03</td>\n",
       "      <td>5.000000</td>\n",
       "      <td>21.000000</td>\n",
       "      <td>43.000000</td>\n",
       "      <td>144.000000</td>\n",
       "      <td>12.000000</td>\n",
       "      <td>2.000000</td>\n",
       "      <td>0.000000</td>\n",
       "      <td>4.830000</td>\n",
       "      <td>4.890000</td>\n",
       "      <td>4.820000</td>\n",
       "      <td>4.960000</td>\n",
       "      <td>4.970000</td>\n",
       "      <td>4.940000</td>\n",
       "      <td>4.750000</td>\n",
       "      <td>2.000000</td>\n",
       "      <td>1.000000</td>\n",
       "      <td>0.000000</td>\n",
       "      <td>0.000000</td>\n",
       "      <td>0.520000</td>\n",
       "    </tr>\n",
       "    <tr>\n",
       "      <th>75%</th>\n",
       "      <td>6.000000</td>\n",
       "      <td>-33.801885</td>\n",
       "      <td>151.261272</td>\n",
       "      <td>5.000000</td>\n",
       "      <td>2.000000</td>\n",
       "      <td>3.000000</td>\n",
       "      <td>90.000000</td>\n",
       "      <td>1125.000000</td>\n",
       "      <td>90.000000</td>\n",
       "      <td>90.000000</td>\n",
       "      <td>1125.000000</td>\n",
       "      <td>1.125000e+03</td>\n",
       "      <td>90.000000</td>\n",
       "      <td>1.125000e+03</td>\n",
       "      <td>17.000000</td>\n",
       "      <td>43.000000</td>\n",
       "      <td>71.000000</td>\n",
       "      <td>310.000000</td>\n",
       "      <td>41.000000</td>\n",
       "      <td>9.000000</td>\n",
       "      <td>1.000000</td>\n",
       "      <td>5.000000</td>\n",
       "      <td>5.000000</td>\n",
       "      <td>5.000000</td>\n",
       "      <td>5.000000</td>\n",
       "      <td>5.000000</td>\n",
       "      <td>5.000000</td>\n",
       "      <td>4.920000</td>\n",
       "      <td>6.000000</td>\n",
       "      <td>4.000000</td>\n",
       "      <td>1.000000</td>\n",
       "      <td>0.000000</td>\n",
       "      <td>1.360000</td>\n",
       "    </tr>\n",
       "    <tr>\n",
       "      <th>max</th>\n",
       "      <td>354.000000</td>\n",
       "      <td>-33.392670</td>\n",
       "      <td>151.340410</td>\n",
       "      <td>16.000000</td>\n",
       "      <td>11.000000</td>\n",
       "      <td>22.000000</td>\n",
       "      <td>400.000000</td>\n",
       "      <td>1162.000000</td>\n",
       "      <td>400.000000</td>\n",
       "      <td>400.000000</td>\n",
       "      <td>1162.000000</td>\n",
       "      <td>2.147484e+09</td>\n",
       "      <td>400.000000</td>\n",
       "      <td>2.142625e+09</td>\n",
       "      <td>30.000000</td>\n",
       "      <td>60.000000</td>\n",
       "      <td>90.000000</td>\n",
       "      <td>365.000000</td>\n",
       "      <td>756.000000</td>\n",
       "      <td>280.000000</td>\n",
       "      <td>30.000000</td>\n",
       "      <td>5.000000</td>\n",
       "      <td>5.000000</td>\n",
       "      <td>5.000000</td>\n",
       "      <td>5.000000</td>\n",
       "      <td>5.000000</td>\n",
       "      <td>5.000000</td>\n",
       "      <td>5.000000</td>\n",
       "      <td>197.000000</td>\n",
       "      <td>197.000000</td>\n",
       "      <td>100.000000</td>\n",
       "      <td>17.000000</td>\n",
       "      <td>24.270000</td>\n",
       "    </tr>\n",
       "  </tbody>\n",
       "</table>\n",
       "</div>"
      ],
      "text/plain": [
       "       host_listings_count     latitude    longitude  accommodates  \\\n",
       "count          7000.000000  7000.000000  7000.000000   7000.000000   \n",
       "mean             13.315571   -33.848580   151.191887      3.757714   \n",
       "std              32.683985     0.094001     0.106205      2.331416   \n",
       "min               0.000000   -34.090180   150.630490      1.000000   \n",
       "25%               1.000000   -33.894395   151.159120      2.000000   \n",
       "50%               2.000000   -33.875625   151.212020      3.000000   \n",
       "75%               6.000000   -33.801885   151.261272      5.000000   \n",
       "max             354.000000   -33.392670   151.340410     16.000000   \n",
       "\n",
       "          bedrooms         beds  minimum_nights  maximum_nights  \\\n",
       "count  6340.000000  6760.000000     7000.000000     7000.000000   \n",
       "mean      1.811830     2.243343       29.734571      773.551000   \n",
       "std       1.073018     1.654179       42.407400      473.598247   \n",
       "min       1.000000     1.000000        1.000000        1.000000   \n",
       "25%       1.000000     1.000000        2.000000      200.000000   \n",
       "50%       1.000000     2.000000        3.000000     1125.000000   \n",
       "75%       2.000000     3.000000       90.000000     1125.000000   \n",
       "max      11.000000    22.000000      400.000000     1162.000000   \n",
       "\n",
       "       minimum_minimum_nights  maximum_minimum_nights  minimum_maximum_nights  \\\n",
       "count             6955.000000             7000.000000             7000.000000   \n",
       "mean                28.485981               30.343857              866.717143   \n",
       "std                 41.940831               41.738467              434.408411   \n",
       "min                  1.000000                1.000000                1.000000   \n",
       "25%                  2.000000                2.000000              365.000000   \n",
       "50%                  3.000000                5.000000             1125.000000   \n",
       "75%                 90.000000               90.000000             1125.000000   \n",
       "max                400.000000              400.000000             1162.000000   \n",
       "\n",
       "       maximum_maximum_nights  minimum_nights_avg_ntm  maximum_nights_avg_ntm  \\\n",
       "count            6.955000e+03             7000.000000            7.000000e+03   \n",
       "mean             3.088569e+06               29.434657            2.830644e+06   \n",
       "std              8.137667e+07               41.886924            7.498722e+07   \n",
       "min              1.000000e+00                1.000000            1.000000e+00   \n",
       "25%              9.990000e+02                2.000000            6.000000e+02   \n",
       "50%              1.125000e+03                3.800000            1.125000e+03   \n",
       "75%              1.125000e+03               90.000000            1.125000e+03   \n",
       "max              2.147484e+09              400.000000            2.142625e+09   \n",
       "\n",
       "       availability_30  availability_60  availability_90  availability_365  \\\n",
       "count      7000.000000      7000.000000      7000.000000       6953.000000   \n",
       "mean          9.276286        24.313286        41.979429        167.068172   \n",
       "std          10.233421        21.071782        31.883595        133.719203   \n",
       "min           0.000000         0.000000         0.000000          0.000000   \n",
       "25%           0.000000         2.000000         7.000000         40.000000   \n",
       "50%           5.000000        21.000000        43.000000        144.000000   \n",
       "75%          17.000000        43.000000        71.000000        310.000000   \n",
       "max          30.000000        60.000000        90.000000        365.000000   \n",
       "\n",
       "       number_of_reviews  number_of_reviews_ltm  number_of_reviews_l30d  \\\n",
       "count        7000.000000            7000.000000             7000.000000   \n",
       "mean           35.402429               6.957286                0.750714   \n",
       "std            58.590892              12.569829                1.578901   \n",
       "min             0.000000               0.000000                0.000000   \n",
       "25%             3.000000               0.000000                0.000000   \n",
       "50%            12.000000               2.000000                0.000000   \n",
       "75%            41.000000               9.000000                1.000000   \n",
       "max           756.000000             280.000000               30.000000   \n",
       "\n",
       "       review_scores_rating  review_scores_accuracy  \\\n",
       "count           6886.000000             6790.000000   \n",
       "mean               4.631587                4.754588   \n",
       "std                0.709730                0.447357   \n",
       "min                0.000000                0.000000   \n",
       "25%                4.590000                4.710000   \n",
       "50%                4.830000                4.890000   \n",
       "75%                5.000000                5.000000   \n",
       "max                5.000000                5.000000   \n",
       "\n",
       "       review_scores_cleanliness  review_scores_checkin  \\\n",
       "count                6792.000000            6791.000000   \n",
       "mean                    4.658408               4.841571   \n",
       "std                     0.512783               0.380514   \n",
       "min                     0.000000               0.000000   \n",
       "25%                     4.560000               4.840000   \n",
       "50%                     4.820000               4.960000   \n",
       "75%                     5.000000               5.000000   \n",
       "max                     5.000000               5.000000   \n",
       "\n",
       "       review_scores_communication  review_scores_location  \\\n",
       "count                  6792.000000             6790.000000   \n",
       "mean                      4.841826                4.842272   \n",
       "std                       0.384644                0.317936   \n",
       "min                       0.000000                0.000000   \n",
       "25%                       4.840000                4.810000   \n",
       "50%                       4.970000                4.940000   \n",
       "75%                       5.000000                5.000000   \n",
       "max                       5.000000                5.000000   \n",
       "\n",
       "       review_scores_value  calculated_host_listings_count  \\\n",
       "count          6789.000000                     7000.000000   \n",
       "mean              4.643322                       10.757143   \n",
       "std               0.465086                       24.279535   \n",
       "min               0.000000                        1.000000   \n",
       "25%               4.540000                        1.000000   \n",
       "50%               4.750000                        2.000000   \n",
       "75%               4.920000                        6.000000   \n",
       "max               5.000000                      197.000000   \n",
       "\n",
       "       calculated_host_listings_count_entire_homes  \\\n",
       "count                                  7000.000000   \n",
       "mean                                      8.696714   \n",
       "std                                      21.696069   \n",
       "min                                       0.000000   \n",
       "25%                                       1.000000   \n",
       "50%                                       1.000000   \n",
       "75%                                       4.000000   \n",
       "max                                     197.000000   \n",
       "\n",
       "       calculated_host_listings_count_private_rooms  \\\n",
       "count                                   7000.000000   \n",
       "mean                                       1.939714   \n",
       "std                                       11.120574   \n",
       "min                                        0.000000   \n",
       "25%                                        0.000000   \n",
       "50%                                        0.000000   \n",
       "75%                                        1.000000   \n",
       "max                                      100.000000   \n",
       "\n",
       "       calculated_host_listings_count_shared_rooms  reviews_per_month  \n",
       "count                                  7000.000000        6886.000000  \n",
       "mean                                      0.044571           0.965577  \n",
       "std                                       0.555544           1.240824  \n",
       "min                                       0.000000           0.010000  \n",
       "25%                                       0.000000           0.150000  \n",
       "50%                                       0.000000           0.520000  \n",
       "75%                                       0.000000           1.360000  \n",
       "max                                      17.000000          24.270000  "
      ]
     },
     "execution_count": 7,
     "metadata": {},
     "output_type": "execute_result"
    }
   ],
   "source": [
    "df_train.describe()"
   ]
  },
  {
   "cell_type": "markdown",
   "id": "9927f8ce-13af-4b4c-af40-23369d49dd71",
   "metadata": {},
   "source": [
    "The numerical fields cover more data regarding the Airbnb that specifies the geographical terms, available number of nights for renting, types of room and review scores. They are important features which can motivate customers to make a decision to rent the property."
   ]
  },
  {
   "cell_type": "markdown",
   "id": "95b7bd3d-9c9b-4482-9771-b2bea4f8e7cf",
   "metadata": {},
   "source": [
    "**Missing values**"
   ]
  },
  {
   "cell_type": "code",
   "execution_count": 8,
   "id": "86a8de22-be3e-4d70-9039-d915de921f88",
   "metadata": {},
   "outputs": [],
   "source": [
    "# check the missing values in the dataset\n",
    "missing_df = df.groupby(level=0).apply(lambda x: x.isnull().sum()).T\n",
    "missing_df = missing_df.loc[missing_df.sum(axis=1) > 0]"
   ]
  },
  {
   "cell_type": "code",
   "execution_count": 9,
   "id": "9b9456b2-c688-431b-9f4f-c3e9f629135e",
   "metadata": {},
   "outputs": [],
   "source": [
    "missing_df[\"all\"] = missing_df.sum(axis=1)"
   ]
  },
  {
   "cell_type": "code",
   "execution_count": 10,
   "id": "dc29798c-ecb5-4731-aa69-e05727083d66",
   "metadata": {},
   "outputs": [
    {
     "data": {
      "text/html": [
       "<div>\n",
       "<style scoped>\n",
       "    .dataframe tbody tr th:only-of-type {\n",
       "        vertical-align: middle;\n",
       "    }\n",
       "\n",
       "    .dataframe tbody tr th {\n",
       "        vertical-align: top;\n",
       "    }\n",
       "\n",
       "    .dataframe thead th {\n",
       "        text-align: right;\n",
       "    }\n",
       "</style>\n",
       "<table border=\"1\" class=\"dataframe\">\n",
       "  <thead>\n",
       "    <tr style=\"text-align: right;\">\n",
       "      <th></th>\n",
       "      <th>test</th>\n",
       "      <th>train</th>\n",
       "      <th>all</th>\n",
       "    </tr>\n",
       "  </thead>\n",
       "  <tbody>\n",
       "    <tr>\n",
       "      <th>license</th>\n",
       "      <td>2393</td>\n",
       "      <td>1868</td>\n",
       "      <td>4261</td>\n",
       "    </tr>\n",
       "    <tr>\n",
       "      <th>host_neighbourhood</th>\n",
       "      <td>1263</td>\n",
       "      <td>2912</td>\n",
       "      <td>4175</td>\n",
       "    </tr>\n",
       "    <tr>\n",
       "      <th>host_about</th>\n",
       "      <td>1432</td>\n",
       "      <td>2458</td>\n",
       "      <td>3890</td>\n",
       "    </tr>\n",
       "    <tr>\n",
       "      <th>host_response_time</th>\n",
       "      <td>2534</td>\n",
       "      <td>645</td>\n",
       "      <td>3179</td>\n",
       "    </tr>\n",
       "    <tr>\n",
       "      <th>host_response_rate</th>\n",
       "      <td>2534</td>\n",
       "      <td>645</td>\n",
       "      <td>3179</td>\n",
       "    </tr>\n",
       "    <tr>\n",
       "      <th>neighborhood_overview</th>\n",
       "      <td>1240</td>\n",
       "      <td>1817</td>\n",
       "      <td>3057</td>\n",
       "    </tr>\n",
       "    <tr>\n",
       "      <th>neighbourhood</th>\n",
       "      <td>1240</td>\n",
       "      <td>1816</td>\n",
       "      <td>3056</td>\n",
       "    </tr>\n",
       "    <tr>\n",
       "      <th>host_acceptance_rate</th>\n",
       "      <td>2285</td>\n",
       "      <td>745</td>\n",
       "      <td>3030</td>\n",
       "    </tr>\n",
       "    <tr>\n",
       "      <th>price</th>\n",
       "      <td>3000</td>\n",
       "      <td>0</td>\n",
       "      <td>3000</td>\n",
       "    </tr>\n",
       "    <tr>\n",
       "      <th>review_scores_value</th>\n",
       "      <td>643</td>\n",
       "      <td>211</td>\n",
       "      <td>854</td>\n",
       "    </tr>\n",
       "    <tr>\n",
       "      <th>review_scores_location</th>\n",
       "      <td>642</td>\n",
       "      <td>210</td>\n",
       "      <td>852</td>\n",
       "    </tr>\n",
       "    <tr>\n",
       "      <th>review_scores_checkin</th>\n",
       "      <td>643</td>\n",
       "      <td>209</td>\n",
       "      <td>852</td>\n",
       "    </tr>\n",
       "    <tr>\n",
       "      <th>review_scores_accuracy</th>\n",
       "      <td>641</td>\n",
       "      <td>210</td>\n",
       "      <td>851</td>\n",
       "    </tr>\n",
       "    <tr>\n",
       "      <th>review_scores_cleanliness</th>\n",
       "      <td>637</td>\n",
       "      <td>208</td>\n",
       "      <td>845</td>\n",
       "    </tr>\n",
       "    <tr>\n",
       "      <th>review_scores_communication</th>\n",
       "      <td>636</td>\n",
       "      <td>208</td>\n",
       "      <td>844</td>\n",
       "    </tr>\n",
       "    <tr>\n",
       "      <th>bedrooms</th>\n",
       "      <td>178</td>\n",
       "      <td>660</td>\n",
       "      <td>838</td>\n",
       "    </tr>\n",
       "    <tr>\n",
       "      <th>reviews_per_month</th>\n",
       "      <td>466</td>\n",
       "      <td>114</td>\n",
       "      <td>580</td>\n",
       "    </tr>\n",
       "    <tr>\n",
       "      <th>last_review</th>\n",
       "      <td>466</td>\n",
       "      <td>114</td>\n",
       "      <td>580</td>\n",
       "    </tr>\n",
       "    <tr>\n",
       "      <th>review_scores_rating</th>\n",
       "      <td>466</td>\n",
       "      <td>114</td>\n",
       "      <td>580</td>\n",
       "    </tr>\n",
       "    <tr>\n",
       "      <th>first_review</th>\n",
       "      <td>466</td>\n",
       "      <td>114</td>\n",
       "      <td>580</td>\n",
       "    </tr>\n",
       "    <tr>\n",
       "      <th>beds</th>\n",
       "      <td>129</td>\n",
       "      <td>240</td>\n",
       "      <td>369</td>\n",
       "    </tr>\n",
       "    <tr>\n",
       "      <th>room_type</th>\n",
       "      <td>41</td>\n",
       "      <td>134</td>\n",
       "      <td>175</td>\n",
       "    </tr>\n",
       "    <tr>\n",
       "      <th>description</th>\n",
       "      <td>89</td>\n",
       "      <td>65</td>\n",
       "      <td>154</td>\n",
       "    </tr>\n",
       "    <tr>\n",
       "      <th>neighbourhood_cleansed</th>\n",
       "      <td>42</td>\n",
       "      <td>108</td>\n",
       "      <td>150</td>\n",
       "    </tr>\n",
       "    <tr>\n",
       "      <th>property_type</th>\n",
       "      <td>39</td>\n",
       "      <td>84</td>\n",
       "      <td>123</td>\n",
       "    </tr>\n",
       "    <tr>\n",
       "      <th>availability_365</th>\n",
       "      <td>20</td>\n",
       "      <td>47</td>\n",
       "      <td>67</td>\n",
       "    </tr>\n",
       "    <tr>\n",
       "      <th>maximum_maximum_nights</th>\n",
       "      <td>10</td>\n",
       "      <td>45</td>\n",
       "      <td>55</td>\n",
       "    </tr>\n",
       "    <tr>\n",
       "      <th>minimum_minimum_nights</th>\n",
       "      <td>10</td>\n",
       "      <td>45</td>\n",
       "      <td>55</td>\n",
       "    </tr>\n",
       "    <tr>\n",
       "      <th>bathrooms</th>\n",
       "      <td>4</td>\n",
       "      <td>6</td>\n",
       "      <td>10</td>\n",
       "    </tr>\n",
       "    <tr>\n",
       "      <th>host_location</th>\n",
       "      <td>2</td>\n",
       "      <td>2</td>\n",
       "      <td>4</td>\n",
       "    </tr>\n",
       "    <tr>\n",
       "      <th>name</th>\n",
       "      <td>1</td>\n",
       "      <td>1</td>\n",
       "      <td>2</td>\n",
       "    </tr>\n",
       "  </tbody>\n",
       "</table>\n",
       "</div>"
      ],
      "text/plain": [
       "                             test  train   all\n",
       "license                      2393   1868  4261\n",
       "host_neighbourhood           1263   2912  4175\n",
       "host_about                   1432   2458  3890\n",
       "host_response_time           2534    645  3179\n",
       "host_response_rate           2534    645  3179\n",
       "neighborhood_overview        1240   1817  3057\n",
       "neighbourhood                1240   1816  3056\n",
       "host_acceptance_rate         2285    745  3030\n",
       "price                        3000      0  3000\n",
       "review_scores_value           643    211   854\n",
       "review_scores_location        642    210   852\n",
       "review_scores_checkin         643    209   852\n",
       "review_scores_accuracy        641    210   851\n",
       "review_scores_cleanliness     637    208   845\n",
       "review_scores_communication   636    208   844\n",
       "bedrooms                      178    660   838\n",
       "reviews_per_month             466    114   580\n",
       "last_review                   466    114   580\n",
       "review_scores_rating          466    114   580\n",
       "first_review                  466    114   580\n",
       "beds                          129    240   369\n",
       "room_type                      41    134   175\n",
       "description                    89     65   154\n",
       "neighbourhood_cleansed         42    108   150\n",
       "property_type                  39     84   123\n",
       "availability_365               20     47    67\n",
       "maximum_maximum_nights         10     45    55\n",
       "minimum_minimum_nights         10     45    55\n",
       "bathrooms                       4      6    10\n",
       "host_location                   2      2     4\n",
       "name                            1      1     2"
      ]
     },
     "execution_count": 10,
     "metadata": {},
     "output_type": "execute_result"
    }
   ],
   "source": [
    "missing_df.sort_values(by=\"all\", ascending=False)"
   ]
  },
  {
   "cell_type": "markdown",
   "id": "707f2429-956c-47dc-bc6c-9ddca6397d37",
   "metadata": {},
   "source": [
    "This section focuses on analysing the quality of the data set via the analysis of missing values. The following tables shows the frequency of missing values in the top ten  variables having the largest number of missing values."
   ]
  },
  {
   "cell_type": "markdown",
   "id": "90863db6-5a86-424d-979e-ea23490643a7",
   "metadata": {},
   "source": [
    "As can be seen from the table above, the top five variables in terms of missing values are object features that are not good categorical variables (with the large number of unique values in the variable). As a result, it is of utmost importance to have an appropriate strategy of imputing null values with advanced technqiues, for example, one-hot encoding for categorical variables. Furthermore, missing values in host_acceptance_rate and price account for a large proportion, notably in training set. To be more specific, 3000 missing values in price are equivalent to more than 40% of the total data set. As a result, the decision of imputing missing values or removing all these values should be carefully considered."
   ]
  },
  {
   "cell_type": "markdown",
   "id": "ad30df24-b18b-4f61-975f-ceebe2e2c3ab",
   "metadata": {},
   "source": [
    "---\n",
    "\n",
    "## Task 2: Data Cleaning, Missing Observations and Feature Engineering\n",
    "- In this task you will follow a set of instructions/questions listed below.\n",
    "- Make sure you **explain** each step you do both in Markdown text and on your video.\n",
    "    - Do not just read out your commands without exaplaining what they do and why you used them \n",
    "\n",
    "Total Marks: 11"
   ]
  },
  {
   "cell_type": "markdown",
   "id": "01f4ec3d-4936-4428-a204-04f133210a3d",
   "metadata": {},
   "source": [
    "**Task 2, Question 1**: Clean **all** numerical features and the target variable `price` so that they can be used in training algorithms. For instance, `host_response_rate` feature is in object format containing both numerical values and text. Extract numerical values (or equivalently eliminate the text) so that the numerical values can be used as a regular feature.  \n",
    "(2 marks)"
   ]
  },
  {
   "cell_type": "markdown",
   "id": "0c003aa0-cc94-495f-8a61-e15f4ab84c8a",
   "metadata": {},
   "source": [
    "Even though the descriptive statistics summary provided by the initial data analysis includes 34 features, we can identify other 3 numerical variables are in the format of string and should be corrected for further analyis. `host_response_rate` and `host_acceptance_rate` are the two features which contain both numerical values and text on each entry, specfically number with percentage symbol (%). Since the intial data types of these two columns are string, we need to convert them to float after extracting the unwanted character. "
   ]
  },
  {
   "cell_type": "code",
   "execution_count": 11,
   "id": "08e1900c-ab93-4d37-9ac0-8dc3040ea031",
   "metadata": {},
   "outputs": [
    {
     "name": "stdout",
     "output_type": "stream",
     "text": [
      "<class 'pandas.core.series.Series'>\n",
      "<class 'pandas.core.series.Series'>\n",
      "<class 'pandas.core.series.Series'>\n",
      "<class 'pandas.core.series.Series'>\n"
     ]
    }
   ],
   "source": [
    "#examine the current data type\n",
    "print(type(df_train['host_response_rate']))\n",
    "print(type(df_train['host_acceptance_rate']))\n",
    "print(type(df_test['host_response_rate']))\n",
    "print(type(df_test['host_acceptance_rate']))"
   ]
  },
  {
   "cell_type": "code",
   "execution_count": 12,
   "id": "5785186c-da4a-4e08-8398-1a2bcf61899c",
   "metadata": {},
   "outputs": [],
   "source": [
    "#remove unwanted character \n",
    "df_train['host_response_rate'] = df_train['host_response_rate'].str.replace('%', '')\n",
    "df_train['host_acceptance_rate'] = df_train['host_acceptance_rate'].str.replace('%', '')\n",
    "df_test['host_response_rate'] = df_test['host_response_rate'].str.replace('%', '')\n",
    "df_test['host_acceptance_rate'] = df_test['host_acceptance_rate'].str.replace('%', '')"
   ]
  },
  {
   "cell_type": "code",
   "execution_count": 13,
   "id": "aa0422ae-1e4c-457b-8fd6-594272305f85",
   "metadata": {},
   "outputs": [],
   "source": [
    "#change to float type \n",
    "df_train['host_response_rate'] = df_train['host_response_rate'].astype(float)\n",
    "df_train['host_acceptance_rate'] = df_train['host_acceptance_rate'].astype(float)\n",
    "df_test['host_response_rate'] = df_test['host_response_rate'].astype(float)\n",
    "df_test['host_acceptance_rate'] = df_test['host_acceptance_rate'].astype(float)"
   ]
  },
  {
   "cell_type": "markdown",
   "id": "e7acd526-05dd-4ff7-afa9-585dc11e76bc",
   "metadata": {},
   "source": [
    "Besides, `price` as the target variable of the training dataset is also not denoted as a floating point attribute due to the same initial data type. By repeating the procedure, we can convert price to the accurate data type."
   ]
  },
  {
   "cell_type": "code",
   "execution_count": 14,
   "id": "9824fd65-ad46-48a8-b00e-68d1f18d3bc3",
   "metadata": {},
   "outputs": [
    {
     "name": "stdout",
     "output_type": "stream",
     "text": [
      "<class 'pandas.core.series.Series'>\n"
     ]
    }
   ],
   "source": [
    "#examine the current data type\n",
    "print(type(df_train['price']))"
   ]
  },
  {
   "cell_type": "markdown",
   "id": "c7bf3477-839f-4f9f-a174-517660a24253",
   "metadata": {},
   "source": [
    "In the form of string, we can figure out the shortest and longest values to determine any unexpected characters."
   ]
  },
  {
   "cell_type": "code",
   "execution_count": 15,
   "id": "e1f19214-7eec-45cd-8e6c-9c071f925b2b",
   "metadata": {},
   "outputs": [
    {
     "name": "stdout",
     "output_type": "stream",
     "text": [
      "$82.00\n",
      "$2,746.00\n"
     ]
    }
   ],
   "source": [
    "print(min(df_train['price'], key=len))\n",
    "print(max(df_train['price'], key=len))"
   ]
  },
  {
   "cell_type": "code",
   "execution_count": 16,
   "id": "06bacdef-62e4-41f6-9bd8-36e3ba29b4ea",
   "metadata": {},
   "outputs": [],
   "source": [
    "#remove unwanted character \n",
    "df_train['price'] = df_train['price'].str.replace('$', '')\n",
    "df_train['price'] = df_train['price'].str.replace(',', '')"
   ]
  },
  {
   "cell_type": "code",
   "execution_count": 17,
   "id": "5569775d-0fe9-464b-a55a-cf3969d73bbf",
   "metadata": {},
   "outputs": [],
   "source": [
    "#change to float type \n",
    "df_train['price'] = df_train['price'].astype(float)"
   ]
  },
  {
   "cell_type": "markdown",
   "id": "773f1bb1",
   "metadata": {},
   "source": [
    "**Task 2, Question 2** Create at least 4 new features from existing features which contain multiple items of information, e.g. creating `email`,  `phone`, `reviews`, `jumio`, etc. from feature `host_verifications`.  \n",
    "(2 marks)"
   ]
  },
  {
   "cell_type": "code",
   "execution_count": 18,
   "id": "c0d210de",
   "metadata": {},
   "outputs": [
    {
     "data": {
      "text/plain": [
       "ID\n",
       "0    ['email', 'phone', 'reviews', 'jumio', 'offlin...\n",
       "1    ['email', 'phone', 'facebook', 'reviews', 'jum...\n",
       "Name: host_verifications, dtype: object"
      ]
     },
     "execution_count": 18,
     "metadata": {},
     "output_type": "execute_result"
    }
   ],
   "source": [
    "df_train['host_verifications'].head(2)"
   ]
  },
  {
   "cell_type": "markdown",
   "id": "bf26f6db-72f4-49db-863b-e90b428cba6b",
   "metadata": {},
   "source": [
    "From feature `host_verifications`, the total numbers of 4 new features can be identified:"
   ]
  },
  {
   "cell_type": "code",
   "execution_count": 19,
   "id": "471141b3-ba2a-445f-b6a8-9ecee0ced371",
   "metadata": {},
   "outputs": [
    {
     "name": "stdout",
     "output_type": "stream",
     "text": [
      "Value counts of email verifications : 6495\n",
      "Value counts of phone verifications : 6995\n",
      "Value counts of reviews verifications : 4429\n",
      "Value counts of jumio verifications : 4795\n"
     ]
    }
   ],
   "source": [
    "#value counts of major verification\n",
    "for i in ['email', 'phone', 'reviews', 'jumio']:\n",
    "    count = 0\n",
    "    for row in df_train.itertuples(index = True, name ='Pandas'):\n",
    "        if i in getattr(row, 'host_verifications'):\n",
    "            count+=1\n",
    "    print('Value counts of',i,'verifications :',count)      "
   ]
  },
  {
   "cell_type": "markdown",
   "id": "1e9c457e",
   "metadata": {},
   "source": [
    "By properly designing 4 functions, 4 new features are created to indicate whether an Airbnb has `email` or `phone` or `reviews` or `jumio`."
   ]
  },
  {
   "cell_type": "code",
   "execution_count": 20,
   "id": "78be1a32-ffc0-4207-b992-9e55cd3d615a",
   "metadata": {},
   "outputs": [],
   "source": [
    "#for email verifications \n",
    "def email_veri(row):\n",
    "    for i in range(len(row)):\n",
    "        if 'email' in row['host_verifications']:\n",
    "            return 1 \n",
    "        else: \n",
    "            return 0\n",
    "#for phone verifications \n",
    "def phone_veri(row):\n",
    "    for i in range(len(row)):\n",
    "        if 'phone' in row['host_verifications']:\n",
    "            return 1 \n",
    "        else: \n",
    "            return 0\n",
    "#for reviews verifications \n",
    "def reviews_veri(row):\n",
    "    for i in range(len(row)):\n",
    "        if 'reviews' in row['host_verifications']:\n",
    "            return 1 \n",
    "        else: \n",
    "            return 0 \n",
    "#for jumio verifications \n",
    "def jumio_veri(row):\n",
    "    for i in range(len(row)):\n",
    "        if 'jumio' in row['host_verifications']:\n",
    "            return 1 \n",
    "        else: \n",
    "            return 0"
   ]
  },
  {
   "cell_type": "code",
   "execution_count": 21,
   "id": "21d0e0c5-6188-4c2b-8dd2-0297bd5b5693",
   "metadata": {},
   "outputs": [],
   "source": [
    "#apply to the training set\n",
    "df_train['email'] = df_train.apply(email_veri, axis=1)\n",
    "df_train['phone'] = df_train.apply(phone_veri, axis=1)\n",
    "df_train['reviews'] = df_train.apply(reviews_veri, axis=1)\n",
    "df_train['jumio'] = df_train.apply(jumio_veri, axis=1)"
   ]
  },
  {
   "cell_type": "code",
   "execution_count": 22,
   "id": "fccda692-53b8-4826-ba83-0aacc5631d4b",
   "metadata": {},
   "outputs": [],
   "source": [
    "#apply to the test set\n",
    "df_test['email'] = df_test.apply(email_veri, axis=1)\n",
    "df_test['phone'] = df_test.apply(phone_veri, axis=1)\n",
    "df_test['reviews'] = df_test.apply(reviews_veri, axis=1)\n",
    "df_test['jumio'] = df_test.apply(jumio_veri, axis=1)"
   ]
  },
  {
   "cell_type": "code",
   "execution_count": 23,
   "id": "a1bcffae-3b41-40bd-80ae-31c83b659c77",
   "metadata": {},
   "outputs": [],
   "source": [
    "#drop the original column\n",
    "df_train.drop(columns='host_verifications', inplace=True)\n",
    "df_test.drop(columns='host_verifications', inplace=True)"
   ]
  },
  {
   "cell_type": "markdown",
   "id": "940c6573",
   "metadata": {},
   "source": [
    "We also identify that the `amenities` feature has multiple items of information which need to be separated."
   ]
  },
  {
   "cell_type": "code",
   "execution_count": 24,
   "id": "97ad3d7c-8ba7-43d4-b43d-69d1d65efada",
   "metadata": {},
   "outputs": [
    {
     "data": {
      "text/plain": [
       "ID\n",
       "0    [\"Hot water\", \"Coffee maker\", \"Heating\", \"Hair...\n",
       "1    [\"Hot water\", \"Coffee maker\", \"Long term stays...\n",
       "Name: amenities, dtype: object"
      ]
     },
     "execution_count": 24,
     "metadata": {},
     "output_type": "execute_result"
    }
   ],
   "source": [
    "df_train['amenities'].head(2)"
   ]
  },
  {
   "cell_type": "markdown",
   "id": "d8dbb7a0-b021-4dd5-89d6-097456d116df",
   "metadata": {},
   "source": [
    "By finding the longest entry of `amenities` and the top 4 amenities of all Airbnb entries, we can determine the 4 new features to generate."
   ]
  },
  {
   "cell_type": "code",
   "execution_count": 25,
   "id": "225cb74d",
   "metadata": {},
   "outputs": [
    {
     "data": {
      "text/plain": [
       "'[\"Clothing storage: wardrobe, walk-in closet, and dresser\", \"Hot water\", \"Coffee maker\", \"Free dryer \\\\u2013 In building\", \"Toaster\", \"Heating\", \"Long term stays allowed\", \"Extra pillows and blankets\", \"Dining table\", \"Private fenced garden or backyard\", \"Bikes\", \"Hair dryer\", \"Conditioner\", \"Drying rack for clothing\", \"Babysitter recommendations\", \"Laundromat nearby\", \"Fire pit\", \"Bathtub\", \"Oven\", \"Private entrance\", \"Lockbox\", \"Beach essentials\", \"Dedicated workspace: monitor, desk, table, and office chair\", \"Bread maker\", \"Ceiling fan\", \"Microwave\", \"Iron\", \"Free washer \\\\u2013 In building\", \"68\\\\\" HDTV with Amazon Prime Video, Apple TV, Netflix, standard cable\", \"Refrigerator\", \"Outdoor shower\", \"Board games\", \"Fire extinguisher\", \"Hot water kettle\", \"Piano\", \"Samsung Bar Bluetooth sound system\", \"Children\\\\u2019s dinnerware\", \"Stove\", \"Portable fans\", \"Ethernet connection\", \"Bed linens\", \"Game console\", \"Cable TV\", \"Hangers\", \"Pack \\\\u2019n play/Travel crib\", \"BBQ grill\", \"Body soap\", \"First aid kit\", \"Smoke alarm\", \"Room-darkening shades\", \"Luggage dropoff allowed\", \"Private patio or balcony\", \"Essentials\", \"Cooking basics\", \"Barbecue utensils\", \"Baking sheet\", \"Outdoor furniture\", \"Outdoor dining area\", \"Private outdoor saltwater pool\", \"Wifi\", \"Free street parking\", \"Dishwasher\", \"Freezer\", \"Nespresso machine\", \"Dishes and silverware\", \"Wine glasses\", \"Cleaning products\", \"Free parking on premises\", \"Shampoo\", \"Shower gel\", \"Children\\\\u2019s books and toys\", \"Kitchen\", \"Baby safety gates\", \"High chair\", \"Rice maker\", \"Trash compactor\", \"Mosquito net\"]'"
      ]
     },
     "execution_count": 25,
     "metadata": {},
     "output_type": "execute_result"
    }
   ],
   "source": [
    "longest_list = max(df_train['amenities'], key=len)\n",
    "longest_list"
   ]
  },
  {
   "cell_type": "code",
   "execution_count": 26,
   "id": "6a0c8871",
   "metadata": {},
   "outputs": [
    {
     "data": {
      "text/plain": [
       "[967]"
      ]
     },
     "execution_count": 26,
     "metadata": {},
     "output_type": "execute_result"
    }
   ],
   "source": [
    "df_train.index[df_train['amenities']==longest_list].tolist()"
   ]
  },
  {
   "cell_type": "code",
   "execution_count": 27,
   "id": "2815f8ed",
   "metadata": {},
   "outputs": [
    {
     "name": "stdout",
     "output_type": "stream",
     "text": [
      "Value counts of Clothing storage: wardrobe, walk-in closet, and dresser amenity : 3\n",
      "Value counts of Hot water amenity : 5506\n",
      "Value counts of Coffee maker amenity : 2713\n",
      "Value counts of Free dryer \\u2013 In building amenity : 44\n",
      "Value counts of Toaster amenity : 1229\n",
      "Value counts of Heating amenity : 5067\n",
      "Value counts of Long term stays allowed amenity : 6387\n",
      "Value counts of Extra pillows and blankets amenity : 2957\n",
      "Value counts of Dining table amenity : 1148\n",
      "Value counts of Private fenced garden or backyard amenity : 357\n",
      "Value counts of Bikes amenity : 41\n",
      "Value counts of Hair dryer amenity : 5697\n",
      "Value counts of Conditioner amenity : 997\n",
      "Value counts of Drying rack for clothing amenity : 855\n",
      "Value counts of Babysitter recommendations amenity : 271\n",
      "Value counts of Laundromat nearby amenity : 608\n",
      "Value counts of Fire pit amenity : 140\n",
      "Value counts of Bathtub amenity : 1285\n",
      "Value counts of Oven amenity : 3640\n",
      "Value counts of Private entrance amenity : 2912\n",
      "Value counts of Lockbox amenity : 2187\n",
      "Value counts of Beach essentials amenity : 570\n",
      "Value counts of Dedicated workspace: monitor, desk, table, and office chair amenity : 1\n",
      "Value counts of Bread maker amenity : 81\n",
      "Value counts of Ceiling fan amenity : 540\n",
      "Value counts of Microwave amenity : 4622\n",
      "Value counts of Iron amenity : 6002\n",
      "Value counts of Free washer \\u2013 In building amenity : 69\n",
      "Value counts of 68\\ HDTV with Amazon Prime Video, Apple TV, Netflix, standard cable amenity : 0\n",
      "Value counts of Refrigerator amenity : 4655\n",
      "Value counts of Outdoor shower amenity : 135\n",
      "Value counts of Board games amenity : 294\n",
      "Value counts of Fire extinguisher amenity : 2999\n",
      "Value counts of Hot water kettle amenity : 1373\n",
      "Value counts of Piano amenity : 66\n",
      "Value counts of Samsung Bar Bluetooth sound system amenity : 1\n",
      "Value counts of Children\\u2019s dinnerware amenity : 461\n",
      "Value counts of Stove amenity : 3844\n",
      "Value counts of Portable fans amenity : 683\n",
      "Value counts of Ethernet connection amenity : 707\n",
      "Value counts of Bed linens amenity : 4120\n",
      "Value counts of Game console amenity : 146\n",
      "Value counts of Cable TV amenity : 1128\n",
      "Value counts of Hangers amenity : 6046\n",
      "Value counts of Pack \\u2019n play/Travel crib amenity : 694\n",
      "Value counts of BBQ grill amenity : 1510\n",
      "Value counts of Body soap amenity : 1093\n",
      "Value counts of First aid kit amenity : 2656\n",
      "Value counts of Smoke alarm amenity : 6553\n",
      "Value counts of Room-darkening shades amenity : 1232\n",
      "Value counts of Luggage dropoff allowed amenity : 2000\n",
      "Value counts of Private patio or balcony amenity : 1085\n",
      "Value counts of Essentials amenity : 6542\n",
      "Value counts of Cooking basics amenity : 4575\n",
      "Value counts of Barbecue utensils amenity : 665\n",
      "Value counts of Baking sheet amenity : 565\n",
      "Value counts of Outdoor furniture amenity : 1062\n",
      "Value counts of Outdoor dining area amenity : 751\n",
      "Value counts of Private outdoor saltwater pool amenity : 5\n",
      "Value counts of Wifi amenity : 6592\n",
      "Value counts of Free street parking amenity : 3396\n",
      "Value counts of Dishwasher amenity : 2993\n",
      "Value counts of Freezer amenity : 1187\n",
      "Value counts of Nespresso machine amenity : 370\n",
      "Value counts of Dishes and silverware amenity : 4989\n",
      "Value counts of Wine glasses amenity : 1212\n",
      "Value counts of Cleaning products amenity : 1118\n",
      "Value counts of Free parking on premises amenity : 3138\n",
      "Value counts of Shampoo amenity : 5285\n",
      "Value counts of Shower gel amenity : 1755\n",
      "Value counts of Children\\u2019s books and toys amenity : 766\n",
      "Value counts of Kitchen amenity : 6312\n",
      "Value counts of Baby safety gates amenity : 196\n",
      "Value counts of High chair amenity : 868\n",
      "Value counts of Rice maker amenity : 339\n",
      "Value counts of Trash compactor amenity : 35\n",
      "Value counts of Mosquito net amenity : 84\n"
     ]
    }
   ],
   "source": [
    "for i in [\"Clothing storage: wardrobe, walk-in closet, and dresser\", \"Hot water\", \"Coffee maker\", \"Free dryer \\\\u2013 In building\", \"Toaster\", \"Heating\", \"Long term stays allowed\", \"Extra pillows and blankets\", \"Dining table\", \"Private fenced garden or backyard\", \"Bikes\", \"Hair dryer\", \"Conditioner\", \"Drying rack for clothing\", \"Babysitter recommendations\", \"Laundromat nearby\", \"Fire pit\", \"Bathtub\", \"Oven\", \"Private entrance\", \"Lockbox\", \"Beach essentials\", \"Dedicated workspace: monitor, desk, table, and office chair\", \"Bread maker\", \"Ceiling fan\", \"Microwave\", \"Iron\", \"Free washer \\\\u2013 In building\", \"68\\\\ HDTV with Amazon Prime Video, Apple TV, Netflix, standard cable\", \"Refrigerator\", \"Outdoor shower\", \"Board games\", \"Fire extinguisher\", \"Hot water kettle\", \"Piano\", \"Samsung Bar Bluetooth sound system\", \"Children\\\\u2019s dinnerware\", \"Stove\", \"Portable fans\", \"Ethernet connection\", \"Bed linens\", \"Game console\", \"Cable TV\", \"Hangers\", \"Pack \\\\u2019n play/Travel crib\", \"BBQ grill\", \"Body soap\", \"First aid kit\", \"Smoke alarm\", \"Room-darkening shades\", \"Luggage dropoff allowed\", \"Private patio or balcony\", \"Essentials\", \"Cooking basics\", \"Barbecue utensils\", \"Baking sheet\", \"Outdoor furniture\", \"Outdoor dining area\", \"Private outdoor saltwater pool\", \"Wifi\", \"Free street parking\", \"Dishwasher\", \"Freezer\", \"Nespresso machine\", \"Dishes and silverware\", \"Wine glasses\", \"Cleaning products\", \"Free parking on premises\", \"Shampoo\", \"Shower gel\", \"Children\\\\u2019s books and toys\", \"Kitchen\", \"Baby safety gates\", \"High chair\", \"Rice maker\", \"Trash compactor\", \"Mosquito net\"]:\n",
    "    count = 0\n",
    "    for row in df_train.itertuples(index = True, name ='Pandas'):\n",
    "        if i in getattr(row, 'amenities'):\n",
    "            count+=1\n",
    "    print('Value counts of',i,'amenity :',count)   "
   ]
  },
  {
   "cell_type": "markdown",
   "id": "0bf21fd8",
   "metadata": {},
   "source": [
    "Generally, the top 4 amenities to be recorded are: 'Long term stays allowed', 'Wifi', 'Essentials', 'Smoke alarm'. By apply the same function structure of creating verifications, 4 amenity features can be captured as below:"
   ]
  },
  {
   "cell_type": "code",
   "execution_count": 28,
   "id": "0d9bac40",
   "metadata": {},
   "outputs": [],
   "source": [
    "#for Long term stays allowed amenity \n",
    "def longterm_amenity(row):\n",
    "    for i in range(len(row)):\n",
    "        if 'Long term stays allowed' in row['amenities']:\n",
    "            return 1 \n",
    "        else: \n",
    "            return 0\n",
    "\n",
    "#for Wifi amenity \n",
    "def wifi_amenity(row):\n",
    "    for i in range(len(row)):\n",
    "        if 'Wifi' in row['amenities']:\n",
    "            return 1 \n",
    "        else: \n",
    "            return 0\n",
    "\n",
    "#for Essentials amenity \n",
    "def essentials_amenity(row):\n",
    "    for i in range(len(row)):\n",
    "        if 'Essentials' in row['amenities']:\n",
    "            return 1 \n",
    "        else: \n",
    "            return 0\n",
    "\n",
    "#for Smoke alarm amenity \n",
    "def smokealarm_amenity(row):\n",
    "    for i in range(len(row)):\n",
    "        if 'Smoke alarm' in row['amenities']:\n",
    "            return 1 \n",
    "        else: \n",
    "            return 0"
   ]
  },
  {
   "cell_type": "code",
   "execution_count": 29,
   "id": "24b35697",
   "metadata": {},
   "outputs": [],
   "source": [
    "#apply to the test set\n",
    "df_train['Long term stays allowed'] = df_train.apply(longterm_amenity, axis=1)\n",
    "df_train['Wifi'] = df_train.apply(wifi_amenity, axis=1)\n",
    "df_train['Essentials'] = df_train.apply(essentials_amenity, axis=1)\n",
    "df_train['Smoke alarm'] = df_train.apply(smokealarm_amenity, axis=1)"
   ]
  },
  {
   "cell_type": "code",
   "execution_count": 30,
   "id": "8bf49f1b-1e1e-4382-96dd-bbab57352e82",
   "metadata": {},
   "outputs": [],
   "source": [
    "#apply to the test set\n",
    "df_test['Long term stays allowed'] = df_test.apply(longterm_amenity, axis=1)\n",
    "df_test['Wifi'] = df_test.apply(wifi_amenity, axis=1)\n",
    "df_test['Essentials'] = df_test.apply(essentials_amenity, axis=1)\n",
    "df_test['Smoke alarm'] = df_test.apply(smokealarm_amenity, axis=1)"
   ]
  },
  {
   "cell_type": "code",
   "execution_count": 31,
   "id": "81e960c6-504d-4bf7-8bae-21028eb7f6bf",
   "metadata": {},
   "outputs": [],
   "source": [
    "#drop the original column\n",
    "df_train.drop(columns='amenities', inplace=True)\n",
    "df_test.drop(columns='amenities', inplace=True)"
   ]
  },
  {
   "cell_type": "markdown",
   "id": "b0d01c4d-1412-4e51-8f80-7040f536b1c7",
   "metadata": {},
   "source": [
    "**Task 2, Question 3**: Impute missing values for all features in both training and test datasets.   \n",
    "(2 marks)"
   ]
  },
  {
   "cell_type": "markdown",
   "id": "922861a3-b780-4dae-9a4e-447ddf1a0111",
   "metadata": {},
   "source": [
    "***For training dataset:***"
   ]
  },
  {
   "cell_type": "code",
   "execution_count": 32,
   "id": "4b6b55e8-6110-44b0-80f3-fb35e0589a9f",
   "metadata": {},
   "outputs": [
    {
     "data": {
      "text/plain": [
       "(7000, 66)"
      ]
     },
     "execution_count": 32,
     "metadata": {},
     "output_type": "execute_result"
    }
   ],
   "source": [
    "df_train.shape"
   ]
  },
  {
   "cell_type": "code",
   "execution_count": 33,
   "id": "da8c023d-66bb-4453-9b48-27f98d0c49da",
   "metadata": {},
   "outputs": [
    {
     "data": {
      "text/plain": [
       "Index(['name', 'description', 'neighborhood_overview', 'host_name',\n",
       "       'host_since', 'host_location', 'host_about', 'host_response_time',\n",
       "       'host_response_rate', 'host_acceptance_rate', 'host_is_superhost',\n",
       "       'host_neighbourhood', 'host_listings_count', 'host_has_profile_pic',\n",
       "       'host_identity_verified', 'neighbourhood', 'neighbourhood_cleansed',\n",
       "       'latitude', 'longitude', 'property_type', 'room_type', 'accommodates',\n",
       "       'bathrooms', 'bedrooms', 'beds', 'minimum_nights', 'maximum_nights',\n",
       "       'minimum_minimum_nights', 'maximum_minimum_nights',\n",
       "       'minimum_maximum_nights', 'maximum_maximum_nights',\n",
       "       'minimum_nights_avg_ntm', 'maximum_nights_avg_ntm', 'has_availability',\n",
       "       'availability_30', 'availability_60', 'availability_90',\n",
       "       'availability_365', 'number_of_reviews', 'number_of_reviews_ltm',\n",
       "       'number_of_reviews_l30d', 'first_review', 'last_review',\n",
       "       'review_scores_rating', 'review_scores_accuracy',\n",
       "       'review_scores_cleanliness', 'review_scores_checkin',\n",
       "       'review_scores_communication', 'review_scores_location',\n",
       "       'review_scores_value', 'license', 'instant_bookable',\n",
       "       'calculated_host_listings_count',\n",
       "       'calculated_host_listings_count_entire_homes',\n",
       "       'calculated_host_listings_count_private_rooms',\n",
       "       'calculated_host_listings_count_shared_rooms', 'reviews_per_month',\n",
       "       'price', 'email', 'phone', 'reviews', 'jumio',\n",
       "       'Long term stays allowed', 'Wifi', 'Essentials', 'Smoke alarm'],\n",
       "      dtype='object')"
      ]
     },
     "execution_count": 33,
     "metadata": {},
     "output_type": "execute_result"
    }
   ],
   "source": [
    "df_train.columns"
   ]
  },
  {
   "cell_type": "markdown",
   "id": "f23549c8-a9ad-400d-99a5-11acba3838ba",
   "metadata": {},
   "source": [
    "As different variables have specific characteristics including range, type, etc; different values should be utilized to impute missing values for all columns. Generally, while we can fill all misisng text variables with **'unknown'** value, numerical variables' missing values can be imputed with their **mode** or **mean** based on their characteristics. \n",
    "\n",
    "First, we start the imputing process with text-based columns:"
   ]
  },
  {
   "cell_type": "code",
   "execution_count": 34,
   "id": "0ff4007c-9025-4356-b96d-273c7f33ea3d",
   "metadata": {},
   "outputs": [],
   "source": [
    "textcol = ['name', 'description', 'neighborhood_overview', 'host_about', 'neighbourhood_cleansed', 'license']"
   ]
  },
  {
   "cell_type": "code",
   "execution_count": 35,
   "id": "f26116be-d9ba-45f8-aeb1-17062ecab44b",
   "metadata": {},
   "outputs": [],
   "source": [
    "df_train[textcol] = df_train[textcol].fillna(value='unknonwn')"
   ]
  },
  {
   "cell_type": "markdown",
   "id": "7645dafc-a0d1-4d45-bac2-d2e56509e258",
   "metadata": {},
   "source": [
    "We continue to handle numerical features which are divided into 2 categories. Specifically, specific features can be imputed with their most frequent values (mode) while the remaining features are filled with their average values (mean) instead. "
   ]
  },
  {
   "cell_type": "code",
   "execution_count": 36,
   "id": "641c4135-7900-479b-a2fc-58238022987a",
   "metadata": {},
   "outputs": [],
   "source": [
    "modefillcol = ['host_location','host_response_time', 'property_type', 'room_type','bathrooms']"
   ]
  },
  {
   "cell_type": "code",
   "execution_count": 37,
   "id": "40806608-5a0b-4e4f-9492-7a1e5e02a6a5",
   "metadata": {},
   "outputs": [],
   "source": [
    "modes = df_train[modefillcol].mode()\n",
    "df_train[modefillcol] = df_train[modefillcol].fillna(value=modes.iloc[0])"
   ]
  },
  {
   "cell_type": "code",
   "execution_count": 38,
   "id": "7a9e2d57-aee3-4125-9cee-53bc5b5e64e7",
   "metadata": {},
   "outputs": [],
   "source": [
    "meanfillcol = ['host_response_rate','host_acceptance_rate','bedrooms','beds','minimum_minimum_nights','maximum_maximum_nights','availability_365','review_scores_rating','review_scores_accuracy','review_scores_cleanliness','review_scores_checkin','review_scores_communication','review_scores_location','review_scores_value','reviews_per_month']"
   ]
  },
  {
   "cell_type": "code",
   "execution_count": 39,
   "id": "1071e41a-9f2c-4b2b-bae7-3800a10722d8",
   "metadata": {},
   "outputs": [],
   "source": [
    "means = df_train[meanfillcol].mean()\n",
    "df_train[meanfillcol] = df_train[meanfillcol].fillna(value=means.iloc[0])"
   ]
  },
  {
   "cell_type": "markdown",
   "id": "8a958dcf-3ffc-45b6-8f1c-a16c45f200dd",
   "metadata": {},
   "source": [
    "However, by investigating thoroughout the dataset, we recognize that various numberical features should be in the form of integers instead of floatin point numbers. Therefore, they will be converted to the correct form for analysis purposes."
   ]
  },
  {
   "cell_type": "code",
   "execution_count": 40,
   "id": "a0ea1446-d15a-4296-b195-6490a8c7a7c2",
   "metadata": {},
   "outputs": [],
   "source": [
    "df_train[['bedrooms','beds','availability_365','minimum_minimum_nights','maximum_minimum_nights','minimum_maximum_nights','maximum_maximum_nights','minimum_nights_avg_ntm','maximum_nights_avg_ntm']] = df_train[['bedrooms','beds','availability_365','minimum_minimum_nights','maximum_minimum_nights','minimum_maximum_nights','maximum_maximum_nights','minimum_nights_avg_ntm','maximum_nights_avg_ntm']].astype(int)"
   ]
  },
  {
   "cell_type": "markdown",
   "id": "46c74b37-8e94-4a58-a011-556a1ed084f8",
   "metadata": {},
   "source": [
    "***For test dataset:***"
   ]
  },
  {
   "cell_type": "code",
   "execution_count": 41,
   "id": "756a829d-743d-4f38-bae2-4001cd47d329",
   "metadata": {},
   "outputs": [
    {
     "data": {
      "text/plain": [
       "(3000, 65)"
      ]
     },
     "execution_count": 41,
     "metadata": {},
     "output_type": "execute_result"
    }
   ],
   "source": [
    "df_test.shape"
   ]
  },
  {
   "cell_type": "markdown",
   "id": "197891d4-03ec-4723-862f-6bf9875af226",
   "metadata": {},
   "source": [
    "We repeat the same process as for the training dataset so that misisng values of the test set can be appropriately imputed."
   ]
  },
  {
   "cell_type": "code",
   "execution_count": 42,
   "id": "3ead5be0-fd81-46b4-ab24-a81fbfc45528",
   "metadata": {},
   "outputs": [],
   "source": [
    "df_test[textcol] = df_test[textcol].fillna(value='unknonwn')"
   ]
  },
  {
   "cell_type": "code",
   "execution_count": 43,
   "id": "faa8f648-633c-4520-990c-72dff4ef5995",
   "metadata": {},
   "outputs": [],
   "source": [
    "test_modes = df_test[modefillcol].mode()\n",
    "df_test[modefillcol] = df_test[modefillcol].fillna(value=test_modes.iloc[0])"
   ]
  },
  {
   "cell_type": "code",
   "execution_count": 44,
   "id": "e242098c-cf33-4329-bd32-c6650917ed0d",
   "metadata": {},
   "outputs": [],
   "source": [
    "test_means = df_test[meanfillcol].mean()\n",
    "df_test[meanfillcol] = df_test[meanfillcol].fillna(value=test_means.iloc[0])"
   ]
  },
  {
   "cell_type": "code",
   "execution_count": 45,
   "id": "db405bb8-f8fc-497e-87fa-402a2dcff023",
   "metadata": {},
   "outputs": [],
   "source": [
    "df_test[['bedrooms','beds','availability_365','minimum_minimum_nights','maximum_minimum_nights','minimum_maximum_nights','maximum_maximum_nights','minimum_nights_avg_ntm','maximum_nights_avg_ntm']] = df_test[['bedrooms','beds','availability_365','minimum_minimum_nights','maximum_minimum_nights','minimum_maximum_nights','maximum_maximum_nights','minimum_nights_avg_ntm','maximum_nights_avg_ntm']].astype(int)"
   ]
  },
  {
   "cell_type": "markdown",
   "id": "03c14ab6-aff9-4fcd-ab7b-34f0b77f8caa",
   "metadata": {},
   "source": [
    "**Task 2, Question 4**: Encode all categorical variables appropriately as discussed in class. \n",
    "\n",
    "\n",
    "Where a categorical feature contains more than 5 unique values, map the features into 5 most frequent values + 'other' and then encode appropriately. For instance, you could group then map `property_type` into 5 basic types + 'other': [entire rental unit, private room, entire room, entire towehouse, shared room, other] and then encode.  \n",
    "(2 marks)"
   ]
  },
  {
   "cell_type": "code",
   "execution_count": 46,
   "id": "f91f4448-8574-4397-a636-d83bbde885e2",
   "metadata": {},
   "outputs": [
    {
     "data": {
      "text/plain": [
       "Entire rental unit                     3066\n",
       "Entire residential home                1164\n",
       "Private room in residential home        680\n",
       "Private room in rental unit             433\n",
       "Entire guest suite                      262\n",
       "Entire guesthouse                       217\n",
       "Entire townhouse                        150\n",
       "Room in boutique hotel                  123\n",
       "Entire condominium (condo)              107\n",
       "Entire serviced apartment                89\n",
       "Private room in townhouse                84\n",
       "Entire cottage                           62\n",
       "Room in hotel                            59\n",
       "Entire loft                              47\n",
       "Private room in guest suite              39\n",
       "Room in aparthotel                       38\n",
       "Entire villa                             38\n",
       "Private room in villa                    32\n",
       "Entire bungalow                          30\n",
       "Room in serviced apartment               27\n",
       "Private room in guesthouse               27\n",
       "Private room in condominium (condo)      22\n",
       "Private room in hostel                   21\n",
       "Tiny house                               20\n",
       "Entire cabin                             18\n",
       "Shared room in rental unit               16\n",
       "Shared room in hostel                    14\n",
       "Private room in bed and breakfast        13\n",
       "Private room in loft                     11\n",
       "Private room in bungalow                  8\n",
       "Shared room in residential home           8\n",
       "Boat                                      7\n",
       "Entire place                              6\n",
       "Private room in serviced apartment        6\n",
       "Farm stay                                 6\n",
       "Room in hostel                            5\n",
       "Shared room in bed and breakfast          4\n",
       "Private room                              4\n",
       "Private room in cabin                     4\n",
       "Room in bed and breakfast                 3\n",
       "Private room in farm stay                 2\n",
       "Entire vacation home                      2\n",
       "Shared room in townhouse                  2\n",
       "Private room in chalet                    2\n",
       "Shared room in condominium (condo)        2\n",
       "Island                                    2\n",
       "Dome house                                1\n",
       "Houseboat                                 1\n",
       "Shared room in villa                      1\n",
       "Campsite                                  1\n",
       "Private room in island                    1\n",
       "Private room in tiny house                1\n",
       "Train                                     1\n",
       "Barn                                      1\n",
       "Bus                                       1\n",
       "Treehouse                                 1\n",
       "Cave                                      1\n",
       "Earth house                               1\n",
       "Shared room in earth house                1\n",
       "Private room in yurt                      1\n",
       "Shared room in guest suite                1\n",
       "Camper/RV                                 1\n",
       "Casa particular                           1\n",
       "Shared room in serviced apartment         1\n",
       "Name: property_type, dtype: int64"
      ]
     },
     "execution_count": 46,
     "metadata": {},
     "output_type": "execute_result"
    }
   ],
   "source": [
    "## Task 2, Question 4 Code Here\n",
    "df_train['property_type'].value_counts()"
   ]
  },
  {
   "cell_type": "code",
   "execution_count": 47,
   "id": "bad9ed71",
   "metadata": {},
   "outputs": [
    {
     "data": {
      "text/plain": [
       "Entire rental unit                     1222\n",
       "Private room in rental unit             519\n",
       "Entire residential home                 431\n",
       "Private room in residential home        359\n",
       "Private room in townhouse                62\n",
       "Entire townhouse                         54\n",
       "Entire guest suite                       43\n",
       "Entire condominium (condo)               43\n",
       "Shared room in rental unit               31\n",
       "Entire guesthouse                        28\n",
       "Private room in condominium (condo)      26\n",
       "Shared room in residential home          17\n",
       "Room in boutique hotel                   15\n",
       "Entire villa                             15\n",
       "Entire serviced apartment                14\n",
       "Private room in villa                    11\n",
       "Room in hotel                            10\n",
       "Entire loft                               9\n",
       "Shared room in hostel                     8\n",
       "Private room in guest suite               8\n",
       "Entire cottage                            8\n",
       "Private room in bungalow                  6\n",
       "Entire bungalow                           6\n",
       "Shared room in condominium (condo)        5\n",
       "Private room in guesthouse                4\n",
       "Camper/RV                                 4\n",
       "Private room in loft                      4\n",
       "Room in serviced apartment                3\n",
       "Private room in serviced apartment        3\n",
       "Tiny house                                3\n",
       "Entire place                              3\n",
       "Private room in hostel                    3\n",
       "Private room in casa particular           2\n",
       "Entire home/apt                           2\n",
       "Shared room in guesthouse                 2\n",
       "Island                                    1\n",
       "Private room in tipi                      1\n",
       "Private room in tiny house                1\n",
       "Private room in tent                      1\n",
       "Private room in bed and breakfast         1\n",
       "Shared room in boutique hotel             1\n",
       "Holiday park                              1\n",
       "Boat                                      1\n",
       "Farm stay                                 1\n",
       "Private room                              1\n",
       "Entire chalet                             1\n",
       "Entire cabin                              1\n",
       "Private room in cottage                   1\n",
       "Room in aparthotel                        1\n",
       "Private room in pension                   1\n",
       "Room in hostel                            1\n",
       "Entire vacation home                      1\n",
       "Name: property_type, dtype: int64"
      ]
     },
     "execution_count": 47,
     "metadata": {},
     "output_type": "execute_result"
    }
   ],
   "source": [
    "df_test['property_type'].value_counts()"
   ]
  },
  {
   "cell_type": "markdown",
   "id": "21178f28-baee-4204-b646-b53af1b3f517",
   "metadata": {},
   "source": [
    "After investigating the identified values of `property_type` of both datasets, it is evident to group values which are relevant to 'Private room', 'Shared room' and 'Entire room'. However, as it is difficult to idenify which values can be grouped together for 'Entire townhouse' or 'Entire rental unit', we need to specify lists of possible values and apply ordinal encodings."
   ]
  },
  {
   "cell_type": "code",
   "execution_count": 48,
   "id": "1e74a92f-988e-44cb-80ab-1916d4dab8cf",
   "metadata": {},
   "outputs": [],
   "source": [
    "e_townhouse = ['Entire villa', 'Entire residential home','Entire guest suite','Entire guesthouse','Entire bungalow','Tiny house','Entire place','Entire vacation home','Dome house','Earth house','Casa particular']\n",
    "e_rentalunit = ['Entire serviced apartment', 'Entire loft', 'Entire rental unit', 'Entire condominium (condo)', 'Entire cottage']"
   ]
  },
  {
   "cell_type": "code",
   "execution_count": 49,
   "id": "aa9d78c7-50f9-4b14-94a7-b1077e29fac1",
   "metadata": {},
   "outputs": [],
   "source": [
    "#apply to the training set\n",
    "for i in range(len(df_train)):\n",
    "    if 'Private room' in df_train['property_type'].loc[i]:\n",
    "        df_train['property_type'].loc[i]= 'Private room'\n",
    "    if 'Shared room' in df_train['property_type'].loc[i]:\n",
    "        df_train['property_type'].loc[i]= 'Shared room'\n",
    "    if 'Room in' in df_train['property_type'].loc[i]:\n",
    "        df_train['property_type'].loc[i]= 'Entire room'\n",
    "    if df_train['property_type'].loc[i] in e_townhouse:\n",
    "        df_train['property_type'].loc[i]= 'Entire townhouse'\n",
    "    if df_train['property_type'].loc[i] in e_rentalunit:\n",
    "        df_train['property_type'].loc[i]= 'Entire rental unit'"
   ]
  },
  {
   "cell_type": "code",
   "execution_count": 50,
   "id": "6f8cc347-2ef6-43dd-9556-cf34d52a915b",
   "metadata": {},
   "outputs": [],
   "source": [
    "#apply to the test set\n",
    "for j in range(len(df_test)):\n",
    "    if 'Private room' in df_test['property_type'].iloc[j]:\n",
    "        df_test['property_type'].iloc[j]= 'Private room'\n",
    "    if 'Shared room' in df_test['property_type'].iloc[j]:\n",
    "        df_test['property_type'].iloc[j]= 'Shared room'\n",
    "    if 'Room in' in df_test['property_type'].iloc[j]:\n",
    "        df_test['property_type'].iloc[j]= 'Entire room'\n",
    "    if df_test['property_type'].iloc[j] in e_townhouse:\n",
    "        df_test['property_type'].iloc[j]= 'Entire townhouse'\n",
    "    if df_test['property_type'].iloc[j] in e_rentalunit:\n",
    "        df_test['property_type'].iloc[j]= 'Entire rental unit'"
   ]
  },
  {
   "cell_type": "markdown",
   "id": "a06391ec-d4e1-464e-87be-29f1d90c672b",
   "metadata": {},
   "source": [
    "Now that 5 basic types of Airbnb property have been identified, the remaining values can be assigned as 'Other'."
   ]
  },
  {
   "cell_type": "code",
   "execution_count": 51,
   "id": "6dc28101-1836-4b9f-ae6e-175919a51e99",
   "metadata": {},
   "outputs": [],
   "source": [
    "for i in range(len(df_train)):\n",
    "    if df_train['property_type'].loc[i] not in ['Private room', 'Shared room','Entire room', 'Entire townhouse','Entire rental unit']:\n",
    "        df_train['property_type'].loc[i] = 'Other'"
   ]
  },
  {
   "cell_type": "code",
   "execution_count": 52,
   "id": "0aead23c-4d5a-48c6-899a-3f889d9b8fa7",
   "metadata": {},
   "outputs": [],
   "source": [
    "for i in range(len(df_test)):\n",
    "    if df_test['property_type'].iloc[i] not in ['Private room', 'Shared room','Entire room', 'Entire townhouse','Entire rental unit']:\n",
    "        df_test['property_type'].iloc[i] = 'Other'"
   ]
  },
  {
   "cell_type": "code",
   "execution_count": 53,
   "id": "30138f56-b509-47b7-a735-da3c2168f8cc",
   "metadata": {},
   "outputs": [
    {
     "data": {
      "text/plain": [
       "Entire rental unit    3371\n",
       "Entire townhouse      1892\n",
       "Private room          1391\n",
       "Entire room            255\n",
       "Shared room             50\n",
       "Other                   41\n",
       "Name: property_type, dtype: int64"
      ]
     },
     "execution_count": 53,
     "metadata": {},
     "output_type": "execute_result"
    }
   ],
   "source": [
    "df_train['property_type'].value_counts()"
   ]
  },
  {
   "cell_type": "code",
   "execution_count": 54,
   "id": "bb22da5f-aaf6-405e-868d-29eb3d5f85cd",
   "metadata": {},
   "outputs": [
    {
     "data": {
      "text/plain": [
       "Entire rental unit    1296\n",
       "Private room          1014\n",
       "Entire townhouse       584\n",
       "Shared room             64\n",
       "Entire room             30\n",
       "Other                   12\n",
       "Name: property_type, dtype: int64"
      ]
     },
     "execution_count": 54,
     "metadata": {},
     "output_type": "execute_result"
    }
   ],
   "source": [
    "df_test['property_type'].value_counts()"
   ]
  },
  {
   "cell_type": "code",
   "execution_count": 55,
   "id": "9b5e68b4-c055-4188-b1b7-742b5ef52fcf",
   "metadata": {},
   "outputs": [
    {
     "data": {
      "text/plain": [
       "property_type\n",
       "Entire rental unit    240.258974\n",
       "Entire room           229.866667\n",
       "Entire townhouse      473.339852\n",
       "Other                 482.634146\n",
       "Private room           80.474479\n",
       "Shared room            47.100000\n",
       "Name: price, dtype: float64"
      ]
     },
     "execution_count": 55,
     "metadata": {},
     "output_type": "execute_result"
    }
   ],
   "source": [
    "df_train['price'].groupby(df_train['property_type']).mean()"
   ]
  },
  {
   "cell_type": "markdown",
   "id": "c3c2630b-e769-4bb9-b056-100b6e03acb0",
   "metadata": {},
   "source": [
    "As the target variable is `price`, we divide all identified values of `property_type` into 5 main groups based on the each type's average price in the descending order. 5 main types are 'entire rental unit', 'private room', 'entire room', 'entire townhouse', 'shared room' and the remaining types as 'other' and replace them in the dataset."
   ]
  },
  {
   "cell_type": "code",
   "execution_count": 56,
   "id": "aa836599-ad12-43e2-b0d2-b0296522e309",
   "metadata": {},
   "outputs": [],
   "source": [
    "#map integer value\n",
    "property_mapping = {'Other':6, 'Entire townhouse':5, 'Entire rental unit':4, 'Entire room':3, 'Private room':2, 'Shared room':1}\n",
    "df_train['map_property_type'] = df_train['property_type'].map(property_mapping)\n",
    "df_test['map_property_type'] = df_test['property_type'].map(property_mapping)"
   ]
  },
  {
   "cell_type": "code",
   "execution_count": 57,
   "id": "67514083-abe9-4df2-804e-1781dd89d67d",
   "metadata": {},
   "outputs": [],
   "source": [
    "#drop the original column after mapping \n",
    "df_train.drop(columns=['property_type'],inplace=True)\n",
    "df_test.drop(columns=['property_type'],inplace=True)"
   ]
  },
  {
   "cell_type": "code",
   "execution_count": 58,
   "id": "e77ce14f-0261-4e19-8892-70485c652600",
   "metadata": {},
   "outputs": [
    {
     "data": {
      "text/plain": [
       "1 bath               3614\n",
       "2 baths              1065\n",
       "1 shared bath         601\n",
       "1 private bath        459\n",
       "1.5 baths             326\n",
       "3 baths               223\n",
       "2.5 baths             222\n",
       "1.5 shared baths      117\n",
       "2 shared baths        113\n",
       "3.5 baths              65\n",
       "4 baths                58\n",
       "3 shared baths         32\n",
       "2.5 shared baths       19\n",
       "0 shared baths         12\n",
       "5 baths                11\n",
       "4.5 baths              10\n",
       "0 baths                10\n",
       "3.5 shared baths        8\n",
       "Shared half-bath        8\n",
       "6 shared baths          5\n",
       "Half-bath               5\n",
       "4 shared baths          3\n",
       "4.5 shared baths        3\n",
       "7 shared baths          2\n",
       "6 baths                 2\n",
       "5.5 shared baths        2\n",
       "5.5 baths               2\n",
       "Private half-bath       1\n",
       "6.5 baths               1\n",
       "11 baths                1\n",
       "Name: bathrooms, dtype: int64"
      ]
     },
     "execution_count": 58,
     "metadata": {},
     "output_type": "execute_result"
    }
   ],
   "source": [
    "df_train['bathrooms'].value_counts()"
   ]
  },
  {
   "cell_type": "code",
   "execution_count": 59,
   "id": "b64dd2b9-930c-465a-be8a-e70f7717d9a0",
   "metadata": {},
   "outputs": [
    {
     "data": {
      "text/plain": [
       "1 bath               1403\n",
       "1 shared bath         450\n",
       "2 baths               405\n",
       "1 private bath        237\n",
       "1.5 baths             122\n",
       "3 baths               103\n",
       "2.5 baths              82\n",
       "2 shared baths         57\n",
       "1.5 shared baths       52\n",
       "3.5 baths              18\n",
       "4 baths                17\n",
       "2.5 shared baths       10\n",
       "0 baths                 7\n",
       "3 shared baths          7\n",
       "4.5 baths               6\n",
       "5 baths                 6\n",
       "0 shared baths          5\n",
       "Half-bath               3\n",
       "5.5 baths               2\n",
       "6 baths                 2\n",
       "4 shared baths          2\n",
       "3.5 shared baths        1\n",
       "19 baths                1\n",
       "Shared half-bath        1\n",
       "Private half-bath       1\n",
       "Name: bathrooms, dtype: int64"
      ]
     },
     "execution_count": 59,
     "metadata": {},
     "output_type": "execute_result"
    }
   ],
   "source": [
    "df_test['bathrooms'].value_counts()"
   ]
  },
  {
   "cell_type": "markdown",
   "id": "cbafd8f5-ef11-47af-ba45-9a66ce9a7293",
   "metadata": {},
   "source": [
    "Besides, it is identified that `bathrooms` feature includes more than 5 unique values which indicates a suitable encoding should also be applied. Based on the counting results of all bathroom types, we can classify them as 5 main groups: one full bath (1 bath), one full private full bath (1 private bath), one full shared bath (1 shared bath), many full baths (many baths), many full shared baths (many shared baths) and the remaining type as other."
   ]
  },
  {
   "cell_type": "code",
   "execution_count": 60,
   "id": "bbadf782-6b49-497b-87ff-e3f29f0aeb56",
   "metadata": {},
   "outputs": [],
   "source": [
    "#replace values \n",
    "#1 full bath\n",
    "one_bath = ['1.5 baths']\n",
    "df_train['bathrooms'] = df_train['bathrooms'].replace(one_bath,'1 bath')\n",
    "df_test['bathrooms'] = df_test['bathrooms'].replace(one_bath,'1 bath')\n",
    "#1 full shared bath\n",
    "sh_bath = ['1.5 shared baths']\n",
    "df_train['bathrooms'] = df_train['bathrooms'].replace(sh_bath,'1 shared bath')\n",
    "df_test['bathrooms'] = df_test['bathrooms'].replace(sh_bath,'1 shared bath')\n",
    "#many full baths\n",
    "many_baths = ['2 baths','3 baths','2.5 baths','3.5 baths','4 baths','6 baths','5.5 baths','6.5 baths','11 baths','19 baths']\n",
    "df_train['bathrooms'] = df_train['bathrooms'].replace(many_baths,'Many baths')\n",
    "df_test['bathrooms'] = df_test['bathrooms'].replace(many_baths,'Many baths')\n",
    "#many full shared baths\n",
    "many_sh_baths = ['2 shared baths','3 shared baths','2.5 shared baths','5 baths','4.5 baths','3.5 shared baths','6 shared baths','4 shared baths','4.5 shared baths','7 shared baths','5.5 shared baths']\n",
    "df_train['bathrooms'] = df_train['bathrooms'].replace(many_sh_baths,'Many shared baths')\n",
    "df_test['bathrooms'] = df_test['bathrooms'].replace(many_sh_baths,'Many shared baths')\n",
    "#the remaining types\n",
    "other = ['0 shared baths','0 baths','Shared half-bath','Half-bath','Private half-bath']\n",
    "df_train['bathrooms'] = df_train['bathrooms'].replace(other,'Other')\n",
    "df_test['bathrooms'] = df_test['bathrooms'].replace(other,'Other')"
   ]
  },
  {
   "cell_type": "code",
   "execution_count": 61,
   "id": "a37da9e2-8599-459c-a538-20f8c4bc27f0",
   "metadata": {},
   "outputs": [
    {
     "data": {
      "text/plain": [
       "1 bath               3940\n",
       "Many baths           1639\n",
       "1 shared bath         718\n",
       "1 private bath        459\n",
       "Many shared baths     208\n",
       "Other                  36\n",
       "Name: bathrooms, dtype: int64"
      ]
     },
     "execution_count": 61,
     "metadata": {},
     "output_type": "execute_result"
    }
   ],
   "source": [
    "df_train['bathrooms'].value_counts()"
   ]
  },
  {
   "cell_type": "code",
   "execution_count": 62,
   "id": "66296431-3dde-4a46-a606-d12895218492",
   "metadata": {},
   "outputs": [
    {
     "data": {
      "text/plain": [
       "1 bath               1525\n",
       "Many baths            630\n",
       "1 shared bath         502\n",
       "1 private bath        237\n",
       "Many shared baths      89\n",
       "Other                  17\n",
       "Name: bathrooms, dtype: int64"
      ]
     },
     "execution_count": 62,
     "metadata": {},
     "output_type": "execute_result"
    }
   ],
   "source": [
    "df_test['bathrooms'].value_counts()"
   ]
  },
  {
   "cell_type": "code",
   "execution_count": 63,
   "id": "98636ddf-f942-4732-b954-11c4063be58e",
   "metadata": {},
   "outputs": [],
   "source": [
    "#map integer value\n",
    "bathrooms_mapping = {'Other':1, 'Many shared baths':2, 'Many baths':3, '1 shared bath':4, '1 private bath':5, '1 bath':6}\n",
    "df_train['map_bathrooms'] = df_train['bathrooms'].map(bathrooms_mapping)\n",
    "df_test['map_bathrooms'] = df_test['bathrooms'].map(bathrooms_mapping)"
   ]
  },
  {
   "cell_type": "code",
   "execution_count": 64,
   "id": "98152c00-3cd1-4550-89d8-f559c28c69c9",
   "metadata": {},
   "outputs": [],
   "source": [
    "#drop the original column after mapping \n",
    "df_train.drop(columns=['bathrooms'],inplace=True)\n",
    "df_test.drop(columns=['bathrooms'],inplace=True)"
   ]
  },
  {
   "cell_type": "markdown",
   "id": "2d695347",
   "metadata": {},
   "source": [
    "**Task 2, Question 5**: Perform any other actions you think need to be done on the data before constructing predictive models, and clearly explain what you have done.   \n",
    "(1 marks)"
   ]
  },
  {
   "cell_type": "code",
   "execution_count": 65,
   "id": "3499cff2-07f2-4656-b6c2-4720611cc4c1",
   "metadata": {},
   "outputs": [
    {
     "data": {
      "text/plain": [
       "Entire home/apt    5337\n",
       "Private room       1511\n",
       "Hotel room          103\n",
       "Shared room          49\n",
       "Name: room_type, dtype: int64"
      ]
     },
     "execution_count": 65,
     "metadata": {},
     "output_type": "execute_result"
    }
   ],
   "source": [
    "df_train['room_type'].value_counts()"
   ]
  },
  {
   "cell_type": "code",
   "execution_count": 66,
   "id": "927e6e66-9bee-42bb-bb94-5b2f069aa627",
   "metadata": {},
   "outputs": [
    {
     "data": {
      "text/plain": [
       "within an hour        4552\n",
       "within a few hours    1271\n",
       "within a day           860\n",
       "a few days or more     317\n",
       "Name: host_response_time, dtype: int64"
      ]
     },
     "execution_count": 66,
     "metadata": {},
     "output_type": "execute_result"
    }
   ],
   "source": [
    "df_train['host_response_time'].value_counts()"
   ]
  },
  {
   "cell_type": "markdown",
   "id": "bcc020f7-b0a0-4e1c-8cb0-49b7a22aa524",
   "metadata": {},
   "source": [
    "Even though `room_type` and `host_response_time` only has 4 unique values, this feature should also be in an appropriate ordering of the labels by applying the same mapping integer values process."
   ]
  },
  {
   "cell_type": "code",
   "execution_count": 67,
   "id": "43e873cf-9138-481a-a2e5-571b2636989c",
   "metadata": {},
   "outputs": [],
   "source": [
    "#map integer value\n",
    "room_mapping = {'Shared room':1, 'Hotel room':2, 'Private room':3, 'Entire home/apt':4}\n",
    "df_train['room_maptype'] = df_train['room_type'].map(room_mapping)\n",
    "df_test['room_maptype'] = df_test['room_type'].map(room_mapping)"
   ]
  },
  {
   "cell_type": "code",
   "execution_count": 68,
   "id": "6b97f3ba-0ed9-4aaf-9933-e02de765268e",
   "metadata": {},
   "outputs": [],
   "source": [
    "response_time_mapping = {'a few days or more':1, 'within a day':2, 'within a few hours':3, 'within an hour':4}\n",
    "df_train['response_time'] = df_train['host_response_time'].map(response_time_mapping)\n",
    "df_test['response_time'] = df_test['host_response_time'].map(response_time_mapping)"
   ]
  },
  {
   "cell_type": "code",
   "execution_count": 69,
   "id": "af32d6d8",
   "metadata": {},
   "outputs": [],
   "source": [
    "#drop the original column after mapping \n",
    "df_train.drop(columns=['room_type'],inplace=True)\n",
    "df_test.drop(columns=['room_type'],inplace=True)"
   ]
  },
  {
   "cell_type": "code",
   "execution_count": 70,
   "id": "dbd9ab99-77f2-4575-9e37-84dd09e4d257",
   "metadata": {},
   "outputs": [],
   "source": [
    "#drop the original column after mapping \n",
    "df_train.drop(columns=['host_response_time'],inplace=True)\n",
    "df_test.drop(columns=['host_response_time'],inplace=True)"
   ]
  },
  {
   "cell_type": "markdown",
   "id": "b0a4c231-9720-4ec9-aa4c-f918a79defbb",
   "metadata": {},
   "source": [
    "Moreover, by assessing the values of the remaining categorical features which are `has_availability`, `host_is_superhost`, `host_has_profile_pic`, `host_identity_verified` and `instant_bookable`, we recognize that they only have 2 values of 't' and 'f'. Therefore, we can encode these 2 values to 1 and 0 respectively."
   ]
  },
  {
   "cell_type": "code",
   "execution_count": 71,
   "id": "df58f2b0-48c5-47ab-a76f-614be7cbea40",
   "metadata": {},
   "outputs": [
    {
     "data": {
      "text/plain": [
       "t    6986\n",
       "f      14\n",
       "Name: has_availability, dtype: int64"
      ]
     },
     "execution_count": 71,
     "metadata": {},
     "output_type": "execute_result"
    }
   ],
   "source": [
    "df_train['has_availability'].value_counts()"
   ]
  },
  {
   "cell_type": "code",
   "execution_count": 72,
   "id": "95cef8a2-a4ba-48ed-9a2a-999bed27f469",
   "metadata": {},
   "outputs": [
    {
     "data": {
      "text/plain": [
       "f    4901\n",
       "t    2099\n",
       "Name: host_is_superhost, dtype: int64"
      ]
     },
     "execution_count": 72,
     "metadata": {},
     "output_type": "execute_result"
    }
   ],
   "source": [
    "df_train['host_is_superhost'].value_counts()"
   ]
  },
  {
   "cell_type": "code",
   "execution_count": 73,
   "id": "c5f4dcb5-c628-4f1d-bae4-a557ba969ae1",
   "metadata": {},
   "outputs": [
    {
     "data": {
      "text/plain": [
       "t    6981\n",
       "f      19\n",
       "Name: host_has_profile_pic, dtype: int64"
      ]
     },
     "execution_count": 73,
     "metadata": {},
     "output_type": "execute_result"
    }
   ],
   "source": [
    "df_train['host_has_profile_pic'].value_counts()"
   ]
  },
  {
   "cell_type": "code",
   "execution_count": 74,
   "id": "3dac0f79-2f78-4dec-833e-808c922187c7",
   "metadata": {},
   "outputs": [
    {
     "data": {
      "text/plain": [
       "t    6320\n",
       "f     680\n",
       "Name: host_identity_verified, dtype: int64"
      ]
     },
     "execution_count": 74,
     "metadata": {},
     "output_type": "execute_result"
    }
   ],
   "source": [
    "df_train['host_identity_verified'].value_counts()"
   ]
  },
  {
   "cell_type": "code",
   "execution_count": 75,
   "id": "33fd2683-c2cf-4c65-b1ca-07b8cd08b153",
   "metadata": {},
   "outputs": [
    {
     "data": {
      "text/plain": [
       "f    4575\n",
       "t    2425\n",
       "Name: instant_bookable, dtype: int64"
      ]
     },
     "execution_count": 75,
     "metadata": {},
     "output_type": "execute_result"
    }
   ],
   "source": [
    "df_train['instant_bookable'].value_counts()"
   ]
  },
  {
   "cell_type": "code",
   "execution_count": 76,
   "id": "c074c127-7f26-4152-bc1b-e0658ef36d5a",
   "metadata": {},
   "outputs": [],
   "source": [
    "#encode values\n",
    "df_train['has_availability'].replace({'t': 1, 'f': 0}, inplace=True)\n",
    "df_train['host_is_superhost'].replace({'t': 1, 'f': 0}, inplace=True)\n",
    "df_train['host_has_profile_pic'].replace({'t': 1, 'f': 0}, inplace=True)\n",
    "df_train['host_identity_verified'].replace({'t': 1, 'f': 0}, inplace=True)\n",
    "df_train['instant_bookable'].replace({'t': 1, 'f': 0}, inplace=True)"
   ]
  },
  {
   "cell_type": "code",
   "execution_count": 77,
   "id": "819d99fd-e132-454a-9237-9ed87bf9f089",
   "metadata": {},
   "outputs": [],
   "source": [
    "#encode values\n",
    "df_test['has_availability'].replace({'t': 1, 'f': 0}, inplace=True)\n",
    "df_test['host_is_superhost'].replace({'t': 1, 'f': 0}, inplace=True)\n",
    "df_test['host_has_profile_pic'].replace({'t': 1, 'f': 0}, inplace=True)\n",
    "df_test['host_identity_verified'].replace({'t': 1, 'f': 0}, inplace=True)\n",
    "df_test['instant_bookable'].replace({'t': 1, 'f': 0}, inplace=True)"
   ]
  },
  {
   "cell_type": "markdown",
   "id": "fa16475c",
   "metadata": {},
   "source": [
    "**Task 2, Question 6**: Perform exploratory data analysis to measure the relationship between the features and the target and write up your findings. \n",
    "(2 marks)"
   ]
  },
  {
   "cell_type": "markdown",
   "id": "879c22e5-d731-483b-aed4-bea2f0954cf5",
   "metadata": {},
   "source": [
    "To explore and measure the relationship between current features and `price` as the target variable, we can construct correlation matrix to establish them:"
   ]
  },
  {
   "cell_type": "code",
   "execution_count": 79,
   "id": "8927feec-90cc-4518-ac84-7e5a47e469de",
   "metadata": {},
   "outputs": [
    {
     "data": {
      "text/html": [
       "<div>\n",
       "<style scoped>\n",
       "    .dataframe tbody tr th:only-of-type {\n",
       "        vertical-align: middle;\n",
       "    }\n",
       "\n",
       "    .dataframe tbody tr th {\n",
       "        vertical-align: top;\n",
       "    }\n",
       "\n",
       "    .dataframe thead th {\n",
       "        text-align: right;\n",
       "    }\n",
       "</style>\n",
       "<table border=\"1\" class=\"dataframe\">\n",
       "  <thead>\n",
       "    <tr style=\"text-align: right;\">\n",
       "      <th></th>\n",
       "      <th>Target</th>\n",
       "      <th>Features</th>\n",
       "      <th>Correlation</th>\n",
       "    </tr>\n",
       "  </thead>\n",
       "  <tbody>\n",
       "    <tr>\n",
       "      <th>143</th>\n",
       "      <td>price</td>\n",
       "      <td>accommodates</td>\n",
       "      <td>0.597608</td>\n",
       "    </tr>\n",
       "    <tr>\n",
       "      <th>163</th>\n",
       "      <td>price</td>\n",
       "      <td>map_property_type</td>\n",
       "      <td>0.381652</td>\n",
       "    </tr>\n",
       "    <tr>\n",
       "      <th>185</th>\n",
       "      <td>price</td>\n",
       "      <td>room_maptype</td>\n",
       "      <td>0.263343</td>\n",
       "    </tr>\n",
       "    <tr>\n",
       "      <th>188</th>\n",
       "      <td>price</td>\n",
       "      <td>latitude</td>\n",
       "      <td>0.262959</td>\n",
       "    </tr>\n",
       "    <tr>\n",
       "      <th>189</th>\n",
       "      <td>price</td>\n",
       "      <td>longitude</td>\n",
       "      <td>0.262011</td>\n",
       "    </tr>\n",
       "    <tr>\n",
       "      <th>292</th>\n",
       "      <td>price</td>\n",
       "      <td>calculated_host_listings_count_entire_homes</td>\n",
       "      <td>0.134978</td>\n",
       "    </tr>\n",
       "    <tr>\n",
       "      <th>395</th>\n",
       "      <td>price</td>\n",
       "      <td>review_scores_rating</td>\n",
       "      <td>0.096719</td>\n",
       "    </tr>\n",
       "    <tr>\n",
       "      <th>399</th>\n",
       "      <td>price</td>\n",
       "      <td>host_listings_count</td>\n",
       "      <td>0.095468</td>\n",
       "    </tr>\n",
       "    <tr>\n",
       "      <th>438</th>\n",
       "      <td>price</td>\n",
       "      <td>reviews</td>\n",
       "      <td>0.084221</td>\n",
       "    </tr>\n",
       "    <tr>\n",
       "      <th>448</th>\n",
       "      <td>price</td>\n",
       "      <td>reviews_per_month</td>\n",
       "      <td>0.080419</td>\n",
       "    </tr>\n",
       "    <tr>\n",
       "      <th>466</th>\n",
       "      <td>price</td>\n",
       "      <td>review_scores_cleanliness</td>\n",
       "      <td>0.077085</td>\n",
       "    </tr>\n",
       "    <tr>\n",
       "      <th>469</th>\n",
       "      <td>price</td>\n",
       "      <td>review_scores_location</td>\n",
       "      <td>0.076400</td>\n",
       "    </tr>\n",
       "    <tr>\n",
       "      <th>471</th>\n",
       "      <td>price</td>\n",
       "      <td>review_scores_accuracy</td>\n",
       "      <td>0.076139</td>\n",
       "    </tr>\n",
       "    <tr>\n",
       "      <th>474</th>\n",
       "      <td>price</td>\n",
       "      <td>review_scores_communication</td>\n",
       "      <td>0.076071</td>\n",
       "    </tr>\n",
       "    <tr>\n",
       "      <th>475</th>\n",
       "      <td>price</td>\n",
       "      <td>review_scores_checkin</td>\n",
       "      <td>0.075147</td>\n",
       "    </tr>\n",
       "    <tr>\n",
       "      <th>478</th>\n",
       "      <td>price</td>\n",
       "      <td>review_scores_value</td>\n",
       "      <td>0.075103</td>\n",
       "    </tr>\n",
       "    <tr>\n",
       "      <th>488</th>\n",
       "      <td>price</td>\n",
       "      <td>calculated_host_listings_count</td>\n",
       "      <td>0.073491</td>\n",
       "    </tr>\n",
       "    <tr>\n",
       "      <th>498</th>\n",
       "      <td>price</td>\n",
       "      <td>availability_365</td>\n",
       "      <td>0.072144</td>\n",
       "    </tr>\n",
       "    <tr>\n",
       "      <th>557</th>\n",
       "      <td>price</td>\n",
       "      <td>jumio</td>\n",
       "      <td>0.061271</td>\n",
       "    </tr>\n",
       "    <tr>\n",
       "      <th>596</th>\n",
       "      <td>price</td>\n",
       "      <td>host_identity_verified</td>\n",
       "      <td>0.056668</td>\n",
       "    </tr>\n",
       "    <tr>\n",
       "      <th>756</th>\n",
       "      <td>price</td>\n",
       "      <td>email</td>\n",
       "      <td>0.039245</td>\n",
       "    </tr>\n",
       "    <tr>\n",
       "      <th>1012</th>\n",
       "      <td>price</td>\n",
       "      <td>beds</td>\n",
       "      <td>0.020514</td>\n",
       "    </tr>\n",
       "    <tr>\n",
       "      <th>1228</th>\n",
       "      <td>price</td>\n",
       "      <td>Smoke alarm</td>\n",
       "      <td>0.010332</td>\n",
       "    </tr>\n",
       "    <tr>\n",
       "      <th>1286</th>\n",
       "      <td>price</td>\n",
       "      <td>has_availability</td>\n",
       "      <td>0.008724</td>\n",
       "    </tr>\n",
       "    <tr>\n",
       "      <th>1351</th>\n",
       "      <td>price</td>\n",
       "      <td>phone</td>\n",
       "      <td>0.005411</td>\n",
       "    </tr>\n",
       "    <tr>\n",
       "      <th>1463</th>\n",
       "      <td>price</td>\n",
       "      <td>maximum_nights_avg_ntm</td>\n",
       "      <td>-0.000759</td>\n",
       "    </tr>\n",
       "    <tr>\n",
       "      <th>1486</th>\n",
       "      <td>price</td>\n",
       "      <td>maximum_maximum_nights</td>\n",
       "      <td>-0.001471</td>\n",
       "    </tr>\n",
       "    <tr>\n",
       "      <th>1530</th>\n",
       "      <td>price</td>\n",
       "      <td>Wifi</td>\n",
       "      <td>-0.004020</td>\n",
       "    </tr>\n",
       "    <tr>\n",
       "      <th>1755</th>\n",
       "      <td>price</td>\n",
       "      <td>host_has_profile_pic</td>\n",
       "      <td>-0.015908</td>\n",
       "    </tr>\n",
       "    <tr>\n",
       "      <th>1879</th>\n",
       "      <td>price</td>\n",
       "      <td>Essentials</td>\n",
       "      <td>-0.022663</td>\n",
       "    </tr>\n",
       "    <tr>\n",
       "      <th>1959</th>\n",
       "      <td>price</td>\n",
       "      <td>availability_60</td>\n",
       "      <td>-0.025466</td>\n",
       "    </tr>\n",
       "    <tr>\n",
       "      <th>2012</th>\n",
       "      <td>price</td>\n",
       "      <td>availability_30</td>\n",
       "      <td>-0.027378</td>\n",
       "    </tr>\n",
       "    <tr>\n",
       "      <th>2030</th>\n",
       "      <td>price</td>\n",
       "      <td>availability_90</td>\n",
       "      <td>-0.029104</td>\n",
       "    </tr>\n",
       "    <tr>\n",
       "      <th>2068</th>\n",
       "      <td>price</td>\n",
       "      <td>host_response_rate</td>\n",
       "      <td>-0.031805</td>\n",
       "    </tr>\n",
       "    <tr>\n",
       "      <th>2174</th>\n",
       "      <td>price</td>\n",
       "      <td>host_is_superhost</td>\n",
       "      <td>-0.041883</td>\n",
       "    </tr>\n",
       "    <tr>\n",
       "      <th>2205</th>\n",
       "      <td>price</td>\n",
       "      <td>calculated_host_listings_count_shared_rooms</td>\n",
       "      <td>-0.046694</td>\n",
       "    </tr>\n",
       "    <tr>\n",
       "      <th>2343</th>\n",
       "      <td>price</td>\n",
       "      <td>number_of_reviews_l30d</td>\n",
       "      <td>-0.064508</td>\n",
       "    </tr>\n",
       "    <tr>\n",
       "      <th>2377</th>\n",
       "      <td>price</td>\n",
       "      <td>maximum_nights</td>\n",
       "      <td>-0.070754</td>\n",
       "    </tr>\n",
       "    <tr>\n",
       "      <th>2424</th>\n",
       "      <td>price</td>\n",
       "      <td>maximum_minimum_nights</td>\n",
       "      <td>-0.078419</td>\n",
       "    </tr>\n",
       "    <tr>\n",
       "      <th>2441</th>\n",
       "      <td>price</td>\n",
       "      <td>Long term stays allowed</td>\n",
       "      <td>-0.080048</td>\n",
       "    </tr>\n",
       "    <tr>\n",
       "      <th>2462</th>\n",
       "      <td>price</td>\n",
       "      <td>minimum_nights</td>\n",
       "      <td>-0.082712</td>\n",
       "    </tr>\n",
       "    <tr>\n",
       "      <th>2475</th>\n",
       "      <td>price</td>\n",
       "      <td>minimum_nights_avg_ntm</td>\n",
       "      <td>-0.085047</td>\n",
       "    </tr>\n",
       "    <tr>\n",
       "      <th>2489</th>\n",
       "      <td>price</td>\n",
       "      <td>minimum_minimum_nights</td>\n",
       "      <td>-0.088852</td>\n",
       "    </tr>\n",
       "    <tr>\n",
       "      <th>2493</th>\n",
       "      <td>price</td>\n",
       "      <td>number_of_reviews_ltm</td>\n",
       "      <td>-0.089261</td>\n",
       "    </tr>\n",
       "    <tr>\n",
       "      <th>2559</th>\n",
       "      <td>price</td>\n",
       "      <td>calculated_host_listings_count_private_rooms</td>\n",
       "      <td>-0.099050</td>\n",
       "    </tr>\n",
       "    <tr>\n",
       "      <th>2581</th>\n",
       "      <td>price</td>\n",
       "      <td>bedrooms</td>\n",
       "      <td>-0.102601</td>\n",
       "    </tr>\n",
       "    <tr>\n",
       "      <th>2584</th>\n",
       "      <td>price</td>\n",
       "      <td>minimum_maximum_nights</td>\n",
       "      <td>-0.102671</td>\n",
       "    </tr>\n",
       "    <tr>\n",
       "      <th>2613</th>\n",
       "      <td>price</td>\n",
       "      <td>instant_bookable</td>\n",
       "      <td>-0.110357</td>\n",
       "    </tr>\n",
       "    <tr>\n",
       "      <th>2627</th>\n",
       "      <td>price</td>\n",
       "      <td>number_of_reviews</td>\n",
       "      <td>-0.117206</td>\n",
       "    </tr>\n",
       "    <tr>\n",
       "      <th>2651</th>\n",
       "      <td>price</td>\n",
       "      <td>response_time</td>\n",
       "      <td>-0.130608</td>\n",
       "    </tr>\n",
       "    <tr>\n",
       "      <th>2693</th>\n",
       "      <td>price</td>\n",
       "      <td>host_acceptance_rate</td>\n",
       "      <td>-0.157264</td>\n",
       "    </tr>\n",
       "    <tr>\n",
       "      <th>2797</th>\n",
       "      <td>price</td>\n",
       "      <td>map_bathrooms</td>\n",
       "      <td>-0.313761</td>\n",
       "    </tr>\n",
       "  </tbody>\n",
       "</table>\n",
       "</div>"
      ],
      "text/plain": [
       "     Target                                      Features  Correlation\n",
       "143   price                                  accommodates     0.597608\n",
       "163   price                             map_property_type     0.381652\n",
       "185   price                                  room_maptype     0.263343\n",
       "188   price                                      latitude     0.262959\n",
       "189   price                                     longitude     0.262011\n",
       "292   price   calculated_host_listings_count_entire_homes     0.134978\n",
       "395   price                          review_scores_rating     0.096719\n",
       "399   price                           host_listings_count     0.095468\n",
       "438   price                                       reviews     0.084221\n",
       "448   price                             reviews_per_month     0.080419\n",
       "466   price                     review_scores_cleanliness     0.077085\n",
       "469   price                        review_scores_location     0.076400\n",
       "471   price                        review_scores_accuracy     0.076139\n",
       "474   price                   review_scores_communication     0.076071\n",
       "475   price                         review_scores_checkin     0.075147\n",
       "478   price                           review_scores_value     0.075103\n",
       "488   price                calculated_host_listings_count     0.073491\n",
       "498   price                              availability_365     0.072144\n",
       "557   price                                         jumio     0.061271\n",
       "596   price                        host_identity_verified     0.056668\n",
       "756   price                                         email     0.039245\n",
       "1012  price                                          beds     0.020514\n",
       "1228  price                                   Smoke alarm     0.010332\n",
       "1286  price                              has_availability     0.008724\n",
       "1351  price                                         phone     0.005411\n",
       "1463  price                        maximum_nights_avg_ntm    -0.000759\n",
       "1486  price                        maximum_maximum_nights    -0.001471\n",
       "1530  price                                          Wifi    -0.004020\n",
       "1755  price                          host_has_profile_pic    -0.015908\n",
       "1879  price                                    Essentials    -0.022663\n",
       "1959  price                               availability_60    -0.025466\n",
       "2012  price                               availability_30    -0.027378\n",
       "2030  price                               availability_90    -0.029104\n",
       "2068  price                            host_response_rate    -0.031805\n",
       "2174  price                             host_is_superhost    -0.041883\n",
       "2205  price   calculated_host_listings_count_shared_rooms    -0.046694\n",
       "2343  price                        number_of_reviews_l30d    -0.064508\n",
       "2377  price                                maximum_nights    -0.070754\n",
       "2424  price                        maximum_minimum_nights    -0.078419\n",
       "2441  price                       Long term stays allowed    -0.080048\n",
       "2462  price                                minimum_nights    -0.082712\n",
       "2475  price                        minimum_nights_avg_ntm    -0.085047\n",
       "2489  price                        minimum_minimum_nights    -0.088852\n",
       "2493  price                         number_of_reviews_ltm    -0.089261\n",
       "2559  price  calculated_host_listings_count_private_rooms    -0.099050\n",
       "2581  price                                      bedrooms    -0.102601\n",
       "2584  price                        minimum_maximum_nights    -0.102671\n",
       "2613  price                              instant_bookable    -0.110357\n",
       "2627  price                             number_of_reviews    -0.117206\n",
       "2651  price                                 response_time    -0.130608\n",
       "2693  price                          host_acceptance_rate    -0.157264\n",
       "2797  price                                 map_bathrooms    -0.313761"
      ]
     },
     "execution_count": 79,
     "metadata": {},
     "output_type": "execute_result"
    }
   ],
   "source": [
    "correlations = df_train.corr().unstack().sort_values(ascending=False) #build correlation matrix\n",
    "correlations = pd.DataFrame(correlations).reset_index() #convert to dataframe\n",
    "correlations.columns = ['Target', 'Features', 'Correlation'] #label it\n",
    "correlations.query(\"Target == 'price' & Features != 'price'\") #filter by variable"
   ]
  },
  {
   "cell_type": "markdown",
   "id": "d7893e54-6013-4fe4-9363-6da2a35737ea",
   "metadata": {},
   "source": [
    "- Majority of the correlation showed a weak relationship as nearly closed to 0. \n",
    "- The 3 in the highest order are accommodates, properties and room type. Meaning that the essential organizing of these features could lead to a higher listing price as a common type of feature that creates values of living experiences. \n",
    "- On the opposite, the bottom level of Response rate, bathroom type and acceptance rate could result in a low listing price as it is directly related to the comfortable experiences of customers while making the booking and using the facilities. "
   ]
  },
  {
   "cell_type": "markdown",
   "id": "56f45050-bfae-44bb-8608-cb10a34b208b",
   "metadata": {},
   "source": [
    "**Feature Engineering**\n",
    "\n",
    "After cleaning all string-based, categorical and numerical data, we identify that various potential features will not be utilized for forecasting models and included in the subset of the training data. They can be listed as: `name`,`description`,`neighborhood_overview`,`host_name`,`host_since`,`host_location`,`host_about`, `host_neighbourhood`,`neighbourhood`,\n",
    "`neighbourhood_cleansed`,`first_review`,`last_review` and `license`."
   ]
  },
  {
   "cell_type": "markdown",
   "id": "3c9f6968-d9c2-422f-9935-eba856b3c028",
   "metadata": {},
   "source": [
    "--- \n",
    "## Task 3: Fit and tune a forecasting model/Submit predictions/Report score and ranking\n",
    "\n",
    "Make sure you **clearly explain each step** you do, both in text and on the recoded video.\n",
    "\n",
    "1. Build a machine learning (ML) regression model taking into account the outcomes of Tasks 1 & 2\n",
    "2. Fit the model and tune hyperparameters via cross-validation: make sure you comment and explain each step clearly\n",
    "3. Create predictions using the test dataset and submit your predictions on Kaggle's competition page\n",
    "4. Provide Kaggle ranking and **score** (screenshot your best submission) and comment\n",
    "5. Make sure your Python code works, so that a marker that can replicate your all of your results and obtain the same MSE from Kaggle\n",
    "\n",
    "- Hint: to perform well you will need to iterate Task 3, building and tuning various models in order to find the best one.\n",
    "\n",
    "Total Marks: 11"
   ]
  },
  {
   "cell_type": "markdown",
   "id": "e4d5d06f-d66f-4019-9ee8-c5e1111f8653",
   "metadata": {},
   "source": [
    "Assuming that the training dataset follows a linear relationship, we can try applying Multiple Regression on it to have initial investigations."
   ]
  },
  {
   "cell_type": "code",
   "execution_count": 80,
   "id": "71d8e706",
   "metadata": {},
   "outputs": [
    {
     "data": {
      "text/plain": [
       "(7000, 66)"
      ]
     },
     "execution_count": 80,
     "metadata": {},
     "output_type": "execute_result"
    }
   ],
   "source": [
    "df_train.shape"
   ]
  },
  {
   "cell_type": "code",
   "execution_count": 81,
   "id": "b932476c-a252-4886-87d6-b26c69d55c0e",
   "metadata": {},
   "outputs": [
    {
     "data": {
      "text/html": [
       "<div>\n",
       "<style scoped>\n",
       "    .dataframe tbody tr th:only-of-type {\n",
       "        vertical-align: middle;\n",
       "    }\n",
       "\n",
       "    .dataframe tbody tr th {\n",
       "        vertical-align: top;\n",
       "    }\n",
       "\n",
       "    .dataframe thead th {\n",
       "        text-align: right;\n",
       "    }\n",
       "</style>\n",
       "<table border=\"1\" class=\"dataframe\">\n",
       "  <thead>\n",
       "    <tr style=\"text-align: right;\">\n",
       "      <th></th>\n",
       "      <th>name</th>\n",
       "      <th>description</th>\n",
       "      <th>neighborhood_overview</th>\n",
       "      <th>host_name</th>\n",
       "      <th>host_since</th>\n",
       "      <th>host_location</th>\n",
       "      <th>host_about</th>\n",
       "      <th>host_response_rate</th>\n",
       "      <th>host_acceptance_rate</th>\n",
       "      <th>host_is_superhost</th>\n",
       "      <th>host_neighbourhood</th>\n",
       "      <th>host_listings_count</th>\n",
       "      <th>host_has_profile_pic</th>\n",
       "      <th>host_identity_verified</th>\n",
       "      <th>neighbourhood</th>\n",
       "      <th>neighbourhood_cleansed</th>\n",
       "      <th>latitude</th>\n",
       "      <th>longitude</th>\n",
       "      <th>accommodates</th>\n",
       "      <th>bedrooms</th>\n",
       "      <th>beds</th>\n",
       "      <th>minimum_nights</th>\n",
       "      <th>maximum_nights</th>\n",
       "      <th>minimum_minimum_nights</th>\n",
       "      <th>maximum_minimum_nights</th>\n",
       "      <th>minimum_maximum_nights</th>\n",
       "      <th>maximum_maximum_nights</th>\n",
       "      <th>minimum_nights_avg_ntm</th>\n",
       "      <th>maximum_nights_avg_ntm</th>\n",
       "      <th>has_availability</th>\n",
       "      <th>availability_30</th>\n",
       "      <th>availability_60</th>\n",
       "      <th>availability_90</th>\n",
       "      <th>availability_365</th>\n",
       "      <th>number_of_reviews</th>\n",
       "      <th>number_of_reviews_ltm</th>\n",
       "      <th>number_of_reviews_l30d</th>\n",
       "      <th>first_review</th>\n",
       "      <th>last_review</th>\n",
       "      <th>review_scores_rating</th>\n",
       "      <th>review_scores_accuracy</th>\n",
       "      <th>review_scores_cleanliness</th>\n",
       "      <th>review_scores_checkin</th>\n",
       "      <th>review_scores_communication</th>\n",
       "      <th>review_scores_location</th>\n",
       "      <th>review_scores_value</th>\n",
       "      <th>license</th>\n",
       "      <th>instant_bookable</th>\n",
       "      <th>calculated_host_listings_count</th>\n",
       "      <th>calculated_host_listings_count_entire_homes</th>\n",
       "      <th>calculated_host_listings_count_private_rooms</th>\n",
       "      <th>calculated_host_listings_count_shared_rooms</th>\n",
       "      <th>reviews_per_month</th>\n",
       "      <th>price</th>\n",
       "      <th>email</th>\n",
       "      <th>phone</th>\n",
       "      <th>reviews</th>\n",
       "      <th>jumio</th>\n",
       "      <th>Long term stays allowed</th>\n",
       "      <th>Wifi</th>\n",
       "      <th>Essentials</th>\n",
       "      <th>Smoke alarm</th>\n",
       "      <th>map_property_type</th>\n",
       "      <th>map_bathrooms</th>\n",
       "      <th>room_maptype</th>\n",
       "      <th>response_time</th>\n",
       "    </tr>\n",
       "    <tr>\n",
       "      <th>ID</th>\n",
       "      <th></th>\n",
       "      <th></th>\n",
       "      <th></th>\n",
       "      <th></th>\n",
       "      <th></th>\n",
       "      <th></th>\n",
       "      <th></th>\n",
       "      <th></th>\n",
       "      <th></th>\n",
       "      <th></th>\n",
       "      <th></th>\n",
       "      <th></th>\n",
       "      <th></th>\n",
       "      <th></th>\n",
       "      <th></th>\n",
       "      <th></th>\n",
       "      <th></th>\n",
       "      <th></th>\n",
       "      <th></th>\n",
       "      <th></th>\n",
       "      <th></th>\n",
       "      <th></th>\n",
       "      <th></th>\n",
       "      <th></th>\n",
       "      <th></th>\n",
       "      <th></th>\n",
       "      <th></th>\n",
       "      <th></th>\n",
       "      <th></th>\n",
       "      <th></th>\n",
       "      <th></th>\n",
       "      <th></th>\n",
       "      <th></th>\n",
       "      <th></th>\n",
       "      <th></th>\n",
       "      <th></th>\n",
       "      <th></th>\n",
       "      <th></th>\n",
       "      <th></th>\n",
       "      <th></th>\n",
       "      <th></th>\n",
       "      <th></th>\n",
       "      <th></th>\n",
       "      <th></th>\n",
       "      <th></th>\n",
       "      <th></th>\n",
       "      <th></th>\n",
       "      <th></th>\n",
       "      <th></th>\n",
       "      <th></th>\n",
       "      <th></th>\n",
       "      <th></th>\n",
       "      <th></th>\n",
       "      <th></th>\n",
       "      <th></th>\n",
       "      <th></th>\n",
       "      <th></th>\n",
       "      <th></th>\n",
       "      <th></th>\n",
       "      <th></th>\n",
       "      <th></th>\n",
       "      <th></th>\n",
       "      <th></th>\n",
       "      <th></th>\n",
       "      <th></th>\n",
       "      <th></th>\n",
       "    </tr>\n",
       "  </thead>\n",
       "  <tbody>\n",
       "    <tr>\n",
       "      <th>0</th>\n",
       "      <td>Manly Harbour House</td>\n",
       "      <td>Beautifully renovated, spacious and quiet, our...</td>\n",
       "      <td>Balgowlah Heights is one of the most prestigio...</td>\n",
       "      <td>Heidi</td>\n",
       "      <td>2009-11-20</td>\n",
       "      <td>Sydney, New South Wales, Australia</td>\n",
       "      <td>I am a Canadian who has made Australia her hom...</td>\n",
       "      <td>100.0</td>\n",
       "      <td>69.0</td>\n",
       "      <td>1</td>\n",
       "      <td>Balgowlah</td>\n",
       "      <td>2.0</td>\n",
       "      <td>1</td>\n",
       "      <td>1</td>\n",
       "      <td>Balgowlah, New South Wales, Australia</td>\n",
       "      <td>Manly</td>\n",
       "      <td>-33.80084</td>\n",
       "      <td>151.26378</td>\n",
       "      <td>6</td>\n",
       "      <td>3</td>\n",
       "      <td>3</td>\n",
       "      <td>2</td>\n",
       "      <td>22</td>\n",
       "      <td>2</td>\n",
       "      <td>2</td>\n",
       "      <td>22</td>\n",
       "      <td>22</td>\n",
       "      <td>2</td>\n",
       "      <td>22</td>\n",
       "      <td>1</td>\n",
       "      <td>0</td>\n",
       "      <td>14</td>\n",
       "      <td>14</td>\n",
       "      <td>174</td>\n",
       "      <td>3</td>\n",
       "      <td>1</td>\n",
       "      <td>0</td>\n",
       "      <td>2016-01-02</td>\n",
       "      <td>2021-06-01</td>\n",
       "      <td>4.67</td>\n",
       "      <td>4.33</td>\n",
       "      <td>4.33</td>\n",
       "      <td>4.67</td>\n",
       "      <td>4.33</td>\n",
       "      <td>4.67</td>\n",
       "      <td>4.33</td>\n",
       "      <td>Exempt</td>\n",
       "      <td>0</td>\n",
       "      <td>2</td>\n",
       "      <td>2</td>\n",
       "      <td>0</td>\n",
       "      <td>0</td>\n",
       "      <td>0.04</td>\n",
       "      <td>470.0</td>\n",
       "      <td>1</td>\n",
       "      <td>1</td>\n",
       "      <td>1</td>\n",
       "      <td>1</td>\n",
       "      <td>0</td>\n",
       "      <td>1</td>\n",
       "      <td>1</td>\n",
       "      <td>1</td>\n",
       "      <td>5</td>\n",
       "      <td>3</td>\n",
       "      <td>4</td>\n",
       "      <td>3</td>\n",
       "    </tr>\n",
       "  </tbody>\n",
       "</table>\n",
       "</div>"
      ],
      "text/plain": [
       "                   name                                        description  \\\n",
       "ID                                                                           \n",
       "0   Manly Harbour House  Beautifully renovated, spacious and quiet, our...   \n",
       "\n",
       "                                neighborhood_overview host_name host_since  \\\n",
       "ID                                                                           \n",
       "0   Balgowlah Heights is one of the most prestigio...     Heidi 2009-11-20   \n",
       "\n",
       "                         host_location  \\\n",
       "ID                                       \n",
       "0   Sydney, New South Wales, Australia   \n",
       "\n",
       "                                           host_about  host_response_rate  \\\n",
       "ID                                                                          \n",
       "0   I am a Canadian who has made Australia her hom...               100.0   \n",
       "\n",
       "    host_acceptance_rate  host_is_superhost host_neighbourhood  \\\n",
       "ID                                                               \n",
       "0                   69.0                  1          Balgowlah   \n",
       "\n",
       "    host_listings_count  host_has_profile_pic  host_identity_verified  \\\n",
       "ID                                                                      \n",
       "0                   2.0                     1                       1   \n",
       "\n",
       "                            neighbourhood neighbourhood_cleansed  latitude  \\\n",
       "ID                                                                           \n",
       "0   Balgowlah, New South Wales, Australia                  Manly -33.80084   \n",
       "\n",
       "    longitude  accommodates  bedrooms  beds  minimum_nights  maximum_nights  \\\n",
       "ID                                                                            \n",
       "0   151.26378             6         3     3               2              22   \n",
       "\n",
       "    minimum_minimum_nights  maximum_minimum_nights  minimum_maximum_nights  \\\n",
       "ID                                                                           \n",
       "0                        2                       2                      22   \n",
       "\n",
       "    maximum_maximum_nights  minimum_nights_avg_ntm  maximum_nights_avg_ntm  \\\n",
       "ID                                                                           \n",
       "0                       22                       2                      22   \n",
       "\n",
       "    has_availability  availability_30  availability_60  availability_90  \\\n",
       "ID                                                                        \n",
       "0                  1                0               14               14   \n",
       "\n",
       "    availability_365  number_of_reviews  number_of_reviews_ltm  \\\n",
       "ID                                                               \n",
       "0                174                  3                      1   \n",
       "\n",
       "    number_of_reviews_l30d first_review last_review  review_scores_rating  \\\n",
       "ID                                                                          \n",
       "0                        0   2016-01-02  2021-06-01                  4.67   \n",
       "\n",
       "    review_scores_accuracy  review_scores_cleanliness  review_scores_checkin  \\\n",
       "ID                                                                             \n",
       "0                     4.33                       4.33                   4.67   \n",
       "\n",
       "    review_scores_communication  review_scores_location  review_scores_value  \\\n",
       "ID                                                                             \n",
       "0                          4.33                    4.67                 4.33   \n",
       "\n",
       "   license  instant_bookable  calculated_host_listings_count  \\\n",
       "ID                                                             \n",
       "0   Exempt                 0                               2   \n",
       "\n",
       "    calculated_host_listings_count_entire_homes  \\\n",
       "ID                                                \n",
       "0                                             2   \n",
       "\n",
       "    calculated_host_listings_count_private_rooms  \\\n",
       "ID                                                 \n",
       "0                                              0   \n",
       "\n",
       "    calculated_host_listings_count_shared_rooms  reviews_per_month  price  \\\n",
       "ID                                                                          \n",
       "0                                             0               0.04  470.0   \n",
       "\n",
       "    email  phone  reviews  jumio  Long term stays allowed  Wifi  Essentials  \\\n",
       "ID                                                                            \n",
       "0       1      1        1      1                        0     1           1   \n",
       "\n",
       "    Smoke alarm  map_property_type  map_bathrooms  room_maptype  response_time  \n",
       "ID                                                                              \n",
       "0             1                  5              3             4              3  "
      ]
     },
     "execution_count": 81,
     "metadata": {},
     "output_type": "execute_result"
    }
   ],
   "source": [
    "df_train.head(1)"
   ]
  },
  {
   "cell_type": "code",
   "execution_count": 89,
   "id": "bb53af94-d769-4a1d-a4a1-433f3dc7b46d",
   "metadata": {},
   "outputs": [
    {
     "data": {
      "text/plain": [
       "((4900, 52), (2100, 52))"
      ]
     },
     "execution_count": 89,
     "metadata": {},
     "output_type": "execute_result"
    }
   ],
   "source": [
    "#Task 3 code here\n",
    "from sklearn.model_selection import train_test_split, cross_val_score\n",
    "from sklearn.linear_model import LinearRegression\n",
    "from sklearn.ensemble import RandomForestRegressor\n",
    "from sklearn.ensemble import BaggingRegressor \n",
    "from sklearn.metrics import r2_score, mean_squared_error, mean_absolute_error\n",
    "\n",
    "X = df_train.drop(['name','description','neighborhood_overview','host_name','host_since','host_location','host_about','host_neighbourhood','neighbourhood','neighbourhood_cleansed','first_review','last_review','license','price'],axis=1)\n",
    "y = df_train['price']\n",
    "\n",
    "X_train, X_test, y_train, y_test = train_test_split(X, y, test_size=0.3, random_state=0)\n",
    "X_train.shape, X_test.shape"
   ]
  },
  {
   "cell_type": "markdown",
   "id": "4e10cc99-2798-4012-8955-70f6dd75a0b9",
   "metadata": {},
   "source": [
    "Without setting a number to random state, you will get different results every time you run your program."
   ]
  },
  {
   "cell_type": "code",
   "execution_count": null,
   "id": "0d874789-b18a-43e2-af3e-5473f31b60c6",
   "metadata": {},
   "outputs": [],
   "source": []
  },
  {
   "cell_type": "code",
   "execution_count": null,
   "id": "068dc9d5-16c5-41b8-8301-2b1c6a534190",
   "metadata": {},
   "outputs": [],
   "source": []
  },
  {
   "cell_type": "markdown",
   "id": "64d55a98-90ac-45f5-b196-00088ec91282",
   "metadata": {},
   "source": [
    "**1. Multiple Linear Regression**"
   ]
  },
  {
   "cell_type": "code",
   "execution_count": 44,
   "id": "40b36a3a-c9f1-417f-b9a3-26b5a6b0e8dd",
   "metadata": {},
   "outputs": [],
   "source": [
    "# Import preprocessing module\n",
    "from sklearn import preprocessing \n",
    "from sklearn.preprocessing import StandardScaler\n",
    "# Create instance for feature standardization \n",
    "stdsc = StandardScaler()"
   ]
  },
  {
   "cell_type": "code",
   "execution_count": 45,
   "id": "7a66f298-2541-4345-8ef1-c0836d8176b6",
   "metadata": {},
   "outputs": [],
   "source": [
    "# Scale and transform the training and test sets\n",
    "X_train_std = stdsc.fit_transform(X_train)\n",
    "X_test_std = stdsc.transform(X_test)"
   ]
  },
  {
   "cell_type": "code",
   "execution_count": 91,
   "id": "ee0a0def-bb11-4030-b562-67952719c3c2",
   "metadata": {},
   "outputs": [
    {
     "data": {
      "text/plain": [
       "LinearRegression()"
      ]
     },
     "execution_count": 91,
     "metadata": {},
     "output_type": "execute_result"
    },
    {
     "name": "stdout",
     "output_type": "stream",
     "text": [
      "MSE train: 60390.318, test: 51871.101\n",
      "R^2 train: 0.497, test: 0.493\n"
     ]
    }
   ],
   "source": [
    "from sklearn.linear_model import LinearRegression\n",
    "from sklearn.metrics import r2_score\n",
    "from sklearn.metrics import mean_squared_error\n",
    "\n",
    "lr = LinearRegression()\n",
    "\n",
    "lr.fit(X_train, y_train)\n",
    "\n",
    "lr_y_train_pred = lr.predict(X_train)\n",
    "lr_y_test_pred = lr.predict(X_test)\n",
    "\n",
    "print(f'MSE train: {mean_squared_error(y_train, lr_y_train_pred):.3f}, test: {mean_squared_error(y_test, lr_y_test_pred):.3f}')\n",
    "print(f'R^2 train: {r2_score(y_train, lr_y_train_pred):.3f}, test: {r2_score(y_test, lr_y_test_pred):.3f}')"
   ]
  },
  {
   "cell_type": "markdown",
   "id": "a9e38fa0-76ad-44b5-9cbe-7f24c283b9aa",
   "metadata": {},
   "source": [
    "**2. LASSO Regression**"
   ]
  },
  {
   "cell_type": "code",
   "execution_count": 81,
   "id": "e2841635-1382-492f-ab8e-87803b4816be",
   "metadata": {},
   "outputs": [
    {
     "name": "stdout",
     "output_type": "stream",
     "text": [
      "MSE train: 60192.452, test: 52071.046\n",
      "R^2 train: 0.499, test: 0.491\n"
     ]
    },
    {
     "name": "stderr",
     "output_type": "stream",
     "text": [
      "C:\\Users\\haiho\\anaconda3\\lib\\site-packages\\sklearn\\linear_model\\_coordinate_descent.py:530: ConvergenceWarning: Objective did not converge. You might want to increase the number of iterations. Duality gap: 37334324.56415951, tolerance: 58839.56974977551\n",
      "  model = cd_fast.enet_coordinate_descent(\n"
     ]
    }
   ],
   "source": [
    "from sklearn.linear_model import Lasso\n",
    "    \n",
    "lasso = Lasso(alpha=0.1) # alpha = lambda (above)\n",
    "\n",
    "lasso.fit(X_train_std, y_train)\n",
    "\n",
    "lasso_y_train_pred = lasso.predict(X_train_std)\n",
    "lasso_y_test_pred = lasso.predict(X_test_std)\n",
    "\n",
    "print(f'MSE train: {mean_squared_error(y_train, lasso_y_train_pred):.3f}, test: {mean_squared_error(y_test, lasso_y_test_pred):.3f}')\n",
    "print(f'R^2 train: {r2_score(y_train, lasso_y_train_pred):.3f}, test: {r2_score(y_test, lasso_y_test_pred):.3f}')"
   ]
  },
  {
   "cell_type": "markdown",
   "id": "0b00e10f-5ebb-4038-a013-382a2664406b",
   "metadata": {},
   "source": [
    "Based on the MSE and R squared results of both Multiple Regression and LASSO regression, it is evident that the training dataset has a higher higher possibility of having nonlinear data. Therefore, we can start apply other nonlinear methods to identify the optimal regression model."
   ]
  },
  {
   "cell_type": "markdown",
   "id": "e2243a22-ac57-472d-915c-102a455954c1",
   "metadata": {},
   "source": [
    "**3. Random Forest Regression**"
   ]
  },
  {
   "cell_type": "code",
   "execution_count": 46,
   "id": "6acf05ef-757e-46e0-a46b-76b3f0a8186e",
   "metadata": {},
   "outputs": [
    {
     "name": "stdout",
     "output_type": "stream",
     "text": [
      "MSE train: 6583.928, test: 36361.292\n",
      "R^2 train: 0.945, test: 0.645\n"
     ]
    }
   ],
   "source": [
    "from sklearn.ensemble import RandomForestRegressor\n",
    "\n",
    "forest = RandomForestRegressor()\n",
    "\n",
    "forest.fit(X_train, y_train)\n",
    "\n",
    "forest_y_train_pred = forest.predict(X_train)\n",
    "forest_y_test_pred = forest.predict(X_test)\n",
    "\n",
    "print(f'MSE train: {mean_squared_error(y_train, forest_y_train_pred):.3f}, test: {mean_squared_error(y_test, forest_y_test_pred):.3f}')\n",
    "print(f'R^2 train: {r2_score(y_train, forest_y_train_pred):.3f}, test: {r2_score(y_test, forest_y_test_pred):.3f}')"
   ]
  },
  {
   "cell_type": "code",
   "execution_count": 74,
   "id": "a15ae910-8b9f-41bb-83c8-1f400b6634e7",
   "metadata": {},
   "outputs": [
    {
     "name": "stdout",
     "output_type": "stream",
     "text": [
      "MSE train: 5764.617, test: 34202.624\n",
      "R^2 train: 0.952, test: 0.666\n"
     ]
    }
   ],
   "source": [
    "from sklearn.ensemble import RandomForestRegressor\n",
    "\n",
    "forest = RandomForestRegressor(n_estimators=200, \n",
    "                               criterion='mse', \n",
    "                               random_state=42,\n",
    "                               max_features=22,\n",
    "                               n_jobs=-1)\n",
    "forest.fit(X_train, y_train)\n",
    "\n",
    "forest_y_train_pred = forest.predict(X_train)\n",
    "forest_y_test_pred = forest.predict(X_test)\n",
    "\n",
    "print(f'MSE train: {mean_squared_error(y_train, forest_y_train_pred):.3f}, test: {mean_squared_error(y_test, forest_y_test_pred):.3f}')\n",
    "print(f'R^2 train: {r2_score(y_train, forest_y_train_pred):.3f}, test: {r2_score(y_test, forest_y_test_pred):.3f}')"
   ]
  },
  {
   "cell_type": "markdown",
   "id": "0374ecde-452d-4515-910c-c86ff066f294",
   "metadata": {},
   "source": [
    "Tuning model:"
   ]
  },
  {
   "cell_type": "code",
   "execution_count": 92,
   "id": "834bfb42-e40e-47fc-846f-f925417d0738",
   "metadata": {},
   "outputs": [],
   "source": [
    "# Number of trees in Random Forest\n",
    "rf_n_estimators = [int(x) for x in np.linspace(200, 1000, 5)]\n",
    "rf_n_estimators.append(1500)\n",
    "rf_n_estimators.append(2000)\n",
    "\n",
    "# Maximum number of levels in tree\n",
    "rf_max_depth = [int(x) for x in np.linspace(5, 55, 11)]\n",
    "# Add the default as a possible value\n",
    "rf_max_depth.append(None)\n",
    "\n",
    "# Number of features to consider at every split\n",
    "rf_max_features = ['auto', 'sqrt', 'log2']\n",
    "\n",
    "# Criterion to split on\n",
    "rf_criterion = ['mse', 'mae']\n",
    "\n",
    "# Minimum number of samples required to split a node\n",
    "rf_min_samples_split = [int(x) for x in np.linspace(2, 10, 9)]\n",
    "\n",
    "# Minimum decrease in impurity required for split to happen\n",
    "rf_min_impurity_decrease = [0.0, 0.05, 0.1]\n",
    "\n",
    "# Method of selecting samples for training each tree\n",
    "rf_bootstrap = [True, False]\n",
    "\n",
    "# Create the grid\n",
    "rf_grid = {'n_estimators': rf_n_estimators,\n",
    "               'max_depth': rf_max_depth,\n",
    "               'max_features': rf_max_features,\n",
    "               'criterion': rf_criterion,\n",
    "               'min_samples_split': rf_min_samples_split,\n",
    "               'min_impurity_decrease': rf_min_impurity_decrease,\n",
    "               'bootstrap': rf_bootstrap}"
   ]
  },
  {
   "cell_type": "code",
   "execution_count": null,
   "id": "efc23457-6d59-44e9-b329-8211b6d79961",
   "metadata": {},
   "outputs": [],
   "source": [
    "#Importing Random Forest Classifier from the sklearn.ensemble\n",
    "from sklearn.ensemble import RandomForestRegressor\n",
    "from sklearn.model_selection import RandomizedSearchCV\n",
    "\n",
    "# Create the model to be tuned\n",
    "rf_base = RandomForestRegressor()\n",
    "\n",
    "# Create the random search Random Forest\n",
    "rf_random = RandomizedSearchCV(estimator = rf_base, param_distributions = rf_grid, \n",
    "                               n_iter = 200, cv = 3, verbose = 2, random_state = 42, \n",
    "                               n_jobs = -1)\n",
    "\n",
    "# Fit the random search model\n",
    "rf_random.fit(X_train, y_train)\n",
    "\n",
    "# View the best parameters from the random search\n",
    "rf_random.best_params_"
   ]
  },
  {
   "cell_type": "code",
   "execution_count": null,
   "id": "1140c89b-c8ee-49f3-9c58-81b5509ba4b2",
   "metadata": {},
   "outputs": [
    {
     "name": "stdout",
     "output_type": "stream",
     "text": [
      "Fitting 5 folds for each of 100 candidates, totalling 500 fits\n"
     ]
    },
    {
     "data": {
      "text/plain": [
       "RandomizedSearchCV(cv=5, estimator=RandomForestRegressor(), n_iter=100,\n",
       "                   n_jobs=-1,\n",
       "                   param_distributions={'bootstrap': [True, False],\n",
       "                                        'max_depth': [10, 20, 30, 40, 50, 60,\n",
       "                                                      70, 80, 90, 100, 110,\n",
       "                                                      120],\n",
       "                                        'max_features': ['auto', 'sqrt'],\n",
       "                                        'min_samples_leaf': [1, 3, 4],\n",
       "                                        'min_samples_split': [2, 6, 10],\n",
       "                                        'n_estimators': [5, 20, 50, 100]},\n",
       "                   random_state=35, verbose=2)"
      ]
     },
     "execution_count": 50,
     "metadata": {},
     "output_type": "execute_result"
    }
   ],
   "source": [
    "rf_random.fit(X_train, y_train)"
   ]
  },
  {
   "cell_type": "code",
   "execution_count": null,
   "id": "6394a760-f0df-43de-a8f8-9e62c7b34420",
   "metadata": {},
   "outputs": [
    {
     "name": "stdout",
     "output_type": "stream",
     "text": [
      "Random grid:  {'n_estimators': [5, 20, 50, 100], 'max_features': ['auto', 'sqrt'], 'max_depth': [10, 20, 30, 40, 50, 60, 70, 80, 90, 100, 110, 120], 'min_samples_split': [2, 6, 10], 'min_samples_leaf': [1, 3, 4], 'bootstrap': [True, False]} \n",
      "\n",
      "Best Parameters:  {'n_estimators': 50, 'min_samples_split': 2, 'min_samples_leaf': 3, 'max_features': 'sqrt', 'max_depth': 40, 'bootstrap': False}  \n",
      "\n"
     ]
    }
   ],
   "source": [
    "print ('Random grid: ', random_grid, '\\n')\n",
    "# print the best parameters\n",
    "print ('Best Parameters: ', rf_random.best_params_, ' \\n')"
   ]
  },
  {
   "cell_type": "code",
   "execution_count": 52,
   "id": "aa0fc36e-375f-435d-aa80-237dd1faac38",
   "metadata": {},
   "outputs": [
    {
     "data": {
      "text/plain": [
       "RandomForestRegressor(bootstrap=False, max_depth=40, max_features='sqrt',\n",
       "                      min_samples_leaf=3, n_estimators=50)"
      ]
     },
     "execution_count": 52,
     "metadata": {},
     "output_type": "execute_result"
    }
   ],
   "source": [
    "randmf = RandomForestRegressor(n_estimators = 50, min_samples_split = 2, min_samples_leaf= 3, max_features = 'sqrt', max_depth= 40, bootstrap=False) \n",
    "randmf.fit(X_train, y_train)"
   ]
  },
  {
   "cell_type": "code",
   "execution_count": 53,
   "id": "13f498ce-c96c-4eea-a66b-ac6e1f7be3d6",
   "metadata": {},
   "outputs": [
    {
     "data": {
      "text/plain": [
       "0.9191676019256815"
      ]
     },
     "execution_count": 53,
     "metadata": {},
     "output_type": "execute_result"
    }
   ],
   "source": [
    "randmf.score(X_train, y_train)"
   ]
  },
  {
   "cell_type": "markdown",
   "id": "c0f902d1-261b-498d-ab73-bf7f5ca43f8d",
   "metadata": {},
   "source": [
    "**4. Bagging Regressor**"
   ]
  },
  {
   "cell_type": "markdown",
   "id": "88a01a4c-2e79-4ab9-ad80-ad781ee9341c",
   "metadata": {},
   "source": [
    "Default model: "
   ]
  },
  {
   "cell_type": "code",
   "execution_count": 78,
   "id": "dc2f4bd1-7ce7-4b39-8d4c-2b62fa7968fd",
   "metadata": {},
   "outputs": [
    {
     "name": "stdout",
     "output_type": "stream",
     "text": [
      "MSE train: 8234.281, test: 43402.342\n",
      "R^2 train: 0.931, test: 0.576\n"
     ]
    }
   ],
   "source": [
    "from sklearn.ensemble import BaggingRegressor \n",
    "\n",
    "bag = BaggingRegressor()\n",
    "\n",
    "bag.fit(X_train, y_train)\n",
    "\n",
    "bag_y_train_pred = bag.predict(X_train)\n",
    "bag_y_test_pred = bag.predict(X_test)\n",
    "\n",
    "print(f'MSE train: {mean_squared_error(y_train, bag_y_train_pred):.3f}, test: {mean_squared_error(y_test, bag_y_test_pred):.3f}')\n",
    "print(f'R^2 train: {r2_score(y_train, bag_y_train_pred):.3f}, test: {r2_score(y_test, bag_y_test_pred):.3f}')"
   ]
  },
  {
   "cell_type": "code",
   "execution_count": null,
   "id": "cc2ca740-7cdc-488e-8357-a52e8289de0c",
   "metadata": {},
   "outputs": [],
   "source": []
  },
  {
   "cell_type": "code",
   "execution_count": null,
   "id": "6b7be2cc-c357-4574-98fb-2b6acbfb248e",
   "metadata": {},
   "outputs": [],
   "source": []
  },
  {
   "cell_type": "markdown",
   "id": "eaa19514-13a1-463c-85a0-a92ffd7d5e83",
   "metadata": {},
   "source": [
    "Tuning model:"
   ]
  },
  {
   "cell_type": "code",
   "execution_count": 67,
   "id": "9040f78f-5cb0-4194-b463-39138b8db63e",
   "metadata": {},
   "outputs": [
    {
     "data": {
      "text/plain": [
       "(3000, 52)"
      ]
     },
     "execution_count": 67,
     "metadata": {},
     "output_type": "execute_result"
    }
   ],
   "source": [
    "test_input = df_test.drop(['ID','name','description','neighborhood_overview','host_name','host_since','host_location','host_about','host_neighbourhood','neighbourhood','neighbourhood_cleansed','first_review','last_review','license'],axis=1)\n",
    "test_input.shape"
   ]
  },
  {
   "cell_type": "code",
   "execution_count": 49,
   "id": "47b5226e-c75d-4f0d-95b6-12b13fbdf446",
   "metadata": {},
   "outputs": [],
   "source": [
    "test_input_std = stdsc.fit_transform(test_input)"
   ]
  },
  {
   "cell_type": "code",
   "execution_count": 76,
   "id": "21288e71-96e7-43e3-b849-9649d6535536",
   "metadata": {},
   "outputs": [
    {
     "data": {
      "text/plain": [
       "array([ 52.37 , 123.6  , 164.35 , ..., 258.75 , 192.155, 255.71 ])"
      ]
     },
     "execution_count": 76,
     "metadata": {},
     "output_type": "execute_result"
    }
   ],
   "source": [
    "submission = forest.predict(test_input)\n",
    "submission"
   ]
  },
  {
   "cell_type": "code",
   "execution_count": 77,
   "id": "e4314e28-11a7-4066-a999-41e93f4d5c68",
   "metadata": {},
   "outputs": [],
   "source": [
    "df_test['price'] = submission"
   ]
  },
  {
   "cell_type": "code",
   "execution_count": 78,
   "id": "9a07fcc4-81f8-44f9-85f4-ab71721fb13e",
   "metadata": {},
   "outputs": [],
   "source": [
    "df_test[['ID','price']].to_csv('submission.csv',index=False)"
   ]
  },
  {
   "cell_type": "code",
   "execution_count": 75,
   "id": "a8f08a6a-cd98-4303-88e9-d0042807cede",
   "metadata": {},
   "outputs": [],
   "source": [
    "df_test.drop(columns='price',inplace=True)"
   ]
  },
  {
   "cell_type": "markdown",
   "id": "9a1010e5-03e6-475b-a9f8-51b19cb556d2",
   "metadata": {},
   "source": [
    "`(Task 3 - insert more cells as required)`"
   ]
  }
 ],
 "metadata": {
  "interpreter": {
   "hash": "0621fa118fe95c332595f71061851d544636243730502c2e6e5b935c640e0892"
  },
  "kernelspec": {
   "display_name": "Python 3 (ipykernel)",
   "language": "python",
   "name": "python3"
  },
  "language_info": {
   "codemirror_mode": {
    "name": "ipython",
    "version": 3
   },
   "file_extension": ".py",
   "mimetype": "text/x-python",
   "name": "python",
   "nbconvert_exporter": "python",
   "pygments_lexer": "ipython3",
   "version": "3.9.7"
  }
 },
 "nbformat": 4,
 "nbformat_minor": 5
}
