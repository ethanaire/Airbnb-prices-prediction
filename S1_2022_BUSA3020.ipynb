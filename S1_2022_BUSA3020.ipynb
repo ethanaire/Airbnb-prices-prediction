{
 "cells": [
  {
   "cell_type": "markdown",
   "id": "a6a106c2-f185-492f-87bb-79286c2eacc4",
   "metadata": {},
   "source": [
    "### __BUSA3020 Group Assignment - Predicting Airbnb Listing Prices in Sydney__"
   ]
  },
  {
   "cell_type": "markdown",
   "id": "4c316658-edf7-4797-b078-202987b4922b",
   "metadata": {},
   "source": [
    "--- \n",
    "\n",
    "**Due Date:** Friday, 3 June 2022 @ 11.59pm (Week 13)\n",
    "\n",
    "**Overview:**   \n",
    "\n",
    "- In the group assignment you will form a team of up to 3 students (minimum 2) and participate in a forecasting competition on Kaggle\n",
    "- The goal is to predict listed property prices of Airbnb stays based on various Airbnb characteristics and regression models\n",
    "\n",
    "- You will:  \n",
    "    - Write a problem statement and perform Exploratory Data Analysis  \n",
    "    - Clean up data, deal with categorical features and missing observations, and create new variables (feature engineering)  \n",
    "    - Construct and tune forecasting models, produce forecasts and submit your predictions to Kaggle  \n",
    "    - Each member of the team will record a video presentation of their work  \n",
    "    - Marks will be awarded producing a prediction in the top 3 positions of their unit as well as for reaching the highest ranking on Kaggle amongst all teams."
   ]
  },
  {
   "cell_type": "markdown",
   "id": "f2270744-5e12-447b-a861-9719409e287c",
   "metadata": {},
   "source": [
    "**Instructions:** \n",
    "\n",
    "- Form a team of 3 students (minimum 2 students)  \n",
    "- Each team member needs to join [https://www.kaggle.com](https://www.kaggle.com/)  \n",
    "- Choose a team leader and form a team in the competition [https://www.kaggle.com/t/caad5fd1f5134d86a15ab13d37d98d19](https://www.kaggle.com/t/caad5fd1f5134d86a15ab13d37d98d19)\n",
    "    - Team leader to click on `team` and join and invite other team members to join\n",
    "    - There are two MQBS BUSA units competing in this competition\n",
    "    - Your **team's name must start** with your unit code, for instance you could have a team called BUSA3020_PR3D1CT0RS\n",
    "- All team members should work on all the tasks listed below however   \n",
    "    - **Choose a team member who will be responsible for one of each of the 3 tasks listed below**    "
   ]
  },
  {
   "cell_type": "markdown",
   "id": "242ee56b-c5b9-4078-8754-e04f90797514",
   "metadata": {},
   "source": [
    "**Marks**: \n",
    "\n",
    "- Total Marks: 40\n",
    "- Your mark will consist of:  \n",
    "    - 50% x overall assignment mark + 45% x mark for the task that you are responsible for + 5% x mark received from your teammates for your effort in group work \n",
    "- 7 marks will be deducted from each Task for which there is no video presentation "
   ]
  },
  {
   "cell_type": "markdown",
   "id": "91f70e4c-b794-4555-b170-d80b628b2904",
   "metadata": {},
   "source": [
    "**Competition Marks:**\n",
    "- 5 marks: Ranking in the top 3 places of your unit on Kaggle (make sure you name your team as instructed above)\n",
    "- 2 marks: Reaching the first place in your unit  (make sure you name your team as instructed above)"
   ]
  },
  {
   "cell_type": "markdown",
   "id": "cc3180e9-c3cc-494c-ae64-d3b9701e10e8",
   "metadata": {},
   "source": [
    "\n",
    "**Submissions:**  \n",
    "\n",
    "1. On Kaggle: submit your team's forecast in order to be ranked by Kaggle\n",
    "    - Can do this as many times as necessary while building their model  \n",
    "2. On iLearn **only team leader to submit** this Jupyter notebook re-named `Group_Assignment_MQ_ID.ipynb` where MQ_ID is team leader's MQ ID number \n",
    "    - The Jupyter notebook must contain team members names/ID numbers, and team name in the competition\n",
    "    - Provide answers to the 3 Tasks below in the allocated cells including all codes/outputs/writeups \n",
    "    - One 15 minute video recording of your work \n",
    "        - Each team member to provide a 5 minute presentation of the Task that they led (it is best to jointly record your video using Zoom)\n",
    "        - When recording your video make sure your face is visible, that you share your Jupyter Notebook and explain everything you've done in the submitted Jupyter notebook on screen\n",
    "        - 7 marks will be deducted from each Task for which there is no video presentation or if you don't follow the above instructions\n",
    "        \n",
    "3. On iLearn each student needs to submit a file with their teammates' names, SID and a mark for their group effort (out of 100%)\n",
    "\n"
   ]
  },
  {
   "cell_type": "markdown",
   "id": "e5dbce8a-bf4f-4155-9336-6367fd239f6a",
   "metadata": {},
   "source": [
    "---"
   ]
  },
  {
   "cell_type": "markdown",
   "id": "cfe68a60-5e8b-4c4e-b562-3a82fa426395",
   "metadata": {},
   "source": [
    "**Fill out the following information**\n",
    "\n",
    "For each team member provide name, Student ID number and which task is performed below"
   ]
  },
  {
   "cell_type": "markdown",
   "id": "bac487d3-755a-4a69-a22f-d599dbdd7979",
   "metadata": {},
   "source": [
    "- Team Name on Kaggle: `Real Airbnb`\n",
    "- Team Leader and Team Member 1: `Hai Hoang Nguyen`\n",
    "- Team Member 2: `Dang Thanh Hung Nguyen`\n",
    "- Team Member 3: `Lan Anh Duong`"
   ]
  },
  {
   "cell_type": "markdown",
   "id": "b24de689-928d-4991-b337-760c12780e5d",
   "metadata": {},
   "source": [
    "---\n",
    "\n",
    "## Task 1: Problem Description and Initial Data Analysis\n",
    "\n",
    "1. Read the Competition Overview on Kaggle [https://www.kaggle.com/t/caad5fd1f5134d86a15ab13d37d98d19](https://www.kaggle.com/t/caad5fd1f5134d86a15ab13d37d98d19)\n",
    "2. Referring to Competition Overview and the data provided on Kaggle write about a 500 words **Problem Description** focusing on key points that will need to be addressed as first steps in Tasks 2 and 3 below, using the following headings:\n",
    "    - Forecasting Problem\n",
    "    - Evaluation Criteria\n",
    "    - Types of Variables/Features\n",
    "    - Data summary and main data characteristics\n",
    "    - Missing Values (only explain what you found at this stage)\n",
    "    \n",
    "Total Marks: 11\n"
   ]
  },
  {
   "cell_type": "markdown",
   "id": "c3e0b039-ad04-41f3-9aa2-1a19f67e2f03",
   "metadata": {},
   "source": [
    "**Forcasting Problem:**"
   ]
  },
  {
   "cell_type": "markdown",
   "id": "a730c28b-d615-4407-b576-735d8b365050",
   "metadata": {},
   "source": [
    "**Evaluation Criteria:**"
   ]
  },
  {
   "cell_type": "markdown",
   "id": "78de992b-9187-48b9-8139-939a5f71a801",
   "metadata": {},
   "source": [
    "**Types of Variables/Features:**"
   ]
  },
  {
   "cell_type": "code",
   "execution_count": 1,
   "id": "5dcfd49e-fcbb-4eaa-936b-144b574495d4",
   "metadata": {},
   "outputs": [],
   "source": [
    "#Task 1 code here, insert more cells if required\n",
    "import pandas as pd \n",
    "import numpy as np\n",
    "\n",
    "pd.set_option('display.max_columns', None)\n",
    "pd.set_option('display.max_rows', None)\n",
    "\n",
    "df_train = pd.read_csv('data/train.csv')\n",
    "df_test = pd.read_csv('data/test.csv')\n",
    "\n",
    "#df_train.info()"
   ]
  },
  {
   "cell_type": "code",
   "execution_count": 2,
   "id": "b582abd9-fb66-4cba-adc8-75fe4d9cae26",
   "metadata": {},
   "outputs": [],
   "source": [
    "#df_test.info()"
   ]
  },
  {
   "cell_type": "markdown",
   "id": "b01722c6-cdf3-4306-bad6-0977b8eb4b5b",
   "metadata": {},
   "source": [
    "**Data summary and main characteristics:**"
   ]
  },
  {
   "cell_type": "markdown",
   "id": "95b7bd3d-9c9b-4482-9771-b2bea4f8e7cf",
   "metadata": {},
   "source": [
    "**Missing values:**"
   ]
  },
  {
   "cell_type": "code",
   "execution_count": 3,
   "id": "6b6c3db5-2337-422e-a0a6-1b834614f85b",
   "metadata": {},
   "outputs": [],
   "source": [
    "#df_test.isnull().sum()"
   ]
  },
  {
   "cell_type": "markdown",
   "id": "7960bb55-92da-4528-9ee1-e06e46f00cae",
   "metadata": {},
   "source": [
    "`(Task 1, Text Here - insert more cells as required)`"
   ]
  },
  {
   "cell_type": "markdown",
   "id": "ad30df24-b18b-4f61-975f-ceebe2e2c3ab",
   "metadata": {},
   "source": [
    "---\n",
    "\n",
    "## Task 2: Data Cleaning, Missing Observations and Feature Engineering\n",
    "- In this task you will follow a set of instructions/questions listed below.\n",
    "- Make sure you **explain** each step you do both in Markdown text and on your video.\n",
    "    - Do not just read out your commands without exaplaining what they do and why you used them \n",
    "\n",
    "Total Marks: 11"
   ]
  },
  {
   "cell_type": "markdown",
   "id": "01f4ec3d-4936-4428-a204-04f133210a3d",
   "metadata": {},
   "source": [
    "**Task 2, Question 1**: Clean **all** numerical features and the target variable `price` so that they can be used in training algorithms. For instance, `host_response_rate` feature is in object format containing both numerical values and text. Extract numerical values (or equivalently eliminate the text) so that the numerical values can be used as a regular feature.  \n",
    "(2 marks)"
   ]
  },
  {
   "cell_type": "markdown",
   "id": "0c003aa0-cc94-495f-8a61-e15f4ab84c8a",
   "metadata": {},
   "source": [
    "Even though the descriptive statistics summary provided by the initial data analysis includes 34 features, we can identify 37 numerical features after having another look at the original datasets. 3 numerical variables must be in the wrong format and should be corrected for further analyis. \n",
    "\n",
    "**'host_response_rate'** and **'host_acceptance_rate'** are the two features which contain both numerical values and text on each entry, specfically number with percentage symbol (%). Since the intial data types of these two columns are string, we need to convert them to float after extracting the unwanted character. "
   ]
  },
  {
   "cell_type": "code",
   "execution_count": 2,
   "id": "08e1900c-ab93-4d37-9ac0-8dc3040ea031",
   "metadata": {},
   "outputs": [
    {
     "name": "stdout",
     "output_type": "stream",
     "text": [
      "<class 'pandas.core.series.Series'>\n",
      "<class 'pandas.core.series.Series'>\n",
      "<class 'pandas.core.series.Series'>\n",
      "<class 'pandas.core.series.Series'>\n"
     ]
    }
   ],
   "source": [
    "#examine the current data type\n",
    "print(type(df_train['host_response_rate']))\n",
    "print(type(df_train['host_acceptance_rate']))\n",
    "print(type(df_test['host_response_rate']))\n",
    "print(type(df_test['host_acceptance_rate']))"
   ]
  },
  {
   "cell_type": "code",
   "execution_count": 3,
   "id": "5785186c-da4a-4e08-8398-1a2bcf61899c",
   "metadata": {},
   "outputs": [],
   "source": [
    "#remove unwanted character \n",
    "df_train['host_response_rate'] = df_train['host_response_rate'].str.replace('%', '')\n",
    "df_train['host_acceptance_rate'] = df_train['host_acceptance_rate'].str.replace('%', '')\n",
    "df_test['host_response_rate'] = df_test['host_response_rate'].str.replace('%', '')\n",
    "df_test['host_acceptance_rate'] = df_test['host_acceptance_rate'].str.replace('%', '')"
   ]
  },
  {
   "cell_type": "code",
   "execution_count": 4,
   "id": "aa0422ae-1e4c-457b-8fd6-594272305f85",
   "metadata": {},
   "outputs": [],
   "source": [
    "#change to float type \n",
    "df_train['host_response_rate'] = df_train['host_response_rate'].astype(float)\n",
    "df_train['host_acceptance_rate'] = df_train['host_acceptance_rate'].astype(float)\n",
    "df_test['host_response_rate'] = df_test['host_response_rate'].astype(float)\n",
    "df_test['host_acceptance_rate'] = df_test['host_acceptance_rate'].astype(float)"
   ]
  },
  {
   "cell_type": "markdown",
   "id": "e7acd526-05dd-4ff7-afa9-585dc11e76bc",
   "metadata": {},
   "source": [
    "Besides, **'price'** as the target variable of the training dataset is also not denoted as a floating point attribute due to the same pattern of having an unwanted character that is the dollar sign ($). By repeating the procedure, we can convert price to the accurate data type."
   ]
  },
  {
   "cell_type": "code",
   "execution_count": 5,
   "id": "9824fd65-ad46-48a8-b00e-68d1f18d3bc3",
   "metadata": {},
   "outputs": [
    {
     "name": "stdout",
     "output_type": "stream",
     "text": [
      "<class 'pandas.core.series.Series'>\n"
     ]
    }
   ],
   "source": [
    "#examine the current data type\n",
    "print(type(df_train['price']))"
   ]
  },
  {
   "cell_type": "code",
   "execution_count": 6,
   "id": "ffd0d95a-2771-49fe-acec-a7cc55675bec",
   "metadata": {},
   "outputs": [
    {
     "data": {
      "text/plain": [
       "'$2,746.00'"
      ]
     },
     "execution_count": 6,
     "metadata": {},
     "output_type": "execute_result"
    }
   ],
   "source": [
    "max(df_train['price'], key=len)"
   ]
  },
  {
   "cell_type": "code",
   "execution_count": 7,
   "id": "06bacdef-62e4-41f6-9bd8-36e3ba29b4ea",
   "metadata": {},
   "outputs": [
    {
     "name": "stderr",
     "output_type": "stream",
     "text": [
      "C:\\Users\\haiho\\AppData\\Local\\Temp/ipykernel_41436/4044502110.py:2: FutureWarning: The default value of regex will change from True to False in a future version. In addition, single character regular expressions will *not* be treated as literal strings when regex=True.\n",
      "  df_train['price'] = df_train['price'].str.replace('$', '')\n"
     ]
    }
   ],
   "source": [
    "#remove unwanted character \n",
    "df_train['price'] = df_train['price'].str.replace('$', '')\n",
    "df_train['price'] = df_train['price'].str.replace(',', '')"
   ]
  },
  {
   "cell_type": "code",
   "execution_count": 8,
   "id": "5569775d-0fe9-464b-a55a-cf3969d73bbf",
   "metadata": {},
   "outputs": [],
   "source": [
    "#change to float type \n",
    "df_train['price'] = df_train['price'].astype(float)"
   ]
  },
  {
   "cell_type": "markdown",
   "id": "6313fef0-4043-4c03-8f3f-4691b5f61f11",
   "metadata": {},
   "source": [
    "`(Task 2, Question 1 Text Here - insert more cells as required)`"
   ]
  },
  {
   "cell_type": "markdown",
   "id": "773f1bb1",
   "metadata": {},
   "source": [
    "**Task 2, Question 2** Create at least 4 new features from existing features which contain multiple items of information, e.g. creating `email`,  `phone`, `reviews`, `jumio`, etc. from feature `host_verifications`.  \n",
    "(2 marks)"
   ]
  },
  {
   "cell_type": "code",
   "execution_count": 9,
   "id": "c0d210de",
   "metadata": {},
   "outputs": [
    {
     "data": {
      "text/plain": [
       "0    ['email', 'phone', 'reviews', 'jumio', 'offlin...\n",
       "1    ['email', 'phone', 'facebook', 'reviews', 'jum...\n",
       "2    ['email', 'phone', 'facebook', 'reviews', 'jum...\n",
       "3    ['email', 'phone', 'facebook', 'reviews', 'jum...\n",
       "4    ['email', 'phone', 'reviews', 'jumio', 'offlin...\n",
       "5    ['email', 'phone', 'reviews', 'jumio', 'offlin...\n",
       "6    ['email', 'phone', 'reviews', 'jumio', 'govern...\n",
       "7    ['email', 'phone', 'facebook', 'reviews', 'off...\n",
       "8          ['email', 'phone', 'reviews', 'work_email']\n",
       "9                        ['email', 'phone', 'reviews']\n",
       "Name: host_verifications, dtype: object"
      ]
     },
     "execution_count": 9,
     "metadata": {},
     "output_type": "execute_result"
    }
   ],
   "source": [
    "## Task 2, Question 2 Code Here\n",
    "df_train['host_verifications'].head(10)"
   ]
  },
  {
   "cell_type": "code",
   "execution_count": 10,
   "id": "cc276d5d-7877-4a8b-b8e0-bab298b69bb4",
   "metadata": {},
   "outputs": [
    {
     "name": "stdout",
     "output_type": "stream",
     "text": [
      "<class 'pandas.core.series.Series'>\n",
      "<class 'pandas.core.series.Series'>\n"
     ]
    }
   ],
   "source": [
    "print(type(df_train['host_verifications']))\n",
    "print(type(df_test['host_verifications']))"
   ]
  },
  {
   "cell_type": "code",
   "execution_count": 11,
   "id": "471141b3-ba2a-445f-b6a8-9ecee0ced371",
   "metadata": {},
   "outputs": [
    {
     "name": "stdout",
     "output_type": "stream",
     "text": [
      "Value counts of email verifications : 6495\n",
      "Value counts of phone verifications : 6995\n",
      "Value counts of reviews verifications : 4429\n",
      "Value counts of jumio verifications : 4795\n"
     ]
    }
   ],
   "source": [
    "for i in ['email', 'phone', 'reviews', 'jumio']:\n",
    "    count = 0\n",
    "    for row in df_train.itertuples(index = True, name ='Pandas'):\n",
    "        if i in getattr(row, 'host_verifications'):\n",
    "            count+=1\n",
    "    print('Value counts of',i,'verifications :',count)      "
   ]
  },
  {
   "cell_type": "markdown",
   "id": "1e9c457e",
   "metadata": {},
   "source": [
    "Now we design 4 functions to create 4 new features based on the host verifications:"
   ]
  },
  {
   "cell_type": "code",
   "execution_count": 12,
   "id": "78be1a32-ffc0-4207-b992-9e55cd3d615a",
   "metadata": {},
   "outputs": [],
   "source": [
    "#for email verifications \n",
    "def email_veri(row):\n",
    "    for i in range(len(row)):\n",
    "        if 'email' in row['host_verifications']:\n",
    "            return 1 \n",
    "        else: \n",
    "            return 0\n",
    "\n",
    "#for phone verifications \n",
    "def phone_veri(row):\n",
    "    for i in range(len(row)):\n",
    "        if 'phone' in row['host_verifications']:\n",
    "            return 1 \n",
    "        else: \n",
    "            return 0\n",
    "\n",
    "#for reviews verifications \n",
    "def reviews_veri(row):\n",
    "    for i in range(len(row)):\n",
    "        if 'reviews' in row['host_verifications']:\n",
    "            return 1 \n",
    "        else: \n",
    "            return 0 \n",
    "\n",
    "#for jumio verifications \n",
    "def jumio_veri(row):\n",
    "    for i in range(len(row)):\n",
    "        if 'jumio' in row['host_verifications']:\n",
    "            return 1 \n",
    "        else: \n",
    "            return 0"
   ]
  },
  {
   "cell_type": "code",
   "execution_count": 13,
   "id": "21d0e0c5-6188-4c2b-8dd2-0297bd5b5693",
   "metadata": {},
   "outputs": [],
   "source": [
    "#apply to the training set\n",
    "df_train['email'] = df_train.apply(email_veri, axis=1)\n",
    "df_train['phone'] = df_train.apply(phone_veri, axis=1)\n",
    "df_train['reviews'] = df_train.apply(reviews_veri, axis=1)\n",
    "df_train['jumio'] = df_train.apply(jumio_veri, axis=1)"
   ]
  },
  {
   "cell_type": "code",
   "execution_count": 14,
   "id": "fccda692-53b8-4826-ba83-0aacc5631d4b",
   "metadata": {},
   "outputs": [],
   "source": [
    "#apply to the test set\n",
    "df_test['email'] = df_test.apply(email_veri, axis=1)\n",
    "df_test['phone'] = df_test.apply(phone_veri, axis=1)\n",
    "df_test['reviews'] = df_test.apply(reviews_veri, axis=1)\n",
    "df_test['jumio'] = df_test.apply(jumio_veri, axis=1)"
   ]
  },
  {
   "cell_type": "code",
   "execution_count": 15,
   "id": "a1bcffae-3b41-40bd-80ae-31c83b659c77",
   "metadata": {},
   "outputs": [],
   "source": [
    "#drop the original column\n",
    "df_train.drop(columns='host_verifications', inplace=True)\n",
    "df_test.drop(columns='host_verifications', inplace=True)"
   ]
  },
  {
   "cell_type": "markdown",
   "id": "940c6573",
   "metadata": {},
   "source": [
    "We also identify that the **'amenities'** feature has multiple items of information which need to be separated."
   ]
  },
  {
   "cell_type": "code",
   "execution_count": 16,
   "id": "225cb74d",
   "metadata": {},
   "outputs": [
    {
     "data": {
      "text/plain": [
       "'[\"Clothing storage: wardrobe, walk-in closet, and dresser\", \"Hot water\", \"Coffee maker\", \"Free dryer \\\\u2013 In building\", \"Toaster\", \"Heating\", \"Long term stays allowed\", \"Extra pillows and blankets\", \"Dining table\", \"Private fenced garden or backyard\", \"Bikes\", \"Hair dryer\", \"Conditioner\", \"Drying rack for clothing\", \"Babysitter recommendations\", \"Laundromat nearby\", \"Fire pit\", \"Bathtub\", \"Oven\", \"Private entrance\", \"Lockbox\", \"Beach essentials\", \"Dedicated workspace: monitor, desk, table, and office chair\", \"Bread maker\", \"Ceiling fan\", \"Microwave\", \"Iron\", \"Free washer \\\\u2013 In building\", \"68\\\\\" HDTV with Amazon Prime Video, Apple TV, Netflix, standard cable\", \"Refrigerator\", \"Outdoor shower\", \"Board games\", \"Fire extinguisher\", \"Hot water kettle\", \"Piano\", \"Samsung Bar Bluetooth sound system\", \"Children\\\\u2019s dinnerware\", \"Stove\", \"Portable fans\", \"Ethernet connection\", \"Bed linens\", \"Game console\", \"Cable TV\", \"Hangers\", \"Pack \\\\u2019n play/Travel crib\", \"BBQ grill\", \"Body soap\", \"First aid kit\", \"Smoke alarm\", \"Room-darkening shades\", \"Luggage dropoff allowed\", \"Private patio or balcony\", \"Essentials\", \"Cooking basics\", \"Barbecue utensils\", \"Baking sheet\", \"Outdoor furniture\", \"Outdoor dining area\", \"Private outdoor saltwater pool\", \"Wifi\", \"Free street parking\", \"Dishwasher\", \"Freezer\", \"Nespresso machine\", \"Dishes and silverware\", \"Wine glasses\", \"Cleaning products\", \"Free parking on premises\", \"Shampoo\", \"Shower gel\", \"Children\\\\u2019s books and toys\", \"Kitchen\", \"Baby safety gates\", \"High chair\", \"Rice maker\", \"Trash compactor\", \"Mosquito net\"]'"
      ]
     },
     "execution_count": 16,
     "metadata": {},
     "output_type": "execute_result"
    }
   ],
   "source": [
    "longest_list = max(df_train['amenities'], key=len)\n",
    "longest_list"
   ]
  },
  {
   "cell_type": "code",
   "execution_count": 19,
   "id": "6a0c8871",
   "metadata": {},
   "outputs": [
    {
     "data": {
      "text/plain": [
       "[967]"
      ]
     },
     "execution_count": 19,
     "metadata": {},
     "output_type": "execute_result"
    }
   ],
   "source": [
    "df_train.index[df_train['amenities']==longest_list].tolist()"
   ]
  },
  {
   "cell_type": "code",
   "execution_count": 152,
   "id": "2815f8ed",
   "metadata": {},
   "outputs": [
    {
     "name": "stdout",
     "output_type": "stream",
     "text": [
      "Value counts of Clothing storage: wardrobe, walk-in closet, and dresser amenity : 3\n",
      "Value counts of Hot water amenity : 5506\n",
      "Value counts of Coffee maker amenity : 2713\n",
      "Value counts of Free dryer \\u2013 In building amenity : 44\n",
      "Value counts of Toaster amenity : 1229\n",
      "Value counts of Heating amenity : 5067\n",
      "Value counts of Long term stays allowed amenity : 6387\n",
      "Value counts of Extra pillows and blankets amenity : 2957\n",
      "Value counts of Dining table amenity : 1148\n",
      "Value counts of Private fenced garden or backyard amenity : 357\n",
      "Value counts of Bikes amenity : 41\n",
      "Value counts of Hair dryer amenity : 5697\n",
      "Value counts of Conditioner amenity : 997\n",
      "Value counts of Drying rack for clothing amenity : 855\n",
      "Value counts of Babysitter recommendations amenity : 271\n",
      "Value counts of Laundromat nearby amenity : 608\n",
      "Value counts of Fire pit amenity : 140\n",
      "Value counts of Bathtub amenity : 1285\n",
      "Value counts of Oven amenity : 3640\n",
      "Value counts of Private entrance amenity : 2912\n",
      "Value counts of Lockbox amenity : 2187\n",
      "Value counts of Beach essentials amenity : 570\n",
      "Value counts of Dedicated workspace: monitor, desk, table, and office chair amenity : 1\n",
      "Value counts of Bread maker amenity : 81\n",
      "Value counts of Ceiling fan amenity : 540\n",
      "Value counts of Microwave amenity : 4622\n",
      "Value counts of Iron amenity : 6002\n",
      "Value counts of Free washer \\u2013 In building amenity : 69\n",
      "Value counts of 68\\ HDTV with Amazon Prime Video, Apple TV, Netflix, standard cable amenity : 0\n",
      "Value counts of Refrigerator amenity : 4655\n",
      "Value counts of Outdoor shower amenity : 135\n",
      "Value counts of Board games amenity : 294\n",
      "Value counts of Fire extinguisher amenity : 2999\n",
      "Value counts of Hot water kettle amenity : 1373\n",
      "Value counts of Piano amenity : 66\n",
      "Value counts of Samsung Bar Bluetooth sound system amenity : 1\n",
      "Value counts of Children\\u2019s dinnerware amenity : 461\n",
      "Value counts of Stove amenity : 3844\n",
      "Value counts of Portable fans amenity : 683\n",
      "Value counts of Ethernet connection amenity : 707\n",
      "Value counts of Bed linens amenity : 4120\n",
      "Value counts of Game console amenity : 146\n",
      "Value counts of Cable TV amenity : 1128\n",
      "Value counts of Hangers amenity : 6046\n",
      "Value counts of Pack \\u2019n play/Travel crib amenity : 694\n",
      "Value counts of BBQ grill amenity : 1510\n",
      "Value counts of Body soap amenity : 1093\n",
      "Value counts of First aid kit amenity : 2656\n",
      "Value counts of Smoke alarm amenity : 6553\n",
      "Value counts of Room-darkening shades amenity : 1232\n",
      "Value counts of Luggage dropoff allowed amenity : 2000\n",
      "Value counts of Private patio or balcony amenity : 1085\n",
      "Value counts of Essentials amenity : 6542\n",
      "Value counts of Cooking basics amenity : 4575\n",
      "Value counts of Barbecue utensils amenity : 665\n",
      "Value counts of Baking sheet amenity : 565\n",
      "Value counts of Outdoor furniture amenity : 1062\n",
      "Value counts of Outdoor dining area amenity : 751\n",
      "Value counts of Private outdoor saltwater pool amenity : 5\n",
      "Value counts of Wifi amenity : 6592\n",
      "Value counts of Free street parking amenity : 3396\n",
      "Value counts of Dishwasher amenity : 2993\n",
      "Value counts of Freezer amenity : 1187\n",
      "Value counts of Nespresso machine amenity : 370\n",
      "Value counts of Dishes and silverware amenity : 4989\n",
      "Value counts of Wine glasses amenity : 1212\n",
      "Value counts of Cleaning products amenity : 1118\n",
      "Value counts of Free parking on premises amenity : 3138\n",
      "Value counts of Shampoo amenity : 5285\n",
      "Value counts of Shower gel amenity : 1755\n",
      "Value counts of Children\\u2019s books and toys amenity : 766\n",
      "Value counts of Kitchen amenity : 6312\n",
      "Value counts of Baby safety gates amenity : 196\n",
      "Value counts of High chair amenity : 868\n",
      "Value counts of Rice maker amenity : 339\n",
      "Value counts of Trash compactor amenity : 35\n",
      "Value counts of Mosquito net amenity : 84\n"
     ]
    }
   ],
   "source": [
    "for i in [\"Clothing storage: wardrobe, walk-in closet, and dresser\", \"Hot water\", \"Coffee maker\", \"Free dryer \\\\u2013 In building\", \"Toaster\", \"Heating\", \"Long term stays allowed\", \"Extra pillows and blankets\", \"Dining table\", \"Private fenced garden or backyard\", \"Bikes\", \"Hair dryer\", \"Conditioner\", \"Drying rack for clothing\", \"Babysitter recommendations\", \"Laundromat nearby\", \"Fire pit\", \"Bathtub\", \"Oven\", \"Private entrance\", \"Lockbox\", \"Beach essentials\", \"Dedicated workspace: monitor, desk, table, and office chair\", \"Bread maker\", \"Ceiling fan\", \"Microwave\", \"Iron\", \"Free washer \\\\u2013 In building\", \"68\\\\ HDTV with Amazon Prime Video, Apple TV, Netflix, standard cable\", \"Refrigerator\", \"Outdoor shower\", \"Board games\", \"Fire extinguisher\", \"Hot water kettle\", \"Piano\", \"Samsung Bar Bluetooth sound system\", \"Children\\\\u2019s dinnerware\", \"Stove\", \"Portable fans\", \"Ethernet connection\", \"Bed linens\", \"Game console\", \"Cable TV\", \"Hangers\", \"Pack \\\\u2019n play/Travel crib\", \"BBQ grill\", \"Body soap\", \"First aid kit\", \"Smoke alarm\", \"Room-darkening shades\", \"Luggage dropoff allowed\", \"Private patio or balcony\", \"Essentials\", \"Cooking basics\", \"Barbecue utensils\", \"Baking sheet\", \"Outdoor furniture\", \"Outdoor dining area\", \"Private outdoor saltwater pool\", \"Wifi\", \"Free street parking\", \"Dishwasher\", \"Freezer\", \"Nespresso machine\", \"Dishes and silverware\", \"Wine glasses\", \"Cleaning products\", \"Free parking on premises\", \"Shampoo\", \"Shower gel\", \"Children\\\\u2019s books and toys\", \"Kitchen\", \"Baby safety gates\", \"High chair\", \"Rice maker\", \"Trash compactor\", \"Mosquito net\"]:\n",
    "    count = 0\n",
    "    for row in df_train.itertuples(index = True, name ='Pandas'):\n",
    "        if i in getattr(row, 'amenities'):\n",
    "            count+=1\n",
    "    print('Value counts of',i,'amenity :',count)   "
   ]
  },
  {
   "cell_type": "markdown",
   "id": "0bf21fd8",
   "metadata": {},
   "source": [
    "In general, the top 4 amenity to be recorded are: 'Long term stays allowed', 'Wifi', 'Essentials', 'Smoke alarm'"
   ]
  },
  {
   "cell_type": "code",
   "execution_count": 17,
   "id": "0d9bac40",
   "metadata": {},
   "outputs": [],
   "source": [
    "#for Long term stays allowed amenity \n",
    "def longterm_amenity(row):\n",
    "    for i in range(len(row)):\n",
    "        if 'Long term stays allowed' in row['amenities']:\n",
    "            return 1 \n",
    "        else: \n",
    "            return 0\n",
    "\n",
    "#for Wifi amenity \n",
    "def wifi_amenity(row):\n",
    "    for i in range(len(row)):\n",
    "        if 'Wifi' in row['amenities']:\n",
    "            return 1 \n",
    "        else: \n",
    "            return 0\n",
    "\n",
    "#for Essentials amenity \n",
    "def essentials_amenity(row):\n",
    "    for i in range(len(row)):\n",
    "        if 'Essentials' in row['amenities']:\n",
    "            return 1 \n",
    "        else: \n",
    "            return 0\n",
    "\n",
    "#for Smoke alarm amenity \n",
    "def smokealarm_amenity(row):\n",
    "    for i in range(len(row)):\n",
    "        if 'Smoke alarm' in row['amenities']:\n",
    "            return 1 \n",
    "        else: \n",
    "            return 0"
   ]
  },
  {
   "cell_type": "code",
   "execution_count": 18,
   "id": "24b35697",
   "metadata": {},
   "outputs": [],
   "source": [
    "#apply to the test set\n",
    "df_train['Long term stays allowed'] = df_train.apply(longterm_amenity, axis=1)\n",
    "df_train['Wifi'] = df_train.apply(wifi_amenity, axis=1)\n",
    "df_train['Essentials'] = df_train.apply(essentials_amenity, axis=1)\n",
    "df_train['Smoke alarm'] = df_train.apply(smokealarm_amenity, axis=1)"
   ]
  },
  {
   "cell_type": "code",
   "execution_count": 19,
   "id": "8bf49f1b-1e1e-4382-96dd-bbab57352e82",
   "metadata": {},
   "outputs": [],
   "source": [
    "#apply to the test set\n",
    "df_test['Long term stays allowed'] = df_test.apply(longterm_amenity, axis=1)\n",
    "df_test['Wifi'] = df_test.apply(wifi_amenity, axis=1)\n",
    "df_test['Essentials'] = df_test.apply(essentials_amenity, axis=1)\n",
    "df_test['Smoke alarm'] = df_test.apply(smokealarm_amenity, axis=1)"
   ]
  },
  {
   "cell_type": "code",
   "execution_count": 20,
   "id": "81e960c6-504d-4bf7-8bae-21028eb7f6bf",
   "metadata": {},
   "outputs": [],
   "source": [
    "#drop the test column\n",
    "df_train.drop(columns='amenities', inplace=True)\n",
    "df_test.drop(columns='amenities', inplace=True)"
   ]
  },
  {
   "cell_type": "markdown",
   "id": "23fde9b6-bed0-4018-9edb-3553f3d1fa13",
   "metadata": {},
   "source": [
    "`(Task 2, Question 2 Text Here - insert more cells as required)`"
   ]
  },
  {
   "cell_type": "markdown",
   "id": "b0d01c4d-1412-4e51-8f80-7040f536b1c7",
   "metadata": {},
   "source": [
    "**Task 2, Question 3**: Impute missing values for all features in both training and test datasets.   \n",
    "(2 marks)"
   ]
  },
  {
   "cell_type": "markdown",
   "id": "922861a3-b780-4dae-9a4e-447ddf1a0111",
   "metadata": {},
   "source": [
    "***For training dataset:***"
   ]
  },
  {
   "cell_type": "code",
   "execution_count": 23,
   "id": "4b6b55e8-6110-44b0-80f3-fb35e0589a9f",
   "metadata": {},
   "outputs": [
    {
     "data": {
      "text/plain": [
       "(7000, 67)"
      ]
     },
     "execution_count": 23,
     "metadata": {},
     "output_type": "execute_result"
    }
   ],
   "source": [
    "df_train.shape"
   ]
  },
  {
   "cell_type": "code",
   "execution_count": 240,
   "id": "36412d68-f68f-4764-aa6f-88ba33116ef3",
   "metadata": {},
   "outputs": [
    {
     "data": {
      "text/plain": [
       "ID                                                 0\n",
       "name                                               1\n",
       "description                                       65\n",
       "neighborhood_overview                           1817\n",
       "host_name                                          0\n",
       "host_since                                         0\n",
       "host_location                                      0\n",
       "host_about                                      2458\n",
       "host_response_time                                 0\n",
       "host_response_rate                                 0\n",
       "host_acceptance_rate                               0\n",
       "host_is_superhost                                  0\n",
       "host_neighbourhood                              2912\n",
       "host_listings_count                                0\n",
       "host_has_profile_pic                               0\n",
       "host_identity_verified                             0\n",
       "neighbourhood                                   1816\n",
       "neighbourhood_cleansed                           108\n",
       "latitude                                           0\n",
       "longitude                                          0\n",
       "property_type                                      0\n",
       "room_type                                          0\n",
       "accommodates                                       0\n",
       "bathrooms                                          0\n",
       "bedrooms                                           0\n",
       "beds                                               0\n",
       "minimum_nights                                     0\n",
       "maximum_nights                                     0\n",
       "minimum_minimum_nights                             0\n",
       "maximum_minimum_nights                             0\n",
       "minimum_maximum_nights                             0\n",
       "maximum_maximum_nights                             0\n",
       "minimum_nights_avg_ntm                             0\n",
       "maximum_nights_avg_ntm                             0\n",
       "has_availability                                   0\n",
       "availability_30                                    0\n",
       "availability_60                                    0\n",
       "availability_90                                    0\n",
       "availability_365                                   0\n",
       "number_of_reviews                                  0\n",
       "number_of_reviews_ltm                              0\n",
       "number_of_reviews_l30d                             0\n",
       "first_review                                     114\n",
       "last_review                                      114\n",
       "review_scores_rating                               0\n",
       "review_scores_accuracy                             0\n",
       "review_scores_cleanliness                          0\n",
       "review_scores_checkin                              0\n",
       "review_scores_communication                        0\n",
       "review_scores_location                             0\n",
       "review_scores_value                                0\n",
       "license                                         1868\n",
       "instant_bookable                                   0\n",
       "calculated_host_listings_count                     0\n",
       "calculated_host_listings_count_entire_homes        0\n",
       "calculated_host_listings_count_private_rooms       0\n",
       "calculated_host_listings_count_shared_rooms        0\n",
       "reviews_per_month                                  0\n",
       "price                                              0\n",
       "email                                              0\n",
       "phone                                              0\n",
       "reviews                                            0\n",
       "jumio                                              0\n",
       "Long term stays allowed                            0\n",
       "Wifi                                               0\n",
       "Essentials                                         0\n",
       "Smoke alarm                                        0\n",
       "dtype: int64"
      ]
     },
     "execution_count": 240,
     "metadata": {},
     "output_type": "execute_result"
    }
   ],
   "source": [
    "## Task 2, Question 3 Code Here\n",
    "df_train.isnull().sum()"
   ]
  },
  {
   "cell_type": "markdown",
   "id": "f23549c8-a9ad-400d-99a5-11acba3838ba",
   "metadata": {},
   "source": [
    "As different variables have specific characteristics including range, type, etc; different values should be utilized to impute missing values for all columns. Generally, while we can fill all misisng text variables with **'unknown'** value, numerical variables' missing values can be imputed with their **mode** or **mean** based on their characteristics. \n",
    "\n",
    "First, we start the imputing process with text columns:"
   ]
  },
  {
   "cell_type": "code",
   "execution_count": 24,
   "id": "0ff4007c-9025-4356-b96d-273c7f33ea3d",
   "metadata": {},
   "outputs": [],
   "source": [
    "textcol = ['name', 'description', 'neighborhood_overview', 'host_about', 'neighbourhood_cleansed', 'license']"
   ]
  },
  {
   "cell_type": "code",
   "execution_count": 25,
   "id": "f26116be-d9ba-45f8-aeb1-17062ecab44b",
   "metadata": {},
   "outputs": [],
   "source": [
    "df_train[textcol] = df_train[textcol].fillna(value='unknonwn')"
   ]
  },
  {
   "cell_type": "markdown",
   "id": "7645dafc-a0d1-4d45-bac2-d2e56509e258",
   "metadata": {},
   "source": [
    "We then continue to deal with numerical features which are divided into 2 categories. Specifically, specific features can be imputed with their most frequent values (mode) while the remaining features are filled with their average values (mean) instead. "
   ]
  },
  {
   "cell_type": "code",
   "execution_count": 21,
   "id": "641c4135-7900-479b-a2fc-58238022987a",
   "metadata": {},
   "outputs": [],
   "source": [
    "modefillcol = ['host_location','host_response_time', 'property_type', 'room_type','bathrooms']"
   ]
  },
  {
   "cell_type": "code",
   "execution_count": 22,
   "id": "40806608-5a0b-4e4f-9492-7a1e5e02a6a5",
   "metadata": {},
   "outputs": [],
   "source": [
    "modes = df_train[modefillcol].mode()\n",
    "df_train[modefillcol] = df_train[modefillcol].fillna(value=modes.iloc[0])"
   ]
  },
  {
   "cell_type": "code",
   "execution_count": 23,
   "id": "7a9e2d57-aee3-4125-9cee-53bc5b5e64e7",
   "metadata": {},
   "outputs": [],
   "source": [
    "meanfillcol = ['host_response_rate','host_acceptance_rate','bedrooms','beds','minimum_minimum_nights','maximum_maximum_nights','availability_365','review_scores_rating','review_scores_accuracy','review_scores_cleanliness','review_scores_checkin','review_scores_communication','review_scores_location','review_scores_value','reviews_per_month']"
   ]
  },
  {
   "cell_type": "code",
   "execution_count": 24,
   "id": "1071e41a-9f2c-4b2b-bae7-3800a10722d8",
   "metadata": {},
   "outputs": [],
   "source": [
    "means = df_train[meanfillcol].mean()\n",
    "df_train[meanfillcol] = df_train[meanfillcol].fillna(value=means.iloc[0])"
   ]
  },
  {
   "cell_type": "markdown",
   "id": "8a958dcf-3ffc-45b6-8f1c-a16c45f200dd",
   "metadata": {},
   "source": [
    "However, by investigating thoroughout the dataset, we recognize that various numberical features should be in the form of integers instead of floatin point numbers. Therefore, they will be converted to the correct form for analysis purposes."
   ]
  },
  {
   "cell_type": "code",
   "execution_count": 25,
   "id": "a0ea1446-d15a-4296-b195-6490a8c7a7c2",
   "metadata": {},
   "outputs": [],
   "source": [
    "df_train[['bedrooms','beds','availability_365','minimum_minimum_nights','maximum_minimum_nights','minimum_maximum_nights','maximum_maximum_nights','minimum_nights_avg_ntm','maximum_nights_avg_ntm']] = df_train[['bedrooms','beds','availability_365','minimum_minimum_nights','maximum_minimum_nights','minimum_maximum_nights','maximum_maximum_nights','minimum_nights_avg_ntm','maximum_nights_avg_ntm']].astype(int)"
   ]
  },
  {
   "cell_type": "markdown",
   "id": "46c74b37-8e94-4a58-a011-556a1ed084f8",
   "metadata": {},
   "source": [
    "***For test dataset:***"
   ]
  },
  {
   "cell_type": "code",
   "execution_count": 32,
   "id": "756a829d-743d-4f38-bae2-4001cd47d329",
   "metadata": {},
   "outputs": [
    {
     "data": {
      "text/plain": [
       "(3000, 66)"
      ]
     },
     "execution_count": 32,
     "metadata": {},
     "output_type": "execute_result"
    }
   ],
   "source": [
    "df_test.shape"
   ]
  },
  {
   "cell_type": "code",
   "execution_count": 33,
   "id": "7d1a17e9-464b-45c3-ac1d-8b47f4132ee8",
   "metadata": {},
   "outputs": [
    {
     "data": {
      "text/plain": [
       "ID                                                 0\n",
       "name                                               1\n",
       "description                                       89\n",
       "neighborhood_overview                           1240\n",
       "host_name                                          0\n",
       "host_since                                         0\n",
       "host_location                                      2\n",
       "host_about                                      1432\n",
       "host_response_time                              2534\n",
       "host_response_rate                              2534\n",
       "host_acceptance_rate                            2285\n",
       "host_is_superhost                                  0\n",
       "host_neighbourhood                              1263\n",
       "host_listings_count                                0\n",
       "host_has_profile_pic                               0\n",
       "host_identity_verified                             0\n",
       "neighbourhood                                   1240\n",
       "neighbourhood_cleansed                            42\n",
       "latitude                                           0\n",
       "longitude                                          0\n",
       "property_type                                     39\n",
       "room_type                                         41\n",
       "accommodates                                       0\n",
       "bathrooms                                          4\n",
       "bedrooms                                         178\n",
       "beds                                             129\n",
       "minimum_nights                                     0\n",
       "maximum_nights                                     0\n",
       "minimum_minimum_nights                            10\n",
       "maximum_minimum_nights                             0\n",
       "minimum_maximum_nights                             0\n",
       "maximum_maximum_nights                            10\n",
       "minimum_nights_avg_ntm                             0\n",
       "maximum_nights_avg_ntm                             0\n",
       "has_availability                                   0\n",
       "availability_30                                    0\n",
       "availability_60                                    0\n",
       "availability_90                                    0\n",
       "availability_365                                  20\n",
       "number_of_reviews                                  0\n",
       "number_of_reviews_ltm                              0\n",
       "number_of_reviews_l30d                             0\n",
       "first_review                                     466\n",
       "last_review                                      466\n",
       "review_scores_rating                             466\n",
       "review_scores_accuracy                           641\n",
       "review_scores_cleanliness                        637\n",
       "review_scores_checkin                            643\n",
       "review_scores_communication                      636\n",
       "review_scores_location                           642\n",
       "review_scores_value                              643\n",
       "license                                         2393\n",
       "instant_bookable                                   0\n",
       "calculated_host_listings_count                     0\n",
       "calculated_host_listings_count_entire_homes        0\n",
       "calculated_host_listings_count_private_rooms       0\n",
       "calculated_host_listings_count_shared_rooms        0\n",
       "reviews_per_month                                466\n",
       "email                                              0\n",
       "phone                                              0\n",
       "reviews                                            0\n",
       "jumio                                              0\n",
       "Long term stays allowed                            0\n",
       "Wifi                                               0\n",
       "Essentials                                         0\n",
       "Smoke alarm                                        0\n",
       "dtype: int64"
      ]
     },
     "execution_count": 33,
     "metadata": {},
     "output_type": "execute_result"
    }
   ],
   "source": [
    "df_test.isnull().sum()"
   ]
  },
  {
   "cell_type": "markdown",
   "id": "197891d4-03ec-4723-862f-6bf9875af226",
   "metadata": {},
   "source": [
    "We repeat the same process as for the training dataset so that misisng values of the test set can be appropriately imputed."
   ]
  },
  {
   "cell_type": "markdown",
   "id": "dbb16b1d-f4f1-438e-a5af-ae9cc3c04467",
   "metadata": {},
   "source": [
    "`(Task 2, Question 3 Text Here - insert more cells as required)`"
   ]
  },
  {
   "cell_type": "code",
   "execution_count": 31,
   "id": "3ead5be0-fd81-46b4-ab24-a81fbfc45528",
   "metadata": {},
   "outputs": [],
   "source": [
    "df_test[textcol] = df_test[textcol].fillna(value='unknonwn')"
   ]
  },
  {
   "cell_type": "code",
   "execution_count": 26,
   "id": "faa8f648-633c-4520-990c-72dff4ef5995",
   "metadata": {},
   "outputs": [],
   "source": [
    "test_modes = df_test[modefillcol].mode()\n",
    "df_test[modefillcol] = df_test[modefillcol].fillna(value=test_modes.iloc[0])"
   ]
  },
  {
   "cell_type": "code",
   "execution_count": 27,
   "id": "e242098c-cf33-4329-bd32-c6650917ed0d",
   "metadata": {},
   "outputs": [],
   "source": [
    "test_means = df_test[meanfillcol].mean()\n",
    "df_test[meanfillcol] = df_test[meanfillcol].fillna(value=test_means.iloc[0])"
   ]
  },
  {
   "cell_type": "code",
   "execution_count": 28,
   "id": "db405bb8-f8fc-497e-87fa-402a2dcff023",
   "metadata": {},
   "outputs": [],
   "source": [
    "df_test[['bedrooms','beds','availability_365','minimum_minimum_nights','maximum_minimum_nights','minimum_maximum_nights','maximum_maximum_nights','minimum_nights_avg_ntm','maximum_nights_avg_ntm']] = df_test[['bedrooms','beds','availability_365','minimum_minimum_nights','maximum_minimum_nights','minimum_maximum_nights','maximum_maximum_nights','minimum_nights_avg_ntm','maximum_nights_avg_ntm']].astype(int)"
   ]
  },
  {
   "cell_type": "markdown",
   "id": "03c14ab6-aff9-4fcd-ab7b-34f0b77f8caa",
   "metadata": {},
   "source": [
    "**Task 2, Question 4**: Encode all categorical variables appropriately as discussed in class. \n",
    "\n",
    "\n",
    "Where a categorical feature contains more than 5 unique values, map the features into 5 most frequent values + 'other' and then encode appropriately. For instance, you could group then map `property_type` into 5 basic types + 'other': [entire rental unit, private room, entire room, entire towehouse, shared room, other] and then encode.  \n",
    "(2 marks)"
   ]
  },
  {
   "cell_type": "code",
   "execution_count": 35,
   "id": "f91f4448-8574-4397-a636-d83bbde885e2",
   "metadata": {},
   "outputs": [
    {
     "data": {
      "text/plain": [
       "Entire rental unit                     3066\n",
       "Entire residential home                1164\n",
       "Private room in residential home        680\n",
       "Private room in rental unit             433\n",
       "Entire guest suite                      262\n",
       "Entire guesthouse                       217\n",
       "Entire townhouse                        150\n",
       "Room in boutique hotel                  123\n",
       "Entire condominium (condo)              107\n",
       "Entire serviced apartment                89\n",
       "Private room in townhouse                84\n",
       "Entire cottage                           62\n",
       "Room in hotel                            59\n",
       "Entire loft                              47\n",
       "Private room in guest suite              39\n",
       "Room in aparthotel                       38\n",
       "Entire villa                             38\n",
       "Private room in villa                    32\n",
       "Entire bungalow                          30\n",
       "Room in serviced apartment               27\n",
       "Private room in guesthouse               27\n",
       "Private room in condominium (condo)      22\n",
       "Private room in hostel                   21\n",
       "Tiny house                               20\n",
       "Entire cabin                             18\n",
       "Shared room in rental unit               16\n",
       "Shared room in hostel                    14\n",
       "Private room in bed and breakfast        13\n",
       "Private room in loft                     11\n",
       "Private room in bungalow                  8\n",
       "Shared room in residential home           8\n",
       "Boat                                      7\n",
       "Entire place                              6\n",
       "Private room in serviced apartment        6\n",
       "Farm stay                                 6\n",
       "Room in hostel                            5\n",
       "Shared room in bed and breakfast          4\n",
       "Private room                              4\n",
       "Private room in cabin                     4\n",
       "Room in bed and breakfast                 3\n",
       "Private room in farm stay                 2\n",
       "Entire vacation home                      2\n",
       "Shared room in townhouse                  2\n",
       "Private room in chalet                    2\n",
       "Shared room in condominium (condo)        2\n",
       "Island                                    2\n",
       "Dome house                                1\n",
       "Houseboat                                 1\n",
       "Shared room in villa                      1\n",
       "Campsite                                  1\n",
       "Private room in island                    1\n",
       "Private room in tiny house                1\n",
       "Train                                     1\n",
       "Barn                                      1\n",
       "Bus                                       1\n",
       "Treehouse                                 1\n",
       "Cave                                      1\n",
       "Earth house                               1\n",
       "Shared room in earth house                1\n",
       "Private room in yurt                      1\n",
       "Shared room in guest suite                1\n",
       "Camper/RV                                 1\n",
       "Casa particular                           1\n",
       "Shared room in serviced apartment         1\n",
       "Name: property_type, dtype: int64"
      ]
     },
     "execution_count": 35,
     "metadata": {},
     "output_type": "execute_result"
    }
   ],
   "source": [
    "## Task 2, Question 4 Code Here\n",
    "df_train['property_type'].value_counts()"
   ]
  },
  {
   "cell_type": "code",
   "execution_count": 169,
   "id": "bad9ed71",
   "metadata": {},
   "outputs": [
    {
     "data": {
      "text/plain": [
       "Entire rental unit                     1222\n",
       "Private room in rental unit             519\n",
       "Entire residential home                 431\n",
       "Private room in residential home        359\n",
       "Private room in townhouse                62\n",
       "Entire townhouse                         54\n",
       "Entire guest suite                       43\n",
       "Entire condominium (condo)               43\n",
       "Shared room in rental unit               31\n",
       "Entire guesthouse                        28\n",
       "Private room in condominium (condo)      26\n",
       "Shared room in residential home          17\n",
       "Room in boutique hotel                   15\n",
       "Entire villa                             15\n",
       "Entire serviced apartment                14\n",
       "Private room in villa                    11\n",
       "Room in hotel                            10\n",
       "Entire loft                               9\n",
       "Shared room in hostel                     8\n",
       "Private room in guest suite               8\n",
       "Entire cottage                            8\n",
       "Private room in bungalow                  6\n",
       "Entire bungalow                           6\n",
       "Shared room in condominium (condo)        5\n",
       "Private room in guesthouse                4\n",
       "Camper/RV                                 4\n",
       "Private room in loft                      4\n",
       "Room in serviced apartment                3\n",
       "Private room in serviced apartment        3\n",
       "Tiny house                                3\n",
       "Entire place                              3\n",
       "Private room in hostel                    3\n",
       "Private room in casa particular           2\n",
       "Entire home/apt                           2\n",
       "Shared room in guesthouse                 2\n",
       "Island                                    1\n",
       "Private room in tipi                      1\n",
       "Private room in tiny house                1\n",
       "Private room in tent                      1\n",
       "Private room in bed and breakfast         1\n",
       "Shared room in boutique hotel             1\n",
       "Holiday park                              1\n",
       "Boat                                      1\n",
       "Farm stay                                 1\n",
       "Private room                              1\n",
       "Entire chalet                             1\n",
       "Entire cabin                              1\n",
       "Private room in cottage                   1\n",
       "Room in aparthotel                        1\n",
       "Private room in pension                   1\n",
       "Room in hostel                            1\n",
       "Entire vacation home                      1\n",
       "Name: property_type, dtype: int64"
      ]
     },
     "execution_count": 169,
     "metadata": {},
     "output_type": "execute_result"
    }
   ],
   "source": [
    "df_test['property_type'].value_counts()"
   ]
  },
  {
   "cell_type": "markdown",
   "id": "21178f28-baee-4204-b646-b53af1b3f517",
   "metadata": {},
   "source": [
    "Investigating the identified values of 'property_type' of both datasets, it is evident to group values which are relevant to 'Private room', 'Shared room' and 'Entire room'. However, as it is difficult to idenify which values can be grouped together for 'Entire townhouse' or 'Entire rental unit', we need to specify lists of possible values and apply ordinal encodings."
   ]
  },
  {
   "cell_type": "code",
   "execution_count": 29,
   "id": "1e74a92f-988e-44cb-80ab-1916d4dab8cf",
   "metadata": {},
   "outputs": [],
   "source": [
    "e_townhouse = ['Entire villa', 'Entire residential home','Entire guest suite','Entire guesthouse','Entire bungalow','Tiny house','Entire place','Entire vacation home','Dome house','Earth house','Casa particular']\n",
    "e_rentalunit = ['Entire serviced apartment', 'Entire loft', 'Entire rental unit', 'Entire condominium (condo)', 'Entire cottage']"
   ]
  },
  {
   "cell_type": "code",
   "execution_count": 30,
   "id": "aa9d78c7-50f9-4b14-94a7-b1077e29fac1",
   "metadata": {},
   "outputs": [
    {
     "name": "stderr",
     "output_type": "stream",
     "text": [
      "C:\\Users\\haiho\\anaconda3\\lib\\site-packages\\pandas\\core\\indexing.py:1732: SettingWithCopyWarning: \n",
      "A value is trying to be set on a copy of a slice from a DataFrame\n",
      "\n",
      "See the caveats in the documentation: https://pandas.pydata.org/pandas-docs/stable/user_guide/indexing.html#returning-a-view-versus-a-copy\n",
      "  self._setitem_single_block(indexer, value, name)\n"
     ]
    }
   ],
   "source": [
    "#apply to the training set\n",
    "for i in range(len(df_train)):\n",
    "    if 'Private room' in df_train['property_type'].loc[i]:\n",
    "        df_train['property_type'].loc[i]= 'Private room'\n",
    "    if 'Shared room' in df_train['property_type'].loc[i]:\n",
    "        df_train['property_type'].loc[i]= 'Shared room'\n",
    "    if 'Room in' in df_train['property_type'].loc[i]:\n",
    "        df_train['property_type'].loc[i]= 'Entire room'\n",
    "    if df_train['property_type'].loc[i] in e_townhouse:\n",
    "        df_train['property_type'].loc[i]= 'Entire townhouse'\n",
    "    if df_train['property_type'].loc[i] in e_rentalunit:\n",
    "        df_train['property_type'].loc[i]= 'Entire rental unit'"
   ]
  },
  {
   "cell_type": "code",
   "execution_count": 31,
   "id": "6f8cc347-2ef6-43dd-9556-cf34d52a915b",
   "metadata": {},
   "outputs": [],
   "source": [
    "#apply to the test set\n",
    "for i in range(len(df_test)):\n",
    "    if 'Private room' in df_test['property_type'].loc[i]:\n",
    "        df_test['property_type'].loc[i]= 'Private room'\n",
    "    if 'Shared room' in df_test['property_type'].loc[i]:\n",
    "        df_test['property_type'].loc[i]= 'Shared room'\n",
    "    if 'Room in' in df_test['property_type'].loc[i]:\n",
    "        df_test['property_type'].loc[i]= 'Entire room'\n",
    "    if df_test['property_type'].loc[i] in e_townhouse:\n",
    "        df_test['property_type'].loc[i]= 'Entire townhouse'\n",
    "    if df_test['property_type'].loc[i] in e_rentalunit:\n",
    "        df_test['property_type'].loc[i]= 'Entire rental unit'"
   ]
  },
  {
   "cell_type": "markdown",
   "id": "a06391ec-d4e1-464e-87be-29f1d90c672b",
   "metadata": {},
   "source": [
    "Now that 5 basic types of Airbnb property have been identified, the remaining values can be assigned as 'Other'."
   ]
  },
  {
   "cell_type": "code",
   "execution_count": 32,
   "id": "6dc28101-1836-4b9f-ae6e-175919a51e99",
   "metadata": {},
   "outputs": [],
   "source": [
    "for i in range(len(df_train)):\n",
    "    if df_train['property_type'].loc[i] not in ['Private room', 'Shared room','Entire room', 'Entire townhouse','Entire rental unit']:\n",
    "        df_train['property_type'].loc[i] = 'Other'"
   ]
  },
  {
   "cell_type": "code",
   "execution_count": 33,
   "id": "0aead23c-4d5a-48c6-899a-3f889d9b8fa7",
   "metadata": {},
   "outputs": [],
   "source": [
    "for i in range(len(df_test)):\n",
    "    if df_test['property_type'].loc[i] not in ['Private room', 'Shared room','Entire room', 'Entire townhouse','Entire rental unit']:\n",
    "        df_test['property_type'].loc[i] = 'Other'"
   ]
  },
  {
   "cell_type": "code",
   "execution_count": 41,
   "id": "30138f56-b509-47b7-a735-da3c2168f8cc",
   "metadata": {},
   "outputs": [
    {
     "data": {
      "text/plain": [
       "Entire rental unit    3371\n",
       "Entire townhouse      1892\n",
       "Private room          1391\n",
       "Entire room            255\n",
       "Shared room             50\n",
       "Other                   41\n",
       "Name: property_type, dtype: int64"
      ]
     },
     "execution_count": 41,
     "metadata": {},
     "output_type": "execute_result"
    }
   ],
   "source": [
    "df_train['property_type'].value_counts()"
   ]
  },
  {
   "cell_type": "code",
   "execution_count": 42,
   "id": "bb22da5f-aaf6-405e-868d-29eb3d5f85cd",
   "metadata": {},
   "outputs": [
    {
     "data": {
      "text/plain": [
       "Entire rental unit    1296\n",
       "Private room          1014\n",
       "Entire townhouse       584\n",
       "Shared room             64\n",
       "Entire room             30\n",
       "Other                   12\n",
       "Name: property_type, dtype: int64"
      ]
     },
     "execution_count": 42,
     "metadata": {},
     "output_type": "execute_result"
    }
   ],
   "source": [
    "df_test['property_type'].value_counts()"
   ]
  },
  {
   "cell_type": "code",
   "execution_count": 43,
   "id": "9b5e68b4-c055-4188-b1b7-742b5ef52fcf",
   "metadata": {},
   "outputs": [
    {
     "data": {
      "text/plain": [
       "property_type\n",
       "Entire rental unit    240.258974\n",
       "Entire room           229.866667\n",
       "Entire townhouse      473.339852\n",
       "Other                 482.634146\n",
       "Private room           80.474479\n",
       "Shared room            47.100000\n",
       "Name: price, dtype: float64"
      ]
     },
     "execution_count": 43,
     "metadata": {},
     "output_type": "execute_result"
    }
   ],
   "source": [
    "df_train['price'].groupby(df_train['property_type']).mean()"
   ]
  },
  {
   "cell_type": "markdown",
   "id": "c3c2630b-e769-4bb9-b056-100b6e03acb0",
   "metadata": {},
   "source": [
    "First, we divide all identified values of **'property_type'** into 5 main groups that are 'entire rental unit', 'private room', 'entire room', 'entire townhouse', 'shared room' and the remaining types as 'other' and replace them in the dataset."
   ]
  },
  {
   "cell_type": "code",
   "execution_count": 34,
   "id": "aa836599-ad12-43e2-b0d2-b0296522e309",
   "metadata": {},
   "outputs": [],
   "source": [
    "#map integer value\n",
    "property_mapping = {'Other':6, 'Entire townhouse':5, 'Entire rental unit':4, 'Entire room':3, 'Private room':2, 'Shared room':1}\n",
    "df_train['map_property_type'] = df_train['property_type'].map(property_mapping)"
   ]
  },
  {
   "cell_type": "code",
   "execution_count": 35,
   "id": "67514083-abe9-4df2-804e-1781dd89d67d",
   "metadata": {},
   "outputs": [],
   "source": [
    "#drop the original column after mapping \n",
    "df_train.drop(columns=['property_type'],inplace=True)"
   ]
  },
  {
   "cell_type": "code",
   "execution_count": 180,
   "id": "e77ce14f-0261-4e19-8892-70485c652600",
   "metadata": {},
   "outputs": [
    {
     "data": {
      "text/plain": [
       "1 bath               3614\n",
       "2 baths              1065\n",
       "1 shared bath         601\n",
       "1 private bath        459\n",
       "1.5 baths             326\n",
       "3 baths               223\n",
       "2.5 baths             222\n",
       "1.5 shared baths      117\n",
       "2 shared baths        113\n",
       "3.5 baths              65\n",
       "4 baths                58\n",
       "3 shared baths         32\n",
       "2.5 shared baths       19\n",
       "0 shared baths         12\n",
       "5 baths                11\n",
       "4.5 baths              10\n",
       "0 baths                10\n",
       "3.5 shared baths        8\n",
       "Shared half-bath        8\n",
       "6 shared baths          5\n",
       "Half-bath               5\n",
       "4 shared baths          3\n",
       "4.5 shared baths        3\n",
       "7 shared baths          2\n",
       "6 baths                 2\n",
       "5.5 shared baths        2\n",
       "5.5 baths               2\n",
       "Private half-bath       1\n",
       "6.5 baths               1\n",
       "11 baths                1\n",
       "Name: bathrooms, dtype: int64"
      ]
     },
     "execution_count": 180,
     "metadata": {},
     "output_type": "execute_result"
    }
   ],
   "source": [
    "df_train['bathrooms'].value_counts()"
   ]
  },
  {
   "cell_type": "code",
   "execution_count": 183,
   "id": "b64dd2b9-930c-465a-be8a-e70f7717d9a0",
   "metadata": {},
   "outputs": [
    {
     "data": {
      "text/plain": [
       "1 bath               1403\n",
       "1 shared bath         450\n",
       "2 baths               405\n",
       "1 private bath        237\n",
       "1.5 baths             122\n",
       "3 baths               103\n",
       "2.5 baths              82\n",
       "2 shared baths         57\n",
       "1.5 shared baths       52\n",
       "3.5 baths              18\n",
       "4 baths                17\n",
       "2.5 shared baths       10\n",
       "0 baths                 7\n",
       "3 shared baths          7\n",
       "4.5 baths               6\n",
       "5 baths                 6\n",
       "0 shared baths          5\n",
       "Half-bath               3\n",
       "5.5 baths               2\n",
       "6 baths                 2\n",
       "4 shared baths          2\n",
       "3.5 shared baths        1\n",
       "19 baths                1\n",
       "Shared half-bath        1\n",
       "Private half-bath       1\n",
       "Name: bathrooms, dtype: int64"
      ]
     },
     "execution_count": 183,
     "metadata": {},
     "output_type": "execute_result"
    }
   ],
   "source": [
    "df_test['bathrooms'].value_counts()"
   ]
  },
  {
   "cell_type": "markdown",
   "id": "cbafd8f5-ef11-47af-ba45-9a66ce9a7293",
   "metadata": {},
   "source": [
    "Besides, it is identified that **'bathrooms'** feature includes more than 5 unique values which indicates a suitable encoding should also be applied. Based on the counting results of all bathroom types, we can classify them as 5 main groups: one full bath (1 bath), one full private full bath (1 private bath), one full shared bath (1 shared bath), many full baths (many baths), many full shared baths (many shared baths) and the remaining type as other."
   ]
  },
  {
   "cell_type": "code",
   "execution_count": 36,
   "id": "bbadf782-6b49-497b-87ff-e3f29f0aeb56",
   "metadata": {},
   "outputs": [],
   "source": [
    "#replace values \n",
    "#1 full bath\n",
    "one_bath = ['1.5 baths']\n",
    "df_train['bathrooms'] = df_train['bathrooms'].replace(one_bath,'1 bath')\n",
    "df_test['bathrooms'] = df_test['bathrooms'].replace(one_bath,'1 bath')\n",
    "#1 full shared bath\n",
    "sh_bath = ['1.5 shared baths']\n",
    "df_train['bathrooms'] = df_train['bathrooms'].replace(sh_bath,'1 shared bath')\n",
    "df_test['bathrooms'] = df_test['bathrooms'].replace(sh_bath,'1 shared bath')\n",
    "#many full baths\n",
    "many_baths = ['2 baths','3 baths','2.5 baths','3.5 baths','4 baths','6 baths','5.5 baths','6.5 baths','11 baths','19 baths']\n",
    "df_train['bathrooms'] = df_train['bathrooms'].replace(many_baths,'Many baths')\n",
    "df_test['bathrooms'] = df_test['bathrooms'].replace(many_baths,'Many baths')\n",
    "#many full shared baths\n",
    "many_sh_baths = ['2 shared baths','3 shared baths','2.5 shared baths','5 baths','4.5 baths','3.5 shared baths','6 shared baths','4 shared baths','4.5 shared baths','7 shared baths','5.5 shared baths']\n",
    "df_train['bathrooms'] = df_train['bathrooms'].replace(many_sh_baths,'Many shared baths')\n",
    "df_test['bathrooms'] = df_test['bathrooms'].replace(many_sh_baths,'Many shared baths')\n",
    "#the remaining types\n",
    "other = ['0 shared baths','0 baths','Shared half-bath','Half-bath','Private half-bath']\n",
    "df_train['bathrooms'] = df_train['bathrooms'].replace(other,'Other')\n",
    "df_test['bathrooms'] = df_test['bathrooms'].replace(other,'Other')"
   ]
  },
  {
   "cell_type": "code",
   "execution_count": 47,
   "id": "a37da9e2-8599-459c-a538-20f8c4bc27f0",
   "metadata": {},
   "outputs": [
    {
     "data": {
      "text/plain": [
       "1 bath               3940\n",
       "Many baths           1639\n",
       "1 shared bath         718\n",
       "1 private bath        459\n",
       "Many shared baths     208\n",
       "Other                  36\n",
       "Name: bathrooms, dtype: int64"
      ]
     },
     "execution_count": 47,
     "metadata": {},
     "output_type": "execute_result"
    }
   ],
   "source": [
    "df_train['bathrooms'].value_counts()"
   ]
  },
  {
   "cell_type": "code",
   "execution_count": 48,
   "id": "66296431-3dde-4a46-a606-d12895218492",
   "metadata": {},
   "outputs": [
    {
     "data": {
      "text/plain": [
       "1 bath               1525\n",
       "Many baths            630\n",
       "1 shared bath         502\n",
       "1 private bath        237\n",
       "Many shared baths      89\n",
       "Other                  17\n",
       "Name: bathrooms, dtype: int64"
      ]
     },
     "execution_count": 48,
     "metadata": {},
     "output_type": "execute_result"
    }
   ],
   "source": [
    "df_test['bathrooms'].value_counts()"
   ]
  },
  {
   "cell_type": "code",
   "execution_count": 37,
   "id": "98636ddf-f942-4732-b954-11c4063be58e",
   "metadata": {},
   "outputs": [],
   "source": [
    "#map integer value\n",
    "bathrooms_mapping = {'Other':1, 'Many shared baths':2, 'Many baths':3, '1 shared bath':4, '1 private bath':5, '1 bath':6}\n",
    "df_train['map_bathrooms'] = df_train['bathrooms'].map(bathrooms_mapping)\n",
    "df_test['map_bathrooms'] = df_test['bathrooms'].map(bathrooms_mapping)"
   ]
  },
  {
   "cell_type": "code",
   "execution_count": 38,
   "id": "98152c00-3cd1-4550-89d8-f559c28c69c9",
   "metadata": {},
   "outputs": [],
   "source": [
    "#drop the original column after mapping \n",
    "df_train.drop(columns=['bathrooms'],inplace=True)\n",
    "df_test.drop(columns=['bathrooms'],inplace=True)"
   ]
  },
  {
   "cell_type": "markdown",
   "id": "d3ad3f20-7549-4b9e-8894-818c976d1457",
   "metadata": {},
   "source": [
    "`(Task 2, Question 4 Text Here - insert more cells as required)`"
   ]
  },
  {
   "cell_type": "markdown",
   "id": "2d695347",
   "metadata": {},
   "source": [
    "**Task 2, Question 5**: Perform any other actions you think need to be done on the data before constructing predictive models, and clearly explain what you have done.   \n",
    "(1 marks)"
   ]
  },
  {
   "cell_type": "code",
   "execution_count": 15,
   "id": "21a238a3-5432-4058-8b6e-1172c4e396ad",
   "metadata": {},
   "outputs": [],
   "source": [
    "## Task 2, Question 5 Code Here"
   ]
  },
  {
   "cell_type": "code",
   "execution_count": 260,
   "id": "3499cff2-07f2-4656-b6c2-4720611cc4c1",
   "metadata": {},
   "outputs": [
    {
     "data": {
      "text/plain": [
       "Entire home/apt    5337\n",
       "Private room       1511\n",
       "Hotel room          103\n",
       "Shared room          49\n",
       "Name: room_type, dtype: int64"
      ]
     },
     "execution_count": 260,
     "metadata": {},
     "output_type": "execute_result"
    }
   ],
   "source": [
    "df_train['room_type'].value_counts()"
   ]
  },
  {
   "cell_type": "code",
   "execution_count": 261,
   "id": "927e6e66-9bee-42bb-bb94-5b2f069aa627",
   "metadata": {},
   "outputs": [
    {
     "data": {
      "text/plain": [
       "within an hour        4552\n",
       "within a few hours    1271\n",
       "within a day           860\n",
       "a few days or more     317\n",
       "Name: host_response_time, dtype: int64"
      ]
     },
     "execution_count": 261,
     "metadata": {},
     "output_type": "execute_result"
    }
   ],
   "source": [
    "df_train['host_response_time'].value_counts()"
   ]
  },
  {
   "cell_type": "markdown",
   "id": "bcc020f7-b0a0-4e1c-8cb0-49b7a22aa524",
   "metadata": {},
   "source": [
    "Even though **'room_type'** and **'host_response_time'** only has 4 unique values, this feature should also be in an appropriate ordering of the labels by applying the same mapping integer values process."
   ]
  },
  {
   "cell_type": "code",
   "execution_count": 39,
   "id": "43e873cf-9138-481a-a2e5-571b2636989c",
   "metadata": {},
   "outputs": [],
   "source": [
    "#map integer value\n",
    "room_mapping = {'Shared room':1, 'Hotel room':2, 'Private room':3, 'Entire home/apt':4}\n",
    "df_train['room_maptype'] = df_train['room_type'].map(room_mapping)\n",
    "df_test['room_maptype'] = df_test['room_type'].map(room_mapping)"
   ]
  },
  {
   "cell_type": "code",
   "execution_count": 40,
   "id": "6b97f3ba-0ed9-4aaf-9933-e02de765268e",
   "metadata": {},
   "outputs": [],
   "source": [
    "response_time_mapping = {'a few days or more':1, 'within a day':2, 'within a few hours':3, 'within an hour':4}\n",
    "df_train['response_time'] = df_train['host_response_time'].map(response_time_mapping)\n",
    "df_test['response_time'] = df_test['host_response_time'].map(response_time_mapping)"
   ]
  },
  {
   "cell_type": "code",
   "execution_count": 41,
   "id": "af32d6d8",
   "metadata": {},
   "outputs": [],
   "source": [
    "#drop the original column after mapping \n",
    "df_train.drop(columns=['room_type'],inplace=True)\n",
    "df_test.drop(columns=['room_type'],inplace=True)"
   ]
  },
  {
   "cell_type": "code",
   "execution_count": 42,
   "id": "dbd9ab99-77f2-4575-9e37-84dd09e4d257",
   "metadata": {},
   "outputs": [],
   "source": [
    "#drop the original column after mapping \n",
    "df_train.drop(columns=['host_response_time'],inplace=True)\n",
    "df_test.drop(columns=['host_response_time'],inplace=True)"
   ]
  },
  {
   "cell_type": "markdown",
   "id": "0d5fc1f9",
   "metadata": {},
   "source": [
    "Realizing that all three variables **'host_neibourhood'**, **'neighbourhood'** and **'neighbourhood_cleansed'** relate to the location of each Airbnb, we will only use **'neighbourhood_cleansed'** for the analysis process due to its lowest number of missing values. Additionally, as **'first_review'** and **'last_review'** will not heavily contribute to predict the price, they are also removed."
   ]
  },
  {
   "cell_type": "code",
   "execution_count": 266,
   "id": "a421eed9-bb3c-4a36-927b-67df9110928d",
   "metadata": {},
   "outputs": [],
   "source": [
    "#drop host_neighbourhood, neighbourhood, firt review, last review\n",
    "df_train.drop(columns = ['ID','host_neighbourhood','neighbourhood','first_review','last_review','host_since'],inplace=True)"
   ]
  },
  {
   "cell_type": "markdown",
   "id": "b0a4c231-9720-4ec9-aa4c-f918a79defbb",
   "metadata": {},
   "source": [
    "Moreover, by assessing the values of the remaining categorical features which are **'has_availability'**, **'host_is_superhost'**, **'host_has_profile_pic'**, **'host_identity_verified'** and **'instant_bookable'**, we recognize that they only have 2 values of 't' and 'f'. Therefore, we can encode these 2 values to 1 and 0 respectively."
   ]
  },
  {
   "cell_type": "code",
   "execution_count": 206,
   "id": "df58f2b0-48c5-47ab-a76f-614be7cbea40",
   "metadata": {},
   "outputs": [
    {
     "data": {
      "text/plain": [
       "t    6986\n",
       "f      14\n",
       "Name: has_availability, dtype: int64"
      ]
     },
     "execution_count": 206,
     "metadata": {},
     "output_type": "execute_result"
    }
   ],
   "source": [
    "df_train['has_availability'].value_counts()"
   ]
  },
  {
   "cell_type": "code",
   "execution_count": 207,
   "id": "95cef8a2-a4ba-48ed-9a2a-999bed27f469",
   "metadata": {},
   "outputs": [
    {
     "data": {
      "text/plain": [
       "f    4901\n",
       "t    2099\n",
       "Name: host_is_superhost, dtype: int64"
      ]
     },
     "execution_count": 207,
     "metadata": {},
     "output_type": "execute_result"
    }
   ],
   "source": [
    "df_train['host_is_superhost'].value_counts()"
   ]
  },
  {
   "cell_type": "code",
   "execution_count": 208,
   "id": "c5f4dcb5-c628-4f1d-bae4-a557ba969ae1",
   "metadata": {},
   "outputs": [
    {
     "data": {
      "text/plain": [
       "t    6981\n",
       "f      19\n",
       "Name: host_has_profile_pic, dtype: int64"
      ]
     },
     "execution_count": 208,
     "metadata": {},
     "output_type": "execute_result"
    }
   ],
   "source": [
    "df_train['host_has_profile_pic'].value_counts()"
   ]
  },
  {
   "cell_type": "code",
   "execution_count": 209,
   "id": "3dac0f79-2f78-4dec-833e-808c922187c7",
   "metadata": {},
   "outputs": [
    {
     "data": {
      "text/plain": [
       "t    6320\n",
       "f     680\n",
       "Name: host_identity_verified, dtype: int64"
      ]
     },
     "execution_count": 209,
     "metadata": {},
     "output_type": "execute_result"
    }
   ],
   "source": [
    "df_train['host_identity_verified'].value_counts()"
   ]
  },
  {
   "cell_type": "code",
   "execution_count": 210,
   "id": "33fd2683-c2cf-4c65-b1ca-07b8cd08b153",
   "metadata": {},
   "outputs": [
    {
     "data": {
      "text/plain": [
       "f    4575\n",
       "t    2425\n",
       "Name: instant_bookable, dtype: int64"
      ]
     },
     "execution_count": 210,
     "metadata": {},
     "output_type": "execute_result"
    }
   ],
   "source": [
    "df_train['instant_bookable'].value_counts()"
   ]
  },
  {
   "cell_type": "code",
   "execution_count": 43,
   "id": "c074c127-7f26-4152-bc1b-e0658ef36d5a",
   "metadata": {},
   "outputs": [],
   "source": [
    "#encode values\n",
    "df_train['has_availability'].replace({'t': 1, 'f': 0}, inplace=True)\n",
    "df_train['host_is_superhost'].replace({'t': 1, 'f': 0}, inplace=True)\n",
    "df_train['host_has_profile_pic'].replace({'t': 1, 'f': 0}, inplace=True)\n",
    "df_train['host_identity_verified'].replace({'t': 1, 'f': 0}, inplace=True)\n",
    "df_train['instant_bookable'].replace({'t': 1, 'f': 0}, inplace=True)"
   ]
  },
  {
   "cell_type": "code",
   "execution_count": 49,
   "id": "819d99fd-e132-454a-9237-9ed87bf9f089",
   "metadata": {},
   "outputs": [],
   "source": [
    "#encode values\n",
    "df_test['has_availability'].replace({'t': 1, 'f': 0}, inplace=True)\n",
    "df_test['host_is_superhost'].replace({'t': 1, 'f': 0}, inplace=True)\n",
    "df_test['host_has_profile_pic'].replace({'t': 1, 'f': 0}, inplace=True)\n",
    "df_test['host_identity_verified'].replace({'t': 1, 'f': 0}, inplace=True)\n",
    "df_test['instant_bookable'].replace({'t': 1, 'f': 0}, inplace=True)"
   ]
  },
  {
   "cell_type": "markdown",
   "id": "328a5f7e",
   "metadata": {},
   "source": [
    "Lastly, since regression models only perform on numerical data, string-based features should also be handle properly. We can consider these features as indicator variables, for example a new feature **'has_name'** is created to indicate whether an Airbnb's name is specified or not. This way can be applied to other indicator variables, such as **'description'**, **'neighborhood_overview'**, **'host_about'**, **'host_neighbourhood'**, **'neighbourhood_cleansed'** and **'license'**."
   ]
  },
  {
   "cell_type": "code",
   "execution_count": 52,
   "id": "814f767d-8e35-4bd0-849b-8bbc3b3c705b",
   "metadata": {},
   "outputs": [
    {
     "data": {
      "text/plain": [
       "ID                                                 0\n",
       "name                                               1\n",
       "description                                       65\n",
       "neighborhood_overview                           1817\n",
       "host_name                                          0\n",
       "host_since                                         0\n",
       "host_location                                      0\n",
       "host_about                                      2458\n",
       "host_response_rate                                 0\n",
       "host_acceptance_rate                               0\n",
       "host_is_superhost                                  0\n",
       "host_neighbourhood                              2912\n",
       "host_listings_count                                0\n",
       "host_has_profile_pic                               0\n",
       "host_identity_verified                             0\n",
       "neighbourhood                                   1816\n",
       "neighbourhood_cleansed                           108\n",
       "latitude                                           0\n",
       "longitude                                          0\n",
       "accommodates                                       0\n",
       "bedrooms                                           0\n",
       "beds                                               0\n",
       "minimum_nights                                     0\n",
       "maximum_nights                                     0\n",
       "minimum_minimum_nights                             0\n",
       "maximum_minimum_nights                             0\n",
       "minimum_maximum_nights                             0\n",
       "maximum_maximum_nights                             0\n",
       "minimum_nights_avg_ntm                             0\n",
       "maximum_nights_avg_ntm                             0\n",
       "has_availability                                   0\n",
       "availability_30                                    0\n",
       "availability_60                                    0\n",
       "availability_90                                    0\n",
       "availability_365                                   0\n",
       "number_of_reviews                                  0\n",
       "number_of_reviews_ltm                              0\n",
       "number_of_reviews_l30d                             0\n",
       "first_review                                     114\n",
       "last_review                                      114\n",
       "review_scores_rating                               0\n",
       "review_scores_accuracy                             0\n",
       "review_scores_cleanliness                          0\n",
       "review_scores_checkin                              0\n",
       "review_scores_communication                        0\n",
       "review_scores_location                             0\n",
       "review_scores_value                                0\n",
       "license                                         1868\n",
       "instant_bookable                                   0\n",
       "calculated_host_listings_count                     0\n",
       "calculated_host_listings_count_entire_homes        0\n",
       "calculated_host_listings_count_private_rooms       0\n",
       "calculated_host_listings_count_shared_rooms        0\n",
       "reviews_per_month                                  0\n",
       "price                                              0\n",
       "email                                              0\n",
       "phone                                              0\n",
       "reviews                                            0\n",
       "jumio                                              0\n",
       "Long term stays allowed                            0\n",
       "Wifi                                               0\n",
       "Essentials                                         0\n",
       "Smoke alarm                                        0\n",
       "map_property_type                                  0\n",
       "map_bathrooms                                      0\n",
       "room_maptype                                       0\n",
       "response_time                                      0\n",
       "has_name                                           0\n",
       "has_description                                    0\n",
       "has_neighborhood_overview                          0\n",
       "has_host_about                                     0\n",
       "has_host_neighbourhood                             0\n",
       "has_neighbourhood                                  0\n",
       "has_license                                        0\n",
       "dtype: int64"
      ]
     },
     "execution_count": 52,
     "metadata": {},
     "output_type": "execute_result"
    }
   ],
   "source": [
    "df_train.isnull().sum()"
   ]
  },
  {
   "cell_type": "code",
   "execution_count": 50,
   "id": "d1cdabe4-9fbd-476a-8631-406b5cf9b94d",
   "metadata": {},
   "outputs": [],
   "source": [
    "#apply to the training set\n",
    "df_train['has_name'] = 1\n",
    "df_train.loc[pd.isnull(df_train['name']), 'has_name'] = 0 \n",
    "df_train['has_description'] = 1\n",
    "df_train.loc[pd.isnull(df_train['description']), 'has_description'] = 0\n",
    "df_train['has_neighborhood_overview'] = 1\n",
    "df_train.loc[pd.isnull(df_train['neighborhood_overview']), 'has_neighborhood_overview'] = 0\n",
    "df_train['has_host_about'] = 1\n",
    "df_train.loc[pd.isnull(df_train['host_about']), 'has_host_about'] = 0\n",
    "df_train['has_host_neighbourhood'] = 1\n",
    "df_train.loc[pd.isnull(df_train['host_neighbourhood']), 'has_host_neighbourhood'] = 0\n",
    "df_train['has_neighbourhood'] = 1\n",
    "df_train.loc[pd.isnull(df_train['neighbourhood_cleansed']), 'has_neighbourhood'] = 0\n",
    "df_train['has_license'] = 1\n",
    "df_train.loc[pd.isnull(df_train['license']), 'has_license'] = 0"
   ]
  },
  {
   "cell_type": "code",
   "execution_count": 55,
   "id": "968c09c3-f4eb-406c-a34a-72fb48a7521f",
   "metadata": {},
   "outputs": [],
   "source": [
    "#apply to the training set\n",
    "df_test['has_name'] = 1\n",
    "df_test.loc[pd.isnull(df_test['name']), 'has_name'] = 0 \n",
    "df_test['has_description'] = 1\n",
    "df_test.loc[pd.isnull(df_test['description']), 'has_description'] = 0\n",
    "df_test['has_neighborhood_overview'] = 1\n",
    "df_test.loc[pd.isnull(df_test['neighborhood_overview']), 'has_neighborhood_overview'] = 0\n",
    "df_test['has_host_about'] = 1\n",
    "df_test.loc[pd.isnull(df_test['host_about']), 'has_host_about'] = 0\n",
    "df_test['has_host_neighbourhood'] = 1\n",
    "df_test.loc[pd.isnull(df_test['host_neighbourhood']), 'has_host_neighbourhood'] = 0\n",
    "df_test['has_neighbourhood'] = 1\n",
    "df_test.loc[pd.isnull(df_test['neighbourhood_cleansed']), 'has_neighbourhood'] = 0\n",
    "df_test['has_license'] = 1\n",
    "df_test.loc[pd.isnull(df_test['license']), 'has_license'] = 0"
   ]
  },
  {
   "cell_type": "markdown",
   "id": "823a081c-cdc4-4fc8-9bd7-52bfd4c3e6dd",
   "metadata": {},
   "source": [
    "`(Task 2, Question 5 Text Here - insert more cells as required)`"
   ]
  },
  {
   "cell_type": "markdown",
   "id": "fa16475c",
   "metadata": {},
   "source": [
    "**Task 2, Question 6**: Perform exploratory data analysis to measure the relationship between the features and the target and write up your findings. \n",
    "(2 marks)"
   ]
  },
  {
   "cell_type": "code",
   "execution_count": 59,
   "id": "1509b479",
   "metadata": {},
   "outputs": [],
   "source": [
    "## Task 2, Question 6 Code Here"
   ]
  },
  {
   "cell_type": "code",
   "execution_count": 58,
   "id": "8927feec-90cc-4518-ac84-7e5a47e469de",
   "metadata": {},
   "outputs": [
    {
     "data": {
      "text/html": [
       "<div>\n",
       "<style scoped>\n",
       "    .dataframe tbody tr th:only-of-type {\n",
       "        vertical-align: middle;\n",
       "    }\n",
       "\n",
       "    .dataframe tbody tr th {\n",
       "        vertical-align: top;\n",
       "    }\n",
       "\n",
       "    .dataframe thead th {\n",
       "        text-align: right;\n",
       "    }\n",
       "</style>\n",
       "<table border=\"1\" class=\"dataframe\">\n",
       "  <thead>\n",
       "    <tr style=\"text-align: right;\">\n",
       "      <th></th>\n",
       "      <th>col1</th>\n",
       "      <th>col2</th>\n",
       "      <th>correlation</th>\n",
       "    </tr>\n",
       "  </thead>\n",
       "  <tbody>\n",
       "    <tr>\n",
       "      <th>151</th>\n",
       "      <td>price</td>\n",
       "      <td>accommodates</td>\n",
       "      <td>0.597608</td>\n",
       "    </tr>\n",
       "    <tr>\n",
       "      <th>171</th>\n",
       "      <td>price</td>\n",
       "      <td>map_property_type</td>\n",
       "      <td>0.381652</td>\n",
       "    </tr>\n",
       "    <tr>\n",
       "      <th>205</th>\n",
       "      <td>price</td>\n",
       "      <td>room_maptype</td>\n",
       "      <td>0.263343</td>\n",
       "    </tr>\n",
       "    <tr>\n",
       "      <th>208</th>\n",
       "      <td>price</td>\n",
       "      <td>latitude</td>\n",
       "      <td>0.262959</td>\n",
       "    </tr>\n",
       "    <tr>\n",
       "      <th>209</th>\n",
       "      <td>price</td>\n",
       "      <td>longitude</td>\n",
       "      <td>0.262011</td>\n",
       "    </tr>\n",
       "    <tr>\n",
       "      <th>374</th>\n",
       "      <td>price</td>\n",
       "      <td>calculated_host_listings_count_entire_homes</td>\n",
       "      <td>0.134978</td>\n",
       "    </tr>\n",
       "    <tr>\n",
       "      <th>519</th>\n",
       "      <td>price</td>\n",
       "      <td>has_license</td>\n",
       "      <td>0.097562</td>\n",
       "    </tr>\n",
       "    <tr>\n",
       "      <th>524</th>\n",
       "      <td>price</td>\n",
       "      <td>review_scores_rating</td>\n",
       "      <td>0.096719</td>\n",
       "    </tr>\n",
       "    <tr>\n",
       "      <th>528</th>\n",
       "      <td>price</td>\n",
       "      <td>host_listings_count</td>\n",
       "      <td>0.095468</td>\n",
       "    </tr>\n",
       "    <tr>\n",
       "      <th>581</th>\n",
       "      <td>price</td>\n",
       "      <td>reviews</td>\n",
       "      <td>0.084221</td>\n",
       "    </tr>\n",
       "    <tr>\n",
       "      <th>598</th>\n",
       "      <td>price</td>\n",
       "      <td>reviews_per_month</td>\n",
       "      <td>0.080419</td>\n",
       "    </tr>\n",
       "    <tr>\n",
       "      <th>626</th>\n",
       "      <td>price</td>\n",
       "      <td>review_scores_cleanliness</td>\n",
       "      <td>0.077085</td>\n",
       "    </tr>\n",
       "    <tr>\n",
       "      <th>629</th>\n",
       "      <td>price</td>\n",
       "      <td>review_scores_location</td>\n",
       "      <td>0.076400</td>\n",
       "    </tr>\n",
       "    <tr>\n",
       "      <th>631</th>\n",
       "      <td>price</td>\n",
       "      <td>review_scores_accuracy</td>\n",
       "      <td>0.076139</td>\n",
       "    </tr>\n",
       "    <tr>\n",
       "      <th>634</th>\n",
       "      <td>price</td>\n",
       "      <td>review_scores_communication</td>\n",
       "      <td>0.076071</td>\n",
       "    </tr>\n",
       "    <tr>\n",
       "      <th>635</th>\n",
       "      <td>price</td>\n",
       "      <td>review_scores_checkin</td>\n",
       "      <td>0.075147</td>\n",
       "    </tr>\n",
       "    <tr>\n",
       "      <th>637</th>\n",
       "      <td>price</td>\n",
       "      <td>review_scores_value</td>\n",
       "      <td>0.075103</td>\n",
       "    </tr>\n",
       "    <tr>\n",
       "      <th>649</th>\n",
       "      <td>price</td>\n",
       "      <td>calculated_host_listings_count</td>\n",
       "      <td>0.073491</td>\n",
       "    </tr>\n",
       "    <tr>\n",
       "      <th>662</th>\n",
       "      <td>price</td>\n",
       "      <td>availability_365</td>\n",
       "      <td>0.072144</td>\n",
       "    </tr>\n",
       "    <tr>\n",
       "      <th>733</th>\n",
       "      <td>price</td>\n",
       "      <td>has_host_neighbourhood</td>\n",
       "      <td>0.062093</td>\n",
       "    </tr>\n",
       "    <tr>\n",
       "      <th>741</th>\n",
       "      <td>price</td>\n",
       "      <td>jumio</td>\n",
       "      <td>0.061271</td>\n",
       "    </tr>\n",
       "    <tr>\n",
       "      <th>787</th>\n",
       "      <td>price</td>\n",
       "      <td>host_identity_verified</td>\n",
       "      <td>0.056668</td>\n",
       "    </tr>\n",
       "    <tr>\n",
       "      <th>868</th>\n",
       "      <td>price</td>\n",
       "      <td>has_host_about</td>\n",
       "      <td>0.047987</td>\n",
       "    </tr>\n",
       "    <tr>\n",
       "      <th>1003</th>\n",
       "      <td>price</td>\n",
       "      <td>email</td>\n",
       "      <td>0.039245</td>\n",
       "    </tr>\n",
       "    <tr>\n",
       "      <th>1038</th>\n",
       "      <td>price</td>\n",
       "      <td>has_description</td>\n",
       "      <td>0.036911</td>\n",
       "    </tr>\n",
       "    <tr>\n",
       "      <th>1196</th>\n",
       "      <td>price</td>\n",
       "      <td>has_neighborhood_overview</td>\n",
       "      <td>0.027162</td>\n",
       "    </tr>\n",
       "    <tr>\n",
       "      <th>1328</th>\n",
       "      <td>price</td>\n",
       "      <td>beds</td>\n",
       "      <td>0.020514</td>\n",
       "    </tr>\n",
       "    <tr>\n",
       "      <th>1604</th>\n",
       "      <td>price</td>\n",
       "      <td>Smoke alarm</td>\n",
       "      <td>0.010332</td>\n",
       "    </tr>\n",
       "    <tr>\n",
       "      <th>1670</th>\n",
       "      <td>price</td>\n",
       "      <td>has_availability</td>\n",
       "      <td>0.008724</td>\n",
       "    </tr>\n",
       "    <tr>\n",
       "      <th>1761</th>\n",
       "      <td>price</td>\n",
       "      <td>has_name</td>\n",
       "      <td>0.005863</td>\n",
       "    </tr>\n",
       "    <tr>\n",
       "      <th>1774</th>\n",
       "      <td>price</td>\n",
       "      <td>phone</td>\n",
       "      <td>0.005411</td>\n",
       "    </tr>\n",
       "    <tr>\n",
       "      <th>1970</th>\n",
       "      <td>price</td>\n",
       "      <td>maximum_nights_avg_ntm</td>\n",
       "      <td>-0.000759</td>\n",
       "    </tr>\n",
       "    <tr>\n",
       "      <th>1999</th>\n",
       "      <td>price</td>\n",
       "      <td>maximum_maximum_nights</td>\n",
       "      <td>-0.001471</td>\n",
       "    </tr>\n",
       "    <tr>\n",
       "      <th>2070</th>\n",
       "      <td>price</td>\n",
       "      <td>Wifi</td>\n",
       "      <td>-0.004020</td>\n",
       "    </tr>\n",
       "    <tr>\n",
       "      <th>2092</th>\n",
       "      <td>price</td>\n",
       "      <td>has_neighbourhood</td>\n",
       "      <td>-0.004749</td>\n",
       "    </tr>\n",
       "    <tr>\n",
       "      <th>2391</th>\n",
       "      <td>price</td>\n",
       "      <td>host_has_profile_pic</td>\n",
       "      <td>-0.015908</td>\n",
       "    </tr>\n",
       "    <tr>\n",
       "      <th>2551</th>\n",
       "      <td>price</td>\n",
       "      <td>Essentials</td>\n",
       "      <td>-0.022663</td>\n",
       "    </tr>\n",
       "    <tr>\n",
       "      <th>2643</th>\n",
       "      <td>price</td>\n",
       "      <td>availability_60</td>\n",
       "      <td>-0.025466</td>\n",
       "    </tr>\n",
       "    <tr>\n",
       "      <th>2708</th>\n",
       "      <td>price</td>\n",
       "      <td>availability_30</td>\n",
       "      <td>-0.027378</td>\n",
       "    </tr>\n",
       "    <tr>\n",
       "      <th>2736</th>\n",
       "      <td>price</td>\n",
       "      <td>availability_90</td>\n",
       "      <td>-0.029104</td>\n",
       "    </tr>\n",
       "    <tr>\n",
       "      <th>2789</th>\n",
       "      <td>price</td>\n",
       "      <td>host_response_rate</td>\n",
       "      <td>-0.031805</td>\n",
       "    </tr>\n",
       "    <tr>\n",
       "      <th>2934</th>\n",
       "      <td>price</td>\n",
       "      <td>host_is_superhost</td>\n",
       "      <td>-0.041883</td>\n",
       "    </tr>\n",
       "    <tr>\n",
       "      <th>2977</th>\n",
       "      <td>price</td>\n",
       "      <td>calculated_host_listings_count_shared_rooms</td>\n",
       "      <td>-0.046694</td>\n",
       "    </tr>\n",
       "    <tr>\n",
       "      <th>3136</th>\n",
       "      <td>price</td>\n",
       "      <td>number_of_reviews_l30d</td>\n",
       "      <td>-0.064508</td>\n",
       "    </tr>\n",
       "    <tr>\n",
       "      <th>3189</th>\n",
       "      <td>price</td>\n",
       "      <td>maximum_nights</td>\n",
       "      <td>-0.070754</td>\n",
       "    </tr>\n",
       "    <tr>\n",
       "      <th>3208</th>\n",
       "      <td>price</td>\n",
       "      <td>ID</td>\n",
       "      <td>-0.072899</td>\n",
       "    </tr>\n",
       "    <tr>\n",
       "      <th>3252</th>\n",
       "      <td>price</td>\n",
       "      <td>maximum_minimum_nights</td>\n",
       "      <td>-0.078419</td>\n",
       "    </tr>\n",
       "    <tr>\n",
       "      <th>3272</th>\n",
       "      <td>price</td>\n",
       "      <td>Long term stays allowed</td>\n",
       "      <td>-0.080048</td>\n",
       "    </tr>\n",
       "    <tr>\n",
       "      <th>3291</th>\n",
       "      <td>price</td>\n",
       "      <td>minimum_nights</td>\n",
       "      <td>-0.082712</td>\n",
       "    </tr>\n",
       "    <tr>\n",
       "      <th>3306</th>\n",
       "      <td>price</td>\n",
       "      <td>minimum_nights_avg_ntm</td>\n",
       "      <td>-0.085047</td>\n",
       "    </tr>\n",
       "    <tr>\n",
       "      <th>3324</th>\n",
       "      <td>price</td>\n",
       "      <td>minimum_minimum_nights</td>\n",
       "      <td>-0.088852</td>\n",
       "    </tr>\n",
       "    <tr>\n",
       "      <th>3327</th>\n",
       "      <td>price</td>\n",
       "      <td>number_of_reviews_ltm</td>\n",
       "      <td>-0.089261</td>\n",
       "    </tr>\n",
       "    <tr>\n",
       "      <th>3402</th>\n",
       "      <td>price</td>\n",
       "      <td>calculated_host_listings_count_private_rooms</td>\n",
       "      <td>-0.099050</td>\n",
       "    </tr>\n",
       "    <tr>\n",
       "      <th>3428</th>\n",
       "      <td>price</td>\n",
       "      <td>bedrooms</td>\n",
       "      <td>-0.102601</td>\n",
       "    </tr>\n",
       "    <tr>\n",
       "      <th>3429</th>\n",
       "      <td>price</td>\n",
       "      <td>minimum_maximum_nights</td>\n",
       "      <td>-0.102671</td>\n",
       "    </tr>\n",
       "    <tr>\n",
       "      <th>3460</th>\n",
       "      <td>price</td>\n",
       "      <td>instant_bookable</td>\n",
       "      <td>-0.110357</td>\n",
       "    </tr>\n",
       "    <tr>\n",
       "      <th>3477</th>\n",
       "      <td>price</td>\n",
       "      <td>number_of_reviews</td>\n",
       "      <td>-0.117206</td>\n",
       "    </tr>\n",
       "    <tr>\n",
       "      <th>3517</th>\n",
       "      <td>price</td>\n",
       "      <td>response_time</td>\n",
       "      <td>-0.130608</td>\n",
       "    </tr>\n",
       "    <tr>\n",
       "      <th>3576</th>\n",
       "      <td>price</td>\n",
       "      <td>host_acceptance_rate</td>\n",
       "      <td>-0.157264</td>\n",
       "    </tr>\n",
       "    <tr>\n",
       "      <th>3697</th>\n",
       "      <td>price</td>\n",
       "      <td>map_bathrooms</td>\n",
       "      <td>-0.313761</td>\n",
       "    </tr>\n",
       "  </tbody>\n",
       "</table>\n",
       "</div>"
      ],
      "text/plain": [
       "       col1                                          col2  correlation\n",
       "151   price                                  accommodates     0.597608\n",
       "171   price                             map_property_type     0.381652\n",
       "205   price                                  room_maptype     0.263343\n",
       "208   price                                      latitude     0.262959\n",
       "209   price                                     longitude     0.262011\n",
       "374   price   calculated_host_listings_count_entire_homes     0.134978\n",
       "519   price                                   has_license     0.097562\n",
       "524   price                          review_scores_rating     0.096719\n",
       "528   price                           host_listings_count     0.095468\n",
       "581   price                                       reviews     0.084221\n",
       "598   price                             reviews_per_month     0.080419\n",
       "626   price                     review_scores_cleanliness     0.077085\n",
       "629   price                        review_scores_location     0.076400\n",
       "631   price                        review_scores_accuracy     0.076139\n",
       "634   price                   review_scores_communication     0.076071\n",
       "635   price                         review_scores_checkin     0.075147\n",
       "637   price                           review_scores_value     0.075103\n",
       "649   price                calculated_host_listings_count     0.073491\n",
       "662   price                              availability_365     0.072144\n",
       "733   price                        has_host_neighbourhood     0.062093\n",
       "741   price                                         jumio     0.061271\n",
       "787   price                        host_identity_verified     0.056668\n",
       "868   price                                has_host_about     0.047987\n",
       "1003  price                                         email     0.039245\n",
       "1038  price                               has_description     0.036911\n",
       "1196  price                     has_neighborhood_overview     0.027162\n",
       "1328  price                                          beds     0.020514\n",
       "1604  price                                   Smoke alarm     0.010332\n",
       "1670  price                              has_availability     0.008724\n",
       "1761  price                                      has_name     0.005863\n",
       "1774  price                                         phone     0.005411\n",
       "1970  price                        maximum_nights_avg_ntm    -0.000759\n",
       "1999  price                        maximum_maximum_nights    -0.001471\n",
       "2070  price                                          Wifi    -0.004020\n",
       "2092  price                             has_neighbourhood    -0.004749\n",
       "2391  price                          host_has_profile_pic    -0.015908\n",
       "2551  price                                    Essentials    -0.022663\n",
       "2643  price                               availability_60    -0.025466\n",
       "2708  price                               availability_30    -0.027378\n",
       "2736  price                               availability_90    -0.029104\n",
       "2789  price                            host_response_rate    -0.031805\n",
       "2934  price                             host_is_superhost    -0.041883\n",
       "2977  price   calculated_host_listings_count_shared_rooms    -0.046694\n",
       "3136  price                        number_of_reviews_l30d    -0.064508\n",
       "3189  price                                maximum_nights    -0.070754\n",
       "3208  price                                            ID    -0.072899\n",
       "3252  price                        maximum_minimum_nights    -0.078419\n",
       "3272  price                       Long term stays allowed    -0.080048\n",
       "3291  price                                minimum_nights    -0.082712\n",
       "3306  price                        minimum_nights_avg_ntm    -0.085047\n",
       "3324  price                        minimum_minimum_nights    -0.088852\n",
       "3327  price                         number_of_reviews_ltm    -0.089261\n",
       "3402  price  calculated_host_listings_count_private_rooms    -0.099050\n",
       "3428  price                                      bedrooms    -0.102601\n",
       "3429  price                        minimum_maximum_nights    -0.102671\n",
       "3460  price                              instant_bookable    -0.110357\n",
       "3477  price                             number_of_reviews    -0.117206\n",
       "3517  price                                 response_time    -0.130608\n",
       "3576  price                          host_acceptance_rate    -0.157264\n",
       "3697  price                                 map_bathrooms    -0.313761"
      ]
     },
     "execution_count": 58,
     "metadata": {},
     "output_type": "execute_result"
    }
   ],
   "source": [
    "correlations = df_train.corr().unstack().sort_values(ascending=False) # Build correlation matrix\n",
    "correlations = pd.DataFrame(correlations).reset_index() # Convert to dataframe\n",
    "correlations.columns = ['col1', 'col2', 'correlation'] # Label it\n",
    "correlations.query(\"col1 == 'price' & col2 != 'price'\") # Filter by variable"
   ]
  },
  {
   "cell_type": "markdown",
   "id": "d7893e54-6013-4fe4-9363-6da2a35737ea",
   "metadata": {},
   "source": [
    "#correlation summary"
   ]
  },
  {
   "cell_type": "markdown",
   "id": "56f45050-bfae-44bb-8608-cb10a34b208b",
   "metadata": {},
   "source": [
    "After cleaning all string-based, categorical and numerical data, we identify that various potential features will not be utilized for forecasting models and included in the subset of the training data. They can be listed as: **'host_since'**, **'neighbourhood'**, **'first_review'** and **'last_review'**"
   ]
  },
  {
   "cell_type": "markdown",
   "id": "81a965eb-e661-4772-af72-98f19e1bae41",
   "metadata": {},
   "source": [
    "`(Task 2, Question 6 Text Here - insert more cells as required)`"
   ]
  },
  {
   "cell_type": "markdown",
   "id": "3c9f6968-d9c2-422f-9935-eba856b3c028",
   "metadata": {},
   "source": [
    "--- \n",
    "## Task 3: Fit and tune a forecasting model/Submit predictions/Report score and ranking\n",
    "\n",
    "Make sure you **clearly explain each step** you do, both in text and on the recoded video.\n",
    "\n",
    "1. Build a machine learning (ML) regression model taking into account the outcomes of Tasks 1 & 2\n",
    "2. Fit the model and tune hyperparameters via cross-validation: make sure you comment and explain each step clearly\n",
    "3. Create predictions using the test dataset and submit your predictions on Kaggle's competition page\n",
    "4. Provide Kaggle ranking and **score** (screenshot your best submission) and comment\n",
    "5. Make sure your Python code works, so that a marker that can replicate your all of your results and obtain the same MSE from Kaggle\n",
    "\n",
    "- Hint: to perform well you will need to iterate Task 3, building and tuning various models in order to find the best one.\n",
    "\n",
    "Total Marks: 11"
   ]
  },
  {
   "cell_type": "code",
   "execution_count": 60,
   "id": "71d8e706",
   "metadata": {},
   "outputs": [
    {
     "data": {
      "text/plain": [
       "(7000, 74)"
      ]
     },
     "execution_count": 60,
     "metadata": {},
     "output_type": "execute_result"
    }
   ],
   "source": [
    "df_train.shape"
   ]
  },
  {
   "cell_type": "code",
   "execution_count": 61,
   "id": "b29117a3",
   "metadata": {},
   "outputs": [
    {
     "data": {
      "text/html": [
       "<div>\n",
       "<style scoped>\n",
       "    .dataframe tbody tr th:only-of-type {\n",
       "        vertical-align: middle;\n",
       "    }\n",
       "\n",
       "    .dataframe tbody tr th {\n",
       "        vertical-align: top;\n",
       "    }\n",
       "\n",
       "    .dataframe thead th {\n",
       "        text-align: right;\n",
       "    }\n",
       "</style>\n",
       "<table border=\"1\" class=\"dataframe\">\n",
       "  <thead>\n",
       "    <tr style=\"text-align: right;\">\n",
       "      <th></th>\n",
       "      <th>ID</th>\n",
       "      <th>name</th>\n",
       "      <th>description</th>\n",
       "      <th>neighborhood_overview</th>\n",
       "      <th>host_name</th>\n",
       "      <th>host_since</th>\n",
       "      <th>host_location</th>\n",
       "      <th>host_about</th>\n",
       "      <th>host_response_rate</th>\n",
       "      <th>host_acceptance_rate</th>\n",
       "      <th>host_is_superhost</th>\n",
       "      <th>host_neighbourhood</th>\n",
       "      <th>host_listings_count</th>\n",
       "      <th>host_has_profile_pic</th>\n",
       "      <th>host_identity_verified</th>\n",
       "      <th>neighbourhood</th>\n",
       "      <th>neighbourhood_cleansed</th>\n",
       "      <th>latitude</th>\n",
       "      <th>longitude</th>\n",
       "      <th>accommodates</th>\n",
       "      <th>bedrooms</th>\n",
       "      <th>beds</th>\n",
       "      <th>minimum_nights</th>\n",
       "      <th>maximum_nights</th>\n",
       "      <th>minimum_minimum_nights</th>\n",
       "      <th>maximum_minimum_nights</th>\n",
       "      <th>minimum_maximum_nights</th>\n",
       "      <th>maximum_maximum_nights</th>\n",
       "      <th>minimum_nights_avg_ntm</th>\n",
       "      <th>maximum_nights_avg_ntm</th>\n",
       "      <th>has_availability</th>\n",
       "      <th>availability_30</th>\n",
       "      <th>availability_60</th>\n",
       "      <th>availability_90</th>\n",
       "      <th>availability_365</th>\n",
       "      <th>number_of_reviews</th>\n",
       "      <th>number_of_reviews_ltm</th>\n",
       "      <th>number_of_reviews_l30d</th>\n",
       "      <th>first_review</th>\n",
       "      <th>last_review</th>\n",
       "      <th>review_scores_rating</th>\n",
       "      <th>review_scores_accuracy</th>\n",
       "      <th>review_scores_cleanliness</th>\n",
       "      <th>review_scores_checkin</th>\n",
       "      <th>review_scores_communication</th>\n",
       "      <th>review_scores_location</th>\n",
       "      <th>review_scores_value</th>\n",
       "      <th>license</th>\n",
       "      <th>instant_bookable</th>\n",
       "      <th>calculated_host_listings_count</th>\n",
       "      <th>calculated_host_listings_count_entire_homes</th>\n",
       "      <th>calculated_host_listings_count_private_rooms</th>\n",
       "      <th>calculated_host_listings_count_shared_rooms</th>\n",
       "      <th>reviews_per_month</th>\n",
       "      <th>price</th>\n",
       "      <th>email</th>\n",
       "      <th>phone</th>\n",
       "      <th>reviews</th>\n",
       "      <th>jumio</th>\n",
       "      <th>Long term stays allowed</th>\n",
       "      <th>Wifi</th>\n",
       "      <th>Essentials</th>\n",
       "      <th>Smoke alarm</th>\n",
       "      <th>map_property_type</th>\n",
       "      <th>map_bathrooms</th>\n",
       "      <th>room_maptype</th>\n",
       "      <th>response_time</th>\n",
       "      <th>has_name</th>\n",
       "      <th>has_description</th>\n",
       "      <th>has_neighborhood_overview</th>\n",
       "      <th>has_host_about</th>\n",
       "      <th>has_host_neighbourhood</th>\n",
       "      <th>has_neighbourhood</th>\n",
       "      <th>has_license</th>\n",
       "    </tr>\n",
       "  </thead>\n",
       "  <tbody>\n",
       "    <tr>\n",
       "      <th>0</th>\n",
       "      <td>0</td>\n",
       "      <td>Manly Harbour House</td>\n",
       "      <td>Beautifully renovated, spacious and quiet, our...</td>\n",
       "      <td>Balgowlah Heights is one of the most prestigio...</td>\n",
       "      <td>Heidi</td>\n",
       "      <td>2009-11-20</td>\n",
       "      <td>Sydney, New South Wales, Australia</td>\n",
       "      <td>I am a Canadian who has made Australia her hom...</td>\n",
       "      <td>100.0</td>\n",
       "      <td>69.0</td>\n",
       "      <td>1</td>\n",
       "      <td>Balgowlah</td>\n",
       "      <td>2.0</td>\n",
       "      <td>1</td>\n",
       "      <td>1</td>\n",
       "      <td>Balgowlah, New South Wales, Australia</td>\n",
       "      <td>Manly</td>\n",
       "      <td>-33.80084</td>\n",
       "      <td>151.26378</td>\n",
       "      <td>6</td>\n",
       "      <td>3</td>\n",
       "      <td>3</td>\n",
       "      <td>2</td>\n",
       "      <td>22</td>\n",
       "      <td>2</td>\n",
       "      <td>2</td>\n",
       "      <td>22</td>\n",
       "      <td>22</td>\n",
       "      <td>2</td>\n",
       "      <td>22</td>\n",
       "      <td>1</td>\n",
       "      <td>0</td>\n",
       "      <td>14</td>\n",
       "      <td>14</td>\n",
       "      <td>174</td>\n",
       "      <td>3</td>\n",
       "      <td>1</td>\n",
       "      <td>0</td>\n",
       "      <td>2016-01-02</td>\n",
       "      <td>2021-06-01</td>\n",
       "      <td>4.67</td>\n",
       "      <td>4.33</td>\n",
       "      <td>4.33</td>\n",
       "      <td>4.67</td>\n",
       "      <td>4.33</td>\n",
       "      <td>4.67</td>\n",
       "      <td>4.33</td>\n",
       "      <td>Exempt</td>\n",
       "      <td>0</td>\n",
       "      <td>2</td>\n",
       "      <td>2</td>\n",
       "      <td>0</td>\n",
       "      <td>0</td>\n",
       "      <td>0.04</td>\n",
       "      <td>470.0</td>\n",
       "      <td>1</td>\n",
       "      <td>1</td>\n",
       "      <td>1</td>\n",
       "      <td>1</td>\n",
       "      <td>0</td>\n",
       "      <td>1</td>\n",
       "      <td>1</td>\n",
       "      <td>1</td>\n",
       "      <td>5</td>\n",
       "      <td>3</td>\n",
       "      <td>4</td>\n",
       "      <td>3</td>\n",
       "      <td>1</td>\n",
       "      <td>1</td>\n",
       "      <td>1</td>\n",
       "      <td>1</td>\n",
       "      <td>1</td>\n",
       "      <td>1</td>\n",
       "      <td>1</td>\n",
       "    </tr>\n",
       "    <tr>\n",
       "      <th>1</th>\n",
       "      <td>1</td>\n",
       "      <td>Unique Designer Rooftop Apartment in City Loca...</td>\n",
       "      <td>Penthouse living at it best ... You will be st...</td>\n",
       "      <td>The location is really central and there is nu...</td>\n",
       "      <td>Morag</td>\n",
       "      <td>2009-12-03</td>\n",
       "      <td>Sydney, New South Wales, Australia</td>\n",
       "      <td>I am originally Scottish but I have made Sydne...</td>\n",
       "      <td>100.0</td>\n",
       "      <td>100.0</td>\n",
       "      <td>0</td>\n",
       "      <td>Darlinghurst</td>\n",
       "      <td>3.0</td>\n",
       "      <td>1</td>\n",
       "      <td>1</td>\n",
       "      <td>Darlinghurst, New South Wales, Australia</td>\n",
       "      <td>Sydney</td>\n",
       "      <td>-33.87964</td>\n",
       "      <td>151.21680</td>\n",
       "      <td>2</td>\n",
       "      <td>1</td>\n",
       "      <td>1</td>\n",
       "      <td>2</td>\n",
       "      <td>90</td>\n",
       "      <td>2</td>\n",
       "      <td>2</td>\n",
       "      <td>90</td>\n",
       "      <td>90</td>\n",
       "      <td>2</td>\n",
       "      <td>90</td>\n",
       "      <td>1</td>\n",
       "      <td>5</td>\n",
       "      <td>31</td>\n",
       "      <td>61</td>\n",
       "      <td>336</td>\n",
       "      <td>383</td>\n",
       "      <td>18</td>\n",
       "      <td>6</td>\n",
       "      <td>2012-02-23</td>\n",
       "      <td>2021-12-03</td>\n",
       "      <td>4.42</td>\n",
       "      <td>4.58</td>\n",
       "      <td>4.40</td>\n",
       "      <td>4.77</td>\n",
       "      <td>4.67</td>\n",
       "      <td>4.70</td>\n",
       "      <td>4.47</td>\n",
       "      <td>PID-STRA-24061-7</td>\n",
       "      <td>1</td>\n",
       "      <td>1</td>\n",
       "      <td>0</td>\n",
       "      <td>1</td>\n",
       "      <td>0</td>\n",
       "      <td>3.21</td>\n",
       "      <td>82.0</td>\n",
       "      <td>1</td>\n",
       "      <td>1</td>\n",
       "      <td>1</td>\n",
       "      <td>1</td>\n",
       "      <td>1</td>\n",
       "      <td>1</td>\n",
       "      <td>1</td>\n",
       "      <td>1</td>\n",
       "      <td>2</td>\n",
       "      <td>5</td>\n",
       "      <td>3</td>\n",
       "      <td>4</td>\n",
       "      <td>1</td>\n",
       "      <td>1</td>\n",
       "      <td>1</td>\n",
       "      <td>1</td>\n",
       "      <td>1</td>\n",
       "      <td>1</td>\n",
       "      <td>1</td>\n",
       "    </tr>\n",
       "  </tbody>\n",
       "</table>\n",
       "</div>"
      ],
      "text/plain": [
       "   ID                                               name  \\\n",
       "0   0                                Manly Harbour House   \n",
       "1   1  Unique Designer Rooftop Apartment in City Loca...   \n",
       "\n",
       "                                         description  \\\n",
       "0  Beautifully renovated, spacious and quiet, our...   \n",
       "1  Penthouse living at it best ... You will be st...   \n",
       "\n",
       "                               neighborhood_overview host_name  host_since  \\\n",
       "0  Balgowlah Heights is one of the most prestigio...     Heidi  2009-11-20   \n",
       "1  The location is really central and there is nu...     Morag  2009-12-03   \n",
       "\n",
       "                        host_location  \\\n",
       "0  Sydney, New South Wales, Australia   \n",
       "1  Sydney, New South Wales, Australia   \n",
       "\n",
       "                                          host_about  host_response_rate  \\\n",
       "0  I am a Canadian who has made Australia her hom...               100.0   \n",
       "1  I am originally Scottish but I have made Sydne...               100.0   \n",
       "\n",
       "   host_acceptance_rate  host_is_superhost host_neighbourhood  \\\n",
       "0                  69.0                  1          Balgowlah   \n",
       "1                 100.0                  0       Darlinghurst   \n",
       "\n",
       "   host_listings_count  host_has_profile_pic  host_identity_verified  \\\n",
       "0                  2.0                     1                       1   \n",
       "1                  3.0                     1                       1   \n",
       "\n",
       "                              neighbourhood neighbourhood_cleansed  latitude  \\\n",
       "0     Balgowlah, New South Wales, Australia                  Manly -33.80084   \n",
       "1  Darlinghurst, New South Wales, Australia                 Sydney -33.87964   \n",
       "\n",
       "   longitude  accommodates  bedrooms  beds  minimum_nights  maximum_nights  \\\n",
       "0  151.26378             6         3     3               2              22   \n",
       "1  151.21680             2         1     1               2              90   \n",
       "\n",
       "   minimum_minimum_nights  maximum_minimum_nights  minimum_maximum_nights  \\\n",
       "0                       2                       2                      22   \n",
       "1                       2                       2                      90   \n",
       "\n",
       "   maximum_maximum_nights  minimum_nights_avg_ntm  maximum_nights_avg_ntm  \\\n",
       "0                      22                       2                      22   \n",
       "1                      90                       2                      90   \n",
       "\n",
       "   has_availability  availability_30  availability_60  availability_90  \\\n",
       "0                 1                0               14               14   \n",
       "1                 1                5               31               61   \n",
       "\n",
       "   availability_365  number_of_reviews  number_of_reviews_ltm  \\\n",
       "0               174                  3                      1   \n",
       "1               336                383                     18   \n",
       "\n",
       "   number_of_reviews_l30d first_review last_review  review_scores_rating  \\\n",
       "0                       0   2016-01-02  2021-06-01                  4.67   \n",
       "1                       6   2012-02-23  2021-12-03                  4.42   \n",
       "\n",
       "   review_scores_accuracy  review_scores_cleanliness  review_scores_checkin  \\\n",
       "0                    4.33                       4.33                   4.67   \n",
       "1                    4.58                       4.40                   4.77   \n",
       "\n",
       "   review_scores_communication  review_scores_location  review_scores_value  \\\n",
       "0                         4.33                    4.67                 4.33   \n",
       "1                         4.67                    4.70                 4.47   \n",
       "\n",
       "            license  instant_bookable  calculated_host_listings_count  \\\n",
       "0            Exempt                 0                               2   \n",
       "1  PID-STRA-24061-7                 1                               1   \n",
       "\n",
       "   calculated_host_listings_count_entire_homes  \\\n",
       "0                                            2   \n",
       "1                                            0   \n",
       "\n",
       "   calculated_host_listings_count_private_rooms  \\\n",
       "0                                             0   \n",
       "1                                             1   \n",
       "\n",
       "   calculated_host_listings_count_shared_rooms  reviews_per_month  price  \\\n",
       "0                                            0               0.04  470.0   \n",
       "1                                            0               3.21   82.0   \n",
       "\n",
       "   email  phone  reviews  jumio  Long term stays allowed  Wifi  Essentials  \\\n",
       "0      1      1        1      1                        0     1           1   \n",
       "1      1      1        1      1                        1     1           1   \n",
       "\n",
       "   Smoke alarm  map_property_type  map_bathrooms  room_maptype  response_time  \\\n",
       "0            1                  5              3             4              3   \n",
       "1            1                  2              5             3              4   \n",
       "\n",
       "   has_name  has_description  has_neighborhood_overview  has_host_about  \\\n",
       "0         1                1                          1               1   \n",
       "1         1                1                          1               1   \n",
       "\n",
       "   has_host_neighbourhood  has_neighbourhood  has_license  \n",
       "0                       1                  1            1  \n",
       "1                       1                  1            1  "
      ]
     },
     "execution_count": 61,
     "metadata": {},
     "output_type": "execute_result"
    }
   ],
   "source": [
    "df_train.head(2)"
   ]
  },
  {
   "cell_type": "code",
   "execution_count": 59,
   "id": "bb53af94-d769-4a1d-a4a1-433f3dc7b46d",
   "metadata": {},
   "outputs": [],
   "source": [
    "#Task 3 code here\n",
    "from sklearn.model_selection import train_test_split\n",
    "\n",
    "X = df_train.loc[:, df_train.columns != 'price']\n",
    "y = df_train['price']\n",
    "\n",
    "X_train, X_test, y_train, y_test = train_test_split(X, y, test_size=0.3, random_state=0)"
   ]
  },
  {
   "cell_type": "code",
   "execution_count": 62,
   "id": "fc23c2ea",
   "metadata": {},
   "outputs": [
    {
     "ename": "ValueError",
     "evalue": "could not convert string to float: 'Sydney Olympic Park Warm love apartment'",
     "output_type": "error",
     "traceback": [
      "\u001b[1;31m---------------------------------------------------------------------------\u001b[0m",
      "\u001b[1;31mValueError\u001b[0m                                Traceback (most recent call last)",
      "\u001b[1;32m~\\AppData\\Local\\Temp/ipykernel_19240/2723119229.py\u001b[0m in \u001b[0;36m<module>\u001b[1;34m\u001b[0m\n\u001b[0;32m      6\u001b[0m \u001b[0mslr\u001b[0m \u001b[1;33m=\u001b[0m \u001b[0mLinearRegression\u001b[0m\u001b[1;33m(\u001b[0m\u001b[1;33m)\u001b[0m\u001b[1;33m\u001b[0m\u001b[1;33m\u001b[0m\u001b[0m\n\u001b[0;32m      7\u001b[0m \u001b[1;33m\u001b[0m\u001b[0m\n\u001b[1;32m----> 8\u001b[1;33m \u001b[0mslr\u001b[0m\u001b[1;33m.\u001b[0m\u001b[0mfit\u001b[0m\u001b[1;33m(\u001b[0m\u001b[0mX_train\u001b[0m\u001b[1;33m,\u001b[0m \u001b[0my_train\u001b[0m\u001b[1;33m)\u001b[0m\u001b[1;33m\u001b[0m\u001b[1;33m\u001b[0m\u001b[0m\n\u001b[0m\u001b[0;32m      9\u001b[0m \u001b[1;33m\u001b[0m\u001b[0m\n\u001b[0;32m     10\u001b[0m \u001b[0my_train_pred\u001b[0m \u001b[1;33m=\u001b[0m \u001b[0mslr\u001b[0m\u001b[1;33m.\u001b[0m\u001b[0mpredict\u001b[0m\u001b[1;33m(\u001b[0m\u001b[0mX_train\u001b[0m\u001b[1;33m)\u001b[0m\u001b[1;33m\u001b[0m\u001b[1;33m\u001b[0m\u001b[0m\n",
      "\u001b[1;32mc:\\Users\\haiho\\anaconda3\\lib\\site-packages\\sklearn\\linear_model\\_base.py\u001b[0m in \u001b[0;36mfit\u001b[1;34m(self, X, y, sample_weight)\u001b[0m\n\u001b[0;32m    516\u001b[0m         \u001b[0maccept_sparse\u001b[0m \u001b[1;33m=\u001b[0m \u001b[1;32mFalse\u001b[0m \u001b[1;32mif\u001b[0m \u001b[0mself\u001b[0m\u001b[1;33m.\u001b[0m\u001b[0mpositive\u001b[0m \u001b[1;32melse\u001b[0m \u001b[1;33m[\u001b[0m\u001b[1;34m'csr'\u001b[0m\u001b[1;33m,\u001b[0m \u001b[1;34m'csc'\u001b[0m\u001b[1;33m,\u001b[0m \u001b[1;34m'coo'\u001b[0m\u001b[1;33m]\u001b[0m\u001b[1;33m\u001b[0m\u001b[1;33m\u001b[0m\u001b[0m\n\u001b[0;32m    517\u001b[0m \u001b[1;33m\u001b[0m\u001b[0m\n\u001b[1;32m--> 518\u001b[1;33m         X, y = self._validate_data(X, y, accept_sparse=accept_sparse,\n\u001b[0m\u001b[0;32m    519\u001b[0m                                    y_numeric=True, multi_output=True)\n\u001b[0;32m    520\u001b[0m \u001b[1;33m\u001b[0m\u001b[0m\n",
      "\u001b[1;32mc:\\Users\\haiho\\anaconda3\\lib\\site-packages\\sklearn\\base.py\u001b[0m in \u001b[0;36m_validate_data\u001b[1;34m(self, X, y, reset, validate_separately, **check_params)\u001b[0m\n\u001b[0;32m    431\u001b[0m                 \u001b[0my\u001b[0m \u001b[1;33m=\u001b[0m \u001b[0mcheck_array\u001b[0m\u001b[1;33m(\u001b[0m\u001b[0my\u001b[0m\u001b[1;33m,\u001b[0m \u001b[1;33m**\u001b[0m\u001b[0mcheck_y_params\u001b[0m\u001b[1;33m)\u001b[0m\u001b[1;33m\u001b[0m\u001b[1;33m\u001b[0m\u001b[0m\n\u001b[0;32m    432\u001b[0m             \u001b[1;32melse\u001b[0m\u001b[1;33m:\u001b[0m\u001b[1;33m\u001b[0m\u001b[1;33m\u001b[0m\u001b[0m\n\u001b[1;32m--> 433\u001b[1;33m                 \u001b[0mX\u001b[0m\u001b[1;33m,\u001b[0m \u001b[0my\u001b[0m \u001b[1;33m=\u001b[0m \u001b[0mcheck_X_y\u001b[0m\u001b[1;33m(\u001b[0m\u001b[0mX\u001b[0m\u001b[1;33m,\u001b[0m \u001b[0my\u001b[0m\u001b[1;33m,\u001b[0m \u001b[1;33m**\u001b[0m\u001b[0mcheck_params\u001b[0m\u001b[1;33m)\u001b[0m\u001b[1;33m\u001b[0m\u001b[1;33m\u001b[0m\u001b[0m\n\u001b[0m\u001b[0;32m    434\u001b[0m             \u001b[0mout\u001b[0m \u001b[1;33m=\u001b[0m \u001b[0mX\u001b[0m\u001b[1;33m,\u001b[0m \u001b[0my\u001b[0m\u001b[1;33m\u001b[0m\u001b[1;33m\u001b[0m\u001b[0m\n\u001b[0;32m    435\u001b[0m \u001b[1;33m\u001b[0m\u001b[0m\n",
      "\u001b[1;32mc:\\Users\\haiho\\anaconda3\\lib\\site-packages\\sklearn\\utils\\validation.py\u001b[0m in \u001b[0;36minner_f\u001b[1;34m(*args, **kwargs)\u001b[0m\n\u001b[0;32m     61\u001b[0m             \u001b[0mextra_args\u001b[0m \u001b[1;33m=\u001b[0m \u001b[0mlen\u001b[0m\u001b[1;33m(\u001b[0m\u001b[0margs\u001b[0m\u001b[1;33m)\u001b[0m \u001b[1;33m-\u001b[0m \u001b[0mlen\u001b[0m\u001b[1;33m(\u001b[0m\u001b[0mall_args\u001b[0m\u001b[1;33m)\u001b[0m\u001b[1;33m\u001b[0m\u001b[1;33m\u001b[0m\u001b[0m\n\u001b[0;32m     62\u001b[0m             \u001b[1;32mif\u001b[0m \u001b[0mextra_args\u001b[0m \u001b[1;33m<=\u001b[0m \u001b[1;36m0\u001b[0m\u001b[1;33m:\u001b[0m\u001b[1;33m\u001b[0m\u001b[1;33m\u001b[0m\u001b[0m\n\u001b[1;32m---> 63\u001b[1;33m                 \u001b[1;32mreturn\u001b[0m \u001b[0mf\u001b[0m\u001b[1;33m(\u001b[0m\u001b[1;33m*\u001b[0m\u001b[0margs\u001b[0m\u001b[1;33m,\u001b[0m \u001b[1;33m**\u001b[0m\u001b[0mkwargs\u001b[0m\u001b[1;33m)\u001b[0m\u001b[1;33m\u001b[0m\u001b[1;33m\u001b[0m\u001b[0m\n\u001b[0m\u001b[0;32m     64\u001b[0m \u001b[1;33m\u001b[0m\u001b[0m\n\u001b[0;32m     65\u001b[0m             \u001b[1;31m# extra_args > 0\u001b[0m\u001b[1;33m\u001b[0m\u001b[1;33m\u001b[0m\u001b[0m\n",
      "\u001b[1;32mc:\\Users\\haiho\\anaconda3\\lib\\site-packages\\sklearn\\utils\\validation.py\u001b[0m in \u001b[0;36mcheck_X_y\u001b[1;34m(X, y, accept_sparse, accept_large_sparse, dtype, order, copy, force_all_finite, ensure_2d, allow_nd, multi_output, ensure_min_samples, ensure_min_features, y_numeric, estimator)\u001b[0m\n\u001b[0;32m    869\u001b[0m         \u001b[1;32mraise\u001b[0m \u001b[0mValueError\u001b[0m\u001b[1;33m(\u001b[0m\u001b[1;34m\"y cannot be None\"\u001b[0m\u001b[1;33m)\u001b[0m\u001b[1;33m\u001b[0m\u001b[1;33m\u001b[0m\u001b[0m\n\u001b[0;32m    870\u001b[0m \u001b[1;33m\u001b[0m\u001b[0m\n\u001b[1;32m--> 871\u001b[1;33m     X = check_array(X, accept_sparse=accept_sparse,\n\u001b[0m\u001b[0;32m    872\u001b[0m                     \u001b[0maccept_large_sparse\u001b[0m\u001b[1;33m=\u001b[0m\u001b[0maccept_large_sparse\u001b[0m\u001b[1;33m,\u001b[0m\u001b[1;33m\u001b[0m\u001b[1;33m\u001b[0m\u001b[0m\n\u001b[0;32m    873\u001b[0m                     \u001b[0mdtype\u001b[0m\u001b[1;33m=\u001b[0m\u001b[0mdtype\u001b[0m\u001b[1;33m,\u001b[0m \u001b[0morder\u001b[0m\u001b[1;33m=\u001b[0m\u001b[0morder\u001b[0m\u001b[1;33m,\u001b[0m \u001b[0mcopy\u001b[0m\u001b[1;33m=\u001b[0m\u001b[0mcopy\u001b[0m\u001b[1;33m,\u001b[0m\u001b[1;33m\u001b[0m\u001b[1;33m\u001b[0m\u001b[0m\n",
      "\u001b[1;32mc:\\Users\\haiho\\anaconda3\\lib\\site-packages\\sklearn\\utils\\validation.py\u001b[0m in \u001b[0;36minner_f\u001b[1;34m(*args, **kwargs)\u001b[0m\n\u001b[0;32m     61\u001b[0m             \u001b[0mextra_args\u001b[0m \u001b[1;33m=\u001b[0m \u001b[0mlen\u001b[0m\u001b[1;33m(\u001b[0m\u001b[0margs\u001b[0m\u001b[1;33m)\u001b[0m \u001b[1;33m-\u001b[0m \u001b[0mlen\u001b[0m\u001b[1;33m(\u001b[0m\u001b[0mall_args\u001b[0m\u001b[1;33m)\u001b[0m\u001b[1;33m\u001b[0m\u001b[1;33m\u001b[0m\u001b[0m\n\u001b[0;32m     62\u001b[0m             \u001b[1;32mif\u001b[0m \u001b[0mextra_args\u001b[0m \u001b[1;33m<=\u001b[0m \u001b[1;36m0\u001b[0m\u001b[1;33m:\u001b[0m\u001b[1;33m\u001b[0m\u001b[1;33m\u001b[0m\u001b[0m\n\u001b[1;32m---> 63\u001b[1;33m                 \u001b[1;32mreturn\u001b[0m \u001b[0mf\u001b[0m\u001b[1;33m(\u001b[0m\u001b[1;33m*\u001b[0m\u001b[0margs\u001b[0m\u001b[1;33m,\u001b[0m \u001b[1;33m**\u001b[0m\u001b[0mkwargs\u001b[0m\u001b[1;33m)\u001b[0m\u001b[1;33m\u001b[0m\u001b[1;33m\u001b[0m\u001b[0m\n\u001b[0m\u001b[0;32m     64\u001b[0m \u001b[1;33m\u001b[0m\u001b[0m\n\u001b[0;32m     65\u001b[0m             \u001b[1;31m# extra_args > 0\u001b[0m\u001b[1;33m\u001b[0m\u001b[1;33m\u001b[0m\u001b[0m\n",
      "\u001b[1;32mc:\\Users\\haiho\\anaconda3\\lib\\site-packages\\sklearn\\utils\\validation.py\u001b[0m in \u001b[0;36mcheck_array\u001b[1;34m(array, accept_sparse, accept_large_sparse, dtype, order, copy, force_all_finite, ensure_2d, allow_nd, ensure_min_samples, ensure_min_features, estimator)\u001b[0m\n\u001b[0;32m    671\u001b[0m                     \u001b[0marray\u001b[0m \u001b[1;33m=\u001b[0m \u001b[0marray\u001b[0m\u001b[1;33m.\u001b[0m\u001b[0mastype\u001b[0m\u001b[1;33m(\u001b[0m\u001b[0mdtype\u001b[0m\u001b[1;33m,\u001b[0m \u001b[0mcasting\u001b[0m\u001b[1;33m=\u001b[0m\u001b[1;34m\"unsafe\"\u001b[0m\u001b[1;33m,\u001b[0m \u001b[0mcopy\u001b[0m\u001b[1;33m=\u001b[0m\u001b[1;32mFalse\u001b[0m\u001b[1;33m)\u001b[0m\u001b[1;33m\u001b[0m\u001b[1;33m\u001b[0m\u001b[0m\n\u001b[0;32m    672\u001b[0m                 \u001b[1;32melse\u001b[0m\u001b[1;33m:\u001b[0m\u001b[1;33m\u001b[0m\u001b[1;33m\u001b[0m\u001b[0m\n\u001b[1;32m--> 673\u001b[1;33m                     \u001b[0marray\u001b[0m \u001b[1;33m=\u001b[0m \u001b[0mnp\u001b[0m\u001b[1;33m.\u001b[0m\u001b[0masarray\u001b[0m\u001b[1;33m(\u001b[0m\u001b[0marray\u001b[0m\u001b[1;33m,\u001b[0m \u001b[0morder\u001b[0m\u001b[1;33m=\u001b[0m\u001b[0morder\u001b[0m\u001b[1;33m,\u001b[0m \u001b[0mdtype\u001b[0m\u001b[1;33m=\u001b[0m\u001b[0mdtype\u001b[0m\u001b[1;33m)\u001b[0m\u001b[1;33m\u001b[0m\u001b[1;33m\u001b[0m\u001b[0m\n\u001b[0m\u001b[0;32m    674\u001b[0m             \u001b[1;32mexcept\u001b[0m \u001b[0mComplexWarning\u001b[0m \u001b[1;32mas\u001b[0m \u001b[0mcomplex_warning\u001b[0m\u001b[1;33m:\u001b[0m\u001b[1;33m\u001b[0m\u001b[1;33m\u001b[0m\u001b[0m\n\u001b[0;32m    675\u001b[0m                 raise ValueError(\"Complex data not supported\\n\"\n",
      "\u001b[1;32mc:\\Users\\haiho\\anaconda3\\lib\\site-packages\\numpy\\core\\_asarray.py\u001b[0m in \u001b[0;36masarray\u001b[1;34m(a, dtype, order, like)\u001b[0m\n\u001b[0;32m    100\u001b[0m         \u001b[1;32mreturn\u001b[0m \u001b[0m_asarray_with_like\u001b[0m\u001b[1;33m(\u001b[0m\u001b[0ma\u001b[0m\u001b[1;33m,\u001b[0m \u001b[0mdtype\u001b[0m\u001b[1;33m=\u001b[0m\u001b[0mdtype\u001b[0m\u001b[1;33m,\u001b[0m \u001b[0morder\u001b[0m\u001b[1;33m=\u001b[0m\u001b[0morder\u001b[0m\u001b[1;33m,\u001b[0m \u001b[0mlike\u001b[0m\u001b[1;33m=\u001b[0m\u001b[0mlike\u001b[0m\u001b[1;33m)\u001b[0m\u001b[1;33m\u001b[0m\u001b[1;33m\u001b[0m\u001b[0m\n\u001b[0;32m    101\u001b[0m \u001b[1;33m\u001b[0m\u001b[0m\n\u001b[1;32m--> 102\u001b[1;33m     \u001b[1;32mreturn\u001b[0m \u001b[0marray\u001b[0m\u001b[1;33m(\u001b[0m\u001b[0ma\u001b[0m\u001b[1;33m,\u001b[0m \u001b[0mdtype\u001b[0m\u001b[1;33m,\u001b[0m \u001b[0mcopy\u001b[0m\u001b[1;33m=\u001b[0m\u001b[1;32mFalse\u001b[0m\u001b[1;33m,\u001b[0m \u001b[0morder\u001b[0m\u001b[1;33m=\u001b[0m\u001b[0morder\u001b[0m\u001b[1;33m)\u001b[0m\u001b[1;33m\u001b[0m\u001b[1;33m\u001b[0m\u001b[0m\n\u001b[0m\u001b[0;32m    103\u001b[0m \u001b[1;33m\u001b[0m\u001b[0m\n\u001b[0;32m    104\u001b[0m \u001b[1;33m\u001b[0m\u001b[0m\n",
      "\u001b[1;32mc:\\Users\\haiho\\anaconda3\\lib\\site-packages\\pandas\\core\\generic.py\u001b[0m in \u001b[0;36m__array__\u001b[1;34m(self, dtype)\u001b[0m\n\u001b[0;32m   1991\u001b[0m \u001b[1;33m\u001b[0m\u001b[0m\n\u001b[0;32m   1992\u001b[0m     \u001b[1;32mdef\u001b[0m \u001b[0m__array__\u001b[0m\u001b[1;33m(\u001b[0m\u001b[0mself\u001b[0m\u001b[1;33m,\u001b[0m \u001b[0mdtype\u001b[0m\u001b[1;33m:\u001b[0m \u001b[0mNpDtype\u001b[0m \u001b[1;33m|\u001b[0m \u001b[1;32mNone\u001b[0m \u001b[1;33m=\u001b[0m \u001b[1;32mNone\u001b[0m\u001b[1;33m)\u001b[0m \u001b[1;33m->\u001b[0m \u001b[0mnp\u001b[0m\u001b[1;33m.\u001b[0m\u001b[0mndarray\u001b[0m\u001b[1;33m:\u001b[0m\u001b[1;33m\u001b[0m\u001b[1;33m\u001b[0m\u001b[0m\n\u001b[1;32m-> 1993\u001b[1;33m         \u001b[1;32mreturn\u001b[0m \u001b[0mnp\u001b[0m\u001b[1;33m.\u001b[0m\u001b[0masarray\u001b[0m\u001b[1;33m(\u001b[0m\u001b[0mself\u001b[0m\u001b[1;33m.\u001b[0m\u001b[0m_values\u001b[0m\u001b[1;33m,\u001b[0m \u001b[0mdtype\u001b[0m\u001b[1;33m=\u001b[0m\u001b[0mdtype\u001b[0m\u001b[1;33m)\u001b[0m\u001b[1;33m\u001b[0m\u001b[1;33m\u001b[0m\u001b[0m\n\u001b[0m\u001b[0;32m   1994\u001b[0m \u001b[1;33m\u001b[0m\u001b[0m\n\u001b[0;32m   1995\u001b[0m     def __array_wrap__(\n",
      "\u001b[1;32mc:\\Users\\haiho\\anaconda3\\lib\\site-packages\\numpy\\core\\_asarray.py\u001b[0m in \u001b[0;36masarray\u001b[1;34m(a, dtype, order, like)\u001b[0m\n\u001b[0;32m    100\u001b[0m         \u001b[1;32mreturn\u001b[0m \u001b[0m_asarray_with_like\u001b[0m\u001b[1;33m(\u001b[0m\u001b[0ma\u001b[0m\u001b[1;33m,\u001b[0m \u001b[0mdtype\u001b[0m\u001b[1;33m=\u001b[0m\u001b[0mdtype\u001b[0m\u001b[1;33m,\u001b[0m \u001b[0morder\u001b[0m\u001b[1;33m=\u001b[0m\u001b[0morder\u001b[0m\u001b[1;33m,\u001b[0m \u001b[0mlike\u001b[0m\u001b[1;33m=\u001b[0m\u001b[0mlike\u001b[0m\u001b[1;33m)\u001b[0m\u001b[1;33m\u001b[0m\u001b[1;33m\u001b[0m\u001b[0m\n\u001b[0;32m    101\u001b[0m \u001b[1;33m\u001b[0m\u001b[0m\n\u001b[1;32m--> 102\u001b[1;33m     \u001b[1;32mreturn\u001b[0m \u001b[0marray\u001b[0m\u001b[1;33m(\u001b[0m\u001b[0ma\u001b[0m\u001b[1;33m,\u001b[0m \u001b[0mdtype\u001b[0m\u001b[1;33m,\u001b[0m \u001b[0mcopy\u001b[0m\u001b[1;33m=\u001b[0m\u001b[1;32mFalse\u001b[0m\u001b[1;33m,\u001b[0m \u001b[0morder\u001b[0m\u001b[1;33m=\u001b[0m\u001b[0morder\u001b[0m\u001b[1;33m)\u001b[0m\u001b[1;33m\u001b[0m\u001b[1;33m\u001b[0m\u001b[0m\n\u001b[0m\u001b[0;32m    103\u001b[0m \u001b[1;33m\u001b[0m\u001b[0m\n\u001b[0;32m    104\u001b[0m \u001b[1;33m\u001b[0m\u001b[0m\n",
      "\u001b[1;31mValueError\u001b[0m: could not convert string to float: 'Sydney Olympic Park Warm love apartment'"
     ]
    }
   ],
   "source": [
    "from sklearn.linear_model import LinearRegression\n",
    "\n",
    "slr = LinearRegression()\n",
    "\n",
    "slr.fit(X_train, y_train)\n",
    "\n",
    "y_train_pred = slr.predict(X_train)\n",
    "y_test_pred = slr.predict(X_test)"
   ]
  },
  {
   "cell_type": "code",
   "execution_count": null,
   "id": "c0687be4",
   "metadata": {},
   "outputs": [],
   "source": [
    "from sklearn.feature_selection import RFE\n",
    "from sklearn.linear_model import LinearRegression\n",
    "from sklearn.metrics import accuracy_score\n",
    "from sklearn.svm import SVR\n",
    "\n",
    "\n",
    "acc_scores = []\n",
    "for i in range(1,69):\n",
    "    slr = LinearRegression()\n",
    "    estimator = SVR(kernel=\"linear\")\n",
    "    rfe = RFE(estimator, n_features_to_select=i)\n",
    "    #training model\n",
    "    slr.fit(X_train, y_train)\n",
    "    #predicting on test set \n",
    "    y_pred = rfe.predict(X_test)\n",
    "    acc_score = accuracy_score(y_test, y_pred)\n",
    "    #print this\n",
    "    #print (\"Acc on test set using\", i, \"feature: \", acc_score)\n",
    "    #print (\"Feature which have been chosen:\", X_train.columns[rfe.support_])\n",
    "    #print(\"\")\n",
    "    # append to the list \n",
    "    acc_scores.append(acc_score)"
   ]
  },
  {
   "cell_type": "code",
   "execution_count": null,
   "id": "b9dfe3be",
   "metadata": {},
   "outputs": [],
   "source": [
    "# Plotting the accuracy number\n",
    "plotting = plt.plot(range(1, X_train.shape[1]+1), acc_scores, color= \"salmon\")\n",
    "plt.xlabel(\"Number of Features\")\n",
    "plt.ylabel(\"Accuracy\")\n",
    "plt.xticks(np.arange(1, 5 , step=1))\n",
    "plt.show()"
   ]
  },
  {
   "cell_type": "markdown",
   "id": "9a1010e5-03e6-475b-a9f8-51b19cb556d2",
   "metadata": {},
   "source": [
    "`(Task 3 - insert more cells as required)`"
   ]
  }
 ],
 "metadata": {
  "interpreter": {
   "hash": "0621fa118fe95c332595f71061851d544636243730502c2e6e5b935c640e0892"
  },
  "kernelspec": {
   "display_name": "Python 3 (ipykernel)",
   "language": "python",
   "name": "python3"
  },
  "language_info": {
   "codemirror_mode": {
    "name": "ipython",
    "version": 3
   },
   "file_extension": ".py",
   "mimetype": "text/x-python",
   "name": "python",
   "nbconvert_exporter": "python",
   "pygments_lexer": "ipython3",
   "version": "3.9.7"
  }
 },
 "nbformat": 4,
 "nbformat_minor": 5
}
