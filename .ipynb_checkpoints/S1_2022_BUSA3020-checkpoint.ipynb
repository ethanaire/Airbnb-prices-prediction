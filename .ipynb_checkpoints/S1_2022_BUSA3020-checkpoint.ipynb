{
 "cells": [
  {
   "cell_type": "markdown",
   "id": "a6a106c2-f185-492f-87bb-79286c2eacc4",
   "metadata": {},
   "source": [
    "### __BUSA3020 Group Assignment - Predicting Airbnb Listing Prices in Sydney__"
   ]
  },
  {
   "cell_type": "markdown",
   "id": "4c316658-edf7-4797-b078-202987b4922b",
   "metadata": {},
   "source": [
    "--- \n",
    "\n",
    "**Due Date:** Friday, 3 June 2022 @ 11.59pm (Week 13)\n",
    "\n",
    "**Overview:**   \n",
    "\n",
    "- In the group assignment you will form a team of up to 3 students (minimum 2) and participate in a forecasting competition on Kaggle\n",
    "- The goal is to predict listed property prices of Airbnb stays based on various Airbnb characteristics and regression models\n",
    "\n",
    "- You will:  \n",
    "    - Write a problem statement and perform Exploratory Data Analysis  \n",
    "    - Clean up data, deal with categorical features and missing observations, and create new variables (feature engineering)  \n",
    "    - Construct and tune forecasting models, produce forecasts and submit your predictions to Kaggle  \n",
    "    - Each member of the team will record a video presentation of their work  \n",
    "    - Marks will be awarded producing a prediction in the top 3 positions of their unit as well as for reaching the highest ranking on Kaggle amongst all teams."
   ]
  },
  {
   "cell_type": "markdown",
   "id": "f2270744-5e12-447b-a861-9719409e287c",
   "metadata": {},
   "source": [
    "**Instructions:** \n",
    "\n",
    "- Form a team of 3 students (minimum 2 students)  \n",
    "- Each team member needs to join [https://www.kaggle.com](https://www.kaggle.com/)  \n",
    "- Choose a team leader and form a team in the competition [https://www.kaggle.com/t/caad5fd1f5134d86a15ab13d37d98d19](https://www.kaggle.com/t/caad5fd1f5134d86a15ab13d37d98d19)\n",
    "    - Team leader to click on `team` and join and invite other team members to join\n",
    "    - There are two MQBS BUSA units competing in this competition\n",
    "    - Your **team's name must start** with your unit code, for instance you could have a team called BUSA3020_PR3D1CT0RS\n",
    "- All team members should work on all the tasks listed below however   \n",
    "    - **Choose a team member who will be responsible for one of each of the 3 tasks listed below**    "
   ]
  },
  {
   "cell_type": "markdown",
   "id": "242ee56b-c5b9-4078-8754-e04f90797514",
   "metadata": {},
   "source": [
    "**Marks**: \n",
    "\n",
    "- Total Marks: 40\n",
    "- Your mark will consist of:  \n",
    "    - 50% x overall assignment mark + 45% x mark for the task that you are responsible for + 5% x mark received from your teammates for your effort in group work \n",
    "- 7 marks will be deducted from each Task for which there is no video presentation "
   ]
  },
  {
   "cell_type": "markdown",
   "id": "91f70e4c-b794-4555-b170-d80b628b2904",
   "metadata": {},
   "source": [
    "**Competition Marks:**\n",
    "- 5 marks: Ranking in the top 3 places of your unit on Kaggle (make sure you name your team as instructed above)\n",
    "- 2 marks: Reaching the first place in your unit  (make sure you name your team as instructed above)"
   ]
  },
  {
   "cell_type": "markdown",
   "id": "cc3180e9-c3cc-494c-ae64-d3b9701e10e8",
   "metadata": {},
   "source": [
    "\n",
    "**Submissions:**  \n",
    "\n",
    "1. On Kaggle: submit your team's forecast in order to be ranked by Kaggle\n",
    "    - Can do this as many times as necessary while building their model  \n",
    "2. On iLearn **only team leader to submit** this Jupyter notebook re-named `Group_Assignment_MQ_ID.ipynb` where MQ_ID is team leader's MQ ID number \n",
    "    - The Jupyter notebook must contain team members names/ID numbers, and team name in the competition\n",
    "    - Provide answers to the 3 Tasks below in the allocated cells including all codes/outputs/writeups \n",
    "    - One 15 minute video recording of your work \n",
    "        - Each team member to provide a 5 minute presentation of the Task that they led (it is best to jointly record your video using Zoom)\n",
    "        - When recording your video make sure your face is visible, that you share your Jupyter Notebook and explain everything you've done in the submitted Jupyter notebook on screen\n",
    "        - 7 marks will be deducted from each Task for which there is no video presentation or if you don't follow the above instructions\n",
    "        \n",
    "3. On iLearn each student needs to submit a file with their teammates' names, SID and a mark for their group effort (out of 100%)\n",
    "\n"
   ]
  },
  {
   "cell_type": "markdown",
   "id": "e5dbce8a-bf4f-4155-9336-6367fd239f6a",
   "metadata": {},
   "source": [
    "---"
   ]
  },
  {
   "cell_type": "markdown",
   "id": "cfe68a60-5e8b-4c4e-b562-3a82fa426395",
   "metadata": {},
   "source": [
    "**Fill out the following information**\n",
    "\n",
    "For each team member provide name, Student ID number and which task is performed below"
   ]
  },
  {
   "cell_type": "markdown",
   "id": "bac487d3-755a-4a69-a22f-d599dbdd7979",
   "metadata": {},
   "source": [
    "- Team Name on Kaggle: `Real Airbnb`\n",
    "- Team Leader and Team Member 1: `Hai Hoang Nguyen`\n",
    "- Team Member 2: `Dang Thanh Hung Nguyen`\n",
    "- Team Member 3: `Lan Anh Duong`"
   ]
  },
  {
   "cell_type": "markdown",
   "id": "b24de689-928d-4991-b337-760c12780e5d",
   "metadata": {},
   "source": [
    "---\n",
    "\n",
    "## Task 1: Problem Description and Initial Data Analysis\n",
    "\n",
    "1. Read the Competition Overview on Kaggle [https://www.kaggle.com/t/caad5fd1f5134d86a15ab13d37d98d19](https://www.kaggle.com/t/caad5fd1f5134d86a15ab13d37d98d19)\n",
    "2. Referring to Competition Overview and the data provided on Kaggle write about a 500 words **Problem Description** focusing on key points that will need to be addressed as first steps in Tasks 2 and 3 below, using the following headings:\n",
    "    - Forecasting Problem\n",
    "    - Evaluation Criteria\n",
    "    - Types of Variables/Features\n",
    "    - Data summary and main data characteristics\n",
    "    - Missing Values (only explain what you found at this stage)\n",
    "    \n",
    "Total Marks: 11\n"
   ]
  },
  {
   "cell_type": "markdown",
   "id": "c3e0b039-ad04-41f3-9aa2-1a19f67e2f03",
   "metadata": {},
   "source": [
    "**Forcasting Problem:**"
   ]
  },
  {
   "cell_type": "markdown",
   "id": "a730c28b-d615-4407-b576-735d8b365050",
   "metadata": {},
   "source": [
    "**Evaluation Criteria:**"
   ]
  },
  {
   "cell_type": "markdown",
   "id": "78de992b-9187-48b9-8139-939a5f71a801",
   "metadata": {},
   "source": [
    "**Types of Variables/Features:**"
   ]
  },
  {
   "cell_type": "code",
   "execution_count": 134,
   "id": "5dcfd49e-fcbb-4eaa-936b-144b574495d4",
   "metadata": {},
   "outputs": [],
   "source": [
    "#Task 1 code here, insert more cells if required\n",
    "import pandas as pd \n",
    "import numpy as np\n",
    "\n",
    "pd.set_option('display.max_columns', None)\n",
    "pd.set_option('display.max_rows', None)\n",
    "\n",
    "df_train = pd.read_csv('data/train.csv')\n",
    "df_test = pd.read_csv('data/test.csv')\n",
    "\n",
    "#df_train.info()"
   ]
  },
  {
   "cell_type": "code",
   "execution_count": 2,
   "id": "b582abd9-fb66-4cba-adc8-75fe4d9cae26",
   "metadata": {},
   "outputs": [],
   "source": [
    "#df_test.info()"
   ]
  },
  {
   "cell_type": "markdown",
   "id": "b01722c6-cdf3-4306-bad6-0977b8eb4b5b",
   "metadata": {},
   "source": [
    "**Data summary and main characteristics:**"
   ]
  },
  {
   "cell_type": "markdown",
   "id": "95b7bd3d-9c9b-4482-9771-b2bea4f8e7cf",
   "metadata": {},
   "source": [
    "**Missing values:**"
   ]
  },
  {
   "cell_type": "code",
   "execution_count": 3,
   "id": "6b6c3db5-2337-422e-a0a6-1b834614f85b",
   "metadata": {},
   "outputs": [],
   "source": [
    "#df_test.isnull().sum()"
   ]
  },
  {
   "cell_type": "markdown",
   "id": "7960bb55-92da-4528-9ee1-e06e46f00cae",
   "metadata": {},
   "source": [
    "`(Task 1, Text Here - insert more cells as required)`"
   ]
  },
  {
   "cell_type": "markdown",
   "id": "ad30df24-b18b-4f61-975f-ceebe2e2c3ab",
   "metadata": {},
   "source": [
    "---\n",
    "\n",
    "## Task 2: Data Cleaning, Missing Observations and Feature Engineering\n",
    "- In this task you will follow a set of instructions/questions listed below.\n",
    "- Make sure you **explain** each step you do both in Markdown text and on your video.\n",
    "    - Do not just read out your commands without exaplaining what they do and why you used them \n",
    "\n",
    "Total Marks: 11"
   ]
  },
  {
   "cell_type": "markdown",
   "id": "01f4ec3d-4936-4428-a204-04f133210a3d",
   "metadata": {},
   "source": [
    "**Task 2, Question 1**: Clean **all** numerical features and the target variable `price` so that they can be used in training algorithms. For instance, `host_response_rate` feature is in object format containing both numerical values and text. Extract numerical values (or equivalently eliminate the text) so that the numerical values can be used as a regular feature.  \n",
    "(2 marks)"
   ]
  },
  {
   "cell_type": "markdown",
   "id": "0c003aa0-cc94-495f-8a61-e15f4ab84c8a",
   "metadata": {},
   "source": [
    "Even though the descriptive statistics summary provided by the initial data analysis includes 34 features, we can identify 37 numerical features after having another look at the original datasets. 3 numerical variables must be in the wrong format and should be corrected for further analyis. \n",
    "\n",
    "**'host_response_rate'** and **'host_acceptance_rate'** are the two features which contain both numerical values and text on each entry, specfically number with percentage symbol (%). Since the intial data types of these two columns are string, we need to convert them to float after extracting the unwanted character. "
   ]
  },
  {
   "cell_type": "code",
   "execution_count": 135,
   "id": "08e1900c-ab93-4d37-9ac0-8dc3040ea031",
   "metadata": {},
   "outputs": [
    {
     "name": "stdout",
     "output_type": "stream",
     "text": [
      "<class 'pandas.core.series.Series'>\n",
      "<class 'pandas.core.series.Series'>\n",
      "<class 'pandas.core.series.Series'>\n",
      "<class 'pandas.core.series.Series'>\n"
     ]
    }
   ],
   "source": [
    "#examine the current data type\n",
    "print(type(df_train['host_response_rate']))\n",
    "print(type(df_train['host_acceptance_rate']))\n",
    "print(type(df_test['host_response_rate']))\n",
    "print(type(df_test['host_acceptance_rate']))"
   ]
  },
  {
   "cell_type": "code",
   "execution_count": 136,
   "id": "5785186c-da4a-4e08-8398-1a2bcf61899c",
   "metadata": {},
   "outputs": [],
   "source": [
    "#remove unwanted character \n",
    "df_train['host_response_rate'] = df_train['host_response_rate'].str.replace('%', '')\n",
    "df_train['host_acceptance_rate'] = df_train['host_acceptance_rate'].str.replace('%', '')\n",
    "df_test['host_response_rate'] = df_test['host_response_rate'].str.replace('%', '')\n",
    "df_test['host_acceptance_rate'] = df_test['host_acceptance_rate'].str.replace('%', '')"
   ]
  },
  {
   "cell_type": "code",
   "execution_count": 137,
   "id": "aa0422ae-1e4c-457b-8fd6-594272305f85",
   "metadata": {},
   "outputs": [],
   "source": [
    "#change to float type \n",
    "df_train['host_response_rate'] = df_train['host_response_rate'].astype(float)\n",
    "df_train['host_acceptance_rate'] = df_train['host_acceptance_rate'].astype(float)\n",
    "df_test['host_response_rate'] = df_test['host_response_rate'].astype(float)\n",
    "df_test['host_acceptance_rate'] = df_test['host_acceptance_rate'].astype(float)"
   ]
  },
  {
   "cell_type": "markdown",
   "id": "e7acd526-05dd-4ff7-afa9-585dc11e76bc",
   "metadata": {},
   "source": [
    "Besides, **'price'** as the target variable of the training dataset is also not denoted as a floating point attribute due to the same pattern of having an unwanted character that is the dollar sign ($). By repeating the procedure, we can convert price to the accurate data type."
   ]
  },
  {
   "cell_type": "code",
   "execution_count": 138,
   "id": "9824fd65-ad46-48a8-b00e-68d1f18d3bc3",
   "metadata": {},
   "outputs": [
    {
     "name": "stdout",
     "output_type": "stream",
     "text": [
      "<class 'pandas.core.series.Series'>\n"
     ]
    }
   ],
   "source": [
    "#examine the current data type\n",
    "print(type(df_train['price']))"
   ]
  },
  {
   "cell_type": "code",
   "execution_count": 139,
   "id": "06bacdef-62e4-41f6-9bd8-36e3ba29b4ea",
   "metadata": {},
   "outputs": [
    {
     "name": "stderr",
     "output_type": "stream",
     "text": [
      "C:\\Users\\haiho\\AppData\\Local\\Temp/ipykernel_27676/4044502110.py:2: FutureWarning: The default value of regex will change from True to False in a future version. In addition, single character regular expressions will *not* be treated as literal strings when regex=True.\n",
      "  df_train['price'] = df_train['price'].str.replace('$', '')\n"
     ]
    }
   ],
   "source": [
    "#remove unwanted character \n",
    "df_train['price'] = df_train['price'].str.replace('$', '')\n",
    "df_train['price'] = df_train['price'].str.replace(',', '')"
   ]
  },
  {
   "cell_type": "code",
   "execution_count": 140,
   "id": "5569775d-0fe9-464b-a55a-cf3969d73bbf",
   "metadata": {},
   "outputs": [],
   "source": [
    "#change to float type \n",
    "df_train['price'] = df_train['price'].astype(float)"
   ]
  },
  {
   "cell_type": "markdown",
   "id": "6313fef0-4043-4c03-8f3f-4691b5f61f11",
   "metadata": {},
   "source": [
    "`(Task 2, Question 1 Text Here - insert more cells as required)`"
   ]
  },
  {
   "cell_type": "markdown",
   "id": "773f1bb1",
   "metadata": {},
   "source": [
    "**Task 2, Question 2** Create at least 4 new features from existing features which contain multiple items of information, e.g. creating `email`,  `phone`, `reviews`, `jumio`, etc. from feature `host_verifications`.  \n",
    "(2 marks)"
   ]
  },
  {
   "cell_type": "code",
   "execution_count": 141,
   "id": "c0d210de",
   "metadata": {},
   "outputs": [
    {
     "data": {
      "text/plain": [
       "0    ['email', 'phone', 'reviews', 'jumio', 'offlin...\n",
       "1    ['email', 'phone', 'facebook', 'reviews', 'jum...\n",
       "2    ['email', 'phone', 'facebook', 'reviews', 'jum...\n",
       "3    ['email', 'phone', 'facebook', 'reviews', 'jum...\n",
       "4    ['email', 'phone', 'reviews', 'jumio', 'offlin...\n",
       "5    ['email', 'phone', 'reviews', 'jumio', 'offlin...\n",
       "6    ['email', 'phone', 'reviews', 'jumio', 'govern...\n",
       "7    ['email', 'phone', 'facebook', 'reviews', 'off...\n",
       "8          ['email', 'phone', 'reviews', 'work_email']\n",
       "9                        ['email', 'phone', 'reviews']\n",
       "Name: host_verifications, dtype: object"
      ]
     },
     "execution_count": 141,
     "metadata": {},
     "output_type": "execute_result"
    }
   ],
   "source": [
    "## Task 2, Question 2 Code Here\n",
    "df_train['host_verifications'].head(10)"
   ]
  },
  {
   "cell_type": "code",
   "execution_count": 142,
   "id": "cc276d5d-7877-4a8b-b8e0-bab298b69bb4",
   "metadata": {},
   "outputs": [
    {
     "name": "stdout",
     "output_type": "stream",
     "text": [
      "<class 'pandas.core.series.Series'>\n",
      "<class 'pandas.core.series.Series'>\n"
     ]
    }
   ],
   "source": [
    "print(type(df_train['host_verifications']))\n",
    "print(type(df_test['host_verifications']))"
   ]
  },
  {
   "cell_type": "code",
   "execution_count": 143,
   "id": "471141b3-ba2a-445f-b6a8-9ecee0ced371",
   "metadata": {},
   "outputs": [
    {
     "name": "stdout",
     "output_type": "stream",
     "text": [
      "Value counts of email verifications : 6495\n",
      "Value counts of phone verifications : 6995\n",
      "Value counts of reviews verifications : 4429\n",
      "Value counts of jumio verifications : 4795\n"
     ]
    }
   ],
   "source": [
    "for i in ['email', 'phone', 'reviews', 'jumio']:\n",
    "    count = 0\n",
    "    for row in df_train.itertuples(index = True, name ='Pandas'):\n",
    "        if i in getattr(row, 'host_verifications'):\n",
    "            count+=1\n",
    "    print('Value counts of',i,'verifications :',count)      "
   ]
  },
  {
   "cell_type": "markdown",
   "id": "1e9c457e",
   "metadata": {},
   "source": [
    "Now we design 4 functions to create 4 new features based on the host verifications:"
   ]
  },
  {
   "cell_type": "code",
   "execution_count": 144,
   "id": "78be1a32-ffc0-4207-b992-9e55cd3d615a",
   "metadata": {},
   "outputs": [],
   "source": [
    "#for email verifications \n",
    "def email_veri(row):\n",
    "    for i in range(len(row)):\n",
    "        if 'email' in row['host_verifications']:\n",
    "            return 1 \n",
    "        else: \n",
    "            return 0\n",
    "\n",
    "#for phone verifications \n",
    "def phone_veri(row):\n",
    "    for i in range(len(row)):\n",
    "        if 'phone' in row['host_verifications']:\n",
    "            return 1 \n",
    "        else: \n",
    "            return 0\n",
    "\n",
    "#for reviews verifications \n",
    "def reviews_veri(row):\n",
    "    for i in range(len(row)):\n",
    "        if 'reviews' in row['host_verifications']:\n",
    "            return 1 \n",
    "        else: \n",
    "            return 0 \n",
    "\n",
    "#for jumio verifications \n",
    "def jumio_veri(row):\n",
    "    for i in range(len(row)):\n",
    "        if 'jumio' in row['host_verifications']:\n",
    "            return 1 \n",
    "        else: \n",
    "            return 0"
   ]
  },
  {
   "cell_type": "code",
   "execution_count": 145,
   "id": "21d0e0c5-6188-4c2b-8dd2-0297bd5b5693",
   "metadata": {},
   "outputs": [],
   "source": [
    "#apply to the training set\n",
    "df_train['email'] = df_train.apply(email_veri, axis=1)\n",
    "df_train['phone'] = df_train.apply(phone_veri, axis=1)\n",
    "df_train['reviews'] = df_train.apply(reviews_veri, axis=1)\n",
    "df_train['jumio'] = df_train.apply(jumio_veri, axis=1)"
   ]
  },
  {
   "cell_type": "code",
   "execution_count": 146,
   "id": "fccda692-53b8-4826-ba83-0aacc5631d4b",
   "metadata": {},
   "outputs": [],
   "source": [
    "#apply to the test set\n",
    "df_test['email'] = df_test.apply(email_veri, axis=1)\n",
    "df_test['phone'] = df_test.apply(phone_veri, axis=1)\n",
    "df_test['reviews'] = df_test.apply(reviews_veri, axis=1)\n",
    "df_test['jumio'] = df_test.apply(jumio_veri, axis=1)"
   ]
  },
  {
   "cell_type": "code",
   "execution_count": 147,
   "id": "a1bcffae-3b41-40bd-80ae-31c83b659c77",
   "metadata": {},
   "outputs": [],
   "source": [
    "#drop the original column\n",
    "df_train.drop(columns='host_verifications', inplace=True)\n",
    "df_test.drop(columns='host_verifications', inplace=True)"
   ]
  },
  {
   "cell_type": "markdown",
   "id": "940c6573",
   "metadata": {},
   "source": [
    "We also identify that the **'amenities'** feature has multiple items of information which need to be separated."
   ]
  },
  {
   "cell_type": "code",
   "execution_count": 148,
   "id": "ede3c78e-d970-4ae7-8f94-94aa1304a182",
   "metadata": {},
   "outputs": [
    {
     "data": {
      "text/plain": [
       "0    [\"Hot water\", \"Coffee maker\", \"Heating\", \"Hair...\n",
       "1    [\"Hot water\", \"Coffee maker\", \"Long term stays...\n",
       "Name: amenities, dtype: object"
      ]
     },
     "execution_count": 148,
     "metadata": {},
     "output_type": "execute_result"
    }
   ],
   "source": [
    "df_train['amenities'].head(2)"
   ]
  },
  {
   "cell_type": "code",
   "execution_count": 149,
   "id": "225cb74d",
   "metadata": {},
   "outputs": [
    {
     "data": {
      "text/plain": [
       "'[\"Clothing storage: wardrobe, walk-in closet, and dresser\", \"Hot water\", \"Coffee maker\", \"Free dryer \\\\u2013 In building\", \"Toaster\", \"Heating\", \"Long term stays allowed\", \"Extra pillows and blankets\", \"Dining table\", \"Private fenced garden or backyard\", \"Bikes\", \"Hair dryer\", \"Conditioner\", \"Drying rack for clothing\", \"Babysitter recommendations\", \"Laundromat nearby\", \"Fire pit\", \"Bathtub\", \"Oven\", \"Private entrance\", \"Lockbox\", \"Beach essentials\", \"Dedicated workspace: monitor, desk, table, and office chair\", \"Bread maker\", \"Ceiling fan\", \"Microwave\", \"Iron\", \"Free washer \\\\u2013 In building\", \"68\\\\\" HDTV with Amazon Prime Video, Apple TV, Netflix, standard cable\", \"Refrigerator\", \"Outdoor shower\", \"Board games\", \"Fire extinguisher\", \"Hot water kettle\", \"Piano\", \"Samsung Bar Bluetooth sound system\", \"Children\\\\u2019s dinnerware\", \"Stove\", \"Portable fans\", \"Ethernet connection\", \"Bed linens\", \"Game console\", \"Cable TV\", \"Hangers\", \"Pack \\\\u2019n play/Travel crib\", \"BBQ grill\", \"Body soap\", \"First aid kit\", \"Smoke alarm\", \"Room-darkening shades\", \"Luggage dropoff allowed\", \"Private patio or balcony\", \"Essentials\", \"Cooking basics\", \"Barbecue utensils\", \"Baking sheet\", \"Outdoor furniture\", \"Outdoor dining area\", \"Private outdoor saltwater pool\", \"Wifi\", \"Free street parking\", \"Dishwasher\", \"Freezer\", \"Nespresso machine\", \"Dishes and silverware\", \"Wine glasses\", \"Cleaning products\", \"Free parking on premises\", \"Shampoo\", \"Shower gel\", \"Children\\\\u2019s books and toys\", \"Kitchen\", \"Baby safety gates\", \"High chair\", \"Rice maker\", \"Trash compactor\", \"Mosquito net\"]'"
      ]
     },
     "execution_count": 149,
     "metadata": {},
     "output_type": "execute_result"
    }
   ],
   "source": [
    "longest_list = max(df_train['amenities'], key=len)\n",
    "longest_list"
   ]
  },
  {
   "cell_type": "code",
   "execution_count": 150,
   "id": "6a0c8871",
   "metadata": {},
   "outputs": [
    {
     "data": {
      "text/plain": [
       "[967]"
      ]
     },
     "execution_count": 150,
     "metadata": {},
     "output_type": "execute_result"
    }
   ],
   "source": [
    "df_train.index[df_train['amenities']==longest_list].tolist()"
   ]
  },
  {
   "cell_type": "code",
   "execution_count": 151,
   "id": "2815f8ed",
   "metadata": {},
   "outputs": [
    {
     "name": "stdout",
     "output_type": "stream",
     "text": [
      "Value counts of Clothing storage: wardrobe, walk-in closet, and dresser amenity : 3\n",
      "Value counts of Hot water amenity : 5506\n",
      "Value counts of Coffee maker amenity : 2713\n",
      "Value counts of Free dryer \\u2013 In building amenity : 44\n",
      "Value counts of Toaster amenity : 1229\n",
      "Value counts of Heating amenity : 5067\n",
      "Value counts of Long term stays allowed amenity : 6387\n",
      "Value counts of Extra pillows and blankets amenity : 2957\n",
      "Value counts of Dining table amenity : 1148\n",
      "Value counts of Private fenced garden or backyard amenity : 357\n",
      "Value counts of Bikes amenity : 41\n",
      "Value counts of Hair dryer amenity : 5697\n",
      "Value counts of Conditioner amenity : 997\n",
      "Value counts of Drying rack for clothing amenity : 855\n",
      "Value counts of Babysitter recommendations amenity : 271\n",
      "Value counts of Laundromat nearby amenity : 608\n",
      "Value counts of Fire pit amenity : 140\n",
      "Value counts of Bathtub amenity : 1285\n",
      "Value counts of Oven amenity : 3640\n",
      "Value counts of Private entrance amenity : 2912\n",
      "Value counts of Lockbox amenity : 2187\n",
      "Value counts of Beach essentials amenity : 570\n",
      "Value counts of Dedicated workspace: monitor, desk, table, and office chair amenity : 1\n",
      "Value counts of Bread maker amenity : 81\n",
      "Value counts of Ceiling fan amenity : 540\n",
      "Value counts of Microwave amenity : 4622\n",
      "Value counts of Iron amenity : 6002\n",
      "Value counts of Free washer \\u2013 In building amenity : 69\n",
      "Value counts of 68\\ HDTV with Amazon Prime Video, Apple TV, Netflix, standard cable amenity : 0\n",
      "Value counts of Refrigerator amenity : 4655\n",
      "Value counts of Outdoor shower amenity : 135\n",
      "Value counts of Board games amenity : 294\n",
      "Value counts of Fire extinguisher amenity : 2999\n",
      "Value counts of Hot water kettle amenity : 1373\n",
      "Value counts of Piano amenity : 66\n",
      "Value counts of Samsung Bar Bluetooth sound system amenity : 1\n",
      "Value counts of Children\\u2019s dinnerware amenity : 461\n",
      "Value counts of Stove amenity : 3844\n",
      "Value counts of Portable fans amenity : 683\n",
      "Value counts of Ethernet connection amenity : 707\n",
      "Value counts of Bed linens amenity : 4120\n",
      "Value counts of Game console amenity : 146\n",
      "Value counts of Cable TV amenity : 1128\n",
      "Value counts of Hangers amenity : 6046\n",
      "Value counts of Pack \\u2019n play/Travel crib amenity : 694\n",
      "Value counts of BBQ grill amenity : 1510\n",
      "Value counts of Body soap amenity : 1093\n",
      "Value counts of First aid kit amenity : 2656\n",
      "Value counts of Smoke alarm amenity : 6553\n",
      "Value counts of Room-darkening shades amenity : 1232\n",
      "Value counts of Luggage dropoff allowed amenity : 2000\n",
      "Value counts of Private patio or balcony amenity : 1085\n",
      "Value counts of Essentials amenity : 6542\n",
      "Value counts of Cooking basics amenity : 4575\n",
      "Value counts of Barbecue utensils amenity : 665\n",
      "Value counts of Baking sheet amenity : 565\n",
      "Value counts of Outdoor furniture amenity : 1062\n",
      "Value counts of Outdoor dining area amenity : 751\n",
      "Value counts of Private outdoor saltwater pool amenity : 5\n",
      "Value counts of Wifi amenity : 6592\n",
      "Value counts of Free street parking amenity : 3396\n",
      "Value counts of Dishwasher amenity : 2993\n",
      "Value counts of Freezer amenity : 1187\n",
      "Value counts of Nespresso machine amenity : 370\n",
      "Value counts of Dishes and silverware amenity : 4989\n",
      "Value counts of Wine glasses amenity : 1212\n",
      "Value counts of Cleaning products amenity : 1118\n",
      "Value counts of Free parking on premises amenity : 3138\n",
      "Value counts of Shampoo amenity : 5285\n",
      "Value counts of Shower gel amenity : 1755\n",
      "Value counts of Children\\u2019s books and toys amenity : 766\n",
      "Value counts of Kitchen amenity : 6312\n",
      "Value counts of Baby safety gates amenity : 196\n",
      "Value counts of High chair amenity : 868\n",
      "Value counts of Rice maker amenity : 339\n",
      "Value counts of Trash compactor amenity : 35\n",
      "Value counts of Mosquito net amenity : 84\n"
     ]
    }
   ],
   "source": [
    "for i in [\"Clothing storage: wardrobe, walk-in closet, and dresser\", \"Hot water\", \"Coffee maker\", \"Free dryer \\\\u2013 In building\", \"Toaster\", \"Heating\", \"Long term stays allowed\", \"Extra pillows and blankets\", \"Dining table\", \"Private fenced garden or backyard\", \"Bikes\", \"Hair dryer\", \"Conditioner\", \"Drying rack for clothing\", \"Babysitter recommendations\", \"Laundromat nearby\", \"Fire pit\", \"Bathtub\", \"Oven\", \"Private entrance\", \"Lockbox\", \"Beach essentials\", \"Dedicated workspace: monitor, desk, table, and office chair\", \"Bread maker\", \"Ceiling fan\", \"Microwave\", \"Iron\", \"Free washer \\\\u2013 In building\", \"68\\\\ HDTV with Amazon Prime Video, Apple TV, Netflix, standard cable\", \"Refrigerator\", \"Outdoor shower\", \"Board games\", \"Fire extinguisher\", \"Hot water kettle\", \"Piano\", \"Samsung Bar Bluetooth sound system\", \"Children\\\\u2019s dinnerware\", \"Stove\", \"Portable fans\", \"Ethernet connection\", \"Bed linens\", \"Game console\", \"Cable TV\", \"Hangers\", \"Pack \\\\u2019n play/Travel crib\", \"BBQ grill\", \"Body soap\", \"First aid kit\", \"Smoke alarm\", \"Room-darkening shades\", \"Luggage dropoff allowed\", \"Private patio or balcony\", \"Essentials\", \"Cooking basics\", \"Barbecue utensils\", \"Baking sheet\", \"Outdoor furniture\", \"Outdoor dining area\", \"Private outdoor saltwater pool\", \"Wifi\", \"Free street parking\", \"Dishwasher\", \"Freezer\", \"Nespresso machine\", \"Dishes and silverware\", \"Wine glasses\", \"Cleaning products\", \"Free parking on premises\", \"Shampoo\", \"Shower gel\", \"Children\\\\u2019s books and toys\", \"Kitchen\", \"Baby safety gates\", \"High chair\", \"Rice maker\", \"Trash compactor\", \"Mosquito net\"]:\n",
    "    count = 0\n",
    "    for row in df_train.itertuples(index = True, name ='Pandas'):\n",
    "        if i in getattr(row, 'amenities'):\n",
    "            count+=1\n",
    "    print('Value counts of',i,'amenity :',count)   "
   ]
  },
  {
   "cell_type": "markdown",
   "id": "0bf21fd8",
   "metadata": {},
   "source": [
    "In general, the top 4 amenity to be recorded are: 'Long term stays allowed', 'Wifi', 'Essentials', 'Smoke alarm'"
   ]
  },
  {
   "cell_type": "code",
   "execution_count": 152,
   "id": "0d9bac40",
   "metadata": {},
   "outputs": [],
   "source": [
    "#for Long term stays allowed amenity \n",
    "def longterm_amenity(row):\n",
    "    for i in range(len(row)):\n",
    "        if 'Long term stays allowed' in row['amenities']:\n",
    "            return 1 \n",
    "        else: \n",
    "            return 0\n",
    "\n",
    "#for Wifi amenity \n",
    "def wifi_amenity(row):\n",
    "    for i in range(len(row)):\n",
    "        if 'Wifi' in row['amenities']:\n",
    "            return 1 \n",
    "        else: \n",
    "            return 0\n",
    "\n",
    "#for Essentials amenity \n",
    "def essentials_amenity(row):\n",
    "    for i in range(len(row)):\n",
    "        if 'Essentials' in row['amenities']:\n",
    "            return 1 \n",
    "        else: \n",
    "            return 0\n",
    "\n",
    "#for Smoke alarm amenity \n",
    "def smokealarm_amenity(row):\n",
    "    for i in range(len(row)):\n",
    "        if 'Smoke alarm' in row['amenities']:\n",
    "            return 1 \n",
    "        else: \n",
    "            return 0"
   ]
  },
  {
   "cell_type": "code",
   "execution_count": 153,
   "id": "24b35697",
   "metadata": {},
   "outputs": [],
   "source": [
    "#apply to the test set\n",
    "df_train['Long term stays allowed'] = df_train.apply(longterm_amenity, axis=1)\n",
    "df_train['Wifi'] = df_train.apply(wifi_amenity, axis=1)\n",
    "df_train['Essentials'] = df_train.apply(essentials_amenity, axis=1)\n",
    "df_train['Smoke alarm'] = df_train.apply(smokealarm_amenity, axis=1)"
   ]
  },
  {
   "cell_type": "code",
   "execution_count": 154,
   "id": "8bf49f1b-1e1e-4382-96dd-bbab57352e82",
   "metadata": {},
   "outputs": [],
   "source": [
    "#apply to the test set\n",
    "df_test['Long term stays allowed'] = df_test.apply(longterm_amenity, axis=1)\n",
    "df_test['Wifi'] = df_test.apply(wifi_amenity, axis=1)\n",
    "df_test['Essentials'] = df_test.apply(essentials_amenity, axis=1)\n",
    "df_test['Smoke alarm'] = df_test.apply(smokealarm_amenity, axis=1)"
   ]
  },
  {
   "cell_type": "code",
   "execution_count": 155,
   "id": "81e960c6-504d-4bf7-8bae-21028eb7f6bf",
   "metadata": {},
   "outputs": [],
   "source": [
    "#drop the test column\n",
    "df_train.drop(columns='amenities', inplace=True)\n",
    "df_test.drop(columns='amenities', inplace=True)"
   ]
  },
  {
   "cell_type": "markdown",
   "id": "23fde9b6-bed0-4018-9edb-3553f3d1fa13",
   "metadata": {},
   "source": [
    "`(Task 2, Question 2 Text Here - insert more cells as required)`"
   ]
  },
  {
   "cell_type": "markdown",
   "id": "b0d01c4d-1412-4e51-8f80-7040f536b1c7",
   "metadata": {},
   "source": [
    "**Task 2, Question 3**: Impute missing values for all features in both training and test datasets.   \n",
    "(2 marks)"
   ]
  },
  {
   "cell_type": "markdown",
   "id": "922861a3-b780-4dae-9a4e-447ddf1a0111",
   "metadata": {},
   "source": [
    "***For training dataset:***"
   ]
  },
  {
   "cell_type": "code",
   "execution_count": 23,
   "id": "4b6b55e8-6110-44b0-80f3-fb35e0589a9f",
   "metadata": {},
   "outputs": [
    {
     "data": {
      "text/plain": [
       "(7000, 67)"
      ]
     },
     "execution_count": 23,
     "metadata": {},
     "output_type": "execute_result"
    }
   ],
   "source": [
    "df_train.shape"
   ]
  },
  {
   "cell_type": "code",
   "execution_count": 68,
   "id": "36412d68-f68f-4764-aa6f-88ba33116ef3",
   "metadata": {},
   "outputs": [
    {
     "data": {
      "text/plain": [
       "ID                                                 0\n",
       "name                                               1\n",
       "description                                       65\n",
       "neighborhood_overview                           1817\n",
       "host_name                                          0\n",
       "host_since                                         0\n",
       "host_location                                      2\n",
       "host_about                                      2458\n",
       "host_response_time                               645\n",
       "host_response_rate                               645\n",
       "host_acceptance_rate                             745\n",
       "host_is_superhost                                  0\n",
       "host_neighbourhood                              2912\n",
       "host_listings_count                                0\n",
       "host_has_profile_pic                               0\n",
       "host_identity_verified                             0\n",
       "neighbourhood                                   1816\n",
       "neighbourhood_cleansed                           108\n",
       "latitude                                           0\n",
       "longitude                                          0\n",
       "property_type                                     84\n",
       "room_type                                        134\n",
       "accommodates                                       0\n",
       "bathrooms                                          6\n",
       "bedrooms                                         660\n",
       "beds                                             240\n",
       "minimum_nights                                     0\n",
       "maximum_nights                                     0\n",
       "minimum_minimum_nights                            45\n",
       "maximum_minimum_nights                             0\n",
       "minimum_maximum_nights                             0\n",
       "maximum_maximum_nights                            45\n",
       "minimum_nights_avg_ntm                             0\n",
       "maximum_nights_avg_ntm                             0\n",
       "has_availability                                   0\n",
       "availability_30                                    0\n",
       "availability_60                                    0\n",
       "availability_90                                    0\n",
       "availability_365                                  47\n",
       "number_of_reviews                                  0\n",
       "number_of_reviews_ltm                              0\n",
       "number_of_reviews_l30d                             0\n",
       "first_review                                     114\n",
       "last_review                                      114\n",
       "review_scores_rating                             114\n",
       "review_scores_accuracy                           210\n",
       "review_scores_cleanliness                        208\n",
       "review_scores_checkin                            209\n",
       "review_scores_communication                      208\n",
       "review_scores_location                           210\n",
       "review_scores_value                              211\n",
       "license                                         1868\n",
       "instant_bookable                                   0\n",
       "calculated_host_listings_count                     0\n",
       "calculated_host_listings_count_entire_homes        0\n",
       "calculated_host_listings_count_private_rooms       0\n",
       "calculated_host_listings_count_shared_rooms        0\n",
       "reviews_per_month                                114\n",
       "price                                              0\n",
       "email                                              0\n",
       "phone                                              0\n",
       "reviews                                            0\n",
       "jumio                                              0\n",
       "Long term stays allowed                            0\n",
       "Wifi                                               0\n",
       "Essentials                                         0\n",
       "Smoke alarm                                        0\n",
       "dtype: int64"
      ]
     },
     "execution_count": 68,
     "metadata": {},
     "output_type": "execute_result"
    }
   ],
   "source": [
    "## Task 2, Question 3 Code Here\n",
    "df_train.isnull().sum()"
   ]
  },
  {
   "cell_type": "markdown",
   "id": "f23549c8-a9ad-400d-99a5-11acba3838ba",
   "metadata": {},
   "source": [
    "As different variables have specific characteristics including range, type, etc; different values should be utilized to impute missing values for all columns. Generally, while we can fill all misisng text variables with **'unknown'** value, numerical variables' missing values can be imputed with their **mode** or **mean** based on their characteristics. \n",
    "\n",
    "First, we start the imputing process with text columns:"
   ]
  },
  {
   "cell_type": "code",
   "execution_count": 156,
   "id": "0ff4007c-9025-4356-b96d-273c7f33ea3d",
   "metadata": {},
   "outputs": [],
   "source": [
    "textcol = ['name', 'description', 'neighborhood_overview', 'host_about', 'neighbourhood_cleansed', 'license']"
   ]
  },
  {
   "cell_type": "code",
   "execution_count": 157,
   "id": "f26116be-d9ba-45f8-aeb1-17062ecab44b",
   "metadata": {},
   "outputs": [],
   "source": [
    "df_train[textcol] = df_train[textcol].fillna(value='unknonwn')"
   ]
  },
  {
   "cell_type": "markdown",
   "id": "7645dafc-a0d1-4d45-bac2-d2e56509e258",
   "metadata": {},
   "source": [
    "We then continue to deal with numerical features which are divided into 2 categories. Specifically, specific features can be imputed with their most frequent values (mode) while the remaining features are filled with their average values (mean) instead. "
   ]
  },
  {
   "cell_type": "code",
   "execution_count": 158,
   "id": "641c4135-7900-479b-a2fc-58238022987a",
   "metadata": {},
   "outputs": [],
   "source": [
    "modefillcol = ['host_location','host_response_time', 'property_type', 'room_type','bathrooms']"
   ]
  },
  {
   "cell_type": "code",
   "execution_count": 159,
   "id": "40806608-5a0b-4e4f-9492-7a1e5e02a6a5",
   "metadata": {},
   "outputs": [],
   "source": [
    "modes = df_train[modefillcol].mode()\n",
    "df_train[modefillcol] = df_train[modefillcol].fillna(value=modes.iloc[0])"
   ]
  },
  {
   "cell_type": "code",
   "execution_count": 160,
   "id": "7a9e2d57-aee3-4125-9cee-53bc5b5e64e7",
   "metadata": {},
   "outputs": [],
   "source": [
    "meanfillcol = ['host_response_rate','host_acceptance_rate','bedrooms','beds','minimum_minimum_nights','maximum_maximum_nights','availability_365','review_scores_rating','review_scores_accuracy','review_scores_cleanliness','review_scores_checkin','review_scores_communication','review_scores_location','review_scores_value','reviews_per_month']"
   ]
  },
  {
   "cell_type": "code",
   "execution_count": 161,
   "id": "1071e41a-9f2c-4b2b-bae7-3800a10722d8",
   "metadata": {},
   "outputs": [],
   "source": [
    "means = df_train[meanfillcol].mean()\n",
    "df_train[meanfillcol] = df_train[meanfillcol].fillna(value=means.iloc[0])"
   ]
  },
  {
   "cell_type": "markdown",
   "id": "8a958dcf-3ffc-45b6-8f1c-a16c45f200dd",
   "metadata": {},
   "source": [
    "However, by investigating thoroughout the dataset, we recognize that various numberical features should be in the form of integers instead of floatin point numbers. Therefore, they will be converted to the correct form for analysis purposes."
   ]
  },
  {
   "cell_type": "code",
   "execution_count": 162,
   "id": "a0ea1446-d15a-4296-b195-6490a8c7a7c2",
   "metadata": {},
   "outputs": [],
   "source": [
    "df_train[['bedrooms','beds','availability_365','minimum_minimum_nights','maximum_minimum_nights','minimum_maximum_nights','maximum_maximum_nights','minimum_nights_avg_ntm','maximum_nights_avg_ntm']] = df_train[['bedrooms','beds','availability_365','minimum_minimum_nights','maximum_minimum_nights','minimum_maximum_nights','maximum_maximum_nights','minimum_nights_avg_ntm','maximum_nights_avg_ntm']].astype(int)"
   ]
  },
  {
   "cell_type": "markdown",
   "id": "46c74b37-8e94-4a58-a011-556a1ed084f8",
   "metadata": {},
   "source": [
    "***For test dataset:***"
   ]
  },
  {
   "cell_type": "code",
   "execution_count": 32,
   "id": "756a829d-743d-4f38-bae2-4001cd47d329",
   "metadata": {},
   "outputs": [
    {
     "data": {
      "text/plain": [
       "(3000, 66)"
      ]
     },
     "execution_count": 32,
     "metadata": {},
     "output_type": "execute_result"
    }
   ],
   "source": [
    "df_test.shape"
   ]
  },
  {
   "cell_type": "code",
   "execution_count": 33,
   "id": "7d1a17e9-464b-45c3-ac1d-8b47f4132ee8",
   "metadata": {},
   "outputs": [
    {
     "data": {
      "text/plain": [
       "ID                                                 0\n",
       "name                                               1\n",
       "description                                       89\n",
       "neighborhood_overview                           1240\n",
       "host_name                                          0\n",
       "host_since                                         0\n",
       "host_location                                      2\n",
       "host_about                                      1432\n",
       "host_response_time                              2534\n",
       "host_response_rate                              2534\n",
       "host_acceptance_rate                            2285\n",
       "host_is_superhost                                  0\n",
       "host_neighbourhood                              1263\n",
       "host_listings_count                                0\n",
       "host_has_profile_pic                               0\n",
       "host_identity_verified                             0\n",
       "neighbourhood                                   1240\n",
       "neighbourhood_cleansed                            42\n",
       "latitude                                           0\n",
       "longitude                                          0\n",
       "property_type                                     39\n",
       "room_type                                         41\n",
       "accommodates                                       0\n",
       "bathrooms                                          4\n",
       "bedrooms                                         178\n",
       "beds                                             129\n",
       "minimum_nights                                     0\n",
       "maximum_nights                                     0\n",
       "minimum_minimum_nights                            10\n",
       "maximum_minimum_nights                             0\n",
       "minimum_maximum_nights                             0\n",
       "maximum_maximum_nights                            10\n",
       "minimum_nights_avg_ntm                             0\n",
       "maximum_nights_avg_ntm                             0\n",
       "has_availability                                   0\n",
       "availability_30                                    0\n",
       "availability_60                                    0\n",
       "availability_90                                    0\n",
       "availability_365                                  20\n",
       "number_of_reviews                                  0\n",
       "number_of_reviews_ltm                              0\n",
       "number_of_reviews_l30d                             0\n",
       "first_review                                     466\n",
       "last_review                                      466\n",
       "review_scores_rating                             466\n",
       "review_scores_accuracy                           641\n",
       "review_scores_cleanliness                        637\n",
       "review_scores_checkin                            643\n",
       "review_scores_communication                      636\n",
       "review_scores_location                           642\n",
       "review_scores_value                              643\n",
       "license                                         2393\n",
       "instant_bookable                                   0\n",
       "calculated_host_listings_count                     0\n",
       "calculated_host_listings_count_entire_homes        0\n",
       "calculated_host_listings_count_private_rooms       0\n",
       "calculated_host_listings_count_shared_rooms        0\n",
       "reviews_per_month                                466\n",
       "email                                              0\n",
       "phone                                              0\n",
       "reviews                                            0\n",
       "jumio                                              0\n",
       "Long term stays allowed                            0\n",
       "Wifi                                               0\n",
       "Essentials                                         0\n",
       "Smoke alarm                                        0\n",
       "dtype: int64"
      ]
     },
     "execution_count": 33,
     "metadata": {},
     "output_type": "execute_result"
    }
   ],
   "source": [
    "df_test.isnull().sum()"
   ]
  },
  {
   "cell_type": "markdown",
   "id": "197891d4-03ec-4723-862f-6bf9875af226",
   "metadata": {},
   "source": [
    "We repeat the same process as for the training dataset so that misisng values of the test set can be appropriately imputed."
   ]
  },
  {
   "cell_type": "markdown",
   "id": "dbb16b1d-f4f1-438e-a5af-ae9cc3c04467",
   "metadata": {},
   "source": [
    "`(Task 2, Question 3 Text Here - insert more cells as required)`"
   ]
  },
  {
   "cell_type": "code",
   "execution_count": 163,
   "id": "3ead5be0-fd81-46b4-ab24-a81fbfc45528",
   "metadata": {},
   "outputs": [],
   "source": [
    "df_test[textcol] = df_test[textcol].fillna(value='unknonwn')"
   ]
  },
  {
   "cell_type": "code",
   "execution_count": 164,
   "id": "faa8f648-633c-4520-990c-72dff4ef5995",
   "metadata": {},
   "outputs": [],
   "source": [
    "test_modes = df_test[modefillcol].mode()\n",
    "df_test[modefillcol] = df_test[modefillcol].fillna(value=test_modes.iloc[0])"
   ]
  },
  {
   "cell_type": "code",
   "execution_count": 165,
   "id": "e242098c-cf33-4329-bd32-c6650917ed0d",
   "metadata": {},
   "outputs": [],
   "source": [
    "test_means = df_test[meanfillcol].mean()\n",
    "df_test[meanfillcol] = df_test[meanfillcol].fillna(value=test_means.iloc[0])"
   ]
  },
  {
   "cell_type": "code",
   "execution_count": 166,
   "id": "db405bb8-f8fc-497e-87fa-402a2dcff023",
   "metadata": {},
   "outputs": [],
   "source": [
    "df_test[['bedrooms','beds','availability_365','minimum_minimum_nights','maximum_minimum_nights','minimum_maximum_nights','maximum_maximum_nights','minimum_nights_avg_ntm','maximum_nights_avg_ntm']] = df_test[['bedrooms','beds','availability_365','minimum_minimum_nights','maximum_minimum_nights','minimum_maximum_nights','maximum_maximum_nights','minimum_nights_avg_ntm','maximum_nights_avg_ntm']].astype(int)"
   ]
  },
  {
   "cell_type": "markdown",
   "id": "03c14ab6-aff9-4fcd-ab7b-34f0b77f8caa",
   "metadata": {},
   "source": [
    "**Task 2, Question 4**: Encode all categorical variables appropriately as discussed in class. \n",
    "\n",
    "\n",
    "Where a categorical feature contains more than 5 unique values, map the features into 5 most frequent values + 'other' and then encode appropriately. For instance, you could group then map `property_type` into 5 basic types + 'other': [entire rental unit, private room, entire room, entire towehouse, shared room, other] and then encode.  \n",
    "(2 marks)"
   ]
  },
  {
   "cell_type": "code",
   "execution_count": 167,
   "id": "f91f4448-8574-4397-a636-d83bbde885e2",
   "metadata": {},
   "outputs": [
    {
     "data": {
      "text/plain": [
       "Entire rental unit                     3066\n",
       "Entire residential home                1164\n",
       "Private room in residential home        680\n",
       "Private room in rental unit             433\n",
       "Entire guest suite                      262\n",
       "Entire guesthouse                       217\n",
       "Entire townhouse                        150\n",
       "Room in boutique hotel                  123\n",
       "Entire condominium (condo)              107\n",
       "Entire serviced apartment                89\n",
       "Private room in townhouse                84\n",
       "Entire cottage                           62\n",
       "Room in hotel                            59\n",
       "Entire loft                              47\n",
       "Private room in guest suite              39\n",
       "Room in aparthotel                       38\n",
       "Entire villa                             38\n",
       "Private room in villa                    32\n",
       "Entire bungalow                          30\n",
       "Room in serviced apartment               27\n",
       "Private room in guesthouse               27\n",
       "Private room in condominium (condo)      22\n",
       "Private room in hostel                   21\n",
       "Tiny house                               20\n",
       "Entire cabin                             18\n",
       "Shared room in rental unit               16\n",
       "Shared room in hostel                    14\n",
       "Private room in bed and breakfast        13\n",
       "Private room in loft                     11\n",
       "Private room in bungalow                  8\n",
       "Shared room in residential home           8\n",
       "Boat                                      7\n",
       "Entire place                              6\n",
       "Private room in serviced apartment        6\n",
       "Farm stay                                 6\n",
       "Room in hostel                            5\n",
       "Shared room in bed and breakfast          4\n",
       "Private room                              4\n",
       "Private room in cabin                     4\n",
       "Room in bed and breakfast                 3\n",
       "Private room in farm stay                 2\n",
       "Entire vacation home                      2\n",
       "Shared room in townhouse                  2\n",
       "Private room in chalet                    2\n",
       "Shared room in condominium (condo)        2\n",
       "Island                                    2\n",
       "Dome house                                1\n",
       "Houseboat                                 1\n",
       "Shared room in villa                      1\n",
       "Campsite                                  1\n",
       "Private room in island                    1\n",
       "Private room in tiny house                1\n",
       "Train                                     1\n",
       "Barn                                      1\n",
       "Bus                                       1\n",
       "Treehouse                                 1\n",
       "Cave                                      1\n",
       "Earth house                               1\n",
       "Shared room in earth house                1\n",
       "Private room in yurt                      1\n",
       "Shared room in guest suite                1\n",
       "Camper/RV                                 1\n",
       "Casa particular                           1\n",
       "Shared room in serviced apartment         1\n",
       "Name: property_type, dtype: int64"
      ]
     },
     "execution_count": 167,
     "metadata": {},
     "output_type": "execute_result"
    }
   ],
   "source": [
    "## Task 2, Question 4 Code Here\n",
    "df_train['property_type'].value_counts()"
   ]
  },
  {
   "cell_type": "code",
   "execution_count": 168,
   "id": "bad9ed71",
   "metadata": {},
   "outputs": [
    {
     "data": {
      "text/plain": [
       "Entire rental unit                     1222\n",
       "Private room in rental unit             519\n",
       "Entire residential home                 431\n",
       "Private room in residential home        359\n",
       "Private room in townhouse                62\n",
       "Entire townhouse                         54\n",
       "Entire guest suite                       43\n",
       "Entire condominium (condo)               43\n",
       "Shared room in rental unit               31\n",
       "Entire guesthouse                        28\n",
       "Private room in condominium (condo)      26\n",
       "Shared room in residential home          17\n",
       "Room in boutique hotel                   15\n",
       "Entire villa                             15\n",
       "Entire serviced apartment                14\n",
       "Private room in villa                    11\n",
       "Room in hotel                            10\n",
       "Entire loft                               9\n",
       "Shared room in hostel                     8\n",
       "Private room in guest suite               8\n",
       "Entire cottage                            8\n",
       "Private room in bungalow                  6\n",
       "Entire bungalow                           6\n",
       "Shared room in condominium (condo)        5\n",
       "Private room in guesthouse                4\n",
       "Camper/RV                                 4\n",
       "Private room in loft                      4\n",
       "Room in serviced apartment                3\n",
       "Private room in serviced apartment        3\n",
       "Tiny house                                3\n",
       "Entire place                              3\n",
       "Private room in hostel                    3\n",
       "Private room in casa particular           2\n",
       "Entire home/apt                           2\n",
       "Shared room in guesthouse                 2\n",
       "Island                                    1\n",
       "Private room in tipi                      1\n",
       "Private room in tiny house                1\n",
       "Private room in tent                      1\n",
       "Private room in bed and breakfast         1\n",
       "Shared room in boutique hotel             1\n",
       "Holiday park                              1\n",
       "Boat                                      1\n",
       "Farm stay                                 1\n",
       "Private room                              1\n",
       "Entire chalet                             1\n",
       "Entire cabin                              1\n",
       "Private room in cottage                   1\n",
       "Room in aparthotel                        1\n",
       "Private room in pension                   1\n",
       "Room in hostel                            1\n",
       "Entire vacation home                      1\n",
       "Name: property_type, dtype: int64"
      ]
     },
     "execution_count": 168,
     "metadata": {},
     "output_type": "execute_result"
    }
   ],
   "source": [
    "df_test['property_type'].value_counts()"
   ]
  },
  {
   "cell_type": "markdown",
   "id": "21178f28-baee-4204-b646-b53af1b3f517",
   "metadata": {},
   "source": [
    "Investigating the identified values of 'property_type' of both datasets, it is evident to group values which are relevant to 'Private room', 'Shared room' and 'Entire room'. However, as it is difficult to idenify which values can be grouped together for 'Entire townhouse' or 'Entire rental unit', we need to specify lists of possible values."
   ]
  },
  {
   "cell_type": "code",
   "execution_count": 169,
   "id": "1e74a92f-988e-44cb-80ab-1916d4dab8cf",
   "metadata": {},
   "outputs": [],
   "source": [
    "e_townhouse = ['Entire villa', 'Entire residential home','Entire guest suite','Entire guesthouse','Entire bungalow','Tiny house','Entire place','Entire vacation home','Dome house','Earth house','Casa particular']\n",
    "e_rentalunit = ['Entire serviced apartment', 'Entire loft', 'Entire rental unit', 'Entire condominium (condo)', 'Entire cottage']"
   ]
  },
  {
   "cell_type": "code",
   "execution_count": 170,
   "id": "aa9d78c7-50f9-4b14-94a7-b1077e29fac1",
   "metadata": {},
   "outputs": [],
   "source": [
    "#apply to the training set\n",
    "for i in range(len(df_train)):\n",
    "    if 'Private room' in df_train['property_type'].loc[i]:\n",
    "        df_train['property_type'].loc[i]= 'Private room'\n",
    "    if 'Shared room' in df_train['property_type'].loc[i]:\n",
    "        df_train['property_type'].loc[i]= 'Shared room'\n",
    "    if 'Room in' in df_train['property_type'].loc[i]:\n",
    "        df_train['property_type'].loc[i]= 'Entire room'\n",
    "    if df_train['property_type'].loc[i] in e_townhouse:\n",
    "        df_train['property_type'].loc[i]= 'Entire townhouse'\n",
    "    if df_train['property_type'].loc[i] in e_rentalunit:\n",
    "        df_train['property_type'].loc[i]= 'Entire rental unit'"
   ]
  },
  {
   "cell_type": "code",
   "execution_count": 171,
   "id": "6f8cc347-2ef6-43dd-9556-cf34d52a915b",
   "metadata": {},
   "outputs": [],
   "source": [
    "#apply to the test set\n",
    "for i in range(len(df_test)):\n",
    "    if 'Private room' in df_test['property_type'].loc[i]:\n",
    "        df_test['property_type'].loc[i]= 'Private room'\n",
    "    if 'Shared room' in df_test['property_type'].loc[i]:\n",
    "        df_test['property_type'].loc[i]= 'Shared room'\n",
    "    if 'Room in' in df_test['property_type'].loc[i]:\n",
    "        df_test['property_type'].loc[i]= 'Entire room'\n",
    "    if df_test['property_type'].loc[i] in e_townhouse:\n",
    "        df_test['property_type'].loc[i]= 'Entire townhouse'\n",
    "    if df_test['property_type'].loc[i] in e_rentalunit:\n",
    "        df_test['property_type'].loc[i]= 'Entire rental unit'"
   ]
  },
  {
   "cell_type": "markdown",
   "id": "a06391ec-d4e1-464e-87be-29f1d90c672b",
   "metadata": {},
   "source": [
    "Now that 5 basic types of Airbnb property have been identified, the remaining values can be assigned as 'Other'."
   ]
  },
  {
   "cell_type": "code",
   "execution_count": 172,
   "id": "6dc28101-1836-4b9f-ae6e-175919a51e99",
   "metadata": {},
   "outputs": [],
   "source": [
    "for i in range(len(df_train)):\n",
    "    if df_train['property_type'].loc[i] not in ['Private room', 'Shared room','Entire room', 'Entire townhouse','Entire rental unit']:\n",
    "        df_train['property_type'].loc[i] = 'Other'"
   ]
  },
  {
   "cell_type": "code",
   "execution_count": 173,
   "id": "0aead23c-4d5a-48c6-899a-3f889d9b8fa7",
   "metadata": {},
   "outputs": [],
   "source": [
    "for i in range(len(df_test)):\n",
    "    if df_test['property_type'].loc[i] not in ['Private room', 'Shared room','Entire room', 'Entire townhouse','Entire rental unit']:\n",
    "        df_test['property_type'].loc[i] = 'Other'"
   ]
  },
  {
   "cell_type": "code",
   "execution_count": 174,
   "id": "30138f56-b509-47b7-a735-da3c2168f8cc",
   "metadata": {},
   "outputs": [
    {
     "data": {
      "text/plain": [
       "Entire rental unit    3371\n",
       "Entire townhouse      1892\n",
       "Private room          1391\n",
       "Entire room            255\n",
       "Shared room             50\n",
       "Other                   41\n",
       "Name: property_type, dtype: int64"
      ]
     },
     "execution_count": 174,
     "metadata": {},
     "output_type": "execute_result"
    }
   ],
   "source": [
    "df_train['property_type'].value_counts()"
   ]
  },
  {
   "cell_type": "code",
   "execution_count": 175,
   "id": "bb22da5f-aaf6-405e-868d-29eb3d5f85cd",
   "metadata": {},
   "outputs": [
    {
     "data": {
      "text/plain": [
       "Entire rental unit    1296\n",
       "Private room          1014\n",
       "Entire townhouse       584\n",
       "Shared room             64\n",
       "Entire room             30\n",
       "Other                   12\n",
       "Name: property_type, dtype: int64"
      ]
     },
     "execution_count": 175,
     "metadata": {},
     "output_type": "execute_result"
    }
   ],
   "source": [
    "df_test['property_type'].value_counts()"
   ]
  },
  {
   "cell_type": "code",
   "execution_count": 176,
   "id": "9b5e68b4-c055-4188-b1b7-742b5ef52fcf",
   "metadata": {},
   "outputs": [
    {
     "data": {
      "text/plain": [
       "property_type\n",
       "Entire rental unit    240.258974\n",
       "Entire room           229.866667\n",
       "Entire townhouse      473.339852\n",
       "Other                 482.634146\n",
       "Private room           80.474479\n",
       "Shared room            47.100000\n",
       "Name: price, dtype: float64"
      ]
     },
     "execution_count": 176,
     "metadata": {},
     "output_type": "execute_result"
    }
   ],
   "source": [
    "df_train['price'].groupby(df_train['property_type']).mean()"
   ]
  },
  {
   "cell_type": "markdown",
   "id": "c3c2630b-e769-4bb9-b056-100b6e03acb0",
   "metadata": {},
   "source": [
    "First, we divide all identified values of **'property_type'** into 5 main groups that are 'entire rental unit', 'private room', 'entire room', 'entire townhouse', 'shared room' and the remaining types as 'other' and replace them in the dataset."
   ]
  },
  {
   "cell_type": "code",
   "execution_count": 177,
   "id": "aa836599-ad12-43e2-b0d2-b0296522e309",
   "metadata": {},
   "outputs": [],
   "source": [
    "#map integer value\n",
    "property_mapping = {'Other':6, 'Entire townhouse':5, 'Entire rental unit':4, 'Entire room':3, 'Private room':2, 'Shared room':1}\n",
    "df_train['map_property_type'] = df_train['property_type'].map(property_mapping)"
   ]
  },
  {
   "cell_type": "code",
   "execution_count": 178,
   "id": "67514083-abe9-4df2-804e-1781dd89d67d",
   "metadata": {},
   "outputs": [],
   "source": [
    "#drop the original column after mapping \n",
    "df_train.drop(columns=['property_type'],inplace=True)"
   ]
  },
  {
   "cell_type": "code",
   "execution_count": 179,
   "id": "e77ce14f-0261-4e19-8892-70485c652600",
   "metadata": {},
   "outputs": [
    {
     "data": {
      "text/plain": [
       "1 bath               3614\n",
       "2 baths              1065\n",
       "1 shared bath         601\n",
       "1 private bath        459\n",
       "1.5 baths             326\n",
       "3 baths               223\n",
       "2.5 baths             222\n",
       "1.5 shared baths      117\n",
       "2 shared baths        113\n",
       "3.5 baths              65\n",
       "4 baths                58\n",
       "3 shared baths         32\n",
       "2.5 shared baths       19\n",
       "0 shared baths         12\n",
       "5 baths                11\n",
       "4.5 baths              10\n",
       "0 baths                10\n",
       "3.5 shared baths        8\n",
       "Shared half-bath        8\n",
       "6 shared baths          5\n",
       "Half-bath               5\n",
       "4 shared baths          3\n",
       "4.5 shared baths        3\n",
       "7 shared baths          2\n",
       "6 baths                 2\n",
       "5.5 shared baths        2\n",
       "5.5 baths               2\n",
       "Private half-bath       1\n",
       "6.5 baths               1\n",
       "11 baths                1\n",
       "Name: bathrooms, dtype: int64"
      ]
     },
     "execution_count": 179,
     "metadata": {},
     "output_type": "execute_result"
    }
   ],
   "source": [
    "df_train['bathrooms'].value_counts()"
   ]
  },
  {
   "cell_type": "markdown",
   "id": "cbafd8f5-ef11-47af-ba45-9a66ce9a7293",
   "metadata": {},
   "source": [
    "Besides, it is identified that **'bathrooms'** feature includes more than 5 unique values which indicates a suitable encoding should also be applied. Based on the counting results of all bathroom types, we can classify them as 5 main groups: one full bath (1 bath), one full private full bath (1 private bath), one full shared bath (1 shared bath), many full baths (many baths), many full shared baths (many shared baths) and the remaining type as other."
   ]
  },
  {
   "cell_type": "code",
   "execution_count": 180,
   "id": "3d598f77-b069-434f-9d9e-b805efcc68a6",
   "metadata": {},
   "outputs": [],
   "source": [
    "#apply to the training set\n",
    "for i in range(len(df_train)):\n",
    "    if 'private bath' in df_train['bathrooms'].loc[i]:\n",
    "        df_train['bathrooms'].loc[i]= '1 private bath'\n",
    "    if 'shared bath' in df_train['bathrooms'].loc[i]:\n",
    "        df_train['bathrooms'].loc[i]= '1 shared bath'\n",
    "    if 'bath' in df_train['bathrooms'].loc[i]:\n",
    "        df_train['bathrooms'].loc[i]= '1 bath'\n",
    "    if 'baths' in df_train['bathrooms'].loc[i]:\n",
    "        df_train['bathrooms'].loc[i]= 'Many baths'\n",
    "    if 'shared baths' in df_train['bathrooms'].loc[i]:\n",
    "        df_train['bathrooms'].loc[i]= 'Many shared baths'"
   ]
  },
  {
   "cell_type": "code",
   "execution_count": 181,
   "id": "bfda7558-c08b-4464-ba2c-4c46934e3484",
   "metadata": {},
   "outputs": [],
   "source": [
    "#apply to the test set\n",
    "for i in range(len(df_test)):\n",
    "    if 'bath' in df_test['bathrooms'].loc[i]:\n",
    "        df_test['bathrooms'].loc[i]= '1 bath'\n",
    "    if 'private bath' in df_test['bathrooms'].loc[i]:\n",
    "        df_test['bathrooms'].loc[i]= '1 private bath'\n",
    "    if 'shared bath' in df_test['bathrooms'].loc[i]:\n",
    "        df_test['bathrooms'].loc[i]= '1 shared bath'\n",
    "    if 'baths' in df_test['bathrooms'].loc[i]:\n",
    "        df_test['bathrooms'].loc[i]= 'Many baths'\n",
    "    if 'shared baths' in df_test['bathrooms'].loc[i]:\n",
    "        df_test['bathrooms'].loc[i]= 'Many shared baths'"
   ]
  },
  {
   "cell_type": "code",
   "execution_count": 133,
   "id": "eb0e74de-ccbc-457a-9582-097fb1031f37",
   "metadata": {},
   "outputs": [],
   "source": [
    "for i in range(len(df_train)):\n",
    "    if df_train['bathrooms'].loc[i] not in ['1 bath','1 private bath','1 shared bath','Many baths','Many shared baths']:\n",
    "        df_train['bathrooms'].loc[i] = 'Other'"
   ]
  },
  {
   "cell_type": "code",
   "execution_count": 182,
   "id": "c1748313-e152-40e3-a86f-fa35962d7e57",
   "metadata": {},
   "outputs": [],
   "source": [
    "for i in range(len(df_test)):\n",
    "    if df_test['bathrooms'].loc[i] not in ['1 bath','1 private bath','1 shared bath','Many baths','Many shared baths']:\n",
    "        df_test['bathrooms'].loc[i] = 'Other'"
   ]
  },
  {
   "cell_type": "code",
   "execution_count": 183,
   "id": "a37da9e2-8599-459c-a538-20f8c4bc27f0",
   "metadata": {},
   "outputs": [
    {
     "data": {
      "text/plain": [
       "1 bath    7000\n",
       "Name: bathrooms, dtype: int64"
      ]
     },
     "execution_count": 183,
     "metadata": {},
     "output_type": "execute_result"
    }
   ],
   "source": [
    "df_train['bathrooms'].value_counts()"
   ]
  },
  {
   "cell_type": "code",
   "execution_count": 184,
   "id": "66296431-3dde-4a46-a606-d12895218492",
   "metadata": {},
   "outputs": [
    {
     "data": {
      "text/plain": [
       "1 bath    3000\n",
       "Name: bathrooms, dtype: int64"
      ]
     },
     "execution_count": 184,
     "metadata": {},
     "output_type": "execute_result"
    }
   ],
   "source": [
    "df_test['bathrooms'].value_counts()"
   ]
  },
  {
   "cell_type": "code",
   "execution_count": 43,
   "id": "98636ddf-f942-4732-b954-11c4063be58e",
   "metadata": {},
   "outputs": [],
   "source": [
    "#map integer value\n",
    "bathrooms_mapping = {'Other':6, 'Many shared baths':5, 'Many baths':4, '1 shared bath':3, '1 private bath':2, '1 bath':1}\n",
    "df_train['map_bathrooms'] = df_train['bathrooms'].map(bathrooms_mapping)"
   ]
  },
  {
   "cell_type": "code",
   "execution_count": 44,
   "id": "98152c00-3cd1-4550-89d8-f559c28c69c9",
   "metadata": {},
   "outputs": [],
   "source": [
    "#drop the original column after mapping \n",
    "df_train.drop(columns=['bathrooms'],inplace=True)"
   ]
  },
  {
   "cell_type": "markdown",
   "id": "d3ad3f20-7549-4b9e-8894-818c976d1457",
   "metadata": {},
   "source": [
    "`(Task 2, Question 4 Text Here - insert more cells as required)`"
   ]
  },
  {
   "cell_type": "markdown",
   "id": "2d695347",
   "metadata": {},
   "source": [
    "**Task 2, Question 5**: Perform any other actions you think need to be done on the data before constructing predictive models, and clearly explain what you have done.   \n",
    "(1 marks)"
   ]
  },
  {
   "cell_type": "code",
   "execution_count": 15,
   "id": "21a238a3-5432-4058-8b6e-1172c4e396ad",
   "metadata": {},
   "outputs": [],
   "source": [
    "## Task 2, Question 5 Code Here"
   ]
  },
  {
   "cell_type": "code",
   "execution_count": 45,
   "id": "3499cff2-07f2-4656-b6c2-4720611cc4c1",
   "metadata": {},
   "outputs": [
    {
     "data": {
      "text/plain": [
       "Entire home/apt    5337\n",
       "Private room       1511\n",
       "Hotel room          103\n",
       "Shared room          49\n",
       "Name: room_type, dtype: int64"
      ]
     },
     "execution_count": 45,
     "metadata": {},
     "output_type": "execute_result"
    }
   ],
   "source": [
    "df_train['room_type'].value_counts()"
   ]
  },
  {
   "cell_type": "markdown",
   "id": "bcc020f7-b0a0-4e1c-8cb0-49b7a22aa524",
   "metadata": {},
   "source": [
    "Even though **'room_type'** only has 4 unique values, this feature should also be in an appropriate ordering of the labels by applying the same mapping integer values process."
   ]
  },
  {
   "cell_type": "code",
   "execution_count": 46,
   "id": "43e873cf-9138-481a-a2e5-571b2636989c",
   "metadata": {},
   "outputs": [],
   "source": [
    "#map integer value\n",
    "room_mapping = {'Shared room':4, 'Hotel room':3, 'Private room':2, 'Entire home/apt':1}\n",
    "df_train['room_maptype'] = df_train['room_type'].map(room_mapping)"
   ]
  },
  {
   "cell_type": "code",
   "execution_count": 47,
   "id": "af32d6d8",
   "metadata": {},
   "outputs": [],
   "source": [
    "#drop the original column after mapping \n",
    "df_train.drop(columns=['room_type'],inplace=True)"
   ]
  },
  {
   "cell_type": "markdown",
   "id": "0d5fc1f9",
   "metadata": {},
   "source": [
    "Realizing that all three variables **'host_neibourhood'**, **'neighbourhood'** and **'neighbourhood_cleansed'** relate to the location of each Airbnb, we will only use **'neighbourhood_cleansed'** for the analysis process due to its lowest number of missing values. Additionally, as **'first_review'** and **'last_review'** will not heavily contribute to predict the price, they are also removed."
   ]
  },
  {
   "cell_type": "code",
   "execution_count": 48,
   "id": "a421eed9-bb3c-4a36-927b-67df9110928d",
   "metadata": {},
   "outputs": [],
   "source": [
    "#drop host_neighbourhood, neighbourhood, firt review, last review\n",
    "df_train.drop(columns = ['host_neighbourhood','neighbourhood','first_review','last_review'],inplace=True)"
   ]
  },
  {
   "cell_type": "markdown",
   "id": "b0a4c231-9720-4ec9-aa4c-f918a79defbb",
   "metadata": {},
   "source": [
    "Moreover, we need to apply one-hot encoding on the remaining nominal features by creating new dummy variables for each unique value.  "
   ]
  },
  {
   "cell_type": "code",
   "execution_count": 49,
   "id": "df58f2b0-48c5-47ab-a76f-614be7cbea40",
   "metadata": {},
   "outputs": [
    {
     "data": {
      "text/plain": [
       "t    6986\n",
       "f      14\n",
       "Name: has_availability, dtype: int64"
      ]
     },
     "execution_count": 49,
     "metadata": {},
     "output_type": "execute_result"
    }
   ],
   "source": [
    "df_train['has_availability'].value_counts()"
   ]
  },
  {
   "cell_type": "code",
   "execution_count": 50,
   "id": "95cef8a2-a4ba-48ed-9a2a-999bed27f469",
   "metadata": {},
   "outputs": [
    {
     "data": {
      "text/plain": [
       "f    4901\n",
       "t    2099\n",
       "Name: host_is_superhost, dtype: int64"
      ]
     },
     "execution_count": 50,
     "metadata": {},
     "output_type": "execute_result"
    }
   ],
   "source": [
    "df_train['host_is_superhost'].value_counts()"
   ]
  },
  {
   "cell_type": "code",
   "execution_count": 51,
   "id": "c5f4dcb5-c628-4f1d-bae4-a557ba969ae1",
   "metadata": {},
   "outputs": [
    {
     "data": {
      "text/plain": [
       "t    6981\n",
       "f      19\n",
       "Name: host_has_profile_pic, dtype: int64"
      ]
     },
     "execution_count": 51,
     "metadata": {},
     "output_type": "execute_result"
    }
   ],
   "source": [
    "df_train['host_has_profile_pic'].value_counts()"
   ]
  },
  {
   "cell_type": "code",
   "execution_count": 52,
   "id": "3dac0f79-2f78-4dec-833e-808c922187c7",
   "metadata": {},
   "outputs": [
    {
     "data": {
      "text/plain": [
       "t    6320\n",
       "f     680\n",
       "Name: host_identity_verified, dtype: int64"
      ]
     },
     "execution_count": 52,
     "metadata": {},
     "output_type": "execute_result"
    }
   ],
   "source": [
    "df_train['host_identity_verified'].value_counts()"
   ]
  },
  {
   "cell_type": "code",
   "execution_count": 53,
   "id": "33fd2683-c2cf-4c65-b1ca-07b8cd08b153",
   "metadata": {},
   "outputs": [
    {
     "data": {
      "text/plain": [
       "f    4575\n",
       "t    2425\n",
       "Name: instant_bookable, dtype: int64"
      ]
     },
     "execution_count": 53,
     "metadata": {},
     "output_type": "execute_result"
    }
   ],
   "source": [
    "df_train['instant_bookable'].value_counts()"
   ]
  },
  {
   "cell_type": "code",
   "execution_count": 54,
   "id": "c074c127-7f26-4152-bc1b-e0658ef36d5a",
   "metadata": {},
   "outputs": [],
   "source": [
    "#apply dummy variables\n",
    "dummy_availability = pd.get_dummies(df_train[['has_availability']])\n",
    "df_train = df_train.join(dummy_availability)\n",
    "dummy_superhost = pd.get_dummies(df_train[['host_is_superhost']])\n",
    "df_train = df_train.join(dummy_superhost)\n",
    "dummy_host_profilepic = pd.get_dummies(df_train[['host_has_profile_pic']])\n",
    "df_train = df_train.join(dummy_host_profilepic)\n",
    "dummy_host_identity = pd.get_dummies(df_train[['host_identity_verified']])\n",
    "df_train = df_train.join(dummy_host_identity)\n",
    "dummy_bookable = pd.get_dummies(df_train[['instant_bookable']])\n",
    "df_train = df_train.join(dummy_bookable)"
   ]
  },
  {
   "cell_type": "code",
   "execution_count": 55,
   "id": "f5bd35cc-1cca-48ac-83f9-4efe10f816a5",
   "metadata": {},
   "outputs": [],
   "source": [
    "df_train.drop(columns=['has_availability','host_is_superhost','host_has_profile_pic','host_identity_verified','instant_bookable'],inplace=True)"
   ]
  },
  {
   "cell_type": "markdown",
   "id": "328a5f7e",
   "metadata": {},
   "source": [
    "Lastly, since regression models only perform on numerical data, string-based features should also be handle properly."
   ]
  },
  {
   "cell_type": "code",
   "execution_count": 56,
   "id": "76dee3be",
   "metadata": {},
   "outputs": [
    {
     "data": {
      "text/html": [
       "<div>\n",
       "<style scoped>\n",
       "    .dataframe tbody tr th:only-of-type {\n",
       "        vertical-align: middle;\n",
       "    }\n",
       "\n",
       "    .dataframe tbody tr th {\n",
       "        vertical-align: top;\n",
       "    }\n",
       "\n",
       "    .dataframe thead th {\n",
       "        text-align: right;\n",
       "    }\n",
       "</style>\n",
       "<table border=\"1\" class=\"dataframe\">\n",
       "  <thead>\n",
       "    <tr style=\"text-align: right;\">\n",
       "      <th></th>\n",
       "      <th>ID</th>\n",
       "      <th>name</th>\n",
       "      <th>description</th>\n",
       "      <th>neighborhood_overview</th>\n",
       "      <th>host_name</th>\n",
       "      <th>host_since</th>\n",
       "      <th>host_location</th>\n",
       "      <th>host_about</th>\n",
       "      <th>host_response_time</th>\n",
       "      <th>host_response_rate</th>\n",
       "      <th>host_acceptance_rate</th>\n",
       "      <th>host_listings_count</th>\n",
       "      <th>neighbourhood_cleansed</th>\n",
       "      <th>latitude</th>\n",
       "      <th>longitude</th>\n",
       "      <th>accommodates</th>\n",
       "      <th>bedrooms</th>\n",
       "      <th>beds</th>\n",
       "      <th>minimum_nights</th>\n",
       "      <th>maximum_nights</th>\n",
       "      <th>minimum_minimum_nights</th>\n",
       "      <th>maximum_minimum_nights</th>\n",
       "      <th>minimum_maximum_nights</th>\n",
       "      <th>maximum_maximum_nights</th>\n",
       "      <th>minimum_nights_avg_ntm</th>\n",
       "      <th>maximum_nights_avg_ntm</th>\n",
       "      <th>availability_30</th>\n",
       "      <th>availability_60</th>\n",
       "      <th>availability_90</th>\n",
       "      <th>availability_365</th>\n",
       "      <th>number_of_reviews</th>\n",
       "      <th>number_of_reviews_ltm</th>\n",
       "      <th>number_of_reviews_l30d</th>\n",
       "      <th>review_scores_rating</th>\n",
       "      <th>review_scores_accuracy</th>\n",
       "      <th>review_scores_cleanliness</th>\n",
       "      <th>review_scores_checkin</th>\n",
       "      <th>review_scores_communication</th>\n",
       "      <th>review_scores_location</th>\n",
       "      <th>review_scores_value</th>\n",
       "      <th>license</th>\n",
       "      <th>calculated_host_listings_count</th>\n",
       "      <th>calculated_host_listings_count_entire_homes</th>\n",
       "      <th>calculated_host_listings_count_private_rooms</th>\n",
       "      <th>calculated_host_listings_count_shared_rooms</th>\n",
       "      <th>reviews_per_month</th>\n",
       "      <th>price</th>\n",
       "      <th>email</th>\n",
       "      <th>phone</th>\n",
       "      <th>reviews</th>\n",
       "      <th>jumio</th>\n",
       "      <th>Long term stays allowed</th>\n",
       "      <th>Wifi</th>\n",
       "      <th>Essentials</th>\n",
       "      <th>Smoke alarm</th>\n",
       "      <th>map_property_type</th>\n",
       "      <th>map_bathrooms</th>\n",
       "      <th>room_maptype</th>\n",
       "      <th>has_availability_f</th>\n",
       "      <th>has_availability_t</th>\n",
       "      <th>host_is_superhost_f</th>\n",
       "      <th>host_is_superhost_t</th>\n",
       "      <th>host_has_profile_pic_f</th>\n",
       "      <th>host_has_profile_pic_t</th>\n",
       "      <th>host_identity_verified_f</th>\n",
       "      <th>host_identity_verified_t</th>\n",
       "      <th>instant_bookable_f</th>\n",
       "      <th>instant_bookable_t</th>\n",
       "    </tr>\n",
       "  </thead>\n",
       "  <tbody>\n",
       "    <tr>\n",
       "      <th>0</th>\n",
       "      <td>0</td>\n",
       "      <td>Manly Harbour House</td>\n",
       "      <td>Beautifully renovated, spacious and quiet, our...</td>\n",
       "      <td>Balgowlah Heights is one of the most prestigio...</td>\n",
       "      <td>Heidi</td>\n",
       "      <td>2009-11-20</td>\n",
       "      <td>Sydney, New South Wales, Australia</td>\n",
       "      <td>I am a Canadian who has made Australia her hom...</td>\n",
       "      <td>within a few hours</td>\n",
       "      <td>100.0</td>\n",
       "      <td>69.0</td>\n",
       "      <td>2.0</td>\n",
       "      <td>Manly</td>\n",
       "      <td>-33.80084</td>\n",
       "      <td>151.26378</td>\n",
       "      <td>6</td>\n",
       "      <td>3</td>\n",
       "      <td>3</td>\n",
       "      <td>2</td>\n",
       "      <td>22</td>\n",
       "      <td>2</td>\n",
       "      <td>2</td>\n",
       "      <td>22</td>\n",
       "      <td>22</td>\n",
       "      <td>2</td>\n",
       "      <td>22</td>\n",
       "      <td>0</td>\n",
       "      <td>14</td>\n",
       "      <td>14</td>\n",
       "      <td>174</td>\n",
       "      <td>3</td>\n",
       "      <td>1</td>\n",
       "      <td>0</td>\n",
       "      <td>4.67</td>\n",
       "      <td>4.33</td>\n",
       "      <td>4.33</td>\n",
       "      <td>4.67</td>\n",
       "      <td>4.33</td>\n",
       "      <td>4.67</td>\n",
       "      <td>4.33</td>\n",
       "      <td>Exempt</td>\n",
       "      <td>2</td>\n",
       "      <td>2</td>\n",
       "      <td>0</td>\n",
       "      <td>0</td>\n",
       "      <td>0.04</td>\n",
       "      <td>470.0</td>\n",
       "      <td>1</td>\n",
       "      <td>1</td>\n",
       "      <td>1</td>\n",
       "      <td>1</td>\n",
       "      <td>0</td>\n",
       "      <td>1</td>\n",
       "      <td>1</td>\n",
       "      <td>1</td>\n",
       "      <td>1.0</td>\n",
       "      <td>4</td>\n",
       "      <td>1</td>\n",
       "      <td>0</td>\n",
       "      <td>1</td>\n",
       "      <td>0</td>\n",
       "      <td>1</td>\n",
       "      <td>0</td>\n",
       "      <td>1</td>\n",
       "      <td>0</td>\n",
       "      <td>1</td>\n",
       "      <td>1</td>\n",
       "      <td>0</td>\n",
       "    </tr>\n",
       "  </tbody>\n",
       "</table>\n",
       "</div>"
      ],
      "text/plain": [
       "   ID                 name                                        description  \\\n",
       "0   0  Manly Harbour House  Beautifully renovated, spacious and quiet, our...   \n",
       "\n",
       "                               neighborhood_overview host_name  host_since  \\\n",
       "0  Balgowlah Heights is one of the most prestigio...     Heidi  2009-11-20   \n",
       "\n",
       "                        host_location  \\\n",
       "0  Sydney, New South Wales, Australia   \n",
       "\n",
       "                                          host_about  host_response_time  \\\n",
       "0  I am a Canadian who has made Australia her hom...  within a few hours   \n",
       "\n",
       "   host_response_rate  host_acceptance_rate  host_listings_count  \\\n",
       "0               100.0                  69.0                  2.0   \n",
       "\n",
       "  neighbourhood_cleansed  latitude  longitude  accommodates  bedrooms  beds  \\\n",
       "0                  Manly -33.80084  151.26378             6         3     3   \n",
       "\n",
       "   minimum_nights  maximum_nights  minimum_minimum_nights  \\\n",
       "0               2              22                       2   \n",
       "\n",
       "   maximum_minimum_nights  minimum_maximum_nights  maximum_maximum_nights  \\\n",
       "0                       2                      22                      22   \n",
       "\n",
       "   minimum_nights_avg_ntm  maximum_nights_avg_ntm  availability_30  \\\n",
       "0                       2                      22                0   \n",
       "\n",
       "   availability_60  availability_90  availability_365  number_of_reviews  \\\n",
       "0               14               14               174                  3   \n",
       "\n",
       "   number_of_reviews_ltm  number_of_reviews_l30d  review_scores_rating  \\\n",
       "0                      1                       0                  4.67   \n",
       "\n",
       "   review_scores_accuracy  review_scores_cleanliness  review_scores_checkin  \\\n",
       "0                    4.33                       4.33                   4.67   \n",
       "\n",
       "   review_scores_communication  review_scores_location  review_scores_value  \\\n",
       "0                         4.33                    4.67                 4.33   \n",
       "\n",
       "  license  calculated_host_listings_count  \\\n",
       "0  Exempt                               2   \n",
       "\n",
       "   calculated_host_listings_count_entire_homes  \\\n",
       "0                                            2   \n",
       "\n",
       "   calculated_host_listings_count_private_rooms  \\\n",
       "0                                             0   \n",
       "\n",
       "   calculated_host_listings_count_shared_rooms  reviews_per_month  price  \\\n",
       "0                                            0               0.04  470.0   \n",
       "\n",
       "   email  phone  reviews  jumio  Long term stays allowed  Wifi  Essentials  \\\n",
       "0      1      1        1      1                        0     1           1   \n",
       "\n",
       "   Smoke alarm  map_property_type  map_bathrooms  room_maptype  \\\n",
       "0            1                1.0              4             1   \n",
       "\n",
       "   has_availability_f  has_availability_t  host_is_superhost_f  \\\n",
       "0                   0                   1                    0   \n",
       "\n",
       "   host_is_superhost_t  host_has_profile_pic_f  host_has_profile_pic_t  \\\n",
       "0                    1                       0                       1   \n",
       "\n",
       "   host_identity_verified_f  host_identity_verified_t  instant_bookable_f  \\\n",
       "0                         0                         1                   1   \n",
       "\n",
       "   instant_bookable_t  \n",
       "0                   0  "
      ]
     },
     "execution_count": 56,
     "metadata": {},
     "output_type": "execute_result"
    }
   ],
   "source": [
    "df_train.head(1)"
   ]
  },
  {
   "cell_type": "code",
   "execution_count": 58,
   "id": "3833fb50",
   "metadata": {},
   "outputs": [
    {
     "data": {
      "text/plain": [
       "Sydney, New South Wales, Australia                          2113\n",
       "AU                                                           728\n",
       "New South Wales, Australia                                   495\n",
       "Tamarama, New South Wales, Australia                         137\n",
       "Manly, New South Wales, Australia                            121\n",
       "Bondi Beach, New South Wales, Australia                      119\n",
       "Padstow, New South Wales, Australia                          113\n",
       "Australia                                                     99\n",
       "Broken Hill West, New South Wales, Australia                  71\n",
       "Greens Beach, Tasmania, Australia                             69\n",
       "Avalon Beach, New South Wales, Australia                      64\n",
       "Freshwater, New South Wales, Australia                        62\n",
       "Coogee, New South Wales, Australia                            62\n",
       "Potts Point, New South Wales, Australia                       54\n",
       "Surry Hills, New South Wales, Australia                       52\n",
       "Palm Beach, New South Wales, Australia                        51\n",
       "Darlinghurst, New South Wales, Australia                      45\n",
       "Melbourne, Victoria, Australia                                43\n",
       "Clareville, New South Wales, Australia                        42\n",
       "Mosman, New South Wales, Australia                            37\n",
       "Balgowlah, New South Wales, Australia                         37\n",
       "Randwick, New South Wales, Australia                          33\n",
       "St Pauls, New South Wales, Australia                          31\n",
       "Seaforth, New South Wales, Australia                          30\n",
       "Newtown, New South Wales, Australia                           30\n",
       "Dee Why, New South Wales, Australia                           28\n",
       "Chatswood, New South Wales, Australia                         28\n",
       "Newport, New South Wales, Australia                           26\n",
       "Ryde, New South Wales, Australia                              26\n",
       "Paddington, New South Wales, Australia                        25\n",
       "Wolli Creek, New South Wales, Australia                       23\n",
       "Bondi, New South Wales, Australia                             23\n",
       "Lilyfield, New South Wales, Australia                         22\n",
       "Chippendale, New South Wales, Australia                       21\n",
       "Banksia, New South Wales, Australia                           21\n",
       "Marrickville, New South Wales, Australia                      20\n",
       "Woollahra, New South Wales, Australia                         20\n",
       "Fairlight, New South Wales, Australia                         19\n",
       "Port Melbourne, Victoria, Australia                           19\n",
       "Greenhills Beach, New South Wales, Australia                  19\n",
       "Rose Bay, New South Wales, Australia                          19\n",
       "Pagewood, New South Wales, Australia                          17\n",
       "Bondi Junction, New South Wales, Australia                    17\n",
       "Saint Ives Chase, New South Wales, Australia                  17\n",
       "London, England, United Kingdom                               17\n",
       "Rozelle, New South Wales, Australia                           16\n",
       "Ultimo, New South Wales, Australia                            16\n",
       "Strathfield, New South Wales, Australia                       16\n",
       "Collaroy, New South Wales, Australia                          16\n",
       "Hurstville Grove, New South Wales, Australia                  16\n",
       "Bronte, New South Wales, Australia                            16\n",
       "Parramatta, New South Wales, Australia                        16\n",
       "Bella Vista, New South Wales, Australia                       15\n",
       "Mona Vale, New South Wales, Australia                         15\n",
       "Bundall, Queensland, Australia                                15\n",
       "Balmain East, New South Wales, Australia                      14\n",
       "Maroubra, New South Wales, Australia                          14\n",
       "Leichhardt, New South Wales, Australia                        14\n",
       "Cronulla, New South Wales, Australia                          14\n",
       "Ingleside, New South Wales, Australia                         13\n",
       "Balmain, New South Wales, Australia                           13\n",
       "Vaucluse, New South Wales, Australia                          13\n",
       "Redfern, New South Wales, Australia                           13\n",
       "Sylvania Waters, New South Wales, Australia                   13\n",
       "Stanmore, New South Wales, Australia                          13\n",
       "Yagoona, New South Wales, Australia                           12\n",
       "Penrith, New South Wales, Australia                           12\n",
       "Narrabeen, New South Wales, Australia                         12\n",
       "Lane Cove DC, New South Wales, Australia                      12\n",
       "Woolloomooloo, New South Wales, Australia                     12\n",
       "Bundeena, New South Wales, Australia                          12\n",
       "Waverley, New South Wales, Australia                          12\n",
       "St Leonards, New South Wales, Australia                       12\n",
       "Glebe, New South Wales, Australia                             12\n",
       "Rockdale, New South Wales, Australia                          12\n",
       "Castle Hill, New South Wales, Australia                       11\n",
       "Concord West DC, New South Wales, Australia                   11\n",
       "Drummoyne, New South Wales, Australia                         11\n",
       "Pemulwuy, New South Wales, Australia                          11\n",
       "Putney, New South Wales, Australia                            11\n",
       "Alexandria, New South Wales, Australia                        10\n",
       "Brookvale, New South Wales, Australia                         10\n",
       "Hornsby, New South Wales, Australia                           10\n",
       "Hillsdale, New South Wales, Australia                         10\n",
       "Annandale, New South Wales, Australia                         10\n",
       "Frenchs Forest, New South Wales, Australia                    10\n",
       "Brisbane, Queensland, Australia                               10\n",
       "The Entrance North, New South Wales, Australia                10\n",
       "Sydney Olympic Park, New South Wales, Australia               10\n",
       "Cammeray, New South Wales, Australia                           9\n",
       "Pyrmont, New South Wales, Australia                            9\n",
       "North Bondi, New South Wales, Australia                        9\n",
       "Eastwood, New South Wales, Australia                           9\n",
       "Epping, New South Wales, Australia                             9\n",
       "North Curl Curl, New South Wales, Australia                    9\n",
       "Erskineville, New South Wales, Australia                       9\n",
       "Dulwich Hill, New South Wales, Australia                       9\n",
       "Bellevue Hill, New South Wales, Australia                      8\n",
       "Haymarket, New South Wales, Australia                          8\n",
       "Rushcutters Bay, New South Wales, Australia                    8\n",
       "Hurstville, New South Wales, Australia                         8\n",
       "Himas Platypus, New South Wales, Australia                     8\n",
       "Ashfield, New South Wales, Australia                           8\n",
       "North Willoughby, New South Wales, Australia                   8\n",
       "Schofields, New South Wales, Australia                         8\n",
       "Moore Park, New South Wales, Australia                         8\n",
       "SG                                                             8\n",
       "Bilgola Plateau, New South Wales, Australia                    8\n",
       "Kingsgrove, New South Wales, Australia                         8\n",
       "Pymble, New South Wales, Australia                             7\n",
       "Waterloo, New South Wales, Australia                           7\n",
       "Neutral Bay, New South Wales, Australia                        7\n",
       "Mascot, New South Wales, Australia                             7\n",
       "Carlingford, New South Wales, Australia                        7\n",
       "Punchbowl, New South Wales, Australia                          7\n",
       "Blacktown, New South Wales, Australia                          7\n",
       "Kensington, New South Wales, Australia                         7\n",
       "Rosehill, New South Wales, Australia                           7\n",
       "Avalon, New South Wales, Australia                             7\n",
       "Bali, Indonesia                                                7\n",
       "Lidcombe, New South Wales, Australia                           7\n",
       "Matraville, New South Wales, Australia                         7\n",
       "East Killara, New South Wales, Australia                       7\n",
       "Shenzhen, Guangdong, China                                     6\n",
       "Brooklyn, New South Wales, Australia                           6\n",
       "Gymea, New South Wales, Australia                              6\n",
       "Bayview, New South Wales, Australia                            6\n",
       "Rhodes, New South Wales, Australia                             6\n",
       "Victoria, Australia                                            6\n",
       "Botany, New South Wales, Australia                             6\n",
       "Bexley, New South Wales, Australia                             6\n",
       "Cabramatta West, New South Wales, Australia                    6\n",
       "Carlton, New South Wales, Australia                            6\n",
       "Camperdown, New South Wales, Australia                         6\n",
       "Auburn, New South Wales, Australia                             6\n",
       "Dangar Island, New South Wales, Australia                      6\n",
       "Killarney Heights, New South Wales, Australia                  6\n",
       "North Turramurra, New South Wales, Australia                   6\n",
       "Clovelly, New South Wales, Australia                           6\n",
       "St Peters, New South Wales, Australia                          6\n",
       "Taren Point, New South Wales, Australia                        5\n",
       "North Wahroonga, New South Wales, Australia                    5\n",
       "Como, New South Wales, Australia                               5\n",
       "Gordon, New South Wales, Australia                             5\n",
       "The Oaks, New South Wales, Australia                           5\n",
       "Beecroft, New South Wales, Australia                           5\n",
       "Bankstown, New South Wales, Australia                          5\n",
       "Saint Clair, New South Wales, Australia                        5\n",
       "Kurnell, New South Wales, Australia                            5\n",
       "Croydon, New South Wales, Australia                            5\n",
       "Brighton-Le-Sands, New South Wales, Australia                  5\n",
       "Millers Point, New South Wales, Australia                      5\n",
       "North Narrabeen, New South Wales, Australia                    5\n",
       "Allambie Heights, New South Wales, Australia                   5\n",
       "Cheltenham, New South Wales, Australia                         5\n",
       "Cherrybrook, New South Wales, Australia                        5\n",
       "Manly Vale, New South Wales, Australia                         5\n",
       "Perth, Western Australia, Australia                            5\n",
       "Kingsford, New South Wales, Australia                          5\n",
       "Warriewood, New South Wales, Australia                         5\n",
       "Hong Kong                                                      5\n",
       "Cremorne Point, New South Wales, Australia                     5\n",
       "North Rocks, New South Wales, Australia                        5\n",
       "Whale Beach, New South Wales, Australia                        5\n",
       "Mount Pritchard, New South Wales, Australia                    5\n",
       "Berlin, Berlin, Germany                                        5\n",
       "Morning Bay, New South Wales, Australia                        4\n",
       "Kenthurst, New South Wales, Australia                          4\n",
       "Curl Curl, New South Wales, Australia                          4\n",
       "Canoelands, New South Wales, Australia                         4\n",
       "Galston, New South Wales, Australia                            4\n",
       "Cremorne, New South Wales, Australia                           4\n",
       "Elizabeth Bay, New South Wales, Australia                      4\n",
       "Clemton Park, New South Wales, Australia                       4\n",
       "Woolwich, New South Wales, Australia                           4\n",
       "CX                                                             4\n",
       "Point Piper, New South Wales, Australia                        4\n",
       "GB                                                             4\n",
       "Balaclava, Victoria, Australia                                 4\n",
       "Woodcroft, New South Wales, Australia                          4\n",
       "Kingswood, New South Wales, Australia                          4\n",
       "Bilgola Beach, New South Wales, Australia                      4\n",
       "Greenwich, New South Wales, Australia                          4\n",
       "Campbelltown North, New South Wales, Australia                 4\n",
       "China                                                          4\n",
       "The Rocks, New South Wales, Australia                          4\n",
       "IN                                                             4\n",
       "Greater London, England, United Kingdom                        4\n",
       "Pittwater, New South Wales, Australia                          4\n",
       "New York, New York, United States                              4\n",
       "Telopea, New South Wales, Australia                            4\n",
       "Old Guildford, New South Wales, Australia                      4\n",
       "Milsons Passage, New South Wales, Australia                    4\n",
       "Double Bay, New South Wales, Australia                         4\n",
       "Rosebery, New South Wales, Australia                           4\n",
       "Warringah Mall, New South Wales, Australia                     4\n",
       "Canterbury, New South Wales, Australia                         4\n",
       "Wheeler Heights, New South Wales, Australia                    4\n",
       "Western Australia, Australia                                   4\n",
       "Newington, New South Wales, Australia                          4\n",
       "Macquarie Park, New South Wales, Australia                     4\n",
       "Wollstonecraft, New South Wales, Australia                     4\n",
       "Bexley South, New South Wales, Australia                       4\n",
       "Denham Court, New South Wales, Australia                       3\n",
       "Jordan Springs, New South Wales, Australia                     3\n",
       "Caringbah, New South Wales, Australia                          3\n",
       "Royal National Park, New South Wales, Australia                3\n",
       "Wentworthville, New South Wales, Australia                     3\n",
       "Revesby, New South Wales, Australia                            3\n",
       "West Melbourne, Victoria, Australia                            3\n",
       "Molesey, England, United Kingdom                               3\n",
       "Queensland, Australia                                          3\n",
       "Campsie, New South Wales, Australia                            3\n",
       "Paris, Île-de-France, France                                   3\n",
       "Homebush West, New South Wales, Australia                      3\n",
       "Red Rock, New South Wales, Australia                           3\n",
       "Nottingham, England, United Kingdom                            3\n",
       "Christmas Island                                               3\n",
       "Newstead, Queensland, Australia                                3\n",
       "Singapore                                                      3\n",
       "Busby, New South Wales, Australia                              3\n",
       "Watsonia North, Victoria, Australia                            3\n",
       "Scotland Island, New South Wales, Australia                    3\n",
       "Adelaide, South Australia, Australia                           3\n",
       "Edgecliff, New South Wales, Australia                          3\n",
       "Mount Annan, New South Wales, Australia                        3\n",
       "Cromer, New South Wales, Australia                             3\n",
       "Peakhurst, New South Wales, Australia                          3\n",
       "Oyster Bay, New South Wales, Australia                         3\n",
       "Darling Point, New South Wales, Australia                      3\n",
       "Fairfield, New South Wales, Australia                          3\n",
       "Liverpool, New South Wales, Australia                          3\n",
       "Sylvania, New South Wales, Australia                           3\n",
       "Berowra Waters, New South Wales, Australia                     3\n",
       "Lane Cove, New South Wales, Australia                          3\n",
       "Luddenham, New South Wales, Australia                          3\n",
       "Breakfast Point, New South Wales, Australia                    3\n",
       "West Pennant Hills, New South Wales, Australia                 3\n",
       "Baulkham Hills, New South Wales, Australia                     3\n",
       "Randwick DC, New South Wales, Australia                        3\n",
       "Chifley, New South Wales, Australia                            3\n",
       "Willoughby, New South Wales, Australia                         3\n",
       "Newcastle, New South Wales, Australia                          3\n",
       "Enmore/Stanmore, New South Wales, Australia                    3\n",
       "Warriewood DC, New South Wales, Australia                      3\n",
       "McMahons Point, New South Wales, Australia                     3\n",
       "Rivervale, Western Australia, Australia                        3\n",
       "Austral, New South Wales, Australia                            3\n",
       "Forestville, New South Wales, Australia                        3\n",
       "Kirribilli, New South Wales, Australia                         3\n",
       "Waverton, New South Wales, Australia                           3\n",
       "Hawkesbury River                                               3\n",
       "Canberra, Australian Capital Territory, Australia              3\n",
       "Sydney, Australia                                              3\n",
       "Hilo, Hawaii, United States                                    3\n",
       "Saint Ives, New South Wales, Australia                         3\n",
       "Northwood, New South Wales, Australia                          2\n",
       "Lower Portland, New South Wales, Australia                     2\n",
       "Belmore, New South Wales, Australia                            2\n",
       "Lindfield, New South Wales, Australia                          2\n",
       "Camden, New South Wales, Australia                             2\n",
       "Coolangatta, Queensland, Australia                             2\n",
       "Gregory Hills, New South Wales, Australia                      2\n",
       "Quakers Hill, New South Wales, Australia                       2\n",
       "Daceyville, New South Wales, Australia                         2\n",
       "Watsons Bay, New South Wales, Australia                        2\n",
       "Canada Bay, New South Wales, Australia                         2\n",
       "Beacon Hill, New South Wales, Australia                        2\n",
       "Homebush, New South Wales, Australia                           2\n",
       "Campbelltown, New South Wales, Australia                       2\n",
       "Marina del Rey, California, United States                      2\n",
       "Stanwell Park, New South Wales, Australia                      2\n",
       "North Parramatta, New South Wales, Australia                   2\n",
       "Auckland, Auckland, New Zealand                                2\n",
       "• Katoomba DC, New South Wales, Australia                      2\n",
       "Orange, New South Wales, Australia                             2\n",
       "Glenorie, New South Wales, Australia                           2\n",
       "Northbridge, New South Wales, Australia                        2\n",
       "Abbotsford, British Columbia, Canada                           2\n",
       "Roseville, New South Wales, Australia                          2\n",
       "Garran, Australian Capital Territory, Australia                2\n",
       "Petersham, New South Wales, Australia                          2\n",
       "Loftus, New South Wales, Australia                             2\n",
       "London                                                         2\n",
       "Central Coast, New South Wales, Australia                      2\n",
       "Leonay, New South Wales, Australia                             2\n",
       "Aspen, Colorado, United States                                 2\n",
       "Dover Heights, New South Wales, Australia                      2\n",
       "Surfers Paradise, Queensland, Australia                        2\n",
       "Macquarie Links, New South Wales, Australia                    2\n",
       "Netherlands                                                    2\n",
       "Emu Plains, New South Wales, Australia                         2\n",
       "Norwest, New South Wales, Australia                            2\n",
       "Hawthorn, Victoria, Australia                                  2\n",
       "Roselands, New South Wales, Australia                          2\n",
       "Monterey, New South Wales, Australia                           2\n",
       "Artarmon, New South Wales, Australia                           2\n",
       "Pennant Hills, New South Wales, Australia                      2\n",
       "Castlecrag, New South Wales, Australia                         2\n",
       "Tennyson Point, New South Wales, Australia                     2\n",
       "Dolans Bay, New South Wales, Australia                         2\n",
       "Rouse Hill, New South Wales, Australia                         2\n",
       "East Ryde, New South Wales, Australia                          2\n",
       "Glendenning, New South Wales, Australia                        2\n",
       "Zürich, Zurich, Switzerland                                    2\n",
       "Eastlakes, New South Wales, Australia                          2\n",
       "Belrose, New South Wales, Australia                            2\n",
       "Crows Nest, New South Wales, Australia                         2\n",
       "Orangeville, New South Wales, Australia                        2\n",
       "Mays Hill, New South Wales, Australia                          2\n",
       "Rooty Hill, New South Wales, Australia                         2\n",
       "West Wyalong, New South Wales, Australia                       2\n",
       "Suffolk Park, New South Wales, Australia                       2\n",
       "Wentworth Point, New South Wales, Australia                    2\n",
       "Darawank, New South Wales, Australia                           2\n",
       "Malabar, New South Wales, Australia                            2\n",
       "Buenos Aires, Argentina                                        2\n",
       "Cloverdale, Western Australia, Australia                       2\n",
       "Thornleigh, New South Wales, Australia                         2\n",
       "Gymea Bay, New South Wales, Australia                          2\n",
       "Singapore, Singapore                                           2\n",
       "Chatswood West, New South Wales, Australia                     2\n",
       "Oatley, New South Wales, Australia                             2\n",
       "Exeter, New South Wales, Australia                             2\n",
       "Emerald, Victoria, Australia                                   2\n",
       "Pokolbin, New South Wales, Australia                           2\n",
       "Kingston, Tasmania, Australia                                  2\n",
       "Leverkusen, North Rhine-Westphalia, Germany                    2\n",
       "Glenfield, New South Wales, Australia                          2\n",
       "Heathcote, New South Wales, Australia                          2\n",
       "US                                                             2\n",
       "Elvina Bay, New South Wales, Australia                         2\n",
       "Arncliffe, New South Wales, Australia                          2\n",
       "Shenton Park, Western Australia, Australia                     2\n",
       "• Saint Peters DC, New South Wales, Australia                  2\n",
       "North Manly, New South Wales, Australia                        2\n",
       "Carramar, New South Wales, Australia                           2\n",
       "Lane Cove West, New South Wales, Australia                     2\n",
       "West Pymble, New South Wales, Australia                        2\n",
       "Mount Vernon, New South Wales, Australia                       2\n",
       "Castle Cove, New South Wales, Australia                        2\n",
       "North Sydney, New South Wales, Australia                       2\n",
       "Bass Hill, New South Wales, Australia                          2\n",
       "Dural, New South Wales, Australia                              2\n",
       "Lisbon, Lisbon, Portugal                                       2\n",
       "Grays Point, New South Wales, Australia                        2\n",
       "Macquarie Pass, New South Wales, Australia                     2\n",
       "Kingscliff, New South Wales, Australia                         2\n",
       "Berowra, New South Wales, Australia                            2\n",
       "Earlwood, New South Wales, Australia                           2\n",
       "Lane Cove North, New South Wales, Australia                    2\n",
       "Elanora, Queensland, Australia                                 2\n",
       "Holsworthy, New South Wales, Australia                         2\n",
       "Dundas, New South Wales, Australia                             2\n",
       "Sutherland, New South Wales, Australia                         2\n",
       "Auckland, New Zealand                                          1\n",
       "Newport Beach, Sydney Australia                                1\n",
       "Kings Langley, New South Wales, Australia                      1\n",
       "Buenos Aires, Autonomous City of Buenos Aires, Argentina       1\n",
       "Wisemans Ferry, New South Wales, Australia                     1\n",
       "West Leederville, Western Australia, Australia                 1\n",
       "Hallidays Point, New South Wales, Australia                    1\n",
       "Epping, Victoria, Australia                                    1\n",
       "Moscow, Moscow, Russia                                         1\n",
       "Bardwell Park, New South Wales, Australia                      1\n",
       "Wollongong, New South Wales, Australia                         1\n",
       "Sydney beaches                                                 1\n",
       "Kensington, Victoria, Australia                                1\n",
       "Montebello, New York, United States                            1\n",
       "Santa Marinella, Lazio, Italy                                  1\n",
       "Fitzroy Falls, New South Wales, Australia                      1\n",
       "Rockley, England, United Kingdom                               1\n",
       "Hobart, Tasmania, Australia                                    1\n",
       "Holroyd, New South Wales, Australia                            1\n",
       "Newark, New Jersey, United States                              1\n",
       "Taiwan                                                         1\n",
       "Southport, Queensland, Australia                               1\n",
       "Greenacre, New South Wales, Australia                          1\n",
       "Munich, Bavaria, Germany                                       1\n",
       "Kunda Park, Queensland, Australia                              1\n",
       "South Brisbane, Queensland, Australia                          1\n",
       "Bangalow, New South Wales, Australia                           1\n",
       "Frankston North, Victoria, Australia                           1\n",
       "Bayswater, Victoria, Australia                                 1\n",
       "Kurraba Point, New South Wales, Australia                      1\n",
       "São Paulo, State of São Paulo, Brazil                          1\n",
       "Ringwood, Victoria, Australia                                  1\n",
       "Centennial Park, New South Wales, Australia                    1\n",
       "Lurnea, New South Wales, Australia                             1\n",
       "Sans Souci, New South Wales, Australia                         1\n",
       "Kogarah, New South Wales, Australia                            1\n",
       "Lugarno, New South Wales, Australia                            1\n",
       "Nambucca Heads, New South Wales, Australia                     1\n",
       "Euchareena, New South Wales, Australia                         1\n",
       "Belo Horizonte, State of Minas Gerais, Brazil                  1\n",
       "Seddon West, Victoria, Australia                               1\n",
       "Szarvas, Hungary                                               1\n",
       "North East Lincolnshire, England, United Kingdom               1\n",
       "Rowville, Victoria, Australia                                  1\n",
       "Moss Vale, New South Wales, Australia                          1\n",
       "Yerrinbool, New South Wales, Australia                         1\n",
       "Bulli, New South Wales, Australia                              1\n",
       "Brooklyn, Victoria, Australia                                  1\n",
       "Croydon Park, New South Wales, Australia                       1\n",
       "Lilli Pilli, New South Wales, Australia                        1\n",
       "BR                                                             1\n",
       "West Hoxton, New South Wales, Australia                        1\n",
       "Lovett Bay, New South Wales, Australia                         1\n",
       "Amsterdam, North Holland, The Netherlands                      1\n",
       "Newcastle upon Tyne, England, United Kingdom                   1\n",
       "Engadine, New South Wales, Australia                           1\n",
       "East Lindfield, New South Wales, Australia                     1\n",
       "Snell, Virginia, United States                                 1\n",
       "United States                                                  1\n",
       "Colombia                                                       1\n",
       "Tarragona, Catalonia, Spain                                    1\n",
       "Glasgow City, Scotland, United Kingdom                         1\n",
       "Cleveland, Queensland, Australia                               1\n",
       "Norrmalm, Stockholm County, Sweden                             1\n",
       "London, United Kingdom                                         1\n",
       "Empire Bay, New South Wales, Australia                         1\n",
       "ES                                                             1\n",
       "George Town, Penang, Malaysia                                  1\n",
       "Carefree, Arizona, United States                               1\n",
       "Capão da Canoa, Rio Grande do Sul, Brazil                      1\n",
       "Bay of Plenty, New Zealand                                     1\n",
       "NSW AUSTRALIA                                                  1\n",
       "Chiswick, New South Wales, Australia                           1\n",
       "St Kilda, Victoria, Australia                                  1\n",
       "Châlons-en-Champagne, Grand Est, France                        1\n",
       "On the beach northern NSW                                      1\n",
       "Sor-Trondelag, Norway                                          1\n",
       "CN                                                             1\n",
       "Pontault-Combault, Île-de-France, France                       1\n",
       "Taoyuan, Taoyuan City, Taiwan                                  1\n",
       "Scone, New South Wales, Australia                              1\n",
       "Quebec City, Québec, Canada                                    1\n",
       "Semaphore South, South Australia, Australia                    1\n",
       "England, United Kingdom                                        1\n",
       "Vancouver, British Columbia, Canada                            1\n",
       "Frenchs Forest East, New South Wales, Australia                1\n",
       "Six-Fours-les-Plages, Provence-Alpes-Côte d'Azur, France       1\n",
       "Elsternwick, Victoria, Australia                               1\n",
       "Ciudad de México, Ciudad de México, Mexico                     1\n",
       "Kellyville, New South Wales, Australia                         1\n",
       "Hull, England, United Kingdom                                  1\n",
       "Sydney - Melbourne                                             1\n",
       "Fitzroy, Victoria, Australia                                   1\n",
       "Zetland, New South Wales, Australia                            1\n",
       "Orchard Hills, New South Wales, Australia                      1\n",
       "Albury, New South Wales, Australia                             1\n",
       "Aspley, Queensland, Australia                                  1\n",
       "West Hobart, Tasmania, Australia                               1\n",
       "Hassall Grove, New South Wales, Australia                      1\n",
       "Mellong, New South Wales, Australia                            1\n",
       "Laguna Beach, California, United States                        1\n",
       "The Ponds, New South Wales, Australia                          1\n",
       "Alexandria, Virginia, United States                            1\n",
       "Nelson, New South Wales, Australia                             1\n",
       "Richmond Lowlands, New South Wales, Australia                  1\n",
       "Omaha, Nebraska, United States                                 1\n",
       "Sunshine Coast, Queensland, Australia                          1\n",
       "Blakehurst, New South Wales, Australia                         1\n",
       "Woy Woy Bay, New South Wales, Australia                        1\n",
       "Arcadia, New South Wales, Australia                            1\n",
       "København, Denmark                                             1\n",
       "Aix-en-Provence, Provence-Alpes-Côte d'Azur, France            1\n",
       "Connells Point, New South Wales, Australia                     1\n",
       "Bad Dürkheim, Rhineland-Palatinate, Germany                    1\n",
       "Newnes, New South Wales, Australia                             1\n",
       "Valley Heights, New South Wales, Australia                     1\n",
       "Westlake Village, California, United States                    1\n",
       "Bellingen, New South Wales, Australia                          1\n",
       "Lesmurdie, Western Australia, Australia                        1\n",
       "North Avoca, New South Wales, Australia                        1\n",
       "Rogersville, Missouri, United States                           1\n",
       "Teneriffe, Queensland, Australia                               1\n",
       "Avoca Beach, New South Wales, Australia                        1\n",
       "Nelson Bay, New South Wales, Australia                         1\n",
       "Buenos Aires, Buenos Aires, Argentina                          1\n",
       "Little Bay, New South Wales, Australia                         1\n",
       "Keith, Scotland, United Kingdom                                1\n",
       "Canowindra, New South Wales, Australia                         1\n",
       "Curtin, Australian Capital Territory, Australia                1\n",
       "Northern Beaches, Sydney NSW Australia                         1\n",
       "Deer Harbor, Washington, United States                         1\n",
       "Berowra Heights, New South Wales, Australia                    1\n",
       "Robertson, New South Wales, Australia                          1\n",
       "Tablelands, Queensland, Australia                              1\n",
       "Haberfield, New South Wales, Australia                         1\n",
       "Queenscliff, New South Wales, Australia                        1\n",
       "TH                                                             1\n",
       "Narwee, New South Wales, Australia                             1\n",
       "Burwood, Victoria, Australia                                   1\n",
       "Dural DC, New South Wales, Australia                           1\n",
       "Kyle Bay, New South Wales, Australia                           1\n",
       "Londonderry, New South Wales, Australia                        1\n",
       "Southern Highlands, NSW, Australia                             1\n",
       "Paita, South Province, New Caledonia                           1\n",
       "Canterbury, New Zealand                                        1\n",
       "Peterstow, England, United Kingdom                             1\n",
       "Bangkok, Bangkok, Thailand                                     1\n",
       "Rüschlikon, Zurich, Switzerland                                1\n",
       "San Diego, California, United States                           1\n",
       "Hornsby Heights, New South Wales, Australia                    1\n",
       "Shoalhaven Heads, New South Wales, Australia                   1\n",
       "Ngaliyan, Central Java, Indonesia                              1\n",
       "Turramurra, New South Wales, Australia                         1\n",
       "Braidwood, New South Wales, Australia                          1\n",
       "Amaroo, Australian Capital Territory, Australia                1\n",
       "Woronora, New South Wales, Australia                           1\n",
       "Dubai, Dubai, United Arab Emirates                             1\n",
       "Moorebank, New South Wales, Australia                          1\n",
       "Prospect, New South Wales, Australia                           1\n",
       "Doveridge, England, United Kingdom                             1\n",
       "Zug, Canton of Zug, Switzerland                                1\n",
       "Round Corner, New South Wales, Australia                       1\n",
       "Burraboi, New South Wales, Australia                           1\n",
       "Red Head, New South Wales, Australia                           1\n",
       "Launceston, Tasmania, Australia                                1\n",
       "Linley Point, New South Wales, Australia                       1\n",
       "Potts Hill, New South Wales, Australia                         1\n",
       "Bowral, New South Wales, Australia                             1\n",
       "Mount Druitt, New South Wales, Australia                       1\n",
       "Saint Peters, New South Wales, Australia                       1\n",
       "Kangaloon, New South Wales, Australia                          1\n",
       "Denistone West, New South Wales, Australia                     1\n",
       "Gold Coast Australia                                           1\n",
       "Enmore, New South Wales, Australia                             1\n",
       "Au, Baden-Württemberg, Germany                                 1\n",
       "Broadbeach, Queensland, Australia                              1\n",
       "O'Malley, Australian Capital Territory, Australia              1\n",
       "Hawker, Australian Capital Territory, Australia                1\n",
       "California, United States                                      1\n",
       "Cowan, New South Wales, Australia                              1\n",
       "Nowra, New South Wales, Australia                              1\n",
       "Wareemba, New South Wales, Australia                           1\n",
       "Jiggi, New South Wales, Australia                              1\n",
       "Bundagen, New South Wales, Australia                           1\n",
       "Caringbah South, New South Wales, Australia                    1\n",
       "Doonside, New South Wales, Australia                           1\n",
       "Cataract, New South Wales, Australia                           1\n",
       "Canyonleigh, New South Wales, Australia                        1\n",
       "Minto Heights, New South Wales, Australia                      1\n",
       "Kingsgrove DC, New South Wales, Australia                      1\n",
       "Umina Beach, New South Wales, Australia                        1\n",
       "Richmond, New South Wales, Australia                           1\n",
       "Hampshire, England, United Kingdom                             1\n",
       "NEWPORT - Pittwater, New South Wales, Australia                1\n",
       "South Coogee, New South Wales, Australia                       1\n",
       "Darlington, New South Wales, Australia                         1\n",
       "Brussels, Brussels, Belgium                                    1\n",
       "North Balgowlah, New South Wales, Australia                    1\n",
       "Richmond, England, United Kingdom                              1\n",
       "Surrey, England, United Kingdom                                1\n",
       "Port Macquarie, New South Wales, Australia                     1\n",
       "Fairfield Heights, New South Wales, Australia                  1\n",
       "North Melbourne, Victoria, Australia                           1\n",
       "Denman, New South Wales, Australia                             1\n",
       "Maianbar, New South Wales, Australia                           1\n",
       "Berrilee, New South Wales, Australia                           1\n",
       "Mount Colah, New South Wales, Australia                        1\n",
       "Helensvale, Queensland, Australia                              1\n",
       "Milton, New South Wales, Australia                             1\n",
       "Riverview, New South Wales, Australia                          1\n",
       "Kirrawee DC, New South Wales, Australia                        1\n",
       "Burwood, New South Wales, Australia                            1\n",
       "Hong Kong, Hong Kong                                           1\n",
       "Mississauga, Ontario, Canada                                   1\n",
       "Katoomba, New South Wales, Australia                           1\n",
       "Byron Bay, New South Wales, Australia                          1\n",
       "Ashtonfield, New South Wales, Australia                        1\n",
       "Milsons Point, New South Wales, Australia                      1\n",
       "Kirrawee, New South Wales, Australia                           1\n",
       "Dorrigo Mountain, New South Wales, Australia                   1\n",
       "Northern Beaches of Sydney, Curl Curl Beach                    1\n",
       "Glenhaven, New South Wales, Australia                          1\n",
       "Regentville, New South Wales, Australia                        1\n",
       "Corrimal, New South Wales, Australia                           1\n",
       "Bronte Beach                                                   1\n",
       "Brunswick Heads, New South Wales, Australia                    1\n",
       "Bargo, New South Wales, Australia                              1\n",
       "Miami, Florida, United States                                  1\n",
       "Gladesville, New South Wales, Australia                        1\n",
       "Summer Hill, New South Wales, Australia                        1\n",
       "Thirroul, New South Wales, Australia                           1\n",
       "Newport, Victoria, Australia                                   1\n",
       "Mullumbimby, New South Wales, Australia                        1\n",
       "Queenstown, Otago, New Zealand                                 1\n",
       "Australian Capital Territory, Australia                        1\n",
       "Carlton, Victoria, Australia                                   1\n",
       "I live in the apartment and am a single person.                1\n",
       "Stanmore Sydney when I am not travelling                       1\n",
       "AR                                                             1\n",
       "Blackheath, New South Wales, Australia                         1\n",
       "Muswellbrook, New South Wales, Australia                       1\n",
       "Queens Park, New South Wales, Australia                        1\n",
       "Adamstown, New South Wales, Australia                          1\n",
       "Mittagong, New South Wales, Australia                          1\n",
       "Miranda, New South Wales, Australia                            1\n",
       "Wattle Grove, New South Wales, Australia                       1\n",
       "Annerley, Queensland, Australia                                1\n",
       "Los Angeles, California, United States                         1\n",
       "Petrie Terrace, Queensland, Australia                          1\n",
       "Hackett, Australian Capital Territory, Australia               1\n",
       "Greystanes, New South Wales, Australia                         1\n",
       "New Farm, Queensland, Australia                                1\n",
       "around the corner from the apartment                           1\n",
       "Montville, Queensland, Australia                               1\n",
       "Casula, New South Wales, Australia                             1\n",
       "Avalon, Victoria, Australia                                    1\n",
       "Bouddi, New South Wales, Australia                             1\n",
       "Prague, Prague, Czechia                                        1\n",
       "Collaroy Plateau, New South Wales, Australia                   1\n",
       "Panania, New South Wales, Australia                            1\n",
       "Elderslie, New South Wales, Australia                          1\n",
       "Joshua Tree, California, United States                         1\n",
       "Narromine, New South Wales, Australia                          1\n",
       "Berala, New South Wales, Australia                             1\n",
       "Fitzgibbon, Queensland, Australia                              1\n",
       "Scotland, United Kingdom                                       1\n",
       "Allawah, New South Wales, Australia                            1\n",
       "Elanora Heights, New South Wales, Australia                    1\n",
       "Manildra, New South Wales, Australia                           1\n",
       "Terrigal, New South Wales, Australia                           1\n",
       "Asquith, New South Wales, Australia                            1\n",
       "Central Mangrove, New South Wales, Australia                   1\n",
       "Kings Park, Western Australia, Australia                       1\n",
       "Bardia, New South Wales, Australia                             1\n",
       "Bucketty, New South Wales, Australia                           1\n",
       "Guayaquil, Guayas, Ecuador                                     1\n",
       "Name: host_location, dtype: int64"
      ]
     },
     "execution_count": 58,
     "metadata": {},
     "output_type": "execute_result"
    }
   ],
   "source": [
    "df_train['host_location'].value_counts()"
   ]
  },
  {
   "cell_type": "code",
   "execution_count": null,
   "id": "9aa17c3a",
   "metadata": {},
   "outputs": [],
   "source": [
    "df_train['host_location'] = df_train['host_location'].replace('AU','Australia')"
   ]
  },
  {
   "cell_type": "code",
   "execution_count": null,
   "id": "23647021",
   "metadata": {},
   "outputs": [],
   "source": [
    "from sklearn.feature_extraction.text import TfidfVectorizer\n",
    "from sklearn.feature_extraction import DictVectorizer\n",
    "from scipy.sparse import hstack\n",
    "\n",
    "# For beginning, transform train['FullDescription'] to lowercase using text.lower()\n",
    "df_train['name','description','neighborhood_overview','host_location','host_about'].str.lower()\n",
    "\n",
    "# Then replace everything except the letters and numbers in the spaces.\n",
    "# it will facilitate the further division of the text into words.\n",
    "df_train['FullDescription'].replace('[^a-zA-Z0-9]', ' ', regex = True)\n",
    "\n",
    "# Convert a collection of raw documents to a matrix of TF-IDF features with TfidfVectorizer\n",
    "vectorizer = TfidfVectorizer(min_df=5)\n",
    "X_tfidf = vectorizer.fit_transform(df_train['FullDescription']) "
   ]
  },
  {
   "cell_type": "code",
   "execution_count": null,
   "id": "e55aafb0",
   "metadata": {},
   "outputs": [],
   "source": []
  },
  {
   "cell_type": "markdown",
   "id": "823a081c-cdc4-4fc8-9bd7-52bfd4c3e6dd",
   "metadata": {},
   "source": [
    "`(Task 2, Question 5 Text Here - insert more cells as required)`"
   ]
  },
  {
   "cell_type": "markdown",
   "id": "fa16475c",
   "metadata": {},
   "source": [
    "**Task 2, Question 6**: Perform exploratory data analysis to measure the relationship between the features and the target and write up your findings. \n",
    "(2 marks)"
   ]
  },
  {
   "cell_type": "code",
   "execution_count": 16,
   "id": "1509b479",
   "metadata": {},
   "outputs": [],
   "source": [
    "## Task 2, Question 6 Code Here\n",
    "import seaborn as sns\n",
    "\n",
    "corrmat = df.corr()\n",
    "# print(corrmat.round(3).to_string())\n",
    "# corrmat\n",
    "\n",
    "f, ax = plt.subplots(figsize=(20, 10))\n",
    "sns.heatmap(corrmat, annot=True, vmax=.8, square=True)\n",
    "plt.show()"
   ]
  },
  {
   "cell_type": "markdown",
   "id": "81a965eb-e661-4772-af72-98f19e1bae41",
   "metadata": {},
   "source": [
    "`(Task 2, Question 6 Text Here - insert more cells as required)`"
   ]
  },
  {
   "cell_type": "markdown",
   "id": "3c9f6968-d9c2-422f-9935-eba856b3c028",
   "metadata": {},
   "source": [
    "--- \n",
    "## Task 3: Fit and tune a forecasting model/Submit predictions/Report score and ranking\n",
    "\n",
    "Make sure you **clearly explain each step** you do, both in text and on the recoded video.\n",
    "\n",
    "1. Build a machine learning (ML) regression model taking into account the outcomes of Tasks 1 & 2\n",
    "2. Fit the model and tune hyperparameters via cross-validation: make sure you comment and explain each step clearly\n",
    "3. Create predictions using the test dataset and submit your predictions on Kaggle's competition page\n",
    "4. Provide Kaggle ranking and **score** (screenshot your best submission) and comment\n",
    "5. Make sure your Python code works, so that a marker that can replicate your all of your results and obtain the same MSE from Kaggle\n",
    "\n",
    "- Hint: to perform well you will need to iterate Task 3, building and tuning various models in order to find the best one.\n",
    "\n",
    "Total Marks: 11"
   ]
  },
  {
   "cell_type": "code",
   "execution_count": 57,
   "id": "71d8e706",
   "metadata": {},
   "outputs": [
    {
     "data": {
      "text/plain": [
       "(7000, 68)"
      ]
     },
     "execution_count": 57,
     "metadata": {},
     "output_type": "execute_result"
    }
   ],
   "source": [
    "df_train.shape"
   ]
  },
  {
   "cell_type": "code",
   "execution_count": 63,
   "id": "b29117a3",
   "metadata": {},
   "outputs": [
    {
     "data": {
      "text/html": [
       "<div>\n",
       "<style scoped>\n",
       "    .dataframe tbody tr th:only-of-type {\n",
       "        vertical-align: middle;\n",
       "    }\n",
       "\n",
       "    .dataframe tbody tr th {\n",
       "        vertical-align: top;\n",
       "    }\n",
       "\n",
       "    .dataframe thead th {\n",
       "        text-align: right;\n",
       "    }\n",
       "</style>\n",
       "<table border=\"1\" class=\"dataframe\">\n",
       "  <thead>\n",
       "    <tr style=\"text-align: right;\">\n",
       "      <th></th>\n",
       "      <th>ID</th>\n",
       "      <th>name</th>\n",
       "      <th>description</th>\n",
       "      <th>neighborhood_overview</th>\n",
       "      <th>host_name</th>\n",
       "      <th>host_since</th>\n",
       "      <th>host_location</th>\n",
       "      <th>host_about</th>\n",
       "      <th>host_response_time</th>\n",
       "      <th>host_response_rate</th>\n",
       "      <th>host_acceptance_rate</th>\n",
       "      <th>host_listings_count</th>\n",
       "      <th>neighbourhood_cleansed</th>\n",
       "      <th>latitude</th>\n",
       "      <th>longitude</th>\n",
       "      <th>accommodates</th>\n",
       "      <th>bedrooms</th>\n",
       "      <th>beds</th>\n",
       "      <th>minimum_nights</th>\n",
       "      <th>maximum_nights</th>\n",
       "      <th>minimum_minimum_nights</th>\n",
       "      <th>maximum_minimum_nights</th>\n",
       "      <th>minimum_maximum_nights</th>\n",
       "      <th>maximum_maximum_nights</th>\n",
       "      <th>minimum_nights_avg_ntm</th>\n",
       "      <th>maximum_nights_avg_ntm</th>\n",
       "      <th>availability_30</th>\n",
       "      <th>availability_60</th>\n",
       "      <th>availability_90</th>\n",
       "      <th>availability_365</th>\n",
       "      <th>number_of_reviews</th>\n",
       "      <th>number_of_reviews_ltm</th>\n",
       "      <th>number_of_reviews_l30d</th>\n",
       "      <th>review_scores_rating</th>\n",
       "      <th>review_scores_accuracy</th>\n",
       "      <th>review_scores_cleanliness</th>\n",
       "      <th>review_scores_checkin</th>\n",
       "      <th>review_scores_communication</th>\n",
       "      <th>review_scores_location</th>\n",
       "      <th>review_scores_value</th>\n",
       "      <th>license</th>\n",
       "      <th>calculated_host_listings_count</th>\n",
       "      <th>calculated_host_listings_count_entire_homes</th>\n",
       "      <th>calculated_host_listings_count_private_rooms</th>\n",
       "      <th>calculated_host_listings_count_shared_rooms</th>\n",
       "      <th>reviews_per_month</th>\n",
       "      <th>price</th>\n",
       "      <th>email</th>\n",
       "      <th>phone</th>\n",
       "      <th>reviews</th>\n",
       "      <th>jumio</th>\n",
       "      <th>Long term stays allowed</th>\n",
       "      <th>Wifi</th>\n",
       "      <th>Essentials</th>\n",
       "      <th>Smoke alarm</th>\n",
       "      <th>map_property_type</th>\n",
       "      <th>map_bathrooms</th>\n",
       "      <th>room_maptype</th>\n",
       "      <th>has_availability_f</th>\n",
       "      <th>has_availability_t</th>\n",
       "      <th>host_is_superhost_f</th>\n",
       "      <th>host_is_superhost_t</th>\n",
       "      <th>host_has_profile_pic_f</th>\n",
       "      <th>host_has_profile_pic_t</th>\n",
       "      <th>host_identity_verified_f</th>\n",
       "      <th>host_identity_verified_t</th>\n",
       "      <th>instant_bookable_f</th>\n",
       "      <th>instant_bookable_t</th>\n",
       "    </tr>\n",
       "  </thead>\n",
       "  <tbody>\n",
       "    <tr>\n",
       "      <th>0</th>\n",
       "      <td>0</td>\n",
       "      <td>Manly Harbour House</td>\n",
       "      <td>Beautifully renovated, spacious and quiet, our...</td>\n",
       "      <td>Balgowlah Heights is one of the most prestigio...</td>\n",
       "      <td>Heidi</td>\n",
       "      <td>2009-11-20</td>\n",
       "      <td>Sydney, New South Wales, Australia</td>\n",
       "      <td>I am a Canadian who has made Australia her hom...</td>\n",
       "      <td>within a few hours</td>\n",
       "      <td>100.0</td>\n",
       "      <td>69.0</td>\n",
       "      <td>2.0</td>\n",
       "      <td>Manly</td>\n",
       "      <td>-33.80084</td>\n",
       "      <td>151.26378</td>\n",
       "      <td>6</td>\n",
       "      <td>3</td>\n",
       "      <td>3</td>\n",
       "      <td>2</td>\n",
       "      <td>22</td>\n",
       "      <td>2</td>\n",
       "      <td>2</td>\n",
       "      <td>22</td>\n",
       "      <td>22</td>\n",
       "      <td>2</td>\n",
       "      <td>22</td>\n",
       "      <td>0</td>\n",
       "      <td>14</td>\n",
       "      <td>14</td>\n",
       "      <td>174</td>\n",
       "      <td>3</td>\n",
       "      <td>1</td>\n",
       "      <td>0</td>\n",
       "      <td>4.67</td>\n",
       "      <td>4.33</td>\n",
       "      <td>4.33</td>\n",
       "      <td>4.67</td>\n",
       "      <td>4.33</td>\n",
       "      <td>4.67</td>\n",
       "      <td>4.33</td>\n",
       "      <td>Exempt</td>\n",
       "      <td>2</td>\n",
       "      <td>2</td>\n",
       "      <td>0</td>\n",
       "      <td>0</td>\n",
       "      <td>0.04</td>\n",
       "      <td>470.0</td>\n",
       "      <td>1</td>\n",
       "      <td>1</td>\n",
       "      <td>1</td>\n",
       "      <td>1</td>\n",
       "      <td>0</td>\n",
       "      <td>1</td>\n",
       "      <td>1</td>\n",
       "      <td>1</td>\n",
       "      <td>1.0</td>\n",
       "      <td>4</td>\n",
       "      <td>1</td>\n",
       "      <td>0</td>\n",
       "      <td>1</td>\n",
       "      <td>0</td>\n",
       "      <td>1</td>\n",
       "      <td>0</td>\n",
       "      <td>1</td>\n",
       "      <td>0</td>\n",
       "      <td>1</td>\n",
       "      <td>1</td>\n",
       "      <td>0</td>\n",
       "    </tr>\n",
       "    <tr>\n",
       "      <th>1</th>\n",
       "      <td>1</td>\n",
       "      <td>Unique Designer Rooftop Apartment in City Loca...</td>\n",
       "      <td>Penthouse living at it best ... You will be st...</td>\n",
       "      <td>The location is really central and there is nu...</td>\n",
       "      <td>Morag</td>\n",
       "      <td>2009-12-03</td>\n",
       "      <td>Sydney, New South Wales, Australia</td>\n",
       "      <td>I am originally Scottish but I have made Sydne...</td>\n",
       "      <td>within an hour</td>\n",
       "      <td>100.0</td>\n",
       "      <td>100.0</td>\n",
       "      <td>3.0</td>\n",
       "      <td>Sydney</td>\n",
       "      <td>-33.87964</td>\n",
       "      <td>151.21680</td>\n",
       "      <td>2</td>\n",
       "      <td>1</td>\n",
       "      <td>1</td>\n",
       "      <td>2</td>\n",
       "      <td>90</td>\n",
       "      <td>2</td>\n",
       "      <td>2</td>\n",
       "      <td>90</td>\n",
       "      <td>90</td>\n",
       "      <td>2</td>\n",
       "      <td>90</td>\n",
       "      <td>5</td>\n",
       "      <td>31</td>\n",
       "      <td>61</td>\n",
       "      <td>336</td>\n",
       "      <td>383</td>\n",
       "      <td>18</td>\n",
       "      <td>6</td>\n",
       "      <td>4.42</td>\n",
       "      <td>4.58</td>\n",
       "      <td>4.40</td>\n",
       "      <td>4.77</td>\n",
       "      <td>4.67</td>\n",
       "      <td>4.70</td>\n",
       "      <td>4.47</td>\n",
       "      <td>PID-STRA-24061-7</td>\n",
       "      <td>1</td>\n",
       "      <td>0</td>\n",
       "      <td>1</td>\n",
       "      <td>0</td>\n",
       "      <td>3.21</td>\n",
       "      <td>82.0</td>\n",
       "      <td>1</td>\n",
       "      <td>1</td>\n",
       "      <td>1</td>\n",
       "      <td>1</td>\n",
       "      <td>1</td>\n",
       "      <td>1</td>\n",
       "      <td>1</td>\n",
       "      <td>1</td>\n",
       "      <td>2.0</td>\n",
       "      <td>2</td>\n",
       "      <td>2</td>\n",
       "      <td>0</td>\n",
       "      <td>1</td>\n",
       "      <td>1</td>\n",
       "      <td>0</td>\n",
       "      <td>0</td>\n",
       "      <td>1</td>\n",
       "      <td>0</td>\n",
       "      <td>1</td>\n",
       "      <td>0</td>\n",
       "      <td>1</td>\n",
       "    </tr>\n",
       "  </tbody>\n",
       "</table>\n",
       "</div>"
      ],
      "text/plain": [
       "   ID                                               name  \\\n",
       "0   0                                Manly Harbour House   \n",
       "1   1  Unique Designer Rooftop Apartment in City Loca...   \n",
       "\n",
       "                                         description  \\\n",
       "0  Beautifully renovated, spacious and quiet, our...   \n",
       "1  Penthouse living at it best ... You will be st...   \n",
       "\n",
       "                               neighborhood_overview host_name  host_since  \\\n",
       "0  Balgowlah Heights is one of the most prestigio...     Heidi  2009-11-20   \n",
       "1  The location is really central and there is nu...     Morag  2009-12-03   \n",
       "\n",
       "                        host_location  \\\n",
       "0  Sydney, New South Wales, Australia   \n",
       "1  Sydney, New South Wales, Australia   \n",
       "\n",
       "                                          host_about  host_response_time  \\\n",
       "0  I am a Canadian who has made Australia her hom...  within a few hours   \n",
       "1  I am originally Scottish but I have made Sydne...      within an hour   \n",
       "\n",
       "   host_response_rate  host_acceptance_rate  host_listings_count  \\\n",
       "0               100.0                  69.0                  2.0   \n",
       "1               100.0                 100.0                  3.0   \n",
       "\n",
       "  neighbourhood_cleansed  latitude  longitude  accommodates  bedrooms  beds  \\\n",
       "0                  Manly -33.80084  151.26378             6         3     3   \n",
       "1                 Sydney -33.87964  151.21680             2         1     1   \n",
       "\n",
       "   minimum_nights  maximum_nights  minimum_minimum_nights  \\\n",
       "0               2              22                       2   \n",
       "1               2              90                       2   \n",
       "\n",
       "   maximum_minimum_nights  minimum_maximum_nights  maximum_maximum_nights  \\\n",
       "0                       2                      22                      22   \n",
       "1                       2                      90                      90   \n",
       "\n",
       "   minimum_nights_avg_ntm  maximum_nights_avg_ntm  availability_30  \\\n",
       "0                       2                      22                0   \n",
       "1                       2                      90                5   \n",
       "\n",
       "   availability_60  availability_90  availability_365  number_of_reviews  \\\n",
       "0               14               14               174                  3   \n",
       "1               31               61               336                383   \n",
       "\n",
       "   number_of_reviews_ltm  number_of_reviews_l30d  review_scores_rating  \\\n",
       "0                      1                       0                  4.67   \n",
       "1                     18                       6                  4.42   \n",
       "\n",
       "   review_scores_accuracy  review_scores_cleanliness  review_scores_checkin  \\\n",
       "0                    4.33                       4.33                   4.67   \n",
       "1                    4.58                       4.40                   4.77   \n",
       "\n",
       "   review_scores_communication  review_scores_location  review_scores_value  \\\n",
       "0                         4.33                    4.67                 4.33   \n",
       "1                         4.67                    4.70                 4.47   \n",
       "\n",
       "            license  calculated_host_listings_count  \\\n",
       "0            Exempt                               2   \n",
       "1  PID-STRA-24061-7                               1   \n",
       "\n",
       "   calculated_host_listings_count_entire_homes  \\\n",
       "0                                            2   \n",
       "1                                            0   \n",
       "\n",
       "   calculated_host_listings_count_private_rooms  \\\n",
       "0                                             0   \n",
       "1                                             1   \n",
       "\n",
       "   calculated_host_listings_count_shared_rooms  reviews_per_month  price  \\\n",
       "0                                            0               0.04  470.0   \n",
       "1                                            0               3.21   82.0   \n",
       "\n",
       "   email  phone  reviews  jumio  Long term stays allowed  Wifi  Essentials  \\\n",
       "0      1      1        1      1                        0     1           1   \n",
       "1      1      1        1      1                        1     1           1   \n",
       "\n",
       "   Smoke alarm  map_property_type  map_bathrooms  room_maptype  \\\n",
       "0            1                1.0              4             1   \n",
       "1            1                2.0              2             2   \n",
       "\n",
       "   has_availability_f  has_availability_t  host_is_superhost_f  \\\n",
       "0                   0                   1                    0   \n",
       "1                   0                   1                    1   \n",
       "\n",
       "   host_is_superhost_t  host_has_profile_pic_f  host_has_profile_pic_t  \\\n",
       "0                    1                       0                       1   \n",
       "1                    0                       0                       1   \n",
       "\n",
       "   host_identity_verified_f  host_identity_verified_t  instant_bookable_f  \\\n",
       "0                         0                         1                   1   \n",
       "1                         0                         1                   0   \n",
       "\n",
       "   instant_bookable_t  \n",
       "0                   0  \n",
       "1                   1  "
      ]
     },
     "execution_count": 63,
     "metadata": {},
     "output_type": "execute_result"
    }
   ],
   "source": [
    "df_train.head(2)"
   ]
  },
  {
   "cell_type": "code",
   "execution_count": 59,
   "id": "bb53af94-d769-4a1d-a4a1-433f3dc7b46d",
   "metadata": {},
   "outputs": [],
   "source": [
    "#Task 3 code here\n",
    "from sklearn.model_selection import train_test_split\n",
    "\n",
    "X = df_train.loc[:, df_train.columns != 'price']\n",
    "y = df_train['price']\n",
    "\n",
    "X_train, X_test, y_train, y_test = train_test_split(X, y, test_size=0.3, random_state=0)"
   ]
  },
  {
   "cell_type": "code",
   "execution_count": 62,
   "id": "fc23c2ea",
   "metadata": {},
   "outputs": [
    {
     "ename": "ValueError",
     "evalue": "could not convert string to float: 'Sydney Olympic Park Warm love apartment'",
     "output_type": "error",
     "traceback": [
      "\u001b[1;31m---------------------------------------------------------------------------\u001b[0m",
      "\u001b[1;31mValueError\u001b[0m                                Traceback (most recent call last)",
      "\u001b[1;32m~\\AppData\\Local\\Temp/ipykernel_19240/2723119229.py\u001b[0m in \u001b[0;36m<module>\u001b[1;34m\u001b[0m\n\u001b[0;32m      6\u001b[0m \u001b[0mslr\u001b[0m \u001b[1;33m=\u001b[0m \u001b[0mLinearRegression\u001b[0m\u001b[1;33m(\u001b[0m\u001b[1;33m)\u001b[0m\u001b[1;33m\u001b[0m\u001b[1;33m\u001b[0m\u001b[0m\n\u001b[0;32m      7\u001b[0m \u001b[1;33m\u001b[0m\u001b[0m\n\u001b[1;32m----> 8\u001b[1;33m \u001b[0mslr\u001b[0m\u001b[1;33m.\u001b[0m\u001b[0mfit\u001b[0m\u001b[1;33m(\u001b[0m\u001b[0mX_train\u001b[0m\u001b[1;33m,\u001b[0m \u001b[0my_train\u001b[0m\u001b[1;33m)\u001b[0m\u001b[1;33m\u001b[0m\u001b[1;33m\u001b[0m\u001b[0m\n\u001b[0m\u001b[0;32m      9\u001b[0m \u001b[1;33m\u001b[0m\u001b[0m\n\u001b[0;32m     10\u001b[0m \u001b[0my_train_pred\u001b[0m \u001b[1;33m=\u001b[0m \u001b[0mslr\u001b[0m\u001b[1;33m.\u001b[0m\u001b[0mpredict\u001b[0m\u001b[1;33m(\u001b[0m\u001b[0mX_train\u001b[0m\u001b[1;33m)\u001b[0m\u001b[1;33m\u001b[0m\u001b[1;33m\u001b[0m\u001b[0m\n",
      "\u001b[1;32mc:\\Users\\haiho\\anaconda3\\lib\\site-packages\\sklearn\\linear_model\\_base.py\u001b[0m in \u001b[0;36mfit\u001b[1;34m(self, X, y, sample_weight)\u001b[0m\n\u001b[0;32m    516\u001b[0m         \u001b[0maccept_sparse\u001b[0m \u001b[1;33m=\u001b[0m \u001b[1;32mFalse\u001b[0m \u001b[1;32mif\u001b[0m \u001b[0mself\u001b[0m\u001b[1;33m.\u001b[0m\u001b[0mpositive\u001b[0m \u001b[1;32melse\u001b[0m \u001b[1;33m[\u001b[0m\u001b[1;34m'csr'\u001b[0m\u001b[1;33m,\u001b[0m \u001b[1;34m'csc'\u001b[0m\u001b[1;33m,\u001b[0m \u001b[1;34m'coo'\u001b[0m\u001b[1;33m]\u001b[0m\u001b[1;33m\u001b[0m\u001b[1;33m\u001b[0m\u001b[0m\n\u001b[0;32m    517\u001b[0m \u001b[1;33m\u001b[0m\u001b[0m\n\u001b[1;32m--> 518\u001b[1;33m         X, y = self._validate_data(X, y, accept_sparse=accept_sparse,\n\u001b[0m\u001b[0;32m    519\u001b[0m                                    y_numeric=True, multi_output=True)\n\u001b[0;32m    520\u001b[0m \u001b[1;33m\u001b[0m\u001b[0m\n",
      "\u001b[1;32mc:\\Users\\haiho\\anaconda3\\lib\\site-packages\\sklearn\\base.py\u001b[0m in \u001b[0;36m_validate_data\u001b[1;34m(self, X, y, reset, validate_separately, **check_params)\u001b[0m\n\u001b[0;32m    431\u001b[0m                 \u001b[0my\u001b[0m \u001b[1;33m=\u001b[0m \u001b[0mcheck_array\u001b[0m\u001b[1;33m(\u001b[0m\u001b[0my\u001b[0m\u001b[1;33m,\u001b[0m \u001b[1;33m**\u001b[0m\u001b[0mcheck_y_params\u001b[0m\u001b[1;33m)\u001b[0m\u001b[1;33m\u001b[0m\u001b[1;33m\u001b[0m\u001b[0m\n\u001b[0;32m    432\u001b[0m             \u001b[1;32melse\u001b[0m\u001b[1;33m:\u001b[0m\u001b[1;33m\u001b[0m\u001b[1;33m\u001b[0m\u001b[0m\n\u001b[1;32m--> 433\u001b[1;33m                 \u001b[0mX\u001b[0m\u001b[1;33m,\u001b[0m \u001b[0my\u001b[0m \u001b[1;33m=\u001b[0m \u001b[0mcheck_X_y\u001b[0m\u001b[1;33m(\u001b[0m\u001b[0mX\u001b[0m\u001b[1;33m,\u001b[0m \u001b[0my\u001b[0m\u001b[1;33m,\u001b[0m \u001b[1;33m**\u001b[0m\u001b[0mcheck_params\u001b[0m\u001b[1;33m)\u001b[0m\u001b[1;33m\u001b[0m\u001b[1;33m\u001b[0m\u001b[0m\n\u001b[0m\u001b[0;32m    434\u001b[0m             \u001b[0mout\u001b[0m \u001b[1;33m=\u001b[0m \u001b[0mX\u001b[0m\u001b[1;33m,\u001b[0m \u001b[0my\u001b[0m\u001b[1;33m\u001b[0m\u001b[1;33m\u001b[0m\u001b[0m\n\u001b[0;32m    435\u001b[0m \u001b[1;33m\u001b[0m\u001b[0m\n",
      "\u001b[1;32mc:\\Users\\haiho\\anaconda3\\lib\\site-packages\\sklearn\\utils\\validation.py\u001b[0m in \u001b[0;36minner_f\u001b[1;34m(*args, **kwargs)\u001b[0m\n\u001b[0;32m     61\u001b[0m             \u001b[0mextra_args\u001b[0m \u001b[1;33m=\u001b[0m \u001b[0mlen\u001b[0m\u001b[1;33m(\u001b[0m\u001b[0margs\u001b[0m\u001b[1;33m)\u001b[0m \u001b[1;33m-\u001b[0m \u001b[0mlen\u001b[0m\u001b[1;33m(\u001b[0m\u001b[0mall_args\u001b[0m\u001b[1;33m)\u001b[0m\u001b[1;33m\u001b[0m\u001b[1;33m\u001b[0m\u001b[0m\n\u001b[0;32m     62\u001b[0m             \u001b[1;32mif\u001b[0m \u001b[0mextra_args\u001b[0m \u001b[1;33m<=\u001b[0m \u001b[1;36m0\u001b[0m\u001b[1;33m:\u001b[0m\u001b[1;33m\u001b[0m\u001b[1;33m\u001b[0m\u001b[0m\n\u001b[1;32m---> 63\u001b[1;33m                 \u001b[1;32mreturn\u001b[0m \u001b[0mf\u001b[0m\u001b[1;33m(\u001b[0m\u001b[1;33m*\u001b[0m\u001b[0margs\u001b[0m\u001b[1;33m,\u001b[0m \u001b[1;33m**\u001b[0m\u001b[0mkwargs\u001b[0m\u001b[1;33m)\u001b[0m\u001b[1;33m\u001b[0m\u001b[1;33m\u001b[0m\u001b[0m\n\u001b[0m\u001b[0;32m     64\u001b[0m \u001b[1;33m\u001b[0m\u001b[0m\n\u001b[0;32m     65\u001b[0m             \u001b[1;31m# extra_args > 0\u001b[0m\u001b[1;33m\u001b[0m\u001b[1;33m\u001b[0m\u001b[0m\n",
      "\u001b[1;32mc:\\Users\\haiho\\anaconda3\\lib\\site-packages\\sklearn\\utils\\validation.py\u001b[0m in \u001b[0;36mcheck_X_y\u001b[1;34m(X, y, accept_sparse, accept_large_sparse, dtype, order, copy, force_all_finite, ensure_2d, allow_nd, multi_output, ensure_min_samples, ensure_min_features, y_numeric, estimator)\u001b[0m\n\u001b[0;32m    869\u001b[0m         \u001b[1;32mraise\u001b[0m \u001b[0mValueError\u001b[0m\u001b[1;33m(\u001b[0m\u001b[1;34m\"y cannot be None\"\u001b[0m\u001b[1;33m)\u001b[0m\u001b[1;33m\u001b[0m\u001b[1;33m\u001b[0m\u001b[0m\n\u001b[0;32m    870\u001b[0m \u001b[1;33m\u001b[0m\u001b[0m\n\u001b[1;32m--> 871\u001b[1;33m     X = check_array(X, accept_sparse=accept_sparse,\n\u001b[0m\u001b[0;32m    872\u001b[0m                     \u001b[0maccept_large_sparse\u001b[0m\u001b[1;33m=\u001b[0m\u001b[0maccept_large_sparse\u001b[0m\u001b[1;33m,\u001b[0m\u001b[1;33m\u001b[0m\u001b[1;33m\u001b[0m\u001b[0m\n\u001b[0;32m    873\u001b[0m                     \u001b[0mdtype\u001b[0m\u001b[1;33m=\u001b[0m\u001b[0mdtype\u001b[0m\u001b[1;33m,\u001b[0m \u001b[0morder\u001b[0m\u001b[1;33m=\u001b[0m\u001b[0morder\u001b[0m\u001b[1;33m,\u001b[0m \u001b[0mcopy\u001b[0m\u001b[1;33m=\u001b[0m\u001b[0mcopy\u001b[0m\u001b[1;33m,\u001b[0m\u001b[1;33m\u001b[0m\u001b[1;33m\u001b[0m\u001b[0m\n",
      "\u001b[1;32mc:\\Users\\haiho\\anaconda3\\lib\\site-packages\\sklearn\\utils\\validation.py\u001b[0m in \u001b[0;36minner_f\u001b[1;34m(*args, **kwargs)\u001b[0m\n\u001b[0;32m     61\u001b[0m             \u001b[0mextra_args\u001b[0m \u001b[1;33m=\u001b[0m \u001b[0mlen\u001b[0m\u001b[1;33m(\u001b[0m\u001b[0margs\u001b[0m\u001b[1;33m)\u001b[0m \u001b[1;33m-\u001b[0m \u001b[0mlen\u001b[0m\u001b[1;33m(\u001b[0m\u001b[0mall_args\u001b[0m\u001b[1;33m)\u001b[0m\u001b[1;33m\u001b[0m\u001b[1;33m\u001b[0m\u001b[0m\n\u001b[0;32m     62\u001b[0m             \u001b[1;32mif\u001b[0m \u001b[0mextra_args\u001b[0m \u001b[1;33m<=\u001b[0m \u001b[1;36m0\u001b[0m\u001b[1;33m:\u001b[0m\u001b[1;33m\u001b[0m\u001b[1;33m\u001b[0m\u001b[0m\n\u001b[1;32m---> 63\u001b[1;33m                 \u001b[1;32mreturn\u001b[0m \u001b[0mf\u001b[0m\u001b[1;33m(\u001b[0m\u001b[1;33m*\u001b[0m\u001b[0margs\u001b[0m\u001b[1;33m,\u001b[0m \u001b[1;33m**\u001b[0m\u001b[0mkwargs\u001b[0m\u001b[1;33m)\u001b[0m\u001b[1;33m\u001b[0m\u001b[1;33m\u001b[0m\u001b[0m\n\u001b[0m\u001b[0;32m     64\u001b[0m \u001b[1;33m\u001b[0m\u001b[0m\n\u001b[0;32m     65\u001b[0m             \u001b[1;31m# extra_args > 0\u001b[0m\u001b[1;33m\u001b[0m\u001b[1;33m\u001b[0m\u001b[0m\n",
      "\u001b[1;32mc:\\Users\\haiho\\anaconda3\\lib\\site-packages\\sklearn\\utils\\validation.py\u001b[0m in \u001b[0;36mcheck_array\u001b[1;34m(array, accept_sparse, accept_large_sparse, dtype, order, copy, force_all_finite, ensure_2d, allow_nd, ensure_min_samples, ensure_min_features, estimator)\u001b[0m\n\u001b[0;32m    671\u001b[0m                     \u001b[0marray\u001b[0m \u001b[1;33m=\u001b[0m \u001b[0marray\u001b[0m\u001b[1;33m.\u001b[0m\u001b[0mastype\u001b[0m\u001b[1;33m(\u001b[0m\u001b[0mdtype\u001b[0m\u001b[1;33m,\u001b[0m \u001b[0mcasting\u001b[0m\u001b[1;33m=\u001b[0m\u001b[1;34m\"unsafe\"\u001b[0m\u001b[1;33m,\u001b[0m \u001b[0mcopy\u001b[0m\u001b[1;33m=\u001b[0m\u001b[1;32mFalse\u001b[0m\u001b[1;33m)\u001b[0m\u001b[1;33m\u001b[0m\u001b[1;33m\u001b[0m\u001b[0m\n\u001b[0;32m    672\u001b[0m                 \u001b[1;32melse\u001b[0m\u001b[1;33m:\u001b[0m\u001b[1;33m\u001b[0m\u001b[1;33m\u001b[0m\u001b[0m\n\u001b[1;32m--> 673\u001b[1;33m                     \u001b[0marray\u001b[0m \u001b[1;33m=\u001b[0m \u001b[0mnp\u001b[0m\u001b[1;33m.\u001b[0m\u001b[0masarray\u001b[0m\u001b[1;33m(\u001b[0m\u001b[0marray\u001b[0m\u001b[1;33m,\u001b[0m \u001b[0morder\u001b[0m\u001b[1;33m=\u001b[0m\u001b[0morder\u001b[0m\u001b[1;33m,\u001b[0m \u001b[0mdtype\u001b[0m\u001b[1;33m=\u001b[0m\u001b[0mdtype\u001b[0m\u001b[1;33m)\u001b[0m\u001b[1;33m\u001b[0m\u001b[1;33m\u001b[0m\u001b[0m\n\u001b[0m\u001b[0;32m    674\u001b[0m             \u001b[1;32mexcept\u001b[0m \u001b[0mComplexWarning\u001b[0m \u001b[1;32mas\u001b[0m \u001b[0mcomplex_warning\u001b[0m\u001b[1;33m:\u001b[0m\u001b[1;33m\u001b[0m\u001b[1;33m\u001b[0m\u001b[0m\n\u001b[0;32m    675\u001b[0m                 raise ValueError(\"Complex data not supported\\n\"\n",
      "\u001b[1;32mc:\\Users\\haiho\\anaconda3\\lib\\site-packages\\numpy\\core\\_asarray.py\u001b[0m in \u001b[0;36masarray\u001b[1;34m(a, dtype, order, like)\u001b[0m\n\u001b[0;32m    100\u001b[0m         \u001b[1;32mreturn\u001b[0m \u001b[0m_asarray_with_like\u001b[0m\u001b[1;33m(\u001b[0m\u001b[0ma\u001b[0m\u001b[1;33m,\u001b[0m \u001b[0mdtype\u001b[0m\u001b[1;33m=\u001b[0m\u001b[0mdtype\u001b[0m\u001b[1;33m,\u001b[0m \u001b[0morder\u001b[0m\u001b[1;33m=\u001b[0m\u001b[0morder\u001b[0m\u001b[1;33m,\u001b[0m \u001b[0mlike\u001b[0m\u001b[1;33m=\u001b[0m\u001b[0mlike\u001b[0m\u001b[1;33m)\u001b[0m\u001b[1;33m\u001b[0m\u001b[1;33m\u001b[0m\u001b[0m\n\u001b[0;32m    101\u001b[0m \u001b[1;33m\u001b[0m\u001b[0m\n\u001b[1;32m--> 102\u001b[1;33m     \u001b[1;32mreturn\u001b[0m \u001b[0marray\u001b[0m\u001b[1;33m(\u001b[0m\u001b[0ma\u001b[0m\u001b[1;33m,\u001b[0m \u001b[0mdtype\u001b[0m\u001b[1;33m,\u001b[0m \u001b[0mcopy\u001b[0m\u001b[1;33m=\u001b[0m\u001b[1;32mFalse\u001b[0m\u001b[1;33m,\u001b[0m \u001b[0morder\u001b[0m\u001b[1;33m=\u001b[0m\u001b[0morder\u001b[0m\u001b[1;33m)\u001b[0m\u001b[1;33m\u001b[0m\u001b[1;33m\u001b[0m\u001b[0m\n\u001b[0m\u001b[0;32m    103\u001b[0m \u001b[1;33m\u001b[0m\u001b[0m\n\u001b[0;32m    104\u001b[0m \u001b[1;33m\u001b[0m\u001b[0m\n",
      "\u001b[1;32mc:\\Users\\haiho\\anaconda3\\lib\\site-packages\\pandas\\core\\generic.py\u001b[0m in \u001b[0;36m__array__\u001b[1;34m(self, dtype)\u001b[0m\n\u001b[0;32m   1991\u001b[0m \u001b[1;33m\u001b[0m\u001b[0m\n\u001b[0;32m   1992\u001b[0m     \u001b[1;32mdef\u001b[0m \u001b[0m__array__\u001b[0m\u001b[1;33m(\u001b[0m\u001b[0mself\u001b[0m\u001b[1;33m,\u001b[0m \u001b[0mdtype\u001b[0m\u001b[1;33m:\u001b[0m \u001b[0mNpDtype\u001b[0m \u001b[1;33m|\u001b[0m \u001b[1;32mNone\u001b[0m \u001b[1;33m=\u001b[0m \u001b[1;32mNone\u001b[0m\u001b[1;33m)\u001b[0m \u001b[1;33m->\u001b[0m \u001b[0mnp\u001b[0m\u001b[1;33m.\u001b[0m\u001b[0mndarray\u001b[0m\u001b[1;33m:\u001b[0m\u001b[1;33m\u001b[0m\u001b[1;33m\u001b[0m\u001b[0m\n\u001b[1;32m-> 1993\u001b[1;33m         \u001b[1;32mreturn\u001b[0m \u001b[0mnp\u001b[0m\u001b[1;33m.\u001b[0m\u001b[0masarray\u001b[0m\u001b[1;33m(\u001b[0m\u001b[0mself\u001b[0m\u001b[1;33m.\u001b[0m\u001b[0m_values\u001b[0m\u001b[1;33m,\u001b[0m \u001b[0mdtype\u001b[0m\u001b[1;33m=\u001b[0m\u001b[0mdtype\u001b[0m\u001b[1;33m)\u001b[0m\u001b[1;33m\u001b[0m\u001b[1;33m\u001b[0m\u001b[0m\n\u001b[0m\u001b[0;32m   1994\u001b[0m \u001b[1;33m\u001b[0m\u001b[0m\n\u001b[0;32m   1995\u001b[0m     def __array_wrap__(\n",
      "\u001b[1;32mc:\\Users\\haiho\\anaconda3\\lib\\site-packages\\numpy\\core\\_asarray.py\u001b[0m in \u001b[0;36masarray\u001b[1;34m(a, dtype, order, like)\u001b[0m\n\u001b[0;32m    100\u001b[0m         \u001b[1;32mreturn\u001b[0m \u001b[0m_asarray_with_like\u001b[0m\u001b[1;33m(\u001b[0m\u001b[0ma\u001b[0m\u001b[1;33m,\u001b[0m \u001b[0mdtype\u001b[0m\u001b[1;33m=\u001b[0m\u001b[0mdtype\u001b[0m\u001b[1;33m,\u001b[0m \u001b[0morder\u001b[0m\u001b[1;33m=\u001b[0m\u001b[0morder\u001b[0m\u001b[1;33m,\u001b[0m \u001b[0mlike\u001b[0m\u001b[1;33m=\u001b[0m\u001b[0mlike\u001b[0m\u001b[1;33m)\u001b[0m\u001b[1;33m\u001b[0m\u001b[1;33m\u001b[0m\u001b[0m\n\u001b[0;32m    101\u001b[0m \u001b[1;33m\u001b[0m\u001b[0m\n\u001b[1;32m--> 102\u001b[1;33m     \u001b[1;32mreturn\u001b[0m \u001b[0marray\u001b[0m\u001b[1;33m(\u001b[0m\u001b[0ma\u001b[0m\u001b[1;33m,\u001b[0m \u001b[0mdtype\u001b[0m\u001b[1;33m,\u001b[0m \u001b[0mcopy\u001b[0m\u001b[1;33m=\u001b[0m\u001b[1;32mFalse\u001b[0m\u001b[1;33m,\u001b[0m \u001b[0morder\u001b[0m\u001b[1;33m=\u001b[0m\u001b[0morder\u001b[0m\u001b[1;33m)\u001b[0m\u001b[1;33m\u001b[0m\u001b[1;33m\u001b[0m\u001b[0m\n\u001b[0m\u001b[0;32m    103\u001b[0m \u001b[1;33m\u001b[0m\u001b[0m\n\u001b[0;32m    104\u001b[0m \u001b[1;33m\u001b[0m\u001b[0m\n",
      "\u001b[1;31mValueError\u001b[0m: could not convert string to float: 'Sydney Olympic Park Warm love apartment'"
     ]
    }
   ],
   "source": [
    "from sklearn.linear_model import LinearRegression\n",
    "\n",
    "slr = LinearRegression()\n",
    "\n",
    "slr.fit(X_train, y_train)\n",
    "\n",
    "y_train_pred = slr.predict(X_train)\n",
    "y_test_pred = slr.predict(X_test)"
   ]
  },
  {
   "cell_type": "code",
   "execution_count": null,
   "id": "c0687be4",
   "metadata": {},
   "outputs": [],
   "source": [
    "from sklearn.feature_selection import RFE\n",
    "from sklearn.linear_model import LinearRegression\n",
    "from sklearn.metrics import accuracy_score\n",
    "from sklearn.svm import SVR\n",
    "\n",
    "\n",
    "acc_scores = []\n",
    "for i in range(1,69):\n",
    "    slr = LinearRegression()\n",
    "    estimator = SVR(kernel=\"linear\")\n",
    "    rfe = RFE(estimator, n_features_to_select=i)\n",
    "    #training model\n",
    "    slr.fit(X_train, y_train)\n",
    "    #predicting on test set \n",
    "    y_pred = rfe.predict(X_test)\n",
    "    acc_score = accuracy_score(y_test, y_pred)\n",
    "    #print this\n",
    "    #print (\"Acc on test set using\", i, \"feature: \", acc_score)\n",
    "    #print (\"Feature which have been chosen:\", X_train.columns[rfe.support_])\n",
    "    #print(\"\")\n",
    "    # append to the list \n",
    "    acc_scores.append(acc_score)"
   ]
  },
  {
   "cell_type": "code",
   "execution_count": null,
   "id": "b9dfe3be",
   "metadata": {},
   "outputs": [],
   "source": [
    "# Plotting the accuracy number\n",
    "plotting = plt.plot(range(1, X_train.shape[1]+1), acc_scores, color= \"salmon\")\n",
    "plt.xlabel(\"Number of Features\")\n",
    "plt.ylabel(\"Accuracy\")\n",
    "plt.xticks(np.arange(1, 5 , step=1))\n",
    "plt.show()"
   ]
  },
  {
   "cell_type": "markdown",
   "id": "9a1010e5-03e6-475b-a9f8-51b19cb556d2",
   "metadata": {},
   "source": [
    "`(Task 3 - insert more cells as required)`"
   ]
  }
 ],
 "metadata": {
  "interpreter": {
   "hash": "0621fa118fe95c332595f71061851d544636243730502c2e6e5b935c640e0892"
  },
  "kernelspec": {
   "display_name": "Python 3 (ipykernel)",
   "language": "python",
   "name": "python3"
  },
  "language_info": {
   "codemirror_mode": {
    "name": "ipython",
    "version": 3
   },
   "file_extension": ".py",
   "mimetype": "text/x-python",
   "name": "python",
   "nbconvert_exporter": "python",
   "pygments_lexer": "ipython3",
   "version": "3.9.7"
  }
 },
 "nbformat": 4,
 "nbformat_minor": 5
}
